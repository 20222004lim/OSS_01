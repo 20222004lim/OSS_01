{
  "nbformat": 4,
  "nbformat_minor": 0,
  "metadata": {
    "colab": {
      "provenance": []
    },
    "kernelspec": {
      "name": "python3",
      "display_name": "Python 3"
    },
    "language_info": {
      "name": "python"
    }
  },
  "cells": [
    {
      "cell_type": "code",
      "execution_count": 18,
      "metadata": {
        "colab": {
          "base_uri": "https://localhost:8080/"
        },
        "id": "eGEOYlEfLQXJ",
        "outputId": "fec09600-bb31-4474-e7c3-763867baa437"
      },
      "outputs": [
        {
          "output_type": "stream",
          "name": "stdout",
          "text": [
            "Customer(name='Park', fidelity=100)\n"
          ]
        }
      ],
      "source": [
        "from abc import ABC, abstractmethod\n",
        "from collections import namedtuple\n",
        "\n",
        "Customer = namedtuple('Customer', 'name fidelity')\n",
        "\n",
        "park = Customer('Park', 100)\n",
        "print(park)\n",
        "\n",
        "class LineItem:\n",
        "  def __init__(self, product, quantity, price):\n",
        "    self.product = product\n",
        "    self.quantity = quantity\n",
        "    self.price = price\n",
        "\n",
        "  def total(self):\n",
        "    return self.price * self.quantity\n",
        "\n",
        "class Order:\n",
        "  def __init__(self, customer, cart, promotion=None):\n",
        "    self.customer = customer\n",
        "    self.cart = list(cart)\n",
        "    self.promotion = promotion\n",
        "\n",
        "  def total(self):\n",
        "    if not hasattr(self, '__total'):\n",
        "      self.__total = sum(item.total() for item in self.cart)\n",
        "    return self.__total\n",
        "\n",
        "  def due(self):\n",
        "    if self.promotion is None:\n",
        "      discount = 0\n",
        "    else:\n",
        "      discount = self.promotion.discount(self)\n",
        "    return self.total() - discount\n",
        "\n",
        "  def __repr__(self):\n",
        "    fmt = '<Order total: {:.2f} due: {:.2f}>'\n",
        "    return fmt.format(self.total(), self.due())\n",
        "\n",
        "class Promotion(ABC):\n",
        "\n",
        "  @abstractmethod\n",
        "  def discount(self, order):\n",
        "    pass\n",
        "\n",
        "class FidelityPromo(Promotion):\n",
        "  def discount(self, order):\n",
        "    return order.total() * .05 if order.customer.fidelity >= 1000 else 0\n",
        "\n",
        "class BulkItemPromo(Promotion):\n",
        "  def discount(self, order):\n",
        "    discount = 0\n",
        "    for item in order.cart:\n",
        "      if item.quantity >= 20:\n",
        "        discount += item.total() * .1\n",
        "    return discount\n",
        "\n",
        "class LargeOrderPromo(Promotion):\n",
        "  def discount(self, order):\n",
        "    distinct_items = {item.product for item in order.cart}\n",
        "    if len(distinct_items) >= 10:\n",
        "      return order.total() * .07\n",
        "    return 0"
      ]
    },
    {
      "cell_type": "code",
      "source": [
        "doe = Customer('John Doe', 0)\n",
        "ann = Customer('Ann Smith', 1100)\n",
        "cart = [LineItem('banana', 4, .5),\n",
        "        LineItem('apple', 10, 1.5),\n",
        "        LineItem('watermellon', 5, 5.0)]\n",
        "\n",
        "print(Order(doe, cart, FidelityPromo()))\n",
        "print(Order(ann, cart, FidelityPromo()))\n",
        "\n",
        "banana_cart = [LineItem('banana', 30, .5),\n",
        "               LineItem('apple', 10, 1.5)]\n",
        "print(Order(doe, banana_cart, BulkItemPromo()))\n",
        "\n",
        "long_order = [LineItem(str(item_code), 1, 1.0)\n",
        "              for item_code in range(10)]\n",
        "print(Order(doe, long_order, LargeOrderPromo()))\n",
        "print(Order(doe, cart, LargeOrderPromo()))"
      ],
      "metadata": {
        "colab": {
          "base_uri": "https://localhost:8080/"
        },
        "id": "SndEvkmpLV9v",
        "outputId": "8abea07b-af7e-49dc-f087-72b1070a94ea"
      },
      "execution_count": 19,
      "outputs": [
        {
          "output_type": "stream",
          "name": "stdout",
          "text": [
            "<Order total: 42.00 due: 42.00>\n",
            "<Order total: 42.00 due: 39.90>\n",
            "<Order total: 30.00 due: 28.50>\n",
            "<Order total: 10.00 due: 9.30>\n",
            "<Order total: 42.00 due: 42.00>\n"
          ]
        }
      ]
    },
    {
      "cell_type": "code",
      "source": [
        "class Order:\n",
        "  def __init__(self, customer, cart, promotion=None):\n",
        "    self.customer = customer\n",
        "    self.cart = list(cart)\n",
        "    self.promotion = promotion\n",
        "\n",
        "  def total(self):\n",
        "    if not hasattr(self, '__total'):\n",
        "      self.__total = sum(item.total() for item in self.cart)\n",
        "    return self.__total\n",
        "\n",
        "  def due(self):\n",
        "    if self.promotion is None:\n",
        "      discount = 0\n",
        "    else:\n",
        "      discount = self.promotion(self)\n",
        "    return self.total() - discount\n",
        "\n",
        "  def __repr__(self):\n",
        "    fmt = '<Order total: {:.2f} due: {:.2f}>'\n",
        "    return fmt.format(self.total(), self.due())\n",
        "\n",
        "def fidelity_promo(order):\n",
        "  return order.total() * .05 if order.customer.fidelity >= 1000 else 0\n",
        "\n",
        "def bulk_item_promo(order):\n",
        "  discount = 0\n",
        "  for item in order.cart:\n",
        "    if item.quantity >= 20:\n",
        "      discount += item.total() * .1\n",
        "  return discount\n",
        "\n",
        "def large_order_promo(order):\n",
        "  distinct_items = {item.product for item in order.cart}\n",
        "  if len(distinct_items) >= 10:\n",
        "    return order.total() * .07\n",
        "  return 0\n",
        "\n",
        "print(Order(doe, cart, fidelity_promo))\n",
        "print(Order(ann, cart, fidelity_promo))\n",
        "print(Order(doe, banana_cart, bulk_item_promo))\n",
        "print(Order(doe, long_order, large_order_promo))"
      ],
      "metadata": {
        "colab": {
          "base_uri": "https://localhost:8080/"
        },
        "id": "vnbNVO1tLWAQ",
        "outputId": "85b77dff-5495-4ea2-81b0-3db9a361e4f1"
      },
      "execution_count": 21,
      "outputs": [
        {
          "output_type": "stream",
          "name": "stdout",
          "text": [
            "<Order total: 42.00 due: 42.00>\n",
            "<Order total: 42.00 due: 39.90>\n",
            "<Order total: 30.00 due: 28.50>\n",
            "<Order total: 10.00 due: 9.30>\n"
          ]
        }
      ]
    },
    {
      "cell_type": "code",
      "source": [
        "promos = [fidelity_promo, bulk_item_promo, large_order_promo]\n",
        "\n",
        "def best_promo(order):\n",
        "  return max(promo(order) for promo in promos)"
      ],
      "metadata": {
        "id": "7AOeEi9gLWCn"
      },
      "execution_count": 24,
      "outputs": []
    },
    {
      "cell_type": "code",
      "source": [
        "print(Order(doe, long_order, best_promo))\n",
        "print(Order(doe, banana_cart, best_promo))\n",
        "print(Order(ann, cart, best_promo))\n",
        "\n",
        "print(globals().keys())\n",
        "\n",
        "print(globals()['best_promo'])"
      ],
      "metadata": {
        "colab": {
          "base_uri": "https://localhost:8080/"
        },
        "id": "BIhOmErDLWEu",
        "outputId": "ea64617d-4eef-41fb-e57a-f0e647b4495c"
      },
      "execution_count": 25,
      "outputs": [
        {
          "output_type": "stream",
          "name": "stdout",
          "text": [
            "<Order total: 10.00 due: 9.30>\n",
            "<Order total: 30.00 due: 28.50>\n",
            "<Order total: 42.00 due: 39.90>\n",
            "dict_keys(['__name__', '__doc__', '__package__', '__loader__', '__spec__', '__builtin__', '__builtins__', '_ih', '_oh', '_dh', 'In', 'Out', 'get_ipython', 'exit', 'quit', '_', '__', '___', '_i', '_ii', '_iii', '_i1', 'ABC', 'abstractmethod', 'namedtuple', 'Customer', 'park', '_i2', 'LineItem', 'Order', 'Promotion', 'FidelityPromo', 'BulkItemPromo', '_i3', 'doe', 'ann', 'cart', '_i4', '_4', '_i5', '_i6', '_6', '_i7', '_7', '_i8', '_8', '_i9', '_9', '_i10', '_10', '_i11', '_11', '_i12', '_12', '_i13', '_i14', '_14', '_i15', '_i16', '_i17', 'banana_cart', 'long_order', '_i18', 'LargeOrderPromo', '_i19', '_i20', 'fidelity_promo', 'bulk_item_promo', 'large_order_promo', '_i21', '_i22', 'promos', 'best_promo', '_i23', '_i24', '_i25'])\n",
            "<function best_promo at 0x7bd3886e2020>\n"
          ]
        }
      ]
    },
    {
      "cell_type": "code",
      "source": [
        "promos = [globals()[name] for name in globals()\n",
        "          if name.endswith('_promo')\n",
        "          and name != 'best_promo']\n",
        "\n",
        "print(promos)"
      ],
      "metadata": {
        "colab": {
          "base_uri": "https://localhost:8080/"
        },
        "id": "ft7vtmwKLWHH",
        "outputId": "6bb1ad97-f3a7-4ba6-a9dc-21114666428f"
      },
      "execution_count": 26,
      "outputs": [
        {
          "output_type": "stream",
          "name": "stdout",
          "text": [
            "[<function fidelity_promo at 0x7bd39922dc60>, <function bulk_item_promo at 0x7bd388826ca0>, <function large_order_promo at 0x7bd388827100>]\n"
          ]
        }
      ]
    },
    {
      "cell_type": "code",
      "source": [],
      "metadata": {
        "id": "gAXlWEKQLWJf"
      },
      "execution_count": null,
      "outputs": []
    },
    {
      "cell_type": "code",
      "source": [],
      "metadata": {
        "id": "PN7cerbTLWL2"
      },
      "execution_count": null,
      "outputs": []
    }
  ]
}