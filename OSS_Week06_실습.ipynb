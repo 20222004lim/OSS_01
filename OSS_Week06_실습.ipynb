<!DOCTYPE html>
<!-- saved from url=(0095)https://colab.research.google.com/drive/1KpB0YCviDlIQxq_SzIM8WSDaoAjfFPbT#scrollTo=LgqGiTabUvg3 -->
<html lang="ko" editor="Default Light" theme="light"><head><meta http-equiv="Content-Type" content="text/html; charset=UTF-8"><meta http-equiv="origin-trial" content="A7vZI3v+Gz7JfuRolKNM4Aff6zaGuT7X0mf3wtoZTnKv6497cVMnhy03KDqX7kBz/q/iidW7srW31oQbBt4VhgoAAACUeyJvcmlnaW4iOiJodHRwczovL3d3dy5nb29nbGUuY29tOjQ0MyIsImZlYXR1cmUiOiJEaXNhYmxlVGhpcmRQYXJ0eVN0b3JhZ2VQYXJ0aXRpb25pbmczIiwiZXhwaXJ5IjoxNzU3OTgwODAwLCJpc1N1YmRvbWFpbiI6dHJ1ZSwiaXNUaGlyZFBhcnR5Ijp0cnVlfQ=="><meta http-equiv="origin-trial" content="A7vZI3v+Gz7JfuRolKNM4Aff6zaGuT7X0mf3wtoZTnKv6497cVMnhy03KDqX7kBz/q/iidW7srW31oQbBt4VhgoAAACUeyJvcmlnaW4iOiJodHRwczovL3d3dy5nb29nbGUuY29tOjQ0MyIsImZlYXR1cmUiOiJEaXNhYmxlVGhpcmRQYXJ0eVN0b3JhZ2VQYXJ0aXRpb25pbmczIiwiZXhwaXJ5IjoxNzU3OTgwODAwLCJpc1N1YmRvbWFpbiI6dHJ1ZSwiaXNUaGlyZFBhcnR5Ijp0cnVlfQ=="><meta http-equiv="origin-trial" content="A7vZI3v+Gz7JfuRolKNM4Aff6zaGuT7X0mf3wtoZTnKv6497cVMnhy03KDqX7kBz/q/iidW7srW31oQbBt4VhgoAAACUeyJvcmlnaW4iOiJodHRwczovL3d3dy5nb29nbGUuY29tOjQ0MyIsImZlYXR1cmUiOiJEaXNhYmxlVGhpcmRQYXJ0eVN0b3JhZ2VQYXJ0aXRpb25pbmczIiwiZXhwaXJ5IjoxNzU3OTgwODAwLCJpc1N1YmRvbWFpbiI6dHJ1ZSwiaXNUaGlyZFBhcnR5Ijp0cnVlfQ=="><meta http-equiv="origin-trial" content="A7vZI3v+Gz7JfuRolKNM4Aff6zaGuT7X0mf3wtoZTnKv6497cVMnhy03KDqX7kBz/q/iidW7srW31oQbBt4VhgoAAACUeyJvcmlnaW4iOiJodHRwczovL3d3dy5nb29nbGUuY29tOjQ0MyIsImZlYXR1cmUiOiJEaXNhYmxlVGhpcmRQYXJ0eVN0b3JhZ2VQYXJ0aXRpb25pbmczIiwiZXhwaXJ5IjoxNzU3OTgwODAwLCJpc1N1YmRvbWFpbiI6dHJ1ZSwiaXNUaGlyZFBhcnR5Ijp0cnVlfQ=="><meta name="og-profile-acct" content="20222004@edu.hanbat.ac.kr"><script type="text/javascript" async="" charset="utf-8" src="./OSS_Week06_실습_files/recaptcha__ko.js.다운로드" crossorigin="anonymous" integrity="sha384-pGklHvndSdLoKif9Xn6s9Ytr9yyPDiNMpcej9i69726kZyKN24u8YJr5eDvLI+fy" nonce=""></script><script type="text/javascript" async="" charset="utf-8" src="./OSS_Week06_실습_files/recaptcha__ko.js.다운로드" crossorigin="anonymous" integrity="sha384-pGklHvndSdLoKif9Xn6s9Ytr9yyPDiNMpcej9i69726kZyKN24u8YJr5eDvLI+fy" nonce=""></script><script type="text/javascript" async="" charset="utf-8" src="./OSS_Week06_실습_files/recaptcha__ko.js.다운로드" crossorigin="anonymous" integrity="sha384-pGklHvndSdLoKif9Xn6s9Ytr9yyPDiNMpcej9i69726kZyKN24u8YJr5eDvLI+fy" nonce=""></script><script type="text/javascript" async="" charset="utf-8" src="./OSS_Week06_실습_files/recaptcha__ko.js.다운로드" crossorigin="anonymous" integrity="sha384-pGklHvndSdLoKif9Xn6s9Ytr9yyPDiNMpcej9i69726kZyKN24u8YJr5eDvLI+fy" nonce=""></script><script src="./OSS_Week06_실습_files/cb=gapi.loaded_1" nonce="" async=""></script><script src="./OSS_Week06_실습_files/cb=gapi.loaded_0" nonce="" async=""></script><script type="text/javascript" async="" src="./OSS_Week06_실습_files/js" nonce=""></script><script async="" src="./OSS_Week06_실습_files/analytics.js.다운로드"></script><script nonce="">
      document.addEventListener('keydown', (e) => {
        // Stop propagation on ESC because otherwise it will halt outbound XHRs
        // See b/131755324 for more info.
        if (e.key === 'Escape') {
          e.stopPropagation();
          e.preventDefault();
        }
      });
    </script><meta name="referrer" content="origin"><meta name="viewport" content="width=device-width, initial-scale=1"><title>OSS_Week06_실습.ipynb - Colab</title><link href="./OSS_Week06_실습_files/css2" rel="stylesheet"><link href="./OSS_Week06_실습_files/css" rel="stylesheet"><link rel="search" type="application/opensearchdescription+xml" href="https://colab.research.google.com/opensearch.xml" title="Google Colab"><style>.gb_ub{font:13px/27px Roboto,Arial,sans-serif;z-index:986}@-webkit-keyframes gb__a{0%{opacity:0}50%{opacity:1}}@keyframes gb__a{0%{opacity:0}50%{opacity:1}}a.gb_Ra{border:none;color:#4285f4;cursor:default;font-weight:bold;outline:none;position:relative;text-align:center;text-decoration:none;text-transform:uppercase;white-space:nowrap;-webkit-user-select:none;user-select:none}a.gb_Ra:hover::after,a.gb_Ra:focus::after{background-color:rgba(0,0,0,.12);content:"";height:100%;left:0;position:absolute;top:0;width:100%}a.gb_Ra:hover,a.gb_Ra:focus{text-decoration:none}a.gb_Ra:active{background-color:rgba(153,153,153,.4);text-decoration:none}a.gb_Sa{background-color:#4285f4;color:#fff}a.gb_Sa:active{background-color:#0043b2}.gb_Ta{box-shadow:0 1px 1px rgba(0,0,0,.16)}.gb_Ra,.gb_Sa,.gb_Ua,.gb_Va{display:inline-block;line-height:28px;padding:0 12px;border-radius:2px}.gb_Ua,.gb_Va{background:#f8f8f8;border:1px solid #c6c6c6}.gb_Ua,#gb a.gb_Ua.gb_Ua,.gb_Va,#gb a.gb_Va{color:#666;cursor:default;text-decoration:none}.gb_Va{border:1px solid #4285f4;font-weight:bold;outline:none;background:-webkit-gradient(linear,left top,left bottom,from(#4387fd),to(#4683ea));background:-webkit-linear-gradient(top,#4387fd,#4683ea);background:linear-gradient(to bottom,#4387fd,#4683ea)}#gb a.gb_Va{color:#fff}.gb_Va:hover{box-shadow:0 1px 0 rgba(0,0,0,.15)}.gb_Va:active{box-shadow:inset 0 2px 0 rgba(0,0,0,.15);background:-webkit-gradient(linear,left top,left bottom,from(#3c7ae4),to(#3f76d3));background:-webkit-linear-gradient(top,#3c7ae4,#3f76d3);background:linear-gradient(to bottom,#3c7ae4,#3f76d3)}#gb .gb_Wa{background:#ffffff;border:1px solid #dadce0;color:#1a73e8;display:inline-block;text-decoration:none}#gb .gb_Wa:hover{background:#f8fbff;border-color:#dadce0;color:#174ea6}#gb .gb_Wa:focus{background:#f4f8ff;color:#174ea6;outline:1px solid #174ea6}#gb .gb_Wa:active,#gb .gb_Wa:focus:active{background:#ecf3fe;color:#174ea6}#gb .gb_Wa.gb_H{background:transparent;border:1px solid #5f6368;color:#8ab4f8;text-decoration:none}#gb .gb_Wa.gb_H:hover{background:rgba(255,255,255,.04);color:#e8eaed}#gb .gb_Wa.gb_H:focus{background:rgba(232,234,237,.12);color:#e8eaed;outline:1px solid #e8eaed}#gb .gb_Wa.gb_H:active,#gb .gb_Wa.gb_H:focus:active{background:rgba(232,234,237,.1);color:#e8eaed}.gb_td{display:inline-block;padding:4px 4px 4px 4px;vertical-align:middle}.gb_ud .gb_R{bottom:-3px;right:-5px}.gb_td:first-child,#gbsfw:first-child+.gb_td{padding-left:0}.gb_D{position:relative}.gb_B{display:inline-block;outline:none;vertical-align:middle;border-radius:2px;box-sizing:border-box;height:40px;width:40px}.gb_B,#gb#gb a.gb_B{cursor:pointer;text-decoration:none}.gb_B,a.gb_B{color:#000}.gb_vd,.gb_wd{border-color:transparent;border-bottom-color:#fff;border-style:dashed dashed solid;border-width:0 8.5px 8.5px;display:none;position:absolute;left:6.5px;top:37px;z-index:1;height:0;width:0;-webkit-animation:gb__a .2s;animation:gb__a .2s}.gb_wd{border-bottom-color:#ccc;border-bottom-color:rgba(0,0,0,.2);top:32px}x:-o-prefocus,div.gb_wd{border-bottom-color:#ccc}.gb_ma{background:#fff;border:1px solid #ccc;border-color:rgba(0,0,0,.2);color:#000;box-shadow:0 2px 10px rgba(0,0,0,.2);display:none;outline:none;overflow:hidden;position:absolute;right:8px;top:62px;-webkit-animation:gb__a .2s;animation:gb__a .2s;border-radius:2px;-moz-user-select:text;-ms-user-select:text;-webkit-user-select:text}.gb_td.gb_8c .gb_vd,.gb_td.gb_8c .gb_wd,.gb_td.gb_8c .gb_ma,.gb_8c.gb_ma{display:block}.gb_td.gb_8c.gb_xd .gb_vd,.gb_td.gb_8c.gb_xd .gb_wd{display:none}.gb_yd{position:absolute;right:8px;top:62px;z-index:-1}.gb_lb .gb_vd,.gb_lb .gb_wd,.gb_lb .gb_ma{margin-top:-10px}.gb_td:first-child,#gbsfw:first-child+.gb_td{padding-left:4px}.gb_Ha.gb_zd .gb_td:first-child{padding-left:0}.gb_Ad{position:relative}.gb_gd .gb_Ad,.gb_Bd .gb_Ad{float:right}.gb_B{padding:8px;cursor:pointer}.gb_B::after{content:"";position:absolute;top:-4px;bottom:-4px;left:-4px;right:-4px}.gb_Ha .gb_Cd:not(.gb_Ra):focus img{background-color:rgba(0,0,0,.2);outline:none;border-radius:50%}.gb_Dd button svg,.gb_B{border-radius:50%}.gb_Dd button:focus:not(:focus-visible) svg,.gb_Dd button:hover svg,.gb_Dd button:active svg,.gb_B:focus:not(:focus-visible),.gb_B:hover,.gb_B:active,.gb_B[aria-expanded=true]{outline:none}.gb_0c .gb_Dd.gb_Ed button:focus-visible svg,.gb_Dd button:focus-visible svg,.gb_B:focus-visible{outline:1px solid #202124}.gb_0c .gb_Dd button:focus-visible svg,.gb_0c .gb_B:focus-visible{outline:1px solid #f1f3f4}@media (forced-colors:active){.gb_0c .gb_Dd.gb_Ed button:focus-visible svg,.gb_Dd button:focus-visible svg,.gb_0c .gb_Dd button:focus-visible svg{outline:1px solid currentcolor}}.gb_0c .gb_Dd.gb_Ed button:focus svg,.gb_0c .gb_Dd.gb_Ed button:focus:hover svg,.gb_Dd button:focus svg,.gb_Dd button:focus:hover svg,.gb_B:focus,.gb_B:focus:hover{background-color:rgba(60,64,67,.1)}.gb_0c .gb_Dd.gb_Ed button:active svg,.gb_Dd button:active svg,.gb_B:active{background-color:rgba(60,64,67,.12)}.gb_0c .gb_Dd.gb_Ed button:hover svg,.gb_Dd button:hover svg,.gb_B:hover{background-color:rgba(60,64,67,.08)}.gb_Xa .gb_B.gb_0a:hover{background-color:transparent}.gb_B[aria-expanded=true],.gb_B:hover[aria-expanded=true]{background-color:rgba(95,99,104,.24)}.gb_B[aria-expanded=true] .gb_F{fill:#5f6368;opacity:1}.gb_0c .gb_Dd button:hover svg,.gb_0c .gb_B:hover{background-color:rgba(232,234,237,.08)}.gb_0c .gb_Dd button:focus svg,.gb_0c .gb_Dd button:focus:hover svg,.gb_0c .gb_B:focus,.gb_0c .gb_B:focus:hover{background-color:rgba(232,234,237,.1)}.gb_0c .gb_Dd button:active svg,.gb_0c .gb_B:active{background-color:rgba(232,234,237,.12)}.gb_0c .gb_B[aria-expanded=true],.gb_0c .gb_B:hover[aria-expanded=true]{background-color:rgba(255,255,255,.12)}.gb_0c .gb_B[aria-expanded=true] .gb_F{fill:#ffffff;opacity:1}.gb_td{padding:4px}.gb_Ha.gb_zd .gb_td{padding:4px 2px}.gb_Ha.gb_zd .gb_z.gb_td{padding-left:6px}.gb_ma{z-index:991;line-height:normal}.gb_ma.gb_Fd{left:0;right:auto}@media (max-width:350px){.gb_ma.gb_Fd{left:0}}.gb_Hd .gb_ma{top:56px}.gb_S{display:none!important}.gb_fb{visibility:hidden}.gb_J .gb_B{background-position:-64px -29px;opacity:.55}.gb_la .gb_J .gb_B{background-position:-64px -29px}.gb_2 .gb_J .gb_B{background-position:-29px -29px;opacity:1}.gb_J .gb_B,.gb_J .gb_B:hover,.gb_J .gb_B:focus{opacity:1}.gb_L{display:none}@media screen and (max-width:319px){.gb_Id:not(.gb_Jd) .gb_J{display:none;visibility:hidden}}.gb_R{display:none}.gb_nd{font-family:Google Sans,Roboto,Helvetica,Arial,sans-serif;font-size:20px;font-weight:400;letter-spacing:.25px;line-height:48px;margin-bottom:2px;opacity:1;overflow:hidden;padding-left:16px;position:relative;text-overflow:ellipsis;vertical-align:middle;top:2px;white-space:nowrap;-webkit-flex:1 1 auto;-webkit-box-flex:1;flex:1 1 auto}.gb_nd.gb_od{color:#3c4043}.gb_Ha.gb_oc .gb_nd{margin-bottom:0}.gb_pd.gb_qd .gb_nd{padding-left:4px}.gb_Ha.gb_oc .gb_rd{position:relative;top:-2px}.gb_sd{display:none}.gb_Ha{color:black;min-width:160px;position:relative;-webkit-transition:box-shadow .25s;transition:box-shadow .25s}.gb_Ha.gb_7c{min-width:120px}.gb_Ha.gb_Pd .gb_Qd{display:none}.gb_Ha.gb_Pd .gb_Id{height:56px}header.gb_Ha{display:block}.gb_Ha svg{fill:currentColor}.gb_Rd{position:fixed;top:0;width:100%}.gb_Sd{box-shadow:0 4px 5px 0 rgba(0,0,0,.14),0 1px 10px 0 rgba(0,0,0,.12),0 2px 4px -1px rgba(0,0,0,.2)}.gb_Td{height:64px}.gb_Id{box-sizing:border-box;position:relative;width:100%;display:-webkit-box;display:-webkit-flex;display:flex;-webkit-box-pack:justify;-webkit-justify-content:space-between;justify-content:space-between;min-width:-webkit-min-content;min-width:min-content}.gb_Ha:not(.gb_oc) .gb_Id{padding:8px}.gb_Ha.gb_Vd .gb_Id{-webkit-box-flex:1;-webkit-flex:1 0 auto;flex:1 0 auto}.gb_Ha .gb_Id.gb_Jd.gb_Wd{min-width:0}.gb_Ha.gb_oc .gb_Id{padding:4px;padding-left:8px;min-width:0}.gb_Qd{height:48px;vertical-align:middle;white-space:nowrap;-webkit-box-align:center;-webkit-align-items:center;align-items:center;display:-webkit-box;display:-webkit-flex;display:flex;-webkit-user-select:none;user-select:none}.gb_Xd>.gb_Qd{display:table-cell;width:100%}.gb_pd{padding-right:30px;box-sizing:border-box;-webkit-box-flex:1;-webkit-flex:1 0 auto;flex:1 0 auto}.gb_Ha.gb_oc .gb_pd{padding-right:14px}.gb_Zd{-webkit-box-flex:1;-webkit-flex:1 1 100%;flex:1 1 100%}.gb_Zd>:only-child{display:inline-block}.gb_0d.gb_hd{padding-left:4px}.gb_0d.gb_1d,.gb_Ha.gb_Vd .gb_0d,.gb_Ha.gb_oc:not(.gb_Bd) .gb_0d{padding-left:0}.gb_Ha.gb_oc .gb_0d.gb_1d{padding-right:0}.gb_Ha.gb_oc .gb_0d.gb_1d .gb_Xa{margin-left:10px}.gb_hd{display:inline}.gb_Ha.gb_bd .gb_0d.gb_2d,.gb_Ha.gb_Bd .gb_0d.gb_2d{padding-left:2px}.gb_nd{display:inline-block}.gb_0d{box-sizing:border-box;height:48px;line-height:normal;padding:0 4px;padding-left:30px;-webkit-box-flex:0;-webkit-flex:0 0 auto;flex:0 0 auto;-webkit-box-pack:end;-webkit-justify-content:flex-end;justify-content:flex-end}.gb_Bd{height:48px}.gb_Ha.gb_Bd{min-width:auto}.gb_Bd .gb_0d{float:right;padding-left:32px}.gb_Bd .gb_0d.gb_3d{padding-left:0}.gb_4d{font-size:14px;max-width:200px;overflow:hidden;padding:0 12px;text-overflow:ellipsis;white-space:nowrap;-webkit-user-select:text;user-select:text}.gb_Ld{-webkit-transition:background-color .4s;transition:background-color .4s}.gb_7d{color:black}.gb_0c{color:white}.gb_Ha a,.gb_4c a{color:inherit}.gb_ca{color:rgba(0,0,0,.87)}.gb_Ha svg,.gb_4c svg,.gb_pd .gb_Od,.gb_gd .gb_Od{color:#5f6368;opacity:1}.gb_0c svg,.gb_4c.gb_9c svg{color:rgba(255,255,255,.87)}.gb_0c .gb_pd .gb_Od,.gb_0c .gb_pd .gb_Zc,.gb_0c .gb_pd .gb_rd,.gb_4c.gb_9c .gb_Od{color:rgba(255,255,255,.87)}.gb_0c .gb_pd .gb_Xc:not(.gb_8d){opacity:.87}.gb_od{color:inherit;opacity:1;text-rendering:optimizeLegibility;-webkit-font-smoothing:antialiased;-moz-osx-font-smoothing:grayscale}.gb_0c .gb_od,.gb_7d .gb_od{opacity:1}.gb_5d{position:relative}.gb_M{font-family:arial,sans-serif;line-height:normal;padding-right:15px}a.gb_Z,span.gb_Z{color:rgba(0,0,0,.87);text-decoration:none}.gb_0c a.gb_Z,.gb_0c span.gb_Z{color:white}a.gb_Z:focus{outline-offset:2px}a.gb_Z:hover{text-decoration:underline}.gb_0{display:inline-block;padding-left:15px}.gb_0 .gb_Z{display:inline-block;line-height:24px;vertical-align:middle}.gb_Md{font-family:Google Sans,Roboto,Helvetica,Arial,sans-serif;font-weight:500;font-size:14px;letter-spacing:.25px;line-height:16px;margin-left:10px;margin-right:8px;min-width:96px;padding:9px 23px;text-align:center;vertical-align:middle;border-radius:4px;box-sizing:border-box}.gb_Ha.gb_Bd .gb_Md{margin-left:8px}#gb a.gb_Va.gb_Md{cursor:pointer}.gb_Va.gb_Md:hover{background:#1b66c9;box-shadow:0 1px 3px 1px rgba(66,64,67,.15),0 1px 2px 0 rgba(60,64,67,.3)}.gb_Va.gb_Md:focus,.gb_Va.gb_Md:hover:focus{background:#1c5fba;box-shadow:0 1px 3px 1px rgba(66,64,67,.15),0 1px 2px 0 rgba(60,64,67,.3)}.gb_Va.gb_Md:active{background:#1b63c1;box-shadow:0 1px 3px 1px rgba(66,64,67,.15),0 1px 2px 0 rgba(60,64,67,.3)}.gb_Md{background:#1a73e8;border:1px solid transparent}.gb_Ha.gb_oc .gb_Md{padding:9px 15px;min-width:80px}.gb_6d{text-align:left}#gb .gb_0c a.gb_Md:not(.gb_H),#gb.gb_0c a.gb_Md{background:#fff;border-color:#dadce0;box-shadow:none;color:#1a73e8}#gb a.gb_Va.gb_H.gb_Md{background:#8ab4f8;border:1px solid transparent;box-shadow:none;color:#202124}#gb .gb_0c a.gb_Md:hover:not(.gb_H),#gb.gb_0c a.gb_Md:hover{background:#f8fbff;border-color:#cce0fc}#gb a.gb_Va.gb_H.gb_Md:hover{background:#93baf9;border-color:transparent;box-shadow:0 1px 3px 1px rgba(0,0,0,.15),0 1px 2px rgba(0,0,0,.3)}#gb .gb_0c a.gb_Md:focus:not(.gb_H),#gb .gb_0c a.gb_Md:focus:hover:not(.gb_H),#gb.gb_0c a.gb_Md:focus:not(.gb_H),#gb.gb_0c a.gb_Md:focus:hover:not(.gb_H){background:#f4f8ff;outline:1px solid #c9ddfc}#gb a.gb_Va.gb_H.gb_Md:focus,#gb a.gb_Va.gb_H.gb_Md:focus:hover{background:#a6c6fa;border-color:transparent;box-shadow:none}#gb .gb_0c a.gb_Md:active:not(.gb_H),#gb.gb_0c a.gb_Md:active{background:#ecf3fe}#gb a.gb_Va.gb_H.gb_Md:active{background:#a1c3f9;box-shadow:0 1px 2px rgba(60,64,67,.3),0 2px 6px 2px rgba(60,64,67,.15)}.gb_K{display:none}@media screen and (max-width:319px){.gb_Id .gb_J{display:none;visibility:hidden}}.gb_Xa{background-color:rgba(255,255,255,.88);border:1px solid #dadce0;-webkit-box-sizing:border-box;box-sizing:border-box;cursor:pointer;display:inline-block;max-height:48px;overflow:hidden;outline:none;padding:0;vertical-align:middle;width:134px;-webkit-border-radius:8px;border-radius:8px}.gb_Xa.gb_H{background-color:transparent;border:1px solid #5f6368}.gb_4a{display:inherit}.gb_Xa.gb_H .gb_4a{background:#fff;-webkit-border-radius:4px;border-radius:4px;display:inline-block;left:8px;margin-right:5px;position:relative;padding:3px;top:-1px}.gb_Xa:hover{border:1px solid #d2e3fc;background-color:rgba(248,250,255,.88)}.gb_Xa.gb_H:hover{background-color:rgba(241,243,244,.04);border:1px solid #5f6368}.gb_Xa:focus-visible,.gb_Xa:focus{background-color:#fff;outline:1px solid #202124;-webkit-box-shadow:0 1px 2px 0 rgba(60,64,67,.3),0 1px 3px 1px rgba(60,64,67,.15);box-shadow:0 1px 2px 0 rgba(60,64,67,.3),0 1px 3px 1px rgba(60,64,67,.15)}.gb_Xa.gb_H:focus-visible,.gb_Xa.gb_H:focus{background-color:rgba(241,243,244,.12);outline:1px solid #f1f3f4;-webkit-box-shadow:0 1px 3px 1px rgba(0,0,0,.15),0 1px 2px 0 rgba(0,0,0,.3);box-shadow:0 1px 3px 1px rgba(0,0,0,.15),0 1px 2px 0 rgba(0,0,0,.3)}.gb_Xa.gb_H:active,.gb_Xa.gb_8c.gb_H:focus{background-color:rgba(241,243,244,.1);border:1px solid #5f6368}.gb_5a{display:inline-block;padding-bottom:2px;padding-left:7px;padding-top:2px;text-align:center;vertical-align:middle;line-height:32px;width:78px}.gb_Xa.gb_H .gb_5a{line-height:26px;margin-left:0;padding-bottom:0;padding-left:0;padding-top:0;width:72px}.gb_5a.gb_6a{background-color:#f1f3f4;-webkit-border-radius:4px;border-radius:4px;margin-left:8px;padding-left:0;line-height:30px}.gb_5a.gb_6a .gb_Vc{vertical-align:middle}.gb_Ha:not(.gb_oc) .gb_Xa{margin-left:10px;margin-right:4px}.gb_9d{max-height:32px;width:78px}.gb_Xa.gb_H .gb_9d{max-height:26px;width:72px}.gb_Q{-webkit-background-size:32px 32px;background-size:32px 32px;border:0;-webkit-border-radius:50%;border-radius:50%;display:block;margin:0px;position:relative;height:32px;width:32px;z-index:0}.gb_gb{background-color:#e8f0fe;border:1px solid rgba(32,33,36,.08);position:relative}.gb_gb.gb_Q{height:30px;width:30px}.gb_gb.gb_Q:hover,.gb_gb.gb_Q:active{-webkit-box-shadow:none;box-shadow:none}.gb_hb{background:#fff;border:none;-webkit-border-radius:50%;border-radius:50%;bottom:2px;-webkit-box-shadow:0px 1px 2px 0px rgba(60,64,67,.30),0px 1px 3px 1px rgba(60,64,67,.15);box-shadow:0px 1px 2px 0px rgba(60,64,67,.30),0px 1px 3px 1px rgba(60,64,67,.15);height:14px;margin:2px;position:absolute;right:0;width:14px;line-height:normal;z-index:1}.gb_ib{color:#1f71e7;font:400 22px/32px Google Sans,Roboto,Helvetica,Arial,sans-serif;text-align:center;text-transform:uppercase}@media (-webkit-min-device-pixel-ratio:1.25),(min-resolution:1.25dppx),(min-device-pixel-ratio:1.25){.gb_Q::before,.gb_jb::before{display:inline-block;-webkit-transform:scale(0.5);-webkit-transform:scale(0.5);transform:scale(0.5);-webkit-transform-origin:left 0;-webkit-transform-origin:left 0;transform-origin:left 0}.gb_4 .gb_jb::before{-webkit-transform:scale(scale(0.416666667));-webkit-transform:scale(scale(0.416666667));transform:scale(scale(0.416666667))}}.gb_Q:hover,.gb_Q:focus{-webkit-box-shadow:0 1px 0 rgba(0,0,0,.15);box-shadow:0 1px 0 rgba(0,0,0,.15)}.gb_Q:active{-webkit-box-shadow:inset 0 2px 0 rgba(0,0,0,.15);box-shadow:inset 0 2px 0 rgba(0,0,0,.15)}.gb_Q:active::after{background:rgba(0,0,0,.1);-webkit-border-radius:50%;border-radius:50%;content:"";display:block;height:100%}.gb_kb{cursor:pointer;line-height:40px;min-width:30px;opacity:.75;overflow:hidden;vertical-align:middle;text-overflow:ellipsis}.gb_B.gb_kb{width:auto}.gb_kb:hover,.gb_kb:focus{opacity:.85}.gb_lb .gb_kb,.gb_lb .gb_mb{line-height:26px}#gb#gb.gb_lb a.gb_kb,.gb_lb .gb_mb{font-size:11px;height:auto}.gb_nb{border-top:4px solid #000;border-left:4px dashed transparent;border-right:4px dashed transparent;display:inline-block;margin-left:6px;opacity:.75;vertical-align:middle}.gb_0a:hover .gb_nb{opacity:.85}.gb_Xa>.gb_z{padding:3px 3px 3px 4px}.gb_ob.gb_fb{color:#fff}.gb_2 .gb_kb,.gb_2 .gb_nb{opacity:1}#gb#gb.gb_2.gb_2 a.gb_kb,#gb#gb .gb_2.gb_2 a.gb_kb{color:#fff}.gb_2.gb_2 .gb_nb{border-top-color:#fff;opacity:1}.gb_la .gb_Q:hover,.gb_2 .gb_Q:hover,.gb_la .gb_Q:focus,.gb_2 .gb_Q:focus{-webkit-box-shadow:0 1px 0 rgba(0,0,0,.15),0 1px 2px rgba(0,0,0,.2);box-shadow:0 1px 0 rgba(0,0,0,.15),0 1px 2px rgba(0,0,0,.2)}.gb_pb .gb_z,.gb_qb .gb_z{position:absolute;right:1px}.gb_z.gb_1,.gb_rb.gb_1,.gb_0a.gb_1{-webkit-flex:0 1 auto;-webkit-box-flex:0;flex:0 1 auto}.gb_sb.gb_tb .gb_kb{width:30px!important}.gb_P{height:40px;position:absolute;right:-5px;top:-5px;width:40px}.gb_ub .gb_P,.gb_vb .gb_P{right:0;top:0}.gb_z .gb_B{padding:4px}.gb_T{display:none}sentinel{}</style><script nonce="">;this.gbar_={CONFIG:[[[0,"www.gstatic.com","og.qtm.en_US.CelFTev3ejs.2019.O","co.kr","ko","425",0,[4,2,"","","","812574842","0"],null,"YFfsaJubA-adp84P3Obu0QM",null,0,"og.qtm.pfog22aEnAs.L.W.O","AA2YrTvmWBZSAxh723iRtzGY78qOiNZH_Q","AA2YrTskOaSug7MVZwlus97OpUaPcMM3bw","",2,1,200,"KOR",null,null,"425","425",1,null,null,114591953,null,0,0],null,[1,0.1000000014901161,2,1],null,[1,0,1,null,"0","20222004@edu.hanbat.ac.kr","","AFD17dPk7TpHGWolMZYAn0nPfawMODnWPvcBJUDPkpk9Olj3P8GnA5uHLOx3jIb7P_sLIL_rFoT0-OyACv-iZl64RRPyu-zSEo5u8LtijjzRPIo7hSllzv8",0,0,null,""],[0,0,"",1,0,0,0,0,0,0,null,0,0,null,0,0,null,null,0,0,0,"","","","","","",null,0,0,0,0,0,null,null,null,"rgba(32,33,36,1)","rgba(255,255,255,1)",0,0,0,null,null,null,0],["%1$s(기본값)","브랜드 계정",1,"%1$s(위임)",1,null,83,"https://colab.research.google.com/?authuser=$authuser",null,null,null,1,"https://accounts.google.com/ListAccounts?listPages=0\u0026pid=425\u0026gpsia=1\u0026source=ogb\u0026atic=1\u0026mo=1\u0026mn=1\u0026hl=ko\u0026ts=250",0,"dashboard",null,null,null,null,"프로필","",1,null,"로그아웃됨","https://accounts.google.com/AccountChooser?source=ogb\u0026continue=$continue\u0026Email=$email\u0026ec=GAhAqQM","https://accounts.google.com/RemoveLocalAccount?source=ogb","삭제","로그인",0,1,1,0,1,1,0,null,null,null,"세션이 만료되었습니다.",null,null,null,"방문자",null,"기본","위임된 계정","모든 계정에서 로그아웃",0,null,null,0,null,null,"myaccount.google.com","https",0,1,0],null,["1","gci_91f30755d6a6b787dcc2a4062e6e9824.js","googleapis.client:gapi.iframes","0","ko"],null,null,null,null,["m;/_/scs/abc-static/_/js/k=gapi.gapi.en.wGQ1JnvbZsA.O/d=1/rs=AHpOoo_CQByDq4M_GLyNYLaxwBcABC_4uA/m=__features__","https://apis.google.com","","","1","",null,1,"es_plusone_gc_20250903.0_p1","ko",null,0],[0.009999999776482582,"co.kr","425",[null,"","0",null,1,5184000,null,null,"",null,null,null,null,null,0,null,0,null,1,0,0,0,null,null,0,0,null,0,0,0,0,0],null,null,null,0],[1,null,null,40400,425,"KOR","ko","812574842.0",8,null,1,0,null,null,null,null,"3700949,105109531,105109534",null,null,null,"YFfsaJubA-adp84P3Obu0QM",0,0,0,null,2,5,"nn",116,0,0,null,null,1,114591953,0,0],[[null,null,null,"https://www.gstatic.com/og/_/js/k=og.qtm.en_US.CelFTev3ejs.2019.O/rt=j/m=qabr,qgl,q_dnp,qcwid,qbd,qapid,qads,qrcd,q_dg/exm=qaaw,qadd,qaid,qein,qhaw,qhba,qhbr,qhch,qhga,qhid,qhin/d=1/ed=1/rs=AA2YrTvmWBZSAxh723iRtzGY78qOiNZH_Q"],[null,null,null,"https://www.gstatic.com/og/_/ss/k=og.qtm.pfog22aEnAs.L.W.O/m=qcwid,qba/excm=qaaw,qadd,qaid,qein,qhaw,qhba,qhbr,qhch,qhga,qhid,qhin/d=1/ed=1/ct=zgms/rs=AA2YrTskOaSug7MVZwlus97OpUaPcMM3bw"]],null,null,null,[[[null,null,[null,null,null,"https://ogs.google.com/u/0/widget/account?baea=1\u0026amb=1"],0,414,436,57,4,1,0,0,65,66,8000,"https://accounts.google.com/SignOutOptions?hl=ko\u0026continue=https://colab.research.google.com/\u0026ec=GBRAqQM",68,2,null,null,1,113,"문제가 발생했습니다.%1$s 새로고침하여 다시 시도하거나 %2$s다른 계정을 선택%3$s하세요.",3,null,null,75,0,null,null,null,null,null,null,null,"/widget/account",["https","myaccount.google.com",0,32,83,0],0,0,1,["중요 보안 알림","계정에 관한 중요한 문제 알림","스토리지 사용량 알림",null,1,1,0],0,1,null,1,1,null,null,null,null,0,0,0,null,0,0,null,null,null,null,null,null,null,null,null,0],[null,null,[null,null,null,"https://ogs.google.com/u/0/widget/callout/sid?dc=1"],null,280,420,70,25,0,null,0,null,null,8000,null,71,4,null,null,null,null,null,null,null,null,76,null,null,null,107,108,109,"",null,null,null,null,null,null,null,null,null,null,null,null,null,null,null,null,null,null,null,null,0]],null,null,"425","425",1,0,null,"ko",0,["https://colab.research.google.com/?authuser=$authuser","https://accounts.google.com/AddSession?hl=ko\u0026continue=https://colab.research.google.com/\u0026ec=GAlAqQM","https://accounts.google.com/Logout?hl=ko\u0026continue=https://colab.research.google.com/\u0026timeStmp=1760319328\u0026secTok=.AG5fkS8n23eOY7hH7AV3jLKkGumDAjPShQ\u0026ec=GAdAqQM","https://accounts.google.com/ListAccounts?listPages=0\u0026pid=425\u0026gpsia=1\u0026source=ogb\u0026atic=1\u0026mo=1\u0026mn=1\u0026hl=ko\u0026ts=250",0,0,"",0,0,null,0,0,"https://accounts.google.com/ServiceLogin?passive=true\u0026continue=https%3A%2F%2Fcolab.research.google.com%2F\u0026ec=GAZAqQM",null,null,0,null,null,null,0],0,0,0,[null,"",null,null,null,1,null,0,0,"","","","https://ogads-pa.clients6.google.com",0,0,0,"","",0,0,null,86400,null,1,null,null,0,null,0,0,"8559284470",3,1,0],0,null,null,null,1,0,"20222004@edu.hanbat.ac.kr",0],null,[["mousedown","touchstart","touchmove","wheel","keydown"],300000],[[null,null,null,"https://accounts.google.com/RotateCookiesPage"],3,null,null,null,0,1]]],};this.gbar_=this.gbar_||{};(function(_){var window=this;
try{
_._F_toggles_initialize=function(a){(typeof globalThis!=="undefined"?globalThis:typeof self!=="undefined"?self:this)._F_toggles_gbar_=a||[]};(0,_._F_toggles_initialize)([]);
/*

 Copyright The Closure Library Authors.
 SPDX-License-Identifier: Apache-2.0
*/
var ja,pa,qa,ua,wa,xa,Fa,Ga,$a,cb,eb,jb,fb,lb,rb,Db,Eb,Fb,Gb;_.aa=function(a,b){if(Error.captureStackTrace)Error.captureStackTrace(this,_.aa);else{const c=Error().stack;c&&(this.stack=c)}a&&(this.message=String(a));b!==void 0&&(this.cause=b)};_.ba=function(a){a.yk=!0;return a};_.ia=function(a){var b=a;if(da(b)){if(!/^\s*(?:-?[1-9]\d*|0)?\s*$/.test(b))throw Error(String(b));}else if(ea(b)&&!Number.isSafeInteger(b))throw Error(String(b));return fa?BigInt(a):a=ha(a)?a?"1":"0":da(a)?a.trim()||"0":String(a)};
ja=function(a,b){if(a.length>b.length)return!1;if(a.length<b.length||a===b)return!0;for(let c=0;c<a.length;c++){const d=a[c],e=b[c];if(d>e)return!1;if(d<e)return!0}};_.ka=function(a){_.t.setTimeout(()=>{throw a;},0)};_.ma=function(){return _.la().toLowerCase().indexOf("webkit")!=-1};_.la=function(){var a=_.t.navigator;return a&&(a=a.userAgent)?a:""};pa=function(a){if(!na||!oa)return!1;for(let b=0;b<oa.brands.length;b++){const {brand:c}=oa.brands[b];if(c&&c.indexOf(a)!=-1)return!0}return!1};
_.u=function(a){return _.la().indexOf(a)!=-1};qa=function(){return na?!!oa&&oa.brands.length>0:!1};_.ra=function(){return qa()?!1:_.u("Opera")};_.sa=function(){return qa()?!1:_.u("Trident")||_.u("MSIE")};_.ta=function(){return _.u("Firefox")||_.u("FxiOS")};_.va=function(){return _.u("Safari")&&!(ua()||(qa()?0:_.u("Coast"))||_.ra()||(qa()?0:_.u("Edge"))||(qa()?pa("Microsoft Edge"):_.u("Edg/"))||(qa()?pa("Opera"):_.u("OPR"))||_.ta()||_.u("Silk")||_.u("Android"))};
ua=function(){return qa()?pa("Chromium"):(_.u("Chrome")||_.u("CriOS"))&&!(qa()?0:_.u("Edge"))||_.u("Silk")};wa=function(){return na?!!oa&&!!oa.platform:!1};xa=function(){return _.u("iPhone")&&!_.u("iPod")&&!_.u("iPad")};_.ya=function(){return xa()||_.u("iPad")||_.u("iPod")};_.za=function(){return wa()?oa.platform==="macOS":_.u("Macintosh")};_.Ba=function(a,b){return _.Aa(a,b)>=0};_.Ca=function(a,b=!1){return b&&Symbol.for&&a?Symbol.for(a):a!=null?Symbol(a):Symbol()};
_.Ea=function(a,b){return b===void 0?a.j!==Da&&!!(2&(a.fa[_.v]|0)):!!(2&b)&&a.j!==Da};Fa=function(a){return a};Ga=function(a,b){a.__closure__error__context__984382||(a.__closure__error__context__984382={});a.__closure__error__context__984382.severity=b};_.Ha=function(a){a=Error(a);Ga(a,"warning");return a};_.Ja=function(a,b){if(a!=null){var c;var d=(c=Ia)!=null?c:Ia={};c=d[a]||0;c>=b||(d[a]=c+1,a=Error(),Ga(a,"incident"),_.ka(a))}};
_.La=function(a){if(typeof a!=="boolean")throw Error("k`"+_.Ka(a)+"`"+a);return a};_.Ma=function(a){if(a==null||typeof a==="boolean")return a;if(typeof a==="number")return!!a};_.Oa=function(a){if(!(0,_.Na)(a))throw _.Ha("enum");return a|0};_.Pa=function(a){return a==null?a:(0,_.Na)(a)?a|0:void 0};_.Qa=function(a){if(typeof a!=="number")throw _.Ha("int32");if(!(0,_.Na)(a))throw _.Ha("int32");return a|0};_.Ra=function(a){if(a!=null&&typeof a!=="string")throw Error();return a};
_.Sa=function(a){return a==null||typeof a==="string"?a:void 0};_.Va=function(a,b,c){if(a!=null&&a[_.Ta]===_.Ua)return a;if(Array.isArray(a)){var d=a[_.v]|0;c=d|c&32|c&2;c!==d&&(a[_.v]=c);return new b(a)}};_.Ya=function(a){const b=_.Wa(_.Xa);return b?a[b]:void 0};$a=function(a,b){b<100||_.Ja(Za,1)};
cb=function(a,b,c,d){const e=d!==void 0;d=!!d;var f=_.Wa(_.Xa),g;!e&&f&&(g=a[f])&&g.xd($a);f=[];var h=a.length;let k;g=4294967295;let l=!1;const m=!!(b&64),p=m?b&128?0:-1:void 0;if(!(b&1||(k=h&&a[h-1],k!=null&&typeof k==="object"&&k.constructor===Object?(h--,g=h):k=void 0,!m||b&128||e))){l=!0;var r;g=((r=ab)!=null?r:Fa)(g-p,p,a,k,void 0)+p}b=void 0;for(r=0;r<h;r++){let w=a[r];if(w!=null&&(w=c(w,d))!=null)if(m&&r>=g){const D=r-p;var q=void 0;((q=b)!=null?q:b={})[D]=w}else f[r]=w}if(k)for(let w in k){q=
k[w];if(q==null||(q=c(q,d))==null)continue;h=+w;let D;if(m&&!Number.isNaN(h)&&(D=h+p)<g)f[D]=q;else{let Q;((Q=b)!=null?Q:b={})[w]=q}}b&&(l?f.push(b):f[g]=b);e&&_.Wa(_.Xa)&&(a=_.Ya(a))&&"function"==typeof _.bb&&a instanceof _.bb&&(f[_.Xa]=a.i());return f};
eb=function(a){switch(typeof a){case "number":return Number.isFinite(a)?a:""+a;case "bigint":return(0,_.db)(a)?Number(a):""+a;case "boolean":return a?1:0;case "object":if(Array.isArray(a)){const b=a[_.v]|0;return a.length===0&&b&1?void 0:cb(a,b,eb)}if(a!=null&&a[_.Ta]===_.Ua)return fb(a);if("function"==typeof _.gb&&a instanceof _.gb)return a.j();return}return a};jb=function(a,b){if(b){ab=b==null||b===Fa||b[hb]!==ib?Fa:b;try{return fb(a)}finally{ab=void 0}}return fb(a)};
fb=function(a){a=a.fa;return cb(a,a[_.v]|0,eb)};
_.mb=function(a,b,c,d=0){if(a==null){var e=32;c?(a=[c],e|=128):a=[];b&&(e=e&-16760833|(b&1023)<<14)}else{if(!Array.isArray(a))throw Error("l");e=a[_.v]|0;if(kb&&1&e)throw Error("m");2048&e&&!(2&e)&&lb();if(e&256)throw Error("n");if(e&64)return d!==0||e&2048||(a[_.v]=e|2048),a;if(c&&(e|=128,c!==a[0]))throw Error("o");a:{c=a;e|=64;var f=c.length;if(f){var g=f-1;const k=c[g];if(k!=null&&typeof k==="object"&&k.constructor===Object){b=e&128?0:-1;g-=b;if(g>=1024)throw Error("q");for(var h in k)if(f=+h,
f<g)c[f+b]=k[h],delete k[h];else break;e=e&-16760833|(g&1023)<<14;break a}}if(b){h=Math.max(b,f-(e&128?0:-1));if(h>1024)throw Error("r");e=e&-16760833|(h&1023)<<14}}}e|=64;d===0&&(e|=2048);a[_.v]=e;return a};lb=function(){if(kb)throw Error("p");_.Ja(nb,5)};
rb=function(a,b){if(typeof a!=="object")return a;if(Array.isArray(a)){var c=a[_.v]|0;a.length===0&&c&1?a=void 0:c&2||(!b||4096&c||16&c?a=_.ob(a,c,!1,b&&!(c&16)):(a[_.v]|=34,c&4&&Object.freeze(a)));return a}if(a!=null&&a[_.Ta]===_.Ua)return b=a.fa,c=b[_.v]|0,_.Ea(a,c)?a:_.pb(a,b,c)?_.qb(a,b):_.ob(b,c);if("function"==typeof _.gb&&a instanceof _.gb)return a};_.qb=function(a,b,c){a=new a.constructor(b);c&&(a.j=Da);a.o=Da;return a};
_.ob=function(a,b,c,d){d!=null||(d=!!(34&b));a=cb(a,b,rb,d);d=32;c&&(d|=2);b=b&16769217|d;a[_.v]=b;return a};_.tb=function(a){const b=a.fa,c=b[_.v]|0;return _.Ea(a,c)?_.pb(a,b,c)?_.qb(a,b,!0):new a.constructor(_.ob(b,c,!1)):a};_.ub=function(a){if(a.j!==Da)return!1;var b=a.fa;b=_.ob(b,b[_.v]|0);b[_.v]|=2048;a.fa=b;a.j=void 0;a.o=void 0;return!0};_.vb=function(a){if(!_.ub(a)&&_.Ea(a,a.fa[_.v]|0))throw Error();};_.wb=function(a,b){b===void 0&&(b=a[_.v]|0);b&32&&!(b&4096)&&(a[_.v]=b|4096)};
_.pb=function(a,b,c){return c&2?!0:c&32&&!(c&4096)?(b[_.v]=c|2,a.j=Da,!0):!1};_.xb=function(a,b,c,d,e){const f=c+(e?0:-1);var g=a.length-1;if(g>=1+(e?0:-1)&&f>=g){const h=a[g];if(h!=null&&typeof h==="object"&&h.constructor===Object)return h[c]=d,b}if(f<=g)return a[f]=d,b;if(d!==void 0){let h;g=((h=b)!=null?h:b=a[_.v]|0)>>14&1023||536870912;c>=g?d!=null&&(a[g+(e?0:-1)]={[c]:d}):a[f]=d}return b};
_.zb=function(a,b,c,d,e){let f=!1;d=_.yb(a,d,e,g=>{const h=_.Va(g,c,b);f=h!==g&&h!=null;return h});if(d!=null)return f&&!_.Ea(d)&&_.wb(a,b),d};_.Ab=function(){const a=class{constructor(){throw Error();}};Object.setPrototypeOf(a,a.prototype);return a};_.x=function(a,b){return a!=null?!!a:!!b};_.y=function(a,b){b==void 0&&(b="");return a!=null?a:b};_.Bb=function(a,b,c){for(const d in a)b.call(c,a[d],d,a)};_.Cb=function(a){for(const b in a)return!1;return!0};Db=Object.defineProperty;
Eb=function(a){a=["object"==typeof globalThis&&globalThis,a,"object"==typeof window&&window,"object"==typeof self&&self,"object"==typeof global&&global];for(var b=0;b<a.length;++b){var c=a[b];if(c&&c.Math==Math)return c}throw Error("a");};Fb=Eb(this);Gb=function(a,b){if(b)a:{var c=Fb;a=a.split(".");for(var d=0;d<a.length-1;d++){var e=a[d];if(!(e in c))break a;c=c[e]}a=a[a.length-1];d=c[a];b=b(d);b!=d&&b!=null&&Db(c,a,{configurable:!0,writable:!0,value:b})}};Gb("globalThis",function(a){return a||Fb});
Gb("Symbol.dispose",function(a){return a?a:Symbol("b")});Gb("Promise.prototype.finally",function(a){return a?a:function(b){return this.then(function(c){return Promise.resolve(b()).then(function(){return c})},function(c){return Promise.resolve(b()).then(function(){throw c;})})}});
Gb("Array.prototype.flat",function(a){return a?a:function(b){b=b===void 0?1:b;var c=[];Array.prototype.forEach.call(this,function(d){Array.isArray(d)&&b>0?(d=Array.prototype.flat.call(d,b-1),c.push.apply(c,d)):c.push(d)});return c}});var Jb,Kb,Nb;_.Hb=_.Hb||{};_.t=this||self;Jb=function(a,b){var c=_.Ib("WIZ_global_data.oxN3nb");a=c&&c[a];return a!=null?a:b};Kb=_.t._F_toggles_gbar_||[];_.Ib=function(a,b){a=a.split(".");b=b||_.t;for(var c=0;c<a.length;c++)if(b=b[a[c]],b==null)return null;return b};_.Ka=function(a){var b=typeof a;return b!="object"?b:a?Array.isArray(a)?"array":b:"null"};_.Lb=function(a){var b=typeof a;return b=="object"&&a!=null||b=="function"};_.Mb="closure_uid_"+(Math.random()*1E9>>>0);
Nb=function(a,b,c){return a.call.apply(a.bind,arguments)};_.z=function(a,b,c){_.z=Nb;return _.z.apply(null,arguments)};_.Ob=function(a,b){var c=Array.prototype.slice.call(arguments,1);return function(){var d=c.slice();d.push.apply(d,arguments);return a.apply(this,d)}};_.A=function(a,b){a=a.split(".");for(var c=_.t,d;a.length&&(d=a.shift());)a.length||b===void 0?c[d]&&c[d]!==Object.prototype[d]?c=c[d]:c=c[d]={}:c[d]=b};_.Wa=function(a){return a};
_.B=function(a,b){function c(){}c.prototype=b.prototype;a.X=b.prototype;a.prototype=new c;a.prototype.constructor=a;a.mk=function(d,e,f){for(var g=Array(arguments.length-2),h=2;h<arguments.length;h++)g[h-2]=arguments[h];return b.prototype[e].apply(d,g)}};_.B(_.aa,Error);_.aa.prototype.name="CustomError";var Pb=!!(Kb[0]>>15&1),Qb=!!(Kb[0]&1024),Rb=!!(Kb[0]>>16&1),Sb=!!(Kb[0]&128);var na=Pb?Rb:Jb(610401301,!1),kb=Pb?Qb||!Sb:Jb(748402147,!0);_.Tb=_.ba(a=>a!==null&&a!==void 0);var ea=_.ba(a=>typeof a==="number"),da=_.ba(a=>typeof a==="string"),ha=_.ba(a=>typeof a==="boolean");var fa=typeof _.t.BigInt==="function"&&typeof _.t.BigInt(0)==="bigint";var Wb,Ub,Xb,Vb;_.db=_.ba(a=>fa?a>=Ub&&a<=Vb:a[0]==="-"?ja(a,Wb):ja(a,Xb));Wb=Number.MIN_SAFE_INTEGER.toString();Ub=fa?BigInt(Number.MIN_SAFE_INTEGER):void 0;Xb=Number.MAX_SAFE_INTEGER.toString();Vb=fa?BigInt(Number.MAX_SAFE_INTEGER):void 0;_.Yb=typeof TextDecoder!=="undefined";_.Zb=typeof TextEncoder!=="undefined";var oa,$b=_.t.navigator;oa=$b?$b.userAgentData||null:null;_.Aa=function(a,b){return Array.prototype.indexOf.call(a,b,void 0)};_.ac=function(a,b,c){Array.prototype.forEach.call(a,b,c)};_.bc=function(a,b){return Array.prototype.some.call(a,b,void 0)};_.cc=function(a){_.cc[" "](a);return a};_.cc[" "]=function(){};var qc;_.dc=_.ra();_.ec=_.sa();_.fc=_.u("Edge");_.hc=_.u("Gecko")&&!(_.ma()&&!_.u("Edge"))&&!(_.u("Trident")||_.u("MSIE"))&&!_.u("Edge");_.ic=_.ma()&&!_.u("Edge");_.jc=_.za();_.kc=wa()?oa.platform==="Windows":_.u("Windows");_.lc=wa()?oa.platform==="Android":_.u("Android");_.mc=xa();_.nc=_.u("iPad");_.oc=_.u("iPod");_.pc=_.ya();
a:{let a="";const b=function(){const c=_.la();if(_.hc)return/rv:([^\);]+)(\)|;)/.exec(c);if(_.fc)return/Edge\/([\d\.]+)/.exec(c);if(_.ec)return/\b(?:MSIE|rv)[: ]([^\);]+)(\)|;)/.exec(c);if(_.ic)return/WebKit\/(\S+)/.exec(c);if(_.dc)return/(?:Version)[ \/]?(\S+)/.exec(c)}();b&&(a=b?b[1]:"");if(_.ec){var rc;const c=_.t.document;rc=c?c.documentMode:void 0;if(rc!=null&&rc>parseFloat(a)){qc=String(rc);break a}}qc=a}_.sc=qc;_.tc=_.ta();_.uc=xa()||_.u("iPod");_.vc=_.u("iPad");_.wc=_.u("Android")&&!(ua()||_.ta()||_.ra()||_.u("Silk"));_.xc=ua();_.yc=_.va()&&!_.ya();var Za,nb,hb;_.Xa=_.Ca();_.zc=_.Ca();Za=_.Ca();_.Ac=_.Ca();nb=_.Ca();_.Ta=_.Ca("m_m",!0);hb=_.Ca();_.Bc=_.Ca();var Dc;_.v=_.Ca("jas",!0);Dc=[];Dc[_.v]=7;_.Cc=Object.freeze(Dc);var Da;_.Ua={};Da={};_.Ec=Object.freeze({});var ib={};var Ia=void 0;_.Fc=typeof BigInt==="function"?BigInt.asIntN:void 0;_.Gc=Number.isSafeInteger;_.Na=Number.isFinite;_.Hc=Math.trunc;var ab;_.Ic=_.ia(0);_.Jc={};_.Kc=function(a,b,c,d,e){b=_.yb(a.fa,b,c,e);if(b!==null||d&&a.o!==Da)return b};_.yb=function(a,b,c,d){if(b===-1)return null;const e=b+(c?0:-1),f=a.length-1;let g,h;if(!(f<1+(c?0:-1))){if(e>=f)if(g=a[f],g!=null&&typeof g==="object"&&g.constructor===Object)c=g[b],h=!0;else if(e===f)c=g;else return;else c=a[e];if(d&&c!=null){d=d(c);if(d==null)return d;if(!Object.is(d,c))return h?g[b]=d:a[e]=d,d}return c}};_.Lc=function(a,b,c,d){_.vb(a);const e=a.fa;_.xb(e,e[_.v]|0,b,c,d);return a};
_.C=function(a,b,c,d){let e=a.fa,f=e[_.v]|0;b=_.zb(e,f,b,c,d);if(b==null)return b;f=e[_.v]|0;if(!_.Ea(a,f)){const g=_.tb(b);g!==b&&(_.ub(a)&&(e=a.fa,f=e[_.v]|0),b=g,f=_.xb(e,f,c,b,d),_.wb(e,f))}return b};_.E=function(a,b,c){c==null&&(c=void 0);_.Lc(a,b,c);c&&!_.Ea(c)&&_.wb(a.fa);return a};_.Mc=function(a,b,c,d){return _.Pa(_.Kc(a,b,c,d))};_.F=function(a,b,c=!1,d){let e;return(e=_.Ma(_.Kc(a,b,d)))!=null?e:c};_.G=function(a,b,c="",d){let e;return(e=_.Sa(_.Kc(a,b,d)))!=null?e:c};
_.I=function(a,b,c){return _.Sa(_.Kc(a,b,c,_.Jc))};_.J=function(a,b,c,d){return _.Lc(a,b,c==null?c:_.La(c),d)};_.K=function(a,b,c){return _.Lc(a,b,c==null?c:_.Qa(c))};_.L=function(a,b,c,d){return _.Lc(a,b,_.Ra(c),d)};_.N=function(a,b,c,d){return _.Lc(a,b,c==null?c:_.Oa(c),d)};_.O=class{constructor(a,b,c){this.fa=_.mb(a,b,c)}toJSON(){return jb(this)}wa(a){return JSON.stringify(jb(this,a))}};_.O.prototype[_.Ta]=_.Ua;_.O.prototype.toString=function(){return this.fa.toString()};_.Nc=_.Ab();_.Oc=_.Ab();_.Qc=_.Ab();_.Rc=Symbol();var Sc=class extends _.O{constructor(a){super(a)}};_.Tc=class extends _.O{constructor(a){super(a)}D(a){return _.K(this,3,a)}};_.Uc=class extends _.O{constructor(a){super(a)}};_.P=function(){this.qa=this.qa;this.Y=this.Y};_.P.prototype.qa=!1;_.P.prototype.isDisposed=function(){return this.qa};_.P.prototype.dispose=function(){this.qa||(this.qa=!0,this.R())};_.P.prototype[Symbol.dispose]=function(){this.dispose()};_.P.prototype.R=function(){if(this.Y)for(;this.Y.length;)this.Y.shift()()};var Vc=class extends _.P{constructor(){var a=window;super();this.o=a;this.i=[];this.j={}}resolve(a){let b=this.o;a=a.split(".");const c=a.length;for(let d=0;d<c;++d)if(b[a[d]])b=b[a[d]];else return null;return b instanceof Function?b:null}ub(){const a=this.i.length,b=this.i,c=[];for(let d=0;d<a;++d){const e=b[d].i(),f=this.resolve(e);if(f&&f!=this.j[e])try{b[d].ub(f)}catch(g){}else c.push(b[d])}this.i=c.concat(b.slice(a))}};var Xc=class extends _.P{constructor(){var a=_.Wc;super();this.o=a;this.A=this.i=null;this.v=0;this.B={};this.j=!1;a=window.navigator.userAgent;a.indexOf("MSIE")>=0&&a.indexOf("Trident")>=0&&(a=/\b(?:MSIE|rv)[: ]([^\);]+)(\)|;)/.exec(a))&&a[1]&&parseFloat(a[1])<9&&(this.j=!0)}C(a,b){this.i=b;this.A=a;b.preventDefault?b.preventDefault():b.returnValue=!1}};_.Yc=class extends _.O{constructor(a){super(a)}};var Zc=class extends _.O{constructor(a){super(a)}};var bd;_.$c=function(a,b,c=98,d=new _.Tc){if(a.i){const e=new Sc;_.L(e,1,b.message);_.L(e,2,b.stack);_.K(e,3,b.lineNumber);_.N(e,5,1);_.E(d,40,e);a.i.log(c,d)}};bd=class{constructor(){var a=ad;this.i=null;_.F(a,4,!0)}log(a,b,c=new _.Tc){_.$c(this,a,98,c)}};var cd,dd;cd=function(a){if(a.o.length>0){var b=a.i!==void 0,c=a.j!==void 0;if(b||c){b=b?a.v:a.A;c=a.o;a.o=[];try{_.ac(c,b,a)}catch(d){console.error(d)}}}};_.ed=class{constructor(a){this.i=a;this.j=void 0;this.o=[]}then(a,b,c){this.o.push(new dd(a,b,c));cd(this)}resolve(a){if(this.i!==void 0||this.j!==void 0)throw Error("v");this.i=a;cd(this)}reject(a){if(this.i!==void 0||this.j!==void 0)throw Error("v");this.j=a;cd(this)}v(a){a.j&&a.j.call(a.i,this.i)}A(a){a.o&&a.o.call(a.i,this.j)}};
dd=class{constructor(a,b,c){this.j=a;this.o=b;this.i=c}};_.fd=a=>{var b="rc";if(a.rc&&a.hasOwnProperty(b))return a.rc;b=new a;return a.rc=b};_.R=class{constructor(){this.v=new _.ed;this.i=new _.ed;this.D=new _.ed;this.B=new _.ed;this.C=new _.ed;this.A=new _.ed;this.o=new _.ed;this.j=new _.ed;this.F=new _.ed;this.G=new _.ed}K(){return this.v}qa(){return this.i}O(){return this.D}M(){return this.B}P(){return this.C}L(){return this.A}Y(){return this.o}J(){return this.j}N(){return this.F}static i(){return _.fd(_.R)}};var id;_.hd=function(){return _.C(_.gd,_.Uc,5)};id=class extends _.O{constructor(a){super(a)}};var jd;window.gbar_&&window.gbar_.CONFIG?jd=window.gbar_.CONFIG[0]||{}:jd=[];_.gd=new id(jd);var ad;ad=_.C(_.gd,Zc,3)||new Zc;_.Wc=new bd;_.A("gbar_._DumpException",function(a){_.Wc?_.Wc.log(a):console.error(a)});_.kd=new Xc;var md;_.nd=function(a,b){var c=_.ld.i();if(a in c.i){if(c.i[a]!=b)throw new md;}else{c.i[a]=b;const h=c.j[a];if(h)for(let k=0,l=h.length;k<l;k++){b=h[k];var d=c.i;delete b.i[a];if(_.Cb(b.i)){for(var e=b.j.length,f=Array(e),g=0;g<e;g++)f[g]=d[b.j[g]];b.o.apply(b.v,f)}}delete c.j[a]}};_.ld=class{constructor(){this.i={};this.j={}}static i(){return _.fd(_.ld)}};_.od=class extends _.aa{constructor(){super()}};md=class extends _.od{};_.A("gbar.A",_.ed);_.ed.prototype.aa=_.ed.prototype.then;_.A("gbar.B",_.R);_.R.prototype.ba=_.R.prototype.qa;_.R.prototype.bb=_.R.prototype.O;_.R.prototype.bd=_.R.prototype.P;_.R.prototype.bf=_.R.prototype.K;_.R.prototype.bg=_.R.prototype.M;_.R.prototype.bh=_.R.prototype.L;_.R.prototype.bj=_.R.prototype.Y;_.R.prototype.bk=_.R.prototype.J;_.R.prototype.bl=_.R.prototype.N;_.A("gbar.a",_.R.i());window.gbar&&window.gbar.ap&&window.gbar.ap(window.gbar.a);var pd=new Vc;_.nd("api",pd);
var qd=_.hd()||new _.Uc,rd=window,sd=_.y(_.I(qd,8));rd.__PVT=sd;_.nd("eq",_.kd);
}catch(e){_._DumpException(e)}
try{
_.td=class extends _.O{constructor(a){super(a)}};
}catch(e){_._DumpException(e)}
try{
var ud=class extends _.O{constructor(a){super(a)}};var vd=class extends _.P{constructor(){super();this.j=[];this.i=[]}o(a,b){this.j.push({features:a,options:b!=null?b:null})}init(a,b,c){window.gapi={};const d=window.___jsl={};d.h=_.y(_.I(a,1));_.Ma(_.Kc(a,12))!=null&&(d.dpo=_.x(_.F(a,12)));d.ms=_.y(_.I(a,2));d.m=_.y(_.I(a,3));d.l=[];_.G(b,1)&&(a=_.I(b,3))&&this.i.push(a);_.G(c,1)&&(c=_.I(c,2))&&this.i.push(c);_.A("gapi.load",(0,_.z)(this.o,this));return this}};var wd=_.C(_.gd,_.Yc,14);if(wd){var xd=_.C(_.gd,_.td,9)||new _.td,yd=new ud,zd=new vd;zd.init(wd,xd,yd);_.nd("gs",zd)};
}catch(e){_._DumpException(e)}
})(this.gbar_);
// Google Inc.
</script><script nonce="">try {const preferences = JSON.parse(window.localStorage.getItem("datalab_prefs_20222004@edu.hanbat.ac.kr")); document.querySelector('html') .setAttribute('theme', preferences['siteTheme'] || 'default');} catch (e) {}</script><script nonce="">window.performance.mark('head_start');</script><link rel="stylesheet" href="./OSS_Week06_실습_files/bundle.css"><script nonce="">var colabVersionTag = 'colab_20251009-060053_RC00_817075221'; var colabScsVersion = '1130a43b55a79fcfacc0ddd295c0c8b3'; var hl = 'ko'; var colabExperiments = JSON.parse('\x7b\x22add_df_vars_in_ai_conversation_context\x22: false, \x22add_df_vars_in_ai_generate_context\x22: false, \x22add_notebook_diffs_to_chat_history\x22: false, \x22add_nvidia_cudf_facts_to_chat_context\x22: true, \x22add_prompt_cell\x22: false, \x22agent_client_update_task_max_request_size_bytes\x22: 10000000, \x22agent_scroll_delay_ms\x22: 200, \x22agent_update_task_max_request_size_bytes\x22: 10000000, \x22ai_banner\x22: false, \x22ai_characters_per_token\x22: 3.0, \x22ai_prompt_token_limit\x22: 32000, \x22ai_service_client_type\x22: \x22\x22, \x22ai_user_input_char_limit\x22: 2000, \x22aida_complete_code_model_id\x22: \x22\x22, \x22aida_converse_max_facts\x22: 20, \x22aida_do_conversation_model_id\x22: \x22aida_v3p1s_streaming\x22, \x22aida_dsa_model_strategy\x22: -1, \x22aida_generate_code_model_id\x22: \x22aida_v3p1s\x22, \x22aida_generate_code_no_max_tokens\x22: true, \x22allow_dsa_page_interaction\x22: true, \x22allow_subpaths_in_kernel_url\x22: false, \x22allowed_public_url_domains\x22: \x5b\x22huggingface.co\x22, \x22dagshub.com\x22, \x22storage.googleapis.com\x22\x5d, \x22backend_url_allowlist\x22: \x5b\x22localhost\x22, \x22127.0.0.1\x22, \x22\x5b::1\x5d\x22, \x22kkb-production.jupyter-proxy.kaggle.net\x22, \x22kkb-staging.jupyter-proxy.kaggle.net\x22, \x22isolabs-kernels.corp.goog\x22\x5d, \x22backend_version\x22: \x22next\x22, \x22backtracking_strategy\x22: \x22non-literals\x22, \x22ccu_info_abort_timeout_ms\x22: 3000, \x22cell_tags\x22: false, \x22chat_explain_error_temp\x22: \x221.0\x22, \x22chat_model_id_override\x22: \x22\x22, \x22classroom_iframe_parent_origin\x22: \x22\x22, \x22client_trim_completion_text\x22: 400, \x22cloud_origin\x22: \x22\x22, \x22cloud_run\x22: true, \x22code_report_millis\x22: 600000, \x22colab_fetch_try_reauth\x22: false, \x22comment_poll_long\x22: 900000, \x22comment_poll_short\x22: 60000, \x22complete_code\x22: true, \x22compose_skip_suffix_check\x22: false, \x22composer\x22: true, \x22composer_auto_code\x22: true, \x22composer_autocomplete\x22: false, \x22composer_client_events_context\x22: false, \x22composer_context_max_variable_length\x22: 500000, \x22composer_custom_context\x22: false, \x22composer_early_stopping_for_image_truncation\x22: false, \x22composer_focused_cell_context\x22: true, \x22composer_fp_context\x22: false, \x22composer_generate_code\x22: true, \x22composer_generated_cell_placement_logic\x22: true, \x22composer_kernel_files_in_context\x22: true, \x22composer_model_strategy\x22: 0, \x22composer_show_debug_info\x22: false, \x22composer_show_single_diff_buttons\x22: false, \x22composer_survey\x22: true, \x22composer_transform_code\x22: true, \x22composer_visible_cells_context\x22: true, \x22connect_enterprise_vm\x22: false, \x22converse_notebook_context_length\x22: 40000, \x22corp_third_party_widgets\x22: false, \x22crawler\x22: false, \x22critique_comments\x22: false, \x22data_inspector\x22: false, \x22dbu\x22: \x22\x22, \x22debug_adapter\x22: false, \x22debug_external\x22: \x22external\x22, \x22debug_prod\x22: \x22prod\x22, \x22debugger_server_side_globals\x22: true, \x22dep_cells_commands\x22: true, \x22dep_cells_enabled\x22: false, \x22dep_graph\x22: false, \x22deprecate_prompt\x22: true, \x22deprecated_accelerator_models\x22: \x5b\x22V28\x22\x5d, \x22development\x22: false, \x22dialog_ui_refresh\x22: false, \x22disable_output_frame_files\x22: true, \x22disable_text_cell_double_click_presentation_mode\x22: true, \x22document_change_poll_interval\x22: 30000, \x22drive_anon_api_key\x22: \x22AIzaSyB10s2vWUTwP0pj20wZoxmpZIt3rRodYeg\x22, \x22drive_api_key\x22: \x22AIzaSyCN_sSPJMpYrAzC5AtTrltNC8oRmLtoqBk\x22, \x22drive_background_save_project_number\x22: \x22948411933973\x22, \x22drive_realtime_project_number\x22: \x22903414543955\x22, \x22drop_chat_links\x22: true, \x22dsa\x22: true, \x22dsa_file_not_sent_survey_timeout\x22: 60000, \x22dsa_markdown_cells\x22: false, \x22embedded_use_websockets\x22: false, \x22embedding_app\x22: \x22\x22, \x22enable_a100_hm\x22: true, \x22enable_adhoc_backends\x22: false, \x22enable_agent_connect_to_new_vm\x22: true, \x22enable_composer_changeset_stacking\x22: false, \x22enable_composer_code_report\x22: false, \x22enable_composer_suggestion_chips\x22: true, \x22enable_edu_subscription_ui\x22: true, \x22enable_improved_composer_context_mentions\x22: false, \x22enable_more_reprs\x22: true, \x22enable_mpp_orc_model_overrides\x22: true, \x22enable_rt_on_create\x22: false, \x22execution_status_propagation\x22: true, \x22explain_error_model_id_override\x22: \x22\x22, \x22explain_error_trim_traceback\x22: true, \x22explicit_ai_backend\x22: \x22\x22, \x22external_trusted_github_org_repos_quick_add\x22: \x22GoogleChrome\/CrUX,google\/generative-ai-docs,google-health\/cxr-foundation,google-health\/derm-foundation,google-health\/path-foundation\x22, \x22file_browser_poll_interval_millis\x22: 10000, \x22file_upload_rate_limit\x22: 5, \x22first_party_auth\x22: true, \x22fix_imports\x22: false, \x22fp_context\x22: false, \x22generate_code\x22: true, \x22generate_df\x22: true, \x22generate_prompt_reduce_blank_responses\x22: false, \x22generate_prompt_reduce_name_errors\x22: false, \x22get_started\x22: false, \x22github_client_id\x22: \x225036cf6d81e65aaa6340\x22, \x22gpu_utilization_check_interval_ms\x22: 600000, \x22hats_surveys\x22: true, \x22hrc\x22: false, \x22import_data\x22: false, \x22inline_completion_ai_campaign_max_views\x22: 3, \x22inline_completion_ai_campaign_throttle_ms\x22: 600000, \x22is_prober\x22: false, \x22jspb_analytics\x22: true, \x22jsraw\x22: \x22compiled\x22, \x22kaggle_backend_runtime_selector\x22: false, \x22kaggle_client_id\x22: \x22\x22, \x22kaggle_integrations\x22: false, \x22kaggle_resource_picker\x22: false, \x22kernel_use_connected_endpoint_for_unassign\x22: true, \x22kernel_utils_fetch\x22: true, \x22key_promoter\x22: false, \x22kr\x22: false, \x22link_id_assignments\x22: true, \x22link_imports_to_installs\x22: true, \x22local_cloud_apis\x22: false, \x22local_service_worker\x22: false, \x22lsp_diagnostics_reporting\x22: false, \x22lsp_inlay_hint\x22: false, \x22makersuite_api_key\x22: \x22AIzaSyAmDcruecW4rCL1KdwcbIVHL4LkXxahIgw\x22, \x22makersuite_service_url\x22: \x22https:\/\/alkalimakersuite-pa.clients6.google.com\x22, \x22markdown_spellchecker\x22: false, \x22migrate_ccu_info\x22: true, \x22min_dep_cells_runtime_kernel_cl\x22: 694609395, \x22ml_enabled\x22: true, \x22mobile\x22: false, \x22moma_rag\x22: false, \x22moma_rag_composer\x22: false, \x22move_toolbar_icon_to_cell_menu\x22: true, \x22mpp_orc_temperature_override\x22: \x221.0\x22, \x22multi_modal_context_for_composer\x22: true, \x22multi_modal_context_for_transform\x22: false, \x22nl2code_missing_imports\x22: true, \x22no_fun\x22: false, \x22oneplatform_api_key\x22: \x22AIzaSyA2BvntLwNwFthUB4w6_Bhn0cMlVHwyaHc\x22, \x22oneplatform_endpoint\x22: \x22https:\/\/colab.clients6.google.com\x22, \x22outage_notification\x22: \x22\x22, \x22outage_notification_link\x22: \x22\x22, \x22outputframe_version\x22: \x22\x22, \x22override_suf_params_for_test\x22: false, \x22panel_ui_refresh\x22: false, \x22pds_minting\x22: false, \x22prepare_runtime_for_notebook\x22: true, \x22prereq_cells_next_steps\x22: true, \x22presentation_mode_connect_runtime\x22: true, \x22prevent_ai_long_response_generate\x22: false, \x22prevent_ai_long_response_generate_with_df\x22: false, \x22prevent_ai_long_response_suggest_fix\x22: false, \x22prompt_for_dsa_trusted_tester_consent\x22: false, \x22recaptcha_polling_frequency_ms\x22: 300000, \x22recaptcha_v2_site_key\x22: \x226LfQttQUAAAAADuPanA_VZMaZgBAOnHZNuuqUewp\x22, \x22recaptcha_v3_site_key\x22: \x226LfQPtEUAAAAAHBpAdFng54jyuB1V5w5dofknpip\x22, \x22reconnect_max_delay_seconds\x22: 300, \x22reduced_gemini_sparks\x22: true, \x22remove_ai_explain_cell_fencing\x22: true, \x22remove_ai_explain_error_fencing\x22: true, \x22remove_ai_generate_fencing\x22: true, \x22require_ai_consent\x22: true, \x22resource_poll_interval_ms\x22: 10000, \x22rp_kxhr_skip_fallback\x22: false, \x22rp_serve_kernel_port\x22: true, \x22rp_socketio_fallback\x22: true, \x22rp_token_refresh_headroom_millis\x22: 300000, \x22rt_opt_in\x22: \x22OFF\x22, \x22run_mode\x22: false, \x22runtime_env_overrides\x22: \x22\\n          \x5b\\n            \x5b\\\x22ENABLE_DIRECTORYPREFETCHER\\\x22, \\\x221\\\x22\x5d\\n          \x5d\\n        \x22, \x22runtime_type_for_test\x22: \x22\x22, \x22runtime_version_names\x22: \x5b\x222025.07\x22\x5d, \x22runtime_version_selector\x22: true, \x22server_execution_queue\x22: true, \x22server_side_generate_prompt_formatting_cloud\x22: false, \x22session_resume_coalesce\x22: true, \x22show_edu_signup_link\x22: true, \x22show_gemini_button_text_label\x22: true, \x22show_payments_interstitial\x22: false, \x22show_rel_notes_on_open\x22: true, \x22show_signup_survey\x22: true, \x22show_subscription_renewal_time\x22: false, \x22show_switch_to_prod_link\x22: false, \x22signup_ccu_increase\x22: true, \x22single_page_consent_form\x22: true, \x22smartpaste\x22: false, \x22smartpaste_chars_limit\x22: -1, \x22smartpaste_serving_config\x22: \x22freeform_servomatic_goose_v3_xs_smart_paste\x22, \x22sql_cell\x22: false, \x22sql_completion_lsp\x22: false, \x22storage_partition_trial\x22: true, \x22storage_partition_trial_token\x22: \x22Agk\/t4Bt05W7j6CHeqXH9+6ccDayrBsQPqCLDPSElphe\/7cUobayuvN0A3huajTbJenIjp6qibLteh6e0IEWrgIAAAB4eyJvcmlnaW4iOiJodHRwczovL2NvbGFiLnJlc2VhcmNoLmdvb2dsZS5jb206NDQzIiwiZmVhdHVyZSI6IkRpc2FibGVUaGlyZFBhcnR5U3RvcmFnZVBhcnRpdGlvbmluZzIiLCJleHBpcnkiOjE3NDIzNDIzOTl9\x22, \x22suggest_plots\x22: false, \x22task_service_initial_poll_interval_ms\x22: 500, \x22task_service_max_poll_count\x22: 180, \x22task_service_max_poll_interval_ms\x22: 4000, \x22task_service_poll_interval_growth_factor\x22: 1.3, \x22task_service_poll_interval_ms\x22: 500, \x22task_service_poll_timeout_ms\x22: 90000, \x22task_service_wait_before_polling_ms\x22: 1000, \x22term4all\x22: true, \x22terminate_session_on_connect_to_new_vm\x22: true, \x22text_cell_editor_toolbar_exit_button\x22: true, \x22text_compose_report_changes_millis\x22: 10000, \x22text_span_comments\x22: false, \x22tpu_resource_stats\x22: false, \x22transform_code\x22: false, \x22trim_filename_extension\x22: false, \x22turn_off_agent_mode_when_safe\x22: true, \x22unmanaged_vm_min_label_block\x22: \x22\x22, \x22unmanaged_vm_min_label_warn\x22: \x22\x22, \x22unmanaged_vm_min_release_tag_block\x22: \x22\x22, \x22unmanaged_vm_min_release_tag_warn\x22: \x22\x22, \x22unsupported_magics_check\x22: true, \x22use_ai_service\x22: true, \x22use_boq_smartpaste\x22: false, \x22use_colab_adk_service\x22: false, \x22use_oneplatform_completions\x22: false, \x22user_visible_accelerator_models\x22: \x5b\x22T4\x22, \x22A100\x22, \x22L4\x22, \x22V5E1\x22, \x22V6E1\x22\x5d, \x22v_100_redirect\x22: true, \x22verbose_warnings\x22: false, \x22vertex_ai_api_environment_override\x22: \x22\x22, \x22viz_cell\x22: false, \x22want_completions_ai_consent_campaign\x22: true, \x22workstations\x22: false, \x22ids\x22: \x5b20730150, 20730177, 20730375, 20730460, 20730457, 20730518, 20730476, 20730183, 20730324, 20730497, 20730363, 20730515\x5d, \x22flag_ids\x22: \x7b\x22add_df_vars_in_ai_conversation_context\x22: 45678289, \x22add_df_vars_in_ai_generate_context\x22: 45687604, \x22add_notebook_diffs_to_chat_history\x22: 45691117, \x22add_nvidia_cudf_facts_to_chat_context\x22: 45685179, \x22add_prompt_cell\x22: 45644995, \x22agent_client_update_task_max_request_size_bytes\x22: 45712580, \x22agent_scroll_delay_ms\x22: 45680776, \x22ai_banner\x22: 45670540, \x22ai_characters_per_token\x22: 45692654, \x22ai_prompt_token_limit\x22: 45692138, \x22ai_service_client_type\x22: 45723040, \x22ai_user_input_char_limit\x22: 45661098, \x22aida_complete_code_model_id\x22: 45427660, \x22aida_converse_max_facts\x22: 45680037, \x22aida_do_conversation_model_id\x22: 45427664, \x22aida_dsa_model_strategy\x22: 45693665, \x22aida_generate_code_model_id\x22: 45427663, \x22aida_generate_code_no_max_tokens\x22: 45694652, \x22allow_dsa_page_interaction\x22: 45675785, \x22allow_subpaths_in_kernel_url\x22: 45699272, \x22allowed_public_url_domains\x22: 45425558, \x22backend_url_allowlist\x22: 45660303, \x22backend_version\x22: 45425541, \x22backtracking_strategy\x22: 45644832, \x22ccu_info_abort_timeout_ms\x22: 45691627, \x22cell_tags\x22: 45425779, \x22chat_explain_error_temp\x22: 45655973, \x22chat_model_id_override\x22: 45631876, \x22classroom_iframe_parent_origin\x22: 45425537, \x22client_trim_completion_text\x22: 45425628, \x22cloud_origin\x22: 45425538, \x22cloud_run\x22: 45697172, \x22code_report_millis\x22: 45658073, \x22colab_fetch_try_reauth\x22: 45713304, \x22comment_poll_long\x22: 45425588, \x22comment_poll_short\x22: 45425587, \x22complete_code\x22: 45686676, \x22compose_skip_suffix_check\x22: 45615470, \x22composer\x22: 45683351, \x22composer_auto_code\x22: 45693768, \x22composer_autocomplete\x22: 45718105, \x22composer_client_events_context\x22: 45729342, \x22composer_context_max_variable_length\x22: 45688573, \x22composer_custom_context\x22: 45728743, \x22composer_early_stopping_for_image_truncation\x22: 45719141, \x22composer_focused_cell_context\x22: 45697545, \x22composer_fp_context\x22: 45701859, \x22composer_generate_code\x22: 45702500, \x22composer_generated_cell_placement_logic\x22: 45721730, \x22composer_kernel_files_in_context\x22: 45701855, \x22composer_model_strategy\x22: 45711731, \x22composer_show_debug_info\x22: 45700003, \x22composer_show_single_diff_buttons\x22: 45723066, \x22composer_survey\x22: 45707270, \x22composer_transform_code\x22: 45700458, \x22composer_visible_cells_context\x22: 45716167, \x22connect_enterprise_vm\x22: 45730782, \x22converse_notebook_context_length\x22: 45705427, \x22corp_third_party_widgets\x22: 45678906, \x22crawler\x22: 45425491, \x22critique_comments\x22: 45612076, \x22data_inspector\x22: 45697206, \x22dbu\x22: 45425545, \x22debug_adapter\x22: 45690097, \x22debug_external\x22: 45425470, \x22debug_prod\x22: 45425471, \x22debugger_server_side_globals\x22: 45687360, \x22dep_cells_commands\x22: 45622249, \x22dep_cells_enabled\x22: 45653551, \x22dep_graph\x22: 45629071, \x22deprecate_prompt\x22: 45679897, \x22deprecated_accelerator_models\x22: 45724327, \x22development\x22: 45425544, \x22dialog_ui_refresh\x22: 45698577, \x22disable_output_frame_files\x22: 45725679, \x22disable_text_cell_double_click_presentation_mode\x22: 45723721, \x22document_change_poll_interval\x22: 45425589, \x22drive_anon_api_key\x22: 45425478, \x22drive_api_key\x22: 45425473, \x22drive_background_save_project_number\x22: 45425479, \x22drive_realtime_project_number\x22: 45425629, \x22drop_chat_links\x22: 45646864, \x22dsa\x22: 45656258, \x22dsa_file_not_sent_survey_timeout\x22: 45688578, \x22dsa_markdown_cells\x22: 45707419, \x22embedded_use_websockets\x22: 45691694, \x22enable_a100_hm\x22: 45723321, \x22enable_adhoc_backends\x22: 45425506, \x22enable_agent_connect_to_new_vm\x22: 45670252, \x22enable_composer_changeset_stacking\x22: 45717253, \x22enable_composer_code_report\x22: 45708595, \x22enable_composer_suggestion_chips\x22: 45710464, \x22enable_edu_subscription_ui\x22: 45693272, \x22enable_improved_composer_context_mentions\x22: 45721452, \x22enable_more_reprs\x22: 45613354, \x22enable_mpp_orc_model_overrides\x22: 45649913, \x22enable_rt_on_create\x22: 45667583, \x22execution_status_propagation\x22: 45644828, \x22explain_error_model_id_override\x22: 45631875, \x22explain_error_trim_traceback\x22: 45618831, \x22explicit_ai_backend\x22: 45638548, \x22external_trusted_github_org_repos_quick_add\x22: 45425555, \x22file_browser_poll_interval_millis\x22: 45643722, \x22file_upload_rate_limit\x22: 45637799, \x22first_party_auth\x22: 45425560, \x22fix_imports\x22: 45624140, \x22fp_context\x22: 45684902, \x22generate_code\x22: 45425492, \x22generate_df\x22: 45425503, \x22generate_prompt_reduce_blank_responses\x22: 45643396, \x22generate_prompt_reduce_name_errors\x22: 45634392, \x22get_started\x22: 45430267, \x22github_client_id\x22: 45425556, \x22gpu_utilization_check_interval_ms\x22: 45425561, \x22hats_surveys\x22: 45425559, \x22import_data\x22: 45430411, \x22inline_completion_ai_campaign_max_views\x22: 45676328, \x22inline_completion_ai_campaign_throttle_ms\x22: 45671534, \x22is_prober\x22: 45429104, \x22jspb_analytics\x22: 45704358, \x22jsraw\x22: 45425557, \x22kaggle_backend_runtime_selector\x22: 45704319, \x22kaggle_client_id\x22: 45690272, \x22kaggle_integrations\x22: 45690259, \x22kaggle_resource_picker\x22: 45697311, \x22kernel_use_connected_endpoint_for_unassign\x22: 45684913, \x22kernel_utils_fetch\x22: 45708200, \x22key_promoter\x22: 45425570, \x22link_id_assignments\x22: 45644831, \x22link_imports_to_installs\x22: 45644830, \x22local_cloud_apis\x22: 45425630, \x22local_service_worker\x22: 45425550, \x22lsp_diagnostics_reporting\x22: 45425604, \x22lsp_inlay_hint\x22: 45614695, \x22makersuite_api_key\x22: 45655361, \x22makersuite_service_url\x22: 45655362, \x22markdown_spellchecker\x22: 45671479, \x22migrate_ccu_info\x22: 45716751, \x22min_dep_cells_runtime_kernel_cl\x22: 45654240, \x22ml_enabled\x22: 45425493, \x22mobile\x22: 45425562, \x22moma_rag\x22: 45686203, \x22moma_rag_composer\x22: 45706746, \x22move_toolbar_icon_to_cell_menu\x22: 45726565, \x22mpp_orc_temperature_override\x22: 45649914, \x22multi_modal_context_for_composer\x22: 45691122, \x22multi_modal_context_for_transform\x22: 45687634, \x22nl2code_missing_imports\x22: 45615676, \x22no_fun\x22: 45425540, \x22oneplatform_api_key\x22: 45717742, \x22oneplatform_endpoint\x22: 45717924, \x22outage_notification\x22: 45425584, \x22outage_notification_link\x22: 45425585, \x22outputframe_version\x22: 45425591, \x22override_suf_params_for_test\x22: 45425592, \x22panel_ui_refresh\x22: 45721124, \x22pds_minting\x22: 45648255, \x22prepare_runtime_for_notebook\x22: 45699118, \x22prereq_cells_next_steps\x22: 45640400, \x22presentation_mode_connect_runtime\x22: 45722751, \x22prevent_ai_long_response_generate\x22: 45680972, \x22prevent_ai_long_response_generate_with_df\x22: 45681123, \x22prevent_ai_long_response_suggest_fix\x22: 45681124, \x22prompt_for_dsa_trusted_tester_consent\x22: 45670923, \x22recaptcha_polling_frequency_ms\x22: 45425582, \x22recaptcha_v2_site_key\x22: 45425581, \x22recaptcha_v3_site_key\x22: 45425580, \x22reconnect_max_delay_seconds\x22: 45425539, \x22reduced_gemini_sparks\x22: 45719726, \x22remove_ai_explain_cell_fencing\x22: 45677303, \x22remove_ai_explain_error_fencing\x22: 45677302, \x22remove_ai_generate_fencing\x22: 45673079, \x22require_ai_consent\x22: 45425489, \x22resource_poll_interval_ms\x22: 45425590, \x22rp_kxhr_skip_fallback\x22: 45656329, \x22rp_serve_kernel_port\x22: 45572083, \x22rp_socketio_fallback\x22: 45658495, \x22rp_token_refresh_headroom_millis\x22: 45517773, \x22rt_opt_in\x22: 45667546, \x22run_mode\x22: 45642857, \x22runtime_env_overrides\x22: 45425583, \x22runtime_type_for_test\x22: 45425586, \x22runtime_version_names\x22: 45714997, \x22runtime_version_selector\x22: 45713197, \x22server_execution_queue\x22: 45425600, \x22server_side_generate_prompt_formatting_cloud\x22: 45655196, \x22session_resume_coalesce\x22: 45425603, \x22show_edu_signup_link\x22: 45692615, \x22show_gemini_button_text_label\x22: 45681647, \x22show_payments_interstitial\x22: 45425543, \x22show_rel_notes_on_open\x22: 45644210, \x22show_signup_survey\x22: 45425620, \x22show_subscription_renewal_time\x22: 45425569, \x22show_switch_to_prod_link\x22: 45425483, \x22signup_ccu_increase\x22: 45689970, \x22single_page_consent_form\x22: 45656775, \x22smartpaste\x22: 45627425, \x22smartpaste_chars_limit\x22: 45714219, \x22smartpaste_serving_config\x22: 45630585, \x22sql_cell\x22: 45425497, \x22sql_completion_lsp\x22: 45688254, \x22suggest_plots\x22: 45696393, \x22task_service_initial_poll_interval_ms\x22: 45696534, \x22task_service_max_poll_count\x22: 45669592, \x22task_service_max_poll_interval_ms\x22: 45696536, \x22task_service_poll_interval_growth_factor\x22: 45696535, \x22task_service_poll_interval_ms\x22: 45669591, \x22task_service_poll_timeout_ms\x22: 45696537, \x22task_service_wait_before_polling_ms\x22: 45669590, \x22term4all\x22: 45425542, \x22terminate_session_on_connect_to_new_vm\x22: 45683597, \x22text_cell_editor_toolbar_exit_button\x22: 45723722, \x22text_compose_report_changes_millis\x22: 45425568, \x22text_span_comments\x22: 45545873, \x22tpu_resource_stats\x22: 45655215, \x22transform_code\x22: 45667102, \x22trim_filename_extension\x22: 45691676, \x22turn_off_agent_mode_when_safe\x22: 45679577, \x22unmanaged_vm_min_label_block\x22: 45425546, \x22unmanaged_vm_min_label_warn\x22: 45425547, \x22unmanaged_vm_min_release_tag_block\x22: 45425548, \x22unmanaged_vm_min_release_tag_warn\x22: 45425549, \x22unsupported_magics_check\x22: 45644829, \x22use_ai_service\x22: 45713338, \x22use_boq_smartpaste\x22: 45729169, \x22use_colab_adk_service\x22: 20730464, \x22use_oneplatform_completions\x22: 45730992, \x22user_visible_accelerator_models\x22: 45682571, \x22v_100_redirect\x22: 45644963, \x22verbose_warnings\x22: 45425551, \x22vertex_ai_api_environment_override\x22: 45612077, \x22viz_cell\x22: 45690754, \x22want_completions_ai_consent_campaign\x22: 45671138, \x22workstations\x22: 45425626\x7d\x7d'); var colabUserEmail = '20222004@edu.hanbat.ac.kr'; var colabRenderDataToken = 'AFWLbD03rv7oEgf3aICi1Ghzge8xxZ4Caa1n0MtdzkyHdiY6e4tY8zCJzHDbglCVXscBJiaiamgYzvP5DTCCaC6Wdozt3BsXGywG'; var colabConfig = '\x5b\x5b\x2220222004@edu.hanbat.ac.kr\x22,\x5b1,\x22AHXL0D1FVg0XsTGn5vNKb4TmmFIOl\/6dLH\/fDzrNb2bIzbFgkdIAzoKLT1y4MjXnuuxxUU2bpVeRaTQZFUbx886qsybheK\/mBrrFT+C7UTSoOeg\/eFYtCN0b2jEGiV++cRSX73y1uFxBWu\/C6kKVo08qTfskhvF3T\/HNjjGONxNj1jgmBR0r7fSCfgwIAgWbVCDgUEiYRgT4fqIzrUCB2v7fs0rEKE8fZM1Ve11sn6O9Gl0\/8p0InUVV8DlDiWKvMW5I5+R3qXHKSzc7jSOgsJxaDUqq4rSa2YIS\/RTt4x+KJ1CdCXRWMwOCJQmF7jdH3kY\/b2EJu387x5lEXN3qN9keCFF09aiWGev1QYQ6hbz350ICLyTtcVxf7vgoPI6yeKalyyVzQxLDCht1FhkxDPbEEAOBUxv0dOfHRI6RlJZfgNsYpR56yLadOzZM4HzoTY7y8TZ\/J596S7pFe7oCRbiXArpBm5ZK7WDUv6iyxDBxx2cZ8yh+j4m6fhv3+q6e42nW03TvEQTYCZHMnqQXeyvk97bVd6kfxPq68YIbyCdUCMWMWPPyTbHRRsejjr87bcHdVY3u07fGldiaEupHRsMLEwWXJax61wWypHoiPpF007+Ng5mvP5lf53Cc2kj3CSbgY7MWswGDDo89Ez8OzHaNqObc566YDRYR+Flt6O8RnEL3TfC6fIkB\/OLqnmSsQ0RYbc9TDlDNm88\/MKRE+95pzpXCZmTRFjvM\/U4Yvr0e6WiPU6rAfDuSvuzpyJ3xhNdh1q5KCqB4tsTlyMcJzkUPZs0ZdyWfa9hdqpoX94jER68VJEPQi8k5TUcBgbolGl9LHfhMNZV4rDrdcWEW5ET+F11ikqamibGJhr4AihokwA0JDNAsyEsM8vglpCdotjj0GGkjSTh4d7phzYqESo6+HGCt+r0FRKgzHxPDoVxIzykeB3zEnqDPuQj8IpWJHbbleQzsN\/47he3KEcRExY0escvvkjKZvAJ3HZzIO3QETOnuaku3CUOyBCcSa+jfb\/r5zH\/qeD+2SncG04Cj5oXlgiPfxFvW3HaPDcya\/0PMg0ietJVydIElQELm5tynEIj1rmZzHCd61N5d5x9ImKeSqp6D2jc7F\/7Xd4DLtWF1wATi8RZTQLMifx0c6C0ICiCkXVlWyNoyW93NOWFPmnP5FEvG3jRXi2TmM\/XoW1FDGLNJNPlr7MDynSV39\/gGZcq3IpW1RN6o5uc0OS88rLTSdUQR0RozzQik18UeaRqTtw1bdD1oYlePNL0PxpO41Rezi5HbsKOB\/hk+k3jHQoRfbBFmC\/65\/ewwlht4IOZOxERsxNaQ1E\/M14j7v\/NfcVzfihbrjeaONSjbb74vVP7dUo3HNA06s7IOYUD49l0uTXRThJru+odrOTPUysh5dwwZYZqSsq4wgvCnE\/n3cOf1JXsACNIvE4NMhaBOG\/cvSKX5EHXdYzsClHVthSEDb9cCysZN37yZSnsH2PtUsfKbYFhjH2x98Xl7XqX7zoR44EmcolIi0jDhnu6vEegonQTfw71XqL3M06VKEgtjR2qP4DA\/901s5LVAzIFzm8NdTaauS\/3J4wxblnLNpdaPEAYZqAAcdveY\/9UlWubhzXiKJdl6uPmoGh0uKUvNp+JrlmoxxoNWNEHUZASGgGXoV+lT\/V+AHn1qwyF0v5Wn9X4\/48wpzAuE\/8Vy3dqwoaLzFuKcoMU4Cw98TeXowthcctjlxKZoaW7NuhaidUtEyxIqIp8qx2psWy5nkDvZCWjjGBb9lHUtFR1oPPmzStnXD4gOsV\/RpuPfGOlNuZ\/7ADT3jZnJ+Vk3PAqOOVCj3ZXWBK7uOtDLNDxCXnyGvjeZ4R0c+fiBO+0PAXMCL8RehG5sGu9FNW+tT3ye9O6lktp54RVKr+Ltfj8n0iBgv5yz\/x9f6LUmtK7yXMez7g0pnNjLWkQKzbZVYp5W7ItkU3waNTsNtTpDeoqcs+XO3Nc2OWQe7cWjOcXYuL6m6GLDN1kIBdRZsQt83g\x3d\x3d\x22,\x22AJ9oCCxEgle54duSW27NNYrpsVGzL8X+PK7H+YQ0jW9LfsBByjJG3syAlI2PFBIXH4l6xEStR1Gcb9OffC0lOU3kaAHJ8LXJ\/BaYvags+fFGfecc0zP+VHVXi7MotUVAYkXKDS3dIaz0\x22,\x22https:\/\/payments.google.com\/payments\x22,0,0,null,null,null,\x22$9.99\x22,\x22$49.99\x22,\x22$9.99\x22,\x22$49.99\x22,0,0,0\x5d,\x5b4,5\x5d,\x22KR\x22,0\x5d\x5d';</script><link id="favicon-link" rel="shortcut icon" href="https://ssl.gstatic.com/colaboratory-static/common/1130a43b55a79fcfacc0ddd295c0c8b3/img%2Ffavicon.ico"><meta name="google-site-verification" content="wRgpUU3mIRZPD1GORBPNonaotM72092B_DsqQFWNa4s"><meta name="google-site-verification" content="dsf7CRwnDkQv6Ot4gXTXx8_nVf8A9cb5o30hZ7cGAIo"><meta name="google-site-verification" content="K1UdZBHJXQYnJGXIK1KuutmVy6dn3vG2sEyV9D1C6dM"><meta name="google-site-verification" content="wdGthzzfu0IjM3qpFqTuQL9poAQZAvAaFKyuzetLpIM"><meta name="google-site-verification" content="qZJ77guHGO0TObHUBRYVdXQlIhXBBuz8dahJVmIlzCo"><meta name="google-site-verification" content="7ahoeOOKT2ZR781GZ5xK4L9t7yO1ZOHc-gaoUALEYgw"><meta name="google-site-verification" content="PHgaSKwdxZELS21aixtLhfpvaHtKen9pnVJ25EI35Zs"><meta name="google-site-verification" content="qylwTsZSLomIg1JrChne7cPcXmtC2Xh_5ZxlJWLlAH0"><meta name="google-site-verification" content="BQfukMqFy1nu2Q2gjGbNTDA8MJ_Y4L2brCYA1h6ewkY"><meta name="google-site-verification" content="pIZq7V_Vt54MAfdQe5afm8zeJrl3o4GkRW-etNvnlKI"><meta name="google-site-verification" content="Ozey1ptWUQW13_lCEhpPMOcmRBLqdyB3WEL-TJUjskU"><meta name="google-site-verification" content="z-WR3zzv8XZ5FFfBLLDbyTiN35UXm01nWUS2Uej5pwg"><meta name="google-site-verification" content="rF5iXzWe9KZXJes1dQNhOUkS4_z_e97IrsVoCx2trek"><meta name="google-site-verification" content="vsXaeD7OD0m3iK8Z54fG8TYGC5eT17KeL_xMHtdiyWI"><meta name="google-site-verification" content="cpB5oulaGwqSxsg4E-9q2MVbK87iE9NAUUVxdveucPw"><meta name="google-site-verification" content="b6bOMRzMVX2bJABYDGBPtpGcB_AUZ-o2SOTggQXErkg"><meta name="google-site-verification" content="88fgsZDoVRBuRnDPMIEjcHCxsEXzODOqEsJoqtvQsDc"><meta name="google-site-verification" content="hZkpVtQ8gdGznkTfUekRWeGY05QyeLXb6q946CFw2-c"><meta name="google-site-verification" content="sMarhZgb4va_L_7UTdMR43gDZ2gVqc_5GHN4REpQPGY"><meta name="google-site-verification" content="26aKGBCw3XblB5Ou01UhxY5WDtMqHjoTm6P-lvF6AqE"><meta name="google-site-verification" content="DGionF7db9g0dOgeBXwOAN2tmCzWBdo5yOdc_-5UcuE"><meta name="google-site-verification" content="Q9LlidR0toR7UtSyVO23xNeaqJmRp8I6r4ghBQTtntU"><meta name="google-site-verification" content="rQawcZaTEK_UrDG30cz_7nVKOVvBass61QEes0Tm04g"><meta name="google-site-verification" content="-N1hdkiHJQ6kwJALkHVh2ZzV2fFNER0schZl2AU6zvc"><meta name="google-site-verification" content="8L3ghjzKIj241AYAmEygniTe604tsXFkIrb1v-DBtGo"><meta name="google-site-verification" content="Gz6pcDgVFH_aS-aPTYW21rSHcWl0LAgKCWJtdXPVTNo"><meta name="google-site-verification" content="KiunYPvrY5x8umvAWcjhwPrB677xCar2LeT_8yaVrDg"><meta name="google-site-verification" content="LypEVvHhYiLSzDs9PabhmOmsfMfEjVGq2rLXJbtqdzY"><meta property="og:type" content="article"><meta property="og:image" content="https://colab.research.google.com/img/colab_favicon_256px.png"><meta property="og:title" content="Google Colab"><meta http-equiv="origin-trial" content="Agk/t4Bt05W7j6CHeqXH9+6ccDayrBsQPqCLDPSElphe/7cUobayuvN0A3huajTbJenIjp6qibLteh6e0IEWrgIAAAB4eyJvcmlnaW4iOiJodHRwczovL2NvbGFiLnJlc2VhcmNoLmdvb2dsZS5jb206NDQzIiwiZmVhdHVyZSI6IkRpc2FibGVUaGlyZFBhcnR5U3RvcmFnZVBhcnRpdGlvbmluZzIiLCJleHBpcnkiOjE3NDIzNDIzOTl9"><script nonce="">window.performance.mark('head_end'); window.performance.measure('head', 'head_start', 'head_end');</script><script async="" src="./OSS_Week06_실습_files/lazy.min.js.다운로드" nonce=""></script><style id="inert-style">
[inert] {
  pointer-events: none;
  cursor: default;
}

[inert], [inert] * {
  user-select: none;
  -webkit-user-select: none;
  -moz-user-select: none;
  -ms-user-select: none;
}
</style><script async="async" type="text/javascript" src="./OSS_Week06_실습_files/editor.main.js.다운로드"></script><script async="" type="text/javascript" charset="UTF-8" src="./OSS_Week06_실습_files/rs=AA2YrTvmWBZSAxh723iRtzGY78qOiNZH_Q" nonce=""></script><link type="text/css" href="./OSS_Week06_실습_files/rs=AA2YrTskOaSug7MVZwlus97OpUaPcMM3bw" rel="stylesheet"><link rel="stylesheet" type="text/css" data-name="vs/editor/editor.main" href="./OSS_Week06_실습_files/editor.main.css"><script async="async" type="text/javascript" src="./OSS_Week06_실습_files/editor.main.nls.js.다운로드"></script><style type="text/css">.MathJax_Hover_Frame {border-radius: .25em; -webkit-border-radius: .25em; -moz-border-radius: .25em; -khtml-border-radius: .25em; box-shadow: 0px 0px 15px #83A; -webkit-box-shadow: 0px 0px 15px #83A; -moz-box-shadow: 0px 0px 15px #83A; -khtml-box-shadow: 0px 0px 15px #83A; border: 1px solid #A6D ! important; display: inline-block; position: absolute}
.MathJax_Menu_Button .MathJax_Hover_Arrow {position: absolute; cursor: pointer; display: inline-block; border: 2px solid #AAA; border-radius: 4px; -webkit-border-radius: 4px; -moz-border-radius: 4px; -khtml-border-radius: 4px; font-family: 'Courier New',Courier; font-size: 9px; color: #F0F0F0}
.MathJax_Menu_Button .MathJax_Hover_Arrow span {display: block; background-color: #AAA; border: 1px solid; border-radius: 3px; line-height: 0; padding: 4px}
.MathJax_Hover_Arrow:hover {color: white!important; border: 2px solid #CCC!important}
.MathJax_Hover_Arrow:hover span {background-color: #CCC!important}
</style><style type="text/css">#MathJax_About {position: fixed; left: 50%; width: auto; text-align: center; border: 3px outset; padding: 1em 2em; background-color: #DDDDDD; color: black; cursor: default; font-family: message-box; font-size: 120%; font-style: normal; text-indent: 0; text-transform: none; line-height: normal; letter-spacing: normal; word-spacing: normal; word-wrap: normal; white-space: nowrap; float: none; z-index: 201; border-radius: 15px; -webkit-border-radius: 15px; -moz-border-radius: 15px; -khtml-border-radius: 15px; box-shadow: 0px 10px 20px #808080; -webkit-box-shadow: 0px 10px 20px #808080; -moz-box-shadow: 0px 10px 20px #808080; -khtml-box-shadow: 0px 10px 20px #808080; filter: progid:DXImageTransform.Microsoft.dropshadow(OffX=2, OffY=2, Color='gray', Positive='true')}
#MathJax_About.MathJax_MousePost {outline: none}
.MathJax_Menu {position: absolute; background-color: white; color: black; width: auto; padding: 2px; border: 1px solid #CCCCCC; margin: 0; cursor: default; font: menu; text-align: left; text-indent: 0; text-transform: none; line-height: normal; letter-spacing: normal; word-spacing: normal; word-wrap: normal; white-space: nowrap; float: none; z-index: 201; box-shadow: 0px 10px 20px #808080; -webkit-box-shadow: 0px 10px 20px #808080; -moz-box-shadow: 0px 10px 20px #808080; -khtml-box-shadow: 0px 10px 20px #808080; filter: progid:DXImageTransform.Microsoft.dropshadow(OffX=2, OffY=2, Color='gray', Positive='true')}
.MathJax_MenuItem {padding: 2px 2em; background: transparent}
.MathJax_MenuArrow {position: absolute; right: .5em; padding-top: .25em; color: #666666; font-size: .75em}
.MathJax_MenuActive .MathJax_MenuArrow {color: white}
.MathJax_MenuArrow.RTL {left: .5em; right: auto}
.MathJax_MenuCheck {position: absolute; left: .7em}
.MathJax_MenuCheck.RTL {right: .7em; left: auto}
.MathJax_MenuRadioCheck {position: absolute; left: 1em}
.MathJax_MenuRadioCheck.RTL {right: 1em; left: auto}
.MathJax_MenuLabel {padding: 2px 2em 4px 1.33em; font-style: italic}
.MathJax_MenuRule {border-top: 1px solid #CCCCCC; margin: 4px 1px 0px}
.MathJax_MenuDisabled {color: GrayText}
.MathJax_MenuActive {background-color: Highlight; color: HighlightText}
.MathJax_MenuDisabled:focus, .MathJax_MenuLabel:focus {background-color: #E8E8E8}
.MathJax_ContextMenu:focus {outline: none}
.MathJax_ContextMenu .MathJax_MenuItem:focus {outline: none}
#MathJax_AboutClose {top: .2em; right: .2em}
.MathJax_Menu .MathJax_MenuClose {top: -10px; left: -10px}
.MathJax_MenuClose {position: absolute; cursor: pointer; display: inline-block; border: 2px solid #AAA; border-radius: 18px; -webkit-border-radius: 18px; -moz-border-radius: 18px; -khtml-border-radius: 18px; font-family: 'Courier New',Courier; font-size: 24px; color: #F0F0F0}
.MathJax_MenuClose span {display: block; background-color: #AAA; border: 1.5px solid; border-radius: 18px; -webkit-border-radius: 18px; -moz-border-radius: 18px; -khtml-border-radius: 18px; line-height: 0; padding: 8px 0 6px}
.MathJax_MenuClose:hover {color: white!important; border: 2px solid #CCC!important}
.MathJax_MenuClose:hover span {background-color: #CCC!important}
.MathJax_MenuClose:hover:focus {outline: none}
</style><style type="text/css">.MJX_Assistive_MathML {position: absolute!important; top: 0; left: 0; clip: rect(1px, 1px, 1px, 1px); padding: 1px 0 0 0!important; border: 0!important; height: 1px!important; width: 1px!important; overflow: hidden!important; display: block!important; -webkit-touch-callout: none; -webkit-user-select: none; -khtml-user-select: none; -moz-user-select: none; -ms-user-select: none; user-select: none}
.MJX_Assistive_MathML.MJX_Assistive_MathML_Block {width: 100%!important}
</style><style type="text/css">#MathJax_Zoom {position: absolute; background-color: #F0F0F0; overflow: auto; display: block; z-index: 301; padding: .5em; border: 1px solid black; margin: 0; font-weight: normal; font-style: normal; text-align: left; text-indent: 0; text-transform: none; line-height: normal; letter-spacing: normal; word-spacing: normal; word-wrap: normal; white-space: nowrap; float: none; -webkit-box-sizing: content-box; -moz-box-sizing: content-box; box-sizing: content-box; box-shadow: 5px 5px 15px #AAAAAA; -webkit-box-shadow: 5px 5px 15px #AAAAAA; -moz-box-shadow: 5px 5px 15px #AAAAAA; -khtml-box-shadow: 5px 5px 15px #AAAAAA; filter: progid:DXImageTransform.Microsoft.dropshadow(OffX=2, OffY=2, Color='gray', Positive='true')}
#MathJax_ZoomOverlay {position: absolute; left: 0; top: 0; z-index: 300; display: inline-block; width: 100%; height: 100%; border: 0; padding: 0; margin: 0; background-color: white; opacity: 0; filter: alpha(opacity=0)}
#MathJax_ZoomFrame {position: relative; display: inline-block; height: 0; width: 0}
#MathJax_ZoomEventTrap {position: absolute; left: 0; top: 0; z-index: 302; display: inline-block; border: 0; padding: 0; margin: 0; background-color: white; opacity: 0; filter: alpha(opacity=0)}
</style><style type="text/css">.MathJax_Preview {color: #888}
#MathJax_Message {position: fixed; left: 1em; bottom: 1.5em; background-color: #E6E6E6; border: 1px solid #959595; margin: 0px; padding: 2px 8px; z-index: 102; color: black; font-size: 80%; width: auto; white-space: nowrap}
#MathJax_MSIE_Frame {position: absolute; top: 0; left: 0; width: 0px; z-index: 101; border: 0px; margin: 0px; padding: 0px}
.MathJax_Error {color: #CC0000; font-style: italic}
</style><style type="text/css">.MJXp-script {font-size: .8em}
.MJXp-right {-webkit-transform-origin: right; -moz-transform-origin: right; -ms-transform-origin: right; -o-transform-origin: right; transform-origin: right}
.MJXp-bold {font-weight: bold}
.MJXp-italic {font-style: italic}
.MJXp-scr {font-family: MathJax_Script,'Times New Roman',Times,STIXGeneral,serif}
.MJXp-frak {font-family: MathJax_Fraktur,'Times New Roman',Times,STIXGeneral,serif}
.MJXp-sf {font-family: MathJax_SansSerif,'Times New Roman',Times,STIXGeneral,serif}
.MJXp-cal {font-family: MathJax_Caligraphic,'Times New Roman',Times,STIXGeneral,serif}
.MJXp-mono {font-family: MathJax_Typewriter,'Times New Roman',Times,STIXGeneral,serif}
.MJXp-largeop {font-size: 150%}
.MJXp-largeop.MJXp-int {vertical-align: -.2em}
.MJXp-math {display: inline-block; line-height: 1.2; text-indent: 0; font-family: 'Times New Roman',Times,STIXGeneral,serif; white-space: nowrap; border-collapse: collapse}
.MJXp-display {display: block; text-align: center; margin: 1em 0}
.MJXp-math span {display: inline-block}
.MJXp-box {display: block!important; text-align: center}
.MJXp-box:after {content: " "}
.MJXp-rule {display: block!important; margin-top: .1em}
.MJXp-char {display: block!important}
.MJXp-mo {margin: 0 .15em}
.MJXp-mfrac {margin: 0 .125em; vertical-align: .25em}
.MJXp-denom {display: inline-table!important; width: 100%}
.MJXp-denom > * {display: table-row!important}
.MJXp-surd {vertical-align: top}
.MJXp-surd > * {display: block!important}
.MJXp-script-box > *  {display: table!important; height: 50%}
.MJXp-script-box > * > * {display: table-cell!important; vertical-align: top}
.MJXp-script-box > *:last-child > * {vertical-align: bottom}
.MJXp-script-box > * > * > * {display: block!important}
.MJXp-mphantom {visibility: hidden}
.MJXp-munderover, .MJXp-munder {display: inline-table!important}
.MJXp-over {display: inline-block!important; text-align: center}
.MJXp-over > * {display: block!important}
.MJXp-munderover > *, .MJXp-munder > * {display: table-row!important}
.MJXp-mtable {vertical-align: .25em; margin: 0 .125em}
.MJXp-mtable > * {display: inline-table!important; vertical-align: middle}
.MJXp-mtr {display: table-row!important}
.MJXp-mtd {display: table-cell!important; text-align: center; padding: .5em 0 0 .5em}
.MJXp-mtr > .MJXp-mtd:first-child {padding-left: 0}
.MJXp-mtr:first-child > .MJXp-mtd {padding-top: 0}
.MJXp-mlabeledtr {display: table-row!important}
.MJXp-mlabeledtr > .MJXp-mtd:first-child {padding-left: 0}
.MJXp-mlabeledtr:first-child > .MJXp-mtd {padding-top: 0}
.MJXp-merror {background-color: #FFFF88; color: #CC0000; border: 1px solid #CC0000; padding: 1px 3px; font-style: normal; font-size: 90%}
.MJXp-scale0 {-webkit-transform: scaleX(.0); -moz-transform: scaleX(.0); -ms-transform: scaleX(.0); -o-transform: scaleX(.0); transform: scaleX(.0)}
.MJXp-scale1 {-webkit-transform: scaleX(.1); -moz-transform: scaleX(.1); -ms-transform: scaleX(.1); -o-transform: scaleX(.1); transform: scaleX(.1)}
.MJXp-scale2 {-webkit-transform: scaleX(.2); -moz-transform: scaleX(.2); -ms-transform: scaleX(.2); -o-transform: scaleX(.2); transform: scaleX(.2)}
.MJXp-scale3 {-webkit-transform: scaleX(.3); -moz-transform: scaleX(.3); -ms-transform: scaleX(.3); -o-transform: scaleX(.3); transform: scaleX(.3)}
.MJXp-scale4 {-webkit-transform: scaleX(.4); -moz-transform: scaleX(.4); -ms-transform: scaleX(.4); -o-transform: scaleX(.4); transform: scaleX(.4)}
.MJXp-scale5 {-webkit-transform: scaleX(.5); -moz-transform: scaleX(.5); -ms-transform: scaleX(.5); -o-transform: scaleX(.5); transform: scaleX(.5)}
.MJXp-scale6 {-webkit-transform: scaleX(.6); -moz-transform: scaleX(.6); -ms-transform: scaleX(.6); -o-transform: scaleX(.6); transform: scaleX(.6)}
.MJXp-scale7 {-webkit-transform: scaleX(.7); -moz-transform: scaleX(.7); -ms-transform: scaleX(.7); -o-transform: scaleX(.7); transform: scaleX(.7)}
.MJXp-scale8 {-webkit-transform: scaleX(.8); -moz-transform: scaleX(.8); -ms-transform: scaleX(.8); -o-transform: scaleX(.8); transform: scaleX(.8)}
.MJXp-scale9 {-webkit-transform: scaleX(.9); -moz-transform: scaleX(.9); -ms-transform: scaleX(.9); -o-transform: scaleX(.9); transform: scaleX(.9)}
.MathJax_PHTML .noError {vertical-align: ; font-size: 90%; text-align: left; color: black; padding: 1px 3px; border: 1px solid}
</style><script async="async" type="text/javascript" src="./OSS_Week06_실습_files/markdown.js.다운로드"></script><script src="./OSS_Week06_실습_files/api.js.다운로드" nonce=""></script><script src="./OSS_Week06_실습_files/api(1).js.다운로드" nonce=""></script><style type="text/css" media="screen" class="monaco-colors">.codicon-add:before { content: '\ea60'; }
.codicon-plus:before { content: '\ea60'; }
.codicon-gist-new:before { content: '\ea60'; }
.codicon-repo-create:before { content: '\ea60'; }
.codicon-lightbulb:before { content: '\ea61'; }
.codicon-light-bulb:before { content: '\ea61'; }
.codicon-repo:before { content: '\ea62'; }
.codicon-repo-delete:before { content: '\ea62'; }
.codicon-gist-fork:before { content: '\ea63'; }
.codicon-repo-forked:before { content: '\ea63'; }
.codicon-git-pull-request:before { content: '\ea64'; }
.codicon-git-pull-request-abandoned:before { content: '\ea64'; }
.codicon-record-keys:before { content: '\ea65'; }
.codicon-keyboard:before { content: '\ea65'; }
.codicon-tag:before { content: '\ea66'; }
.codicon-tag-add:before { content: '\ea66'; }
.codicon-tag-remove:before { content: '\ea66'; }
.codicon-person:before { content: '\ea67'; }
.codicon-person-follow:before { content: '\ea67'; }
.codicon-person-outline:before { content: '\ea67'; }
.codicon-person-filled:before { content: '\ea67'; }
.codicon-git-branch:before { content: '\ea68'; }
.codicon-git-branch-create:before { content: '\ea68'; }
.codicon-git-branch-delete:before { content: '\ea68'; }
.codicon-source-control:before { content: '\ea68'; }
.codicon-mirror:before { content: '\ea69'; }
.codicon-mirror-public:before { content: '\ea69'; }
.codicon-star:before { content: '\ea6a'; }
.codicon-star-add:before { content: '\ea6a'; }
.codicon-star-delete:before { content: '\ea6a'; }
.codicon-star-empty:before { content: '\ea6a'; }
.codicon-comment:before { content: '\ea6b'; }
.codicon-comment-add:before { content: '\ea6b'; }
.codicon-alert:before { content: '\ea6c'; }
.codicon-warning:before { content: '\ea6c'; }
.codicon-search:before { content: '\ea6d'; }
.codicon-search-save:before { content: '\ea6d'; }
.codicon-log-out:before { content: '\ea6e'; }
.codicon-sign-out:before { content: '\ea6e'; }
.codicon-log-in:before { content: '\ea6f'; }
.codicon-sign-in:before { content: '\ea6f'; }
.codicon-eye:before { content: '\ea70'; }
.codicon-eye-unwatch:before { content: '\ea70'; }
.codicon-eye-watch:before { content: '\ea70'; }
.codicon-circle-filled:before { content: '\ea71'; }
.codicon-primitive-dot:before { content: '\ea71'; }
.codicon-close-dirty:before { content: '\ea71'; }
.codicon-debug-breakpoint:before { content: '\ea71'; }
.codicon-debug-breakpoint-disabled:before { content: '\ea71'; }
.codicon-debug-hint:before { content: '\ea71'; }
.codicon-primitive-square:before { content: '\ea72'; }
.codicon-edit:before { content: '\ea73'; }
.codicon-pencil:before { content: '\ea73'; }
.codicon-info:before { content: '\ea74'; }
.codicon-issue-opened:before { content: '\ea74'; }
.codicon-gist-private:before { content: '\ea75'; }
.codicon-git-fork-private:before { content: '\ea75'; }
.codicon-lock:before { content: '\ea75'; }
.codicon-mirror-private:before { content: '\ea75'; }
.codicon-close:before { content: '\ea76'; }
.codicon-remove-close:before { content: '\ea76'; }
.codicon-x:before { content: '\ea76'; }
.codicon-repo-sync:before { content: '\ea77'; }
.codicon-sync:before { content: '\ea77'; }
.codicon-clone:before { content: '\ea78'; }
.codicon-desktop-download:before { content: '\ea78'; }
.codicon-beaker:before { content: '\ea79'; }
.codicon-microscope:before { content: '\ea79'; }
.codicon-vm:before { content: '\ea7a'; }
.codicon-device-desktop:before { content: '\ea7a'; }
.codicon-file:before { content: '\ea7b'; }
.codicon-file-text:before { content: '\ea7b'; }
.codicon-more:before { content: '\ea7c'; }
.codicon-ellipsis:before { content: '\ea7c'; }
.codicon-kebab-horizontal:before { content: '\ea7c'; }
.codicon-mail-reply:before { content: '\ea7d'; }
.codicon-reply:before { content: '\ea7d'; }
.codicon-organization:before { content: '\ea7e'; }
.codicon-organization-filled:before { content: '\ea7e'; }
.codicon-organization-outline:before { content: '\ea7e'; }
.codicon-new-file:before { content: '\ea7f'; }
.codicon-file-add:before { content: '\ea7f'; }
.codicon-new-folder:before { content: '\ea80'; }
.codicon-file-directory-create:before { content: '\ea80'; }
.codicon-trash:before { content: '\ea81'; }
.codicon-trashcan:before { content: '\ea81'; }
.codicon-history:before { content: '\ea82'; }
.codicon-clock:before { content: '\ea82'; }
.codicon-folder:before { content: '\ea83'; }
.codicon-file-directory:before { content: '\ea83'; }
.codicon-symbol-folder:before { content: '\ea83'; }
.codicon-logo-github:before { content: '\ea84'; }
.codicon-mark-github:before { content: '\ea84'; }
.codicon-github:before { content: '\ea84'; }
.codicon-terminal:before { content: '\ea85'; }
.codicon-console:before { content: '\ea85'; }
.codicon-repl:before { content: '\ea85'; }
.codicon-zap:before { content: '\ea86'; }
.codicon-symbol-event:before { content: '\ea86'; }
.codicon-error:before { content: '\ea87'; }
.codicon-stop:before { content: '\ea87'; }
.codicon-variable:before { content: '\ea88'; }
.codicon-symbol-variable:before { content: '\ea88'; }
.codicon-array:before { content: '\ea8a'; }
.codicon-symbol-array:before { content: '\ea8a'; }
.codicon-symbol-module:before { content: '\ea8b'; }
.codicon-symbol-package:before { content: '\ea8b'; }
.codicon-symbol-namespace:before { content: '\ea8b'; }
.codicon-symbol-object:before { content: '\ea8b'; }
.codicon-symbol-method:before { content: '\ea8c'; }
.codicon-symbol-function:before { content: '\ea8c'; }
.codicon-symbol-constructor:before { content: '\ea8c'; }
.codicon-symbol-boolean:before { content: '\ea8f'; }
.codicon-symbol-null:before { content: '\ea8f'; }
.codicon-symbol-numeric:before { content: '\ea90'; }
.codicon-symbol-number:before { content: '\ea90'; }
.codicon-symbol-structure:before { content: '\ea91'; }
.codicon-symbol-struct:before { content: '\ea91'; }
.codicon-symbol-parameter:before { content: '\ea92'; }
.codicon-symbol-type-parameter:before { content: '\ea92'; }
.codicon-symbol-key:before { content: '\ea93'; }
.codicon-symbol-text:before { content: '\ea93'; }
.codicon-symbol-reference:before { content: '\ea94'; }
.codicon-go-to-file:before { content: '\ea94'; }
.codicon-symbol-enum:before { content: '\ea95'; }
.codicon-symbol-value:before { content: '\ea95'; }
.codicon-symbol-ruler:before { content: '\ea96'; }
.codicon-symbol-unit:before { content: '\ea96'; }
.codicon-activate-breakpoints:before { content: '\ea97'; }
.codicon-archive:before { content: '\ea98'; }
.codicon-arrow-both:before { content: '\ea99'; }
.codicon-arrow-down:before { content: '\ea9a'; }
.codicon-arrow-left:before { content: '\ea9b'; }
.codicon-arrow-right:before { content: '\ea9c'; }
.codicon-arrow-small-down:before { content: '\ea9d'; }
.codicon-arrow-small-left:before { content: '\ea9e'; }
.codicon-arrow-small-right:before { content: '\ea9f'; }
.codicon-arrow-small-up:before { content: '\eaa0'; }
.codicon-arrow-up:before { content: '\eaa1'; }
.codicon-bell:before { content: '\eaa2'; }
.codicon-bold:before { content: '\eaa3'; }
.codicon-book:before { content: '\eaa4'; }
.codicon-bookmark:before { content: '\eaa5'; }
.codicon-debug-breakpoint-conditional-unverified:before { content: '\eaa6'; }
.codicon-debug-breakpoint-conditional:before { content: '\eaa7'; }
.codicon-debug-breakpoint-conditional-disabled:before { content: '\eaa7'; }
.codicon-debug-breakpoint-data-unverified:before { content: '\eaa8'; }
.codicon-debug-breakpoint-data:before { content: '\eaa9'; }
.codicon-debug-breakpoint-data-disabled:before { content: '\eaa9'; }
.codicon-debug-breakpoint-log-unverified:before { content: '\eaaa'; }
.codicon-debug-breakpoint-log:before { content: '\eaab'; }
.codicon-debug-breakpoint-log-disabled:before { content: '\eaab'; }
.codicon-briefcase:before { content: '\eaac'; }
.codicon-broadcast:before { content: '\eaad'; }
.codicon-browser:before { content: '\eaae'; }
.codicon-bug:before { content: '\eaaf'; }
.codicon-calendar:before { content: '\eab0'; }
.codicon-case-sensitive:before { content: '\eab1'; }
.codicon-check:before { content: '\eab2'; }
.codicon-checklist:before { content: '\eab3'; }
.codicon-chevron-down:before { content: '\eab4'; }
.codicon-drop-down-button:before { content: '\eab4'; }
.codicon-chevron-left:before { content: '\eab5'; }
.codicon-chevron-right:before { content: '\eab6'; }
.codicon-chevron-up:before { content: '\eab7'; }
.codicon-chrome-close:before { content: '\eab8'; }
.codicon-chrome-maximize:before { content: '\eab9'; }
.codicon-chrome-minimize:before { content: '\eaba'; }
.codicon-chrome-restore:before { content: '\eabb'; }
.codicon-circle:before { content: '\eabc'; }
.codicon-circle-outline:before { content: '\eabc'; }
.codicon-debug-breakpoint-unverified:before { content: '\eabc'; }
.codicon-circle-slash:before { content: '\eabd'; }
.codicon-circuit-board:before { content: '\eabe'; }
.codicon-clear-all:before { content: '\eabf'; }
.codicon-clippy:before { content: '\eac0'; }
.codicon-close-all:before { content: '\eac1'; }
.codicon-cloud-download:before { content: '\eac2'; }
.codicon-cloud-upload:before { content: '\eac3'; }
.codicon-code:before { content: '\eac4'; }
.codicon-collapse-all:before { content: '\eac5'; }
.codicon-color-mode:before { content: '\eac6'; }
.codicon-comment-discussion:before { content: '\eac7'; }
.codicon-compare-changes:before { content: '\eafd'; }
.codicon-credit-card:before { content: '\eac9'; }
.codicon-dash:before { content: '\eacc'; }
.codicon-dashboard:before { content: '\eacd'; }
.codicon-database:before { content: '\eace'; }
.codicon-debug-continue:before { content: '\eacf'; }
.codicon-debug-disconnect:before { content: '\ead0'; }
.codicon-debug-pause:before { content: '\ead1'; }
.codicon-debug-restart:before { content: '\ead2'; }
.codicon-debug-start:before { content: '\ead3'; }
.codicon-debug-step-into:before { content: '\ead4'; }
.codicon-debug-step-out:before { content: '\ead5'; }
.codicon-debug-step-over:before { content: '\ead6'; }
.codicon-debug-stop:before { content: '\ead7'; }
.codicon-debug:before { content: '\ead8'; }
.codicon-device-camera-video:before { content: '\ead9'; }
.codicon-device-camera:before { content: '\eada'; }
.codicon-device-mobile:before { content: '\eadb'; }
.codicon-diff-added:before { content: '\eadc'; }
.codicon-diff-ignored:before { content: '\eadd'; }
.codicon-diff-modified:before { content: '\eade'; }
.codicon-diff-removed:before { content: '\eadf'; }
.codicon-diff-renamed:before { content: '\eae0'; }
.codicon-diff:before { content: '\eae1'; }
.codicon-discard:before { content: '\eae2'; }
.codicon-editor-layout:before { content: '\eae3'; }
.codicon-empty-window:before { content: '\eae4'; }
.codicon-exclude:before { content: '\eae5'; }
.codicon-extensions:before { content: '\eae6'; }
.codicon-eye-closed:before { content: '\eae7'; }
.codicon-file-binary:before { content: '\eae8'; }
.codicon-file-code:before { content: '\eae9'; }
.codicon-file-media:before { content: '\eaea'; }
.codicon-file-pdf:before { content: '\eaeb'; }
.codicon-file-submodule:before { content: '\eaec'; }
.codicon-file-symlink-directory:before { content: '\eaed'; }
.codicon-file-symlink-file:before { content: '\eaee'; }
.codicon-file-zip:before { content: '\eaef'; }
.codicon-files:before { content: '\eaf0'; }
.codicon-filter:before { content: '\eaf1'; }
.codicon-flame:before { content: '\eaf2'; }
.codicon-fold-down:before { content: '\eaf3'; }
.codicon-fold-up:before { content: '\eaf4'; }
.codicon-fold:before { content: '\eaf5'; }
.codicon-folder-active:before { content: '\eaf6'; }
.codicon-folder-opened:before { content: '\eaf7'; }
.codicon-gear:before { content: '\eaf8'; }
.codicon-gift:before { content: '\eaf9'; }
.codicon-gist-secret:before { content: '\eafa'; }
.codicon-gist:before { content: '\eafb'; }
.codicon-git-commit:before { content: '\eafc'; }
.codicon-git-compare:before { content: '\eafd'; }
.codicon-git-merge:before { content: '\eafe'; }
.codicon-github-action:before { content: '\eaff'; }
.codicon-github-alt:before { content: '\eb00'; }
.codicon-globe:before { content: '\eb01'; }
.codicon-grabber:before { content: '\eb02'; }
.codicon-graph:before { content: '\eb03'; }
.codicon-gripper:before { content: '\eb04'; }
.codicon-heart:before { content: '\eb05'; }
.codicon-home:before { content: '\eb06'; }
.codicon-horizontal-rule:before { content: '\eb07'; }
.codicon-hubot:before { content: '\eb08'; }
.codicon-inbox:before { content: '\eb09'; }
.codicon-issue-closed:before { content: '\eba4'; }
.codicon-issue-reopened:before { content: '\eb0b'; }
.codicon-issues:before { content: '\eb0c'; }
.codicon-italic:before { content: '\eb0d'; }
.codicon-jersey:before { content: '\eb0e'; }
.codicon-json:before { content: '\eb0f'; }
.codicon-bracket:before { content: '\eb0f'; }
.codicon-kebab-vertical:before { content: '\eb10'; }
.codicon-key:before { content: '\eb11'; }
.codicon-law:before { content: '\eb12'; }
.codicon-lightbulb-autofix:before { content: '\eb13'; }
.codicon-link-external:before { content: '\eb14'; }
.codicon-link:before { content: '\eb15'; }
.codicon-list-ordered:before { content: '\eb16'; }
.codicon-list-unordered:before { content: '\eb17'; }
.codicon-live-share:before { content: '\eb18'; }
.codicon-loading:before { content: '\eb19'; }
.codicon-location:before { content: '\eb1a'; }
.codicon-mail-read:before { content: '\eb1b'; }
.codicon-mail:before { content: '\eb1c'; }
.codicon-markdown:before { content: '\eb1d'; }
.codicon-megaphone:before { content: '\eb1e'; }
.codicon-mention:before { content: '\eb1f'; }
.codicon-milestone:before { content: '\eb20'; }
.codicon-mortar-board:before { content: '\eb21'; }
.codicon-move:before { content: '\eb22'; }
.codicon-multiple-windows:before { content: '\eb23'; }
.codicon-mute:before { content: '\eb24'; }
.codicon-no-newline:before { content: '\eb25'; }
.codicon-note:before { content: '\eb26'; }
.codicon-octoface:before { content: '\eb27'; }
.codicon-open-preview:before { content: '\eb28'; }
.codicon-package:before { content: '\eb29'; }
.codicon-paintcan:before { content: '\eb2a'; }
.codicon-pin:before { content: '\eb2b'; }
.codicon-play:before { content: '\eb2c'; }
.codicon-run:before { content: '\eb2c'; }
.codicon-plug:before { content: '\eb2d'; }
.codicon-preserve-case:before { content: '\eb2e'; }
.codicon-preview:before { content: '\eb2f'; }
.codicon-project:before { content: '\eb30'; }
.codicon-pulse:before { content: '\eb31'; }
.codicon-question:before { content: '\eb32'; }
.codicon-quote:before { content: '\eb33'; }
.codicon-radio-tower:before { content: '\eb34'; }
.codicon-reactions:before { content: '\eb35'; }
.codicon-references:before { content: '\eb36'; }
.codicon-refresh:before { content: '\eb37'; }
.codicon-regex:before { content: '\eb38'; }
.codicon-remote-explorer:before { content: '\eb39'; }
.codicon-remote:before { content: '\eb3a'; }
.codicon-remove:before { content: '\eb3b'; }
.codicon-replace-all:before { content: '\eb3c'; }
.codicon-replace:before { content: '\eb3d'; }
.codicon-repo-clone:before { content: '\eb3e'; }
.codicon-repo-force-push:before { content: '\eb3f'; }
.codicon-repo-pull:before { content: '\eb40'; }
.codicon-repo-push:before { content: '\eb41'; }
.codicon-report:before { content: '\eb42'; }
.codicon-request-changes:before { content: '\eb43'; }
.codicon-rocket:before { content: '\eb44'; }
.codicon-root-folder-opened:before { content: '\eb45'; }
.codicon-root-folder:before { content: '\eb46'; }
.codicon-rss:before { content: '\eb47'; }
.codicon-ruby:before { content: '\eb48'; }
.codicon-save-all:before { content: '\eb49'; }
.codicon-save-as:before { content: '\eb4a'; }
.codicon-save:before { content: '\eb4b'; }
.codicon-screen-full:before { content: '\eb4c'; }
.codicon-screen-normal:before { content: '\eb4d'; }
.codicon-search-stop:before { content: '\eb4e'; }
.codicon-server:before { content: '\eb50'; }
.codicon-settings-gear:before { content: '\eb51'; }
.codicon-settings:before { content: '\eb52'; }
.codicon-shield:before { content: '\eb53'; }
.codicon-smiley:before { content: '\eb54'; }
.codicon-sort-precedence:before { content: '\eb55'; }
.codicon-split-horizontal:before { content: '\eb56'; }
.codicon-split-vertical:before { content: '\eb57'; }
.codicon-squirrel:before { content: '\eb58'; }
.codicon-star-full:before { content: '\eb59'; }
.codicon-star-half:before { content: '\eb5a'; }
.codicon-symbol-class:before { content: '\eb5b'; }
.codicon-symbol-color:before { content: '\eb5c'; }
.codicon-symbol-customcolor:before { content: '\eb5c'; }
.codicon-symbol-constant:before { content: '\eb5d'; }
.codicon-symbol-enum-member:before { content: '\eb5e'; }
.codicon-symbol-field:before { content: '\eb5f'; }
.codicon-symbol-file:before { content: '\eb60'; }
.codicon-symbol-interface:before { content: '\eb61'; }
.codicon-symbol-keyword:before { content: '\eb62'; }
.codicon-symbol-misc:before { content: '\eb63'; }
.codicon-symbol-operator:before { content: '\eb64'; }
.codicon-symbol-property:before { content: '\eb65'; }
.codicon-wrench:before { content: '\eb65'; }
.codicon-wrench-subaction:before { content: '\eb65'; }
.codicon-symbol-snippet:before { content: '\eb66'; }
.codicon-tasklist:before { content: '\eb67'; }
.codicon-telescope:before { content: '\eb68'; }
.codicon-text-size:before { content: '\eb69'; }
.codicon-three-bars:before { content: '\eb6a'; }
.codicon-thumbsdown:before { content: '\eb6b'; }
.codicon-thumbsup:before { content: '\eb6c'; }
.codicon-tools:before { content: '\eb6d'; }
.codicon-triangle-down:before { content: '\eb6e'; }
.codicon-triangle-left:before { content: '\eb6f'; }
.codicon-triangle-right:before { content: '\eb70'; }
.codicon-triangle-up:before { content: '\eb71'; }
.codicon-twitter:before { content: '\eb72'; }
.codicon-unfold:before { content: '\eb73'; }
.codicon-unlock:before { content: '\eb74'; }
.codicon-unmute:before { content: '\eb75'; }
.codicon-unverified:before { content: '\eb76'; }
.codicon-verified:before { content: '\eb77'; }
.codicon-versions:before { content: '\eb78'; }
.codicon-vm-active:before { content: '\eb79'; }
.codicon-vm-outline:before { content: '\eb7a'; }
.codicon-vm-running:before { content: '\eb7b'; }
.codicon-watch:before { content: '\eb7c'; }
.codicon-whitespace:before { content: '\eb7d'; }
.codicon-whole-word:before { content: '\eb7e'; }
.codicon-window:before { content: '\eb7f'; }
.codicon-word-wrap:before { content: '\eb80'; }
.codicon-zoom-in:before { content: '\eb81'; }
.codicon-zoom-out:before { content: '\eb82'; }
.codicon-list-filter:before { content: '\eb83'; }
.codicon-list-flat:before { content: '\eb84'; }
.codicon-list-selection:before { content: '\eb85'; }
.codicon-selection:before { content: '\eb85'; }
.codicon-list-tree:before { content: '\eb86'; }
.codicon-debug-breakpoint-function-unverified:before { content: '\eb87'; }
.codicon-debug-breakpoint-function:before { content: '\eb88'; }
.codicon-debug-breakpoint-function-disabled:before { content: '\eb88'; }
.codicon-debug-stackframe-active:before { content: '\eb89'; }
.codicon-circle-small-filled:before { content: '\eb8a'; }
.codicon-debug-stackframe-dot:before { content: '\eb8a'; }
.codicon-debug-stackframe:before { content: '\eb8b'; }
.codicon-debug-stackframe-focused:before { content: '\eb8b'; }
.codicon-debug-breakpoint-unsupported:before { content: '\eb8c'; }
.codicon-symbol-string:before { content: '\eb8d'; }
.codicon-debug-reverse-continue:before { content: '\eb8e'; }
.codicon-debug-step-back:before { content: '\eb8f'; }
.codicon-debug-restart-frame:before { content: '\eb90'; }
.codicon-call-incoming:before { content: '\eb92'; }
.codicon-call-outgoing:before { content: '\eb93'; }
.codicon-menu:before { content: '\eb94'; }
.codicon-expand-all:before { content: '\eb95'; }
.codicon-feedback:before { content: '\eb96'; }
.codicon-group-by-ref-type:before { content: '\eb97'; }
.codicon-ungroup-by-ref-type:before { content: '\eb98'; }
.codicon-account:before { content: '\eb99'; }
.codicon-bell-dot:before { content: '\eb9a'; }
.codicon-debug-console:before { content: '\eb9b'; }
.codicon-library:before { content: '\eb9c'; }
.codicon-output:before { content: '\eb9d'; }
.codicon-run-all:before { content: '\eb9e'; }
.codicon-sync-ignored:before { content: '\eb9f'; }
.codicon-pinned:before { content: '\eba0'; }
.codicon-github-inverted:before { content: '\eba1'; }
.codicon-debug-alt:before { content: '\eb91'; }
.codicon-server-process:before { content: '\eba2'; }
.codicon-server-environment:before { content: '\eba3'; }
.codicon-pass:before { content: '\eba4'; }
.codicon-stop-circle:before { content: '\eba5'; }
.codicon-play-circle:before { content: '\eba6'; }
.codicon-record:before { content: '\eba7'; }
.codicon-debug-alt-small:before { content: '\eba8'; }
.codicon-vm-connect:before { content: '\eba9'; }
.codicon-cloud:before { content: '\ebaa'; }
.codicon-merge:before { content: '\ebab'; }
.codicon-export:before { content: '\ebac'; }
.codicon-graph-left:before { content: '\ebad'; }
.codicon-magnet:before { content: '\ebae'; }
.codicon-notebook:before { content: '\ebaf'; }
.codicon-redo:before { content: '\ebb0'; }
.codicon-check-all:before { content: '\ebb1'; }
.codicon-pinned-dirty:before { content: '\ebb2'; }
.codicon-pass-filled:before { content: '\ebb3'; }
.codicon-circle-large-filled:before { content: '\ebb4'; }
.codicon-circle-large:before { content: '\ebb5'; }
.codicon-circle-large-outline:before { content: '\ebb5'; }
.codicon-combine:before { content: '\ebb6'; }
.codicon-gather:before { content: '\ebb6'; }
.codicon-table:before { content: '\ebb7'; }
.codicon-variable-group:before { content: '\ebb8'; }
.codicon-type-hierarchy:before { content: '\ebb9'; }
.codicon-type-hierarchy-sub:before { content: '\ebba'; }
.codicon-type-hierarchy-super:before { content: '\ebbb'; }
.codicon-git-pull-request-create:before { content: '\ebbc'; }
.codicon-run-above:before { content: '\ebbd'; }
.codicon-run-below:before { content: '\ebbe'; }
.codicon-notebook-template:before { content: '\ebbf'; }
.codicon-debug-rerun:before { content: '\ebc0'; }
.codicon-workspace-trusted:before { content: '\ebc1'; }
.codicon-workspace-untrusted:before { content: '\ebc2'; }
.codicon-workspace-unspecified:before { content: '\ebc3'; }
.codicon-terminal-cmd:before { content: '\ebc4'; }
.codicon-terminal-debian:before { content: '\ebc5'; }
.codicon-terminal-linux:before { content: '\ebc6'; }
.codicon-terminal-powershell:before { content: '\ebc7'; }
.codicon-terminal-tmux:before { content: '\ebc8'; }
.codicon-terminal-ubuntu:before { content: '\ebc9'; }
.codicon-terminal-bash:before { content: '\ebca'; }
.codicon-arrow-swap:before { content: '\ebcb'; }
.codicon-copy:before { content: '\ebcc'; }
.codicon-person-add:before { content: '\ebcd'; }
.codicon-filter-filled:before { content: '\ebce'; }
.codicon-wand:before { content: '\ebcf'; }
.codicon-debug-line-by-line:before { content: '\ebd0'; }
.codicon-inspect:before { content: '\ebd1'; }
.codicon-layers:before { content: '\ebd2'; }
.codicon-layers-dot:before { content: '\ebd3'; }
.codicon-layers-active:before { content: '\ebd4'; }
.codicon-compass:before { content: '\ebd5'; }
.codicon-compass-dot:before { content: '\ebd6'; }
.codicon-compass-active:before { content: '\ebd7'; }
.codicon-azure:before { content: '\ebd8'; }
.codicon-issue-draft:before { content: '\ebd9'; }
.codicon-git-pull-request-closed:before { content: '\ebda'; }
.codicon-git-pull-request-draft:before { content: '\ebdb'; }
.codicon-debug-all:before { content: '\ebdc'; }
.codicon-debug-coverage:before { content: '\ebdd'; }
.codicon-run-errors:before { content: '\ebde'; }
.codicon-folder-library:before { content: '\ebdf'; }
.codicon-debug-continue-small:before { content: '\ebe0'; }
.codicon-beaker-stop:before { content: '\ebe1'; }
.codicon-graph-line:before { content: '\ebe2'; }
.codicon-graph-scatter:before { content: '\ebe3'; }
.codicon-pie-chart:before { content: '\ebe4'; }
.codicon-bracket-dot:before { content: '\ebe5'; }
.codicon-bracket-error:before { content: '\ebe6'; }
.codicon-lock-small:before { content: '\ebe7'; }
.codicon-azure-devops:before { content: '\ebe8'; }
.codicon-verified-filled:before { content: '\ebe9'; }
.codicon-newline:before { content: '\ebea'; }
.codicon-layout:before { content: '\ebeb'; }
.codicon-layout-activitybar-left:before { content: '\ebec'; }
.codicon-layout-activitybar-right:before { content: '\ebed'; }
.codicon-layout-panel-left:before { content: '\ebee'; }
.codicon-layout-panel-center:before { content: '\ebef'; }
.codicon-layout-panel-justify:before { content: '\ebf0'; }
.codicon-layout-panel-right:before { content: '\ebf1'; }
.codicon-layout-panel:before { content: '\ebf2'; }
.codicon-layout-sidebar-left:before { content: '\ebf3'; }
.codicon-layout-sidebar-right:before { content: '\ebf4'; }
.codicon-layout-statusbar:before { content: '\ebf5'; }
.codicon-layout-menubar:before { content: '\ebf6'; }
.codicon-layout-centered:before { content: '\ebf7'; }
.codicon-layout-sidebar-right-off:before { content: '\ec00'; }
.codicon-layout-panel-off:before { content: '\ec01'; }
.codicon-layout-sidebar-left-off:before { content: '\ec02'; }
.codicon-target:before { content: '\ebf8'; }
.codicon-indent:before { content: '\ebf9'; }
.codicon-record-small:before { content: '\ebfa'; }
.codicon-error-small:before { content: '\ebfb'; }
.codicon-arrow-circle-down:before { content: '\ebfc'; }
.codicon-arrow-circle-left:before { content: '\ebfd'; }
.codicon-arrow-circle-right:before { content: '\ebfe'; }
.codicon-arrow-circle-up:before { content: '\ebff'; }
.codicon-heart-filled:before { content: '\ec04'; }
.codicon-map:before { content: '\ec05'; }
.codicon-map-filled:before { content: '\ec06'; }
.codicon-circle-small:before { content: '\ec07'; }
.codicon-bell-slash:before { content: '\ec08'; }
.codicon-bell-slash-dot:before { content: '\ec09'; }
.codicon-comment-unresolved:before { content: '\ec0a'; }
.codicon-git-pull-request-go-to-changes:before { content: '\ec0b'; }
.codicon-git-pull-request-new-changes:before { content: '\ec0c'; }
.codicon-search-fuzzy:before { content: '\ec0d'; }
.codicon-comment-draft:before { content: '\ec0e'; }
.codicon-send:before { content: '\ec0f'; }
.codicon-sparkle:before { content: '\ec10'; }
.codicon-insert:before { content: '\ec11'; }
.codicon-dialog-error:before { content: '\ea87'; }
.codicon-dialog-warning:before { content: '\ea6c'; }
.codicon-dialog-info:before { content: '\ea74'; }
.codicon-dialog-close:before { content: '\ea76'; }
.codicon-tree-item-expanded:before { content: '\eab4'; }
.codicon-tree-filter-on-type-on:before { content: '\eb83'; }
.codicon-tree-filter-on-type-off:before { content: '\eb85'; }
.codicon-tree-filter-clear:before { content: '\ea76'; }
.codicon-tree-item-loading:before { content: '\eb19'; }
.codicon-menu-selection:before { content: '\eab2'; }
.codicon-menu-submenu:before { content: '\eab6'; }
.codicon-menubar-more:before { content: '\ea7c'; }
.codicon-scrollbar-button-left:before { content: '\eb6f'; }
.codicon-scrollbar-button-right:before { content: '\eb70'; }
.codicon-scrollbar-button-up:before { content: '\eb71'; }
.codicon-scrollbar-button-down:before { content: '\eb6e'; }
.codicon-toolbar-more:before { content: '\ea7c'; }
.codicon-quick-input-back:before { content: '\ea9b'; }
.codicon-widget-close:before { content: '\ea76'; }
.codicon-goto-previous-location:before { content: '\eaa1'; }
.codicon-goto-next-location:before { content: '\ea9a'; }
.codicon-diff-review-insert:before { content: '\ea60'; }
.codicon-diff-review-remove:before { content: '\eb3b'; }
.codicon-diff-review-close:before { content: '\ea76'; }
.codicon-parameter-hints-next:before { content: '\eab4'; }
.codicon-parameter-hints-previous:before { content: '\eab7'; }
.codicon-suggest-more-info:before { content: '\eab6'; }
.codicon-inline-suggestion-hints-next:before { content: '\eab6'; }
.codicon-inline-suggestion-hints-previous:before { content: '\eab5'; }
.codicon-diff-insert:before { content: '\ea60'; }
.codicon-diff-remove:before { content: '\eb3b'; }
.codicon-find-selection:before { content: '\eb85'; }
.codicon-find-collapsed:before { content: '\eab6'; }
.codicon-find-expanded:before { content: '\eab4'; }
.codicon-find-replace:before { content: '\eb3d'; }
.codicon-find-replace-all:before { content: '\eb3c'; }
.codicon-find-previous-match:before { content: '\eaa1'; }
.codicon-find-next-match:before { content: '\ea9a'; }
.codicon-folding-expanded:before { content: '\eab4'; }
.codicon-folding-collapsed:before { content: '\eab6'; }
.codicon-folding-manual-collapsed:before { content: '\eab6'; }
.codicon-folding-manual-expanded:before { content: '\eab4'; }
.codicon-marker-navigation-next:before { content: '\ea9a'; }
.codicon-marker-navigation-previous:before { content: '\eaa1'; }
.codicon-extensions-warning-message:before { content: '\ea6c'; }
.monaco-editor .inputarea.ime-input { background-color: #ffffff; }
.monaco-editor .view-overlays .current-line { border: 2px solid #eeeeee; }
.monaco-editor .margin-view-overlays .current-line-margin { border: 2px solid #eeeeee; }
.monaco-editor .bracket-indent-guide.lvl-0 { --guide-color: rgba(4, 49, 250, 0.3); --guide-color-active: #0431fa; }
.monaco-editor .bracket-indent-guide.lvl-1 { --guide-color: rgba(49, 147, 49, 0.3); --guide-color-active: #319331; }
.monaco-editor .bracket-indent-guide.lvl-2 { --guide-color: rgba(123, 56, 20, 0.3); --guide-color-active: #7b3814; }
.monaco-editor .bracket-indent-guide.lvl-3 { --guide-color: rgba(4, 49, 250, 0.3); --guide-color-active: #0431fa; }
.monaco-editor .bracket-indent-guide.lvl-4 { --guide-color: rgba(49, 147, 49, 0.3); --guide-color-active: #319331; }
.monaco-editor .bracket-indent-guide.lvl-5 { --guide-color: rgba(123, 56, 20, 0.3); --guide-color-active: #7b3814; }
.monaco-editor .bracket-indent-guide.lvl-6 { --guide-color: rgba(4, 49, 250, 0.3); --guide-color-active: #0431fa; }
.monaco-editor .bracket-indent-guide.lvl-7 { --guide-color: rgba(49, 147, 49, 0.3); --guide-color-active: #319331; }
.monaco-editor .bracket-indent-guide.lvl-8 { --guide-color: rgba(123, 56, 20, 0.3); --guide-color-active: #7b3814; }
.monaco-editor .bracket-indent-guide.lvl-9 { --guide-color: rgba(4, 49, 250, 0.3); --guide-color-active: #0431fa; }
.monaco-editor .bracket-indent-guide.lvl-10 { --guide-color: rgba(49, 147, 49, 0.3); --guide-color-active: #319331; }
.monaco-editor .bracket-indent-guide.lvl-11 { --guide-color: rgba(123, 56, 20, 0.3); --guide-color-active: #7b3814; }
.monaco-editor .bracket-indent-guide.lvl-12 { --guide-color: rgba(4, 49, 250, 0.3); --guide-color-active: #0431fa; }
.monaco-editor .bracket-indent-guide.lvl-13 { --guide-color: rgba(49, 147, 49, 0.3); --guide-color-active: #319331; }
.monaco-editor .bracket-indent-guide.lvl-14 { --guide-color: rgba(123, 56, 20, 0.3); --guide-color-active: #7b3814; }
.monaco-editor .bracket-indent-guide.lvl-15 { --guide-color: rgba(4, 49, 250, 0.3); --guide-color-active: #0431fa; }
.monaco-editor .bracket-indent-guide.lvl-16 { --guide-color: rgba(49, 147, 49, 0.3); --guide-color-active: #319331; }
.monaco-editor .bracket-indent-guide.lvl-17 { --guide-color: rgba(123, 56, 20, 0.3); --guide-color-active: #7b3814; }
.monaco-editor .bracket-indent-guide.lvl-18 { --guide-color: rgba(4, 49, 250, 0.3); --guide-color-active: #0431fa; }
.monaco-editor .bracket-indent-guide.lvl-19 { --guide-color: rgba(49, 147, 49, 0.3); --guide-color-active: #319331; }
.monaco-editor .bracket-indent-guide.lvl-20 { --guide-color: rgba(123, 56, 20, 0.3); --guide-color-active: #7b3814; }
.monaco-editor .bracket-indent-guide.lvl-21 { --guide-color: rgba(4, 49, 250, 0.3); --guide-color-active: #0431fa; }
.monaco-editor .bracket-indent-guide.lvl-22 { --guide-color: rgba(49, 147, 49, 0.3); --guide-color-active: #319331; }
.monaco-editor .bracket-indent-guide.lvl-23 { --guide-color: rgba(123, 56, 20, 0.3); --guide-color-active: #7b3814; }
.monaco-editor .bracket-indent-guide.lvl-24 { --guide-color: rgba(4, 49, 250, 0.3); --guide-color-active: #0431fa; }
.monaco-editor .bracket-indent-guide.lvl-25 { --guide-color: rgba(49, 147, 49, 0.3); --guide-color-active: #319331; }
.monaco-editor .bracket-indent-guide.lvl-26 { --guide-color: rgba(123, 56, 20, 0.3); --guide-color-active: #7b3814; }
.monaco-editor .bracket-indent-guide.lvl-27 { --guide-color: rgba(4, 49, 250, 0.3); --guide-color-active: #0431fa; }
.monaco-editor .bracket-indent-guide.lvl-28 { --guide-color: rgba(49, 147, 49, 0.3); --guide-color-active: #319331; }
.monaco-editor .bracket-indent-guide.lvl-29 { --guide-color: rgba(123, 56, 20, 0.3); --guide-color-active: #7b3814; }
.monaco-editor .vertical { box-shadow: 1px 0 0 0 var(--guide-color) inset; }
.monaco-editor .horizontal-top { border-top: 1px solid var(--guide-color); }
.monaco-editor .horizontal-bottom { border-bottom: 1px solid var(--guide-color); }
.monaco-editor .vertical.indent-active { box-shadow: 1px 0 0 0 var(--guide-color-active) inset; }
.monaco-editor .horizontal-top.indent-active { border-top: 1px solid var(--guide-color-active); }
.monaco-editor .horizontal-bottom.indent-active { border-bottom: 1px solid var(--guide-color-active); }
.monaco-editor .line-numbers.dimmed-line-number { color: rgba(153, 153, 153, 0.4); }
.monaco-editor .cursors-layer .cursor { background-color: #000000; border-color: #000000; color: #ffffff; }
.monaco-editor .unexpected-closing-bracket { color: rgba(255, 18, 18, 0.8); }
.monaco-editor .bracket-highlighting-0 { color: #0431fa; }
.monaco-editor .bracket-highlighting-1 { color: #319331; }
.monaco-editor .bracket-highlighting-2 { color: #7b3814; }
.monaco-editor .bracket-highlighting-3 { color: #0431fa; }
.monaco-editor .bracket-highlighting-4 { color: #319331; }
.monaco-editor .bracket-highlighting-5 { color: #7b3814; }
.monaco-editor .bracket-highlighting-6 { color: #0431fa; }
.monaco-editor .bracket-highlighting-7 { color: #319331; }
.monaco-editor .bracket-highlighting-8 { color: #7b3814; }
.monaco-editor .bracket-highlighting-9 { color: #0431fa; }
.monaco-editor .bracket-highlighting-10 { color: #319331; }
.monaco-editor .bracket-highlighting-11 { color: #7b3814; }
.monaco-editor .bracket-highlighting-12 { color: #0431fa; }
.monaco-editor .bracket-highlighting-13 { color: #319331; }
.monaco-editor .bracket-highlighting-14 { color: #7b3814; }
.monaco-editor .bracket-highlighting-15 { color: #0431fa; }
.monaco-editor .bracket-highlighting-16 { color: #319331; }
.monaco-editor .bracket-highlighting-17 { color: #7b3814; }
.monaco-editor .bracket-highlighting-18 { color: #0431fa; }
.monaco-editor .bracket-highlighting-19 { color: #319331; }
.monaco-editor .bracket-highlighting-20 { color: #7b3814; }
.monaco-editor .bracket-highlighting-21 { color: #0431fa; }
.monaco-editor .bracket-highlighting-22 { color: #319331; }
.monaco-editor .bracket-highlighting-23 { color: #7b3814; }
.monaco-editor .bracket-highlighting-24 { color: #0431fa; }
.monaco-editor .bracket-highlighting-25 { color: #319331; }
.monaco-editor .bracket-highlighting-26 { color: #7b3814; }
.monaco-editor .bracket-highlighting-27 { color: #0431fa; }
.monaco-editor .bracket-highlighting-28 { color: #319331; }
.monaco-editor .bracket-highlighting-29 { color: #7b3814; }
.monaco-editor .squiggly-error { background: url("data:image/svg+xml,%3Csvg%20xmlns%3D'http%3A%2F%2Fwww.w3.org%2F2000%2Fsvg'%20viewBox%3D'0%200%206%203'%20enable-background%3D'new%200%200%206%203'%20height%3D'3'%20width%3D'6'%3E%3Cg%20fill%3D'%23e51400'%3E%3Cpolygon%20points%3D'5.5%2C0%202.5%2C3%201.1%2C3%204.1%2C0'%2F%3E%3Cpolygon%20points%3D'4%2C0%206%2C2%206%2C0.6%205.4%2C0'%2F%3E%3Cpolygon%20points%3D'0%2C2%201%2C3%202.4%2C3%200%2C0.6'%2F%3E%3C%2Fg%3E%3C%2Fsvg%3E") repeat-x bottom left; }
.monaco-editor .squiggly-warning { background: url("data:image/svg+xml,%3Csvg%20xmlns%3D'http%3A%2F%2Fwww.w3.org%2F2000%2Fsvg'%20viewBox%3D'0%200%206%203'%20enable-background%3D'new%200%200%206%203'%20height%3D'3'%20width%3D'6'%3E%3Cg%20fill%3D'%23bf8803'%3E%3Cpolygon%20points%3D'5.5%2C0%202.5%2C3%201.1%2C3%204.1%2C0'%2F%3E%3Cpolygon%20points%3D'4%2C0%206%2C2%206%2C0.6%205.4%2C0'%2F%3E%3Cpolygon%20points%3D'0%2C2%201%2C3%202.4%2C3%200%2C0.6'%2F%3E%3C%2Fg%3E%3C%2Fsvg%3E") repeat-x bottom left; }
.monaco-editor .squiggly-info { background: url("data:image/svg+xml,%3Csvg%20xmlns%3D'http%3A%2F%2Fwww.w3.org%2F2000%2Fsvg'%20viewBox%3D'0%200%206%203'%20enable-background%3D'new%200%200%206%203'%20height%3D'3'%20width%3D'6'%3E%3Cg%20fill%3D'%231a85ff'%3E%3Cpolygon%20points%3D'5.5%2C0%202.5%2C3%201.1%2C3%204.1%2C0'%2F%3E%3Cpolygon%20points%3D'4%2C0%206%2C2%206%2C0.6%205.4%2C0'%2F%3E%3Cpolygon%20points%3D'0%2C2%201%2C3%202.4%2C3%200%2C0.6'%2F%3E%3C%2Fg%3E%3C%2Fsvg%3E") repeat-x bottom left; }
.monaco-editor .squiggly-hint { background: url("data:image/svg+xml,%3Csvg%20xmlns%3D%22http%3A%2F%2Fwww.w3.org%2F2000%2Fsvg%22%20height%3D%223%22%20width%3D%2212%22%3E%3Cg%20fill%3D%22%236c6c6c%22%3E%3Ccircle%20cx%3D%221%22%20cy%3D%221%22%20r%3D%221%22%2F%3E%3Ccircle%20cx%3D%225%22%20cy%3D%221%22%20r%3D%221%22%2F%3E%3Ccircle%20cx%3D%229%22%20cy%3D%221%22%20r%3D%221%22%2F%3E%3C%2Fg%3E%3C%2Fsvg%3E") no-repeat bottom left; }
.monaco-editor.showUnused .squiggly-inline-unnecessary { opacity: 0.467; }
.monaco-editor .selectionHighlight { background-color: rgba(173, 214, 255, 0.15); }

	.monaco-editor .diagonal-fill {
		background-image: linear-gradient(
			-45deg,
			rgba(34, 34, 34, 0.2) 12.5%,
			#0000 12.5%, #0000 50%,
			rgba(34, 34, 34, 0.2) 50%, rgba(34, 34, 34, 0.2) 62.5%,
			#0000 62.5%, #0000 100%
		);
		background-size: 8px 8px;
	}
	
.monaco-editor .findMatch { background-color: rgba(234, 92, 0, 0.33); }
.monaco-editor .currentFindMatch { background-color: #a8ac94; }
.monaco-editor .findScope { background-color: rgba(180, 180, 180, 0.3); }
.monaco-editor .find-widget { background-color: #f3f3f3; }
.monaco-editor .find-widget { box-shadow: 0 0 8px 2px rgba(0, 0, 0, 0.16); }
.monaco-editor .find-widget { color: #616161; }
.monaco-editor .find-widget.no-results .matchesCount { color: #a1260d; }
.monaco-editor .find-widget .monaco-sash { background-color: #c8c8c8; }

		.monaco-editor .find-widget .button:not(.disabled):hover,
		.monaco-editor .find-widget .codicon-find-selection:hover {
			background-color: rgba(184, 184, 184, 0.31) !important;
		}
	
.monaco-editor .find-widget .monaco-inputbox.synthetic-focus { outline-color: #0090f1; }
.monaco-editor .monaco-hover .hover-row:not(:first-child):not(:empty) { border-top: 1px solid rgba(200, 200, 200, 0.5); }
.monaco-editor .monaco-hover hr { border-top: 1px solid rgba(200, 200, 200, 0.5); }
.monaco-editor .monaco-hover hr { border-bottom: 0px solid rgba(200, 200, 200, 0.5); }
.monaco-editor { --vscode-foreground: #616161;
--vscode-disabledForeground: rgba(97, 97, 97, 0.5);
--vscode-errorForeground: #a1260d;
--vscode-descriptionForeground: #717171;
--vscode-icon-foreground: #424242;
--vscode-focusBorder: #0090f1;
--vscode-textSeparator-foreground: rgba(0, 0, 0, 0.18);
--vscode-textLink-foreground: #006ab1;
--vscode-textLink-activeForeground: #006ab1;
--vscode-textPreformat-foreground: #a31515;
--vscode-textBlockQuote-background: rgba(127, 127, 127, 0.1);
--vscode-textBlockQuote-border: rgba(0, 122, 204, 0.5);
--vscode-textCodeBlock-background: rgba(220, 220, 220, 0.4);
--vscode-widget-shadow: rgba(0, 0, 0, 0.16);
--vscode-input-background: #ffffff;
--vscode-input-foreground: #616161;
--vscode-inputOption-activeBorder: #007acc;
--vscode-inputOption-hoverBackground: rgba(184, 184, 184, 0.31);
--vscode-inputOption-activeBackground: rgba(0, 144, 241, 0.2);
--vscode-inputOption-activeForeground: #000000;
--vscode-input-placeholderForeground: rgba(97, 97, 97, 0.5);
--vscode-inputValidation-infoBackground: #d6ecf2;
--vscode-inputValidation-infoBorder: #007acc;
--vscode-inputValidation-warningBackground: #f6f5d2;
--vscode-inputValidation-warningBorder: #b89500;
--vscode-inputValidation-errorBackground: #f2dede;
--vscode-inputValidation-errorBorder: #be1100;
--vscode-dropdown-background: #ffffff;
--vscode-dropdown-foreground: #616161;
--vscode-dropdown-border: #cecece;
--vscode-button-foreground: #ffffff;
--vscode-button-separator: rgba(255, 255, 255, 0.4);
--vscode-button-background: #007acc;
--vscode-button-hoverBackground: #0062a3;
--vscode-button-secondaryForeground: #ffffff;
--vscode-button-secondaryBackground: #5f6a79;
--vscode-button-secondaryHoverBackground: #4c5561;
--vscode-badge-background: #c4c4c4;
--vscode-badge-foreground: #333333;
--vscode-scrollbar-shadow: #dddddd;
--vscode-scrollbarSlider-background: rgba(100, 100, 100, 0.4);
--vscode-scrollbarSlider-hoverBackground: rgba(100, 100, 100, 0.7);
--vscode-scrollbarSlider-activeBackground: rgba(0, 0, 0, 0.6);
--vscode-progressBar-background: #0e70c0;
--vscode-editorError-foreground: #e51400;
--vscode-editorWarning-foreground: #bf8803;
--vscode-editorInfo-foreground: #1a85ff;
--vscode-editorHint-foreground: #6c6c6c;
--vscode-sash-hoverBorder: #0090f1;
--vscode-editor-background: #ffffff;
--vscode-editor-foreground: #000000;
--vscode-editorStickyScroll-background: #ffffff;
--vscode-editorStickyScrollHover-background: #f0f0f0;
--vscode-editorWidget-background: #f3f3f3;
--vscode-editorWidget-foreground: #616161;
--vscode-editorWidget-border: #c8c8c8;
--vscode-quickInput-background: #f3f3f3;
--vscode-quickInput-foreground: #616161;
--vscode-quickInputTitle-background: rgba(0, 0, 0, 0.06);
--vscode-pickerGroup-foreground: #0066bf;
--vscode-pickerGroup-border: #cccedb;
--vscode-keybindingLabel-background: rgba(221, 221, 221, 0.4);
--vscode-keybindingLabel-foreground: #555555;
--vscode-keybindingLabel-border: rgba(204, 204, 204, 0.4);
--vscode-keybindingLabel-bottomBorder: rgba(187, 187, 187, 0.4);
--vscode-editor-selectionBackground: #add6ff;
--vscode-editor-inactiveSelectionBackground: #e5ebf1;
--vscode-editor-selectionHighlightBackground: rgba(173, 214, 255, 0.3);
--vscode-editor-findMatchBackground: #a8ac94;
--vscode-editor-findMatchHighlightBackground: rgba(234, 92, 0, 0.33);
--vscode-editor-findRangeHighlightBackground: rgba(180, 180, 180, 0.3);
--vscode-searchEditor-findMatchBackground: rgba(234, 92, 0, 0.22);
--vscode-search-resultsInfoForeground: #616161;
--vscode-editor-hoverHighlightBackground: rgba(173, 214, 255, 0.15);
--vscode-editorHoverWidget-background: #f3f3f3;
--vscode-editorHoverWidget-foreground: #616161;
--vscode-editorHoverWidget-border: #c8c8c8;
--vscode-editorHoverWidget-statusBarBackground: #e7e7e7;
--vscode-editorLink-activeForeground: #0000ff;
--vscode-editorInlayHint-foreground: #616161;
--vscode-editorInlayHint-background: rgba(196, 196, 196, 0.3);
--vscode-editorInlayHint-typeForeground: #616161;
--vscode-editorInlayHint-typeBackground: rgba(196, 196, 196, 0.3);
--vscode-editorInlayHint-parameterForeground: #616161;
--vscode-editorInlayHint-parameterBackground: rgba(196, 196, 196, 0.3);
--vscode-editorLightBulb-foreground: #ddb100;
--vscode-editorLightBulbAutoFix-foreground: #007acc;
--vscode-diffEditor-insertedTextBackground: #aceebb;
--vscode-diffEditor-removedTextBackground: #ffcecb;
--vscode-diffEditor-insertedLineBackground: #dafbe1;
--vscode-diffEditor-removedLineBackground: #ffebe9;
--vscode-diffEditor-diagonalFill: rgba(34, 34, 34, 0.2);
--vscode-diffEditor-unchangedRegionBackground: #e4e4e4;
--vscode-diffEditor-unchangedRegionForeground: #4d4c4c;
--vscode-diffEditor-unchangedCodeBackground: rgba(184, 184, 184, 0.16);
--vscode-list-focusOutline: #0090f1;
--vscode-list-activeSelectionBackground: #d6ebff;
--vscode-list-activeSelectionForeground: #000000;
--vscode-list-inactiveSelectionBackground: #e4e6f1;
--vscode-list-hoverBackground: #f0f0f0;
--vscode-list-dropBackground: #d6ebff;
--vscode-list-highlightForeground: #0066bf;
--vscode-list-focusHighlightForeground: #0066bf;
--vscode-list-invalidItemForeground: #b89500;
--vscode-list-errorForeground: #b01011;
--vscode-list-warningForeground: #855f00;
--vscode-listFilterWidget-background: #f3f3f3;
--vscode-listFilterWidget-outline: rgba(0, 0, 0, 0);
--vscode-listFilterWidget-noMatchesOutline: #be1100;
--vscode-listFilterWidget-shadow: rgba(0, 0, 0, 0.16);
--vscode-list-filterMatchBackground: rgba(234, 92, 0, 0.33);
--vscode-tree-indentGuidesStroke: #a9a9a9;
--vscode-tree-inactiveIndentGuidesStroke: rgba(169, 169, 169, 0.4);
--vscode-tree-tableColumnsBorder: rgba(97, 97, 97, 0.13);
--vscode-tree-tableOddRowsBackground: rgba(97, 97, 97, 0.04);
--vscode-list-deemphasizedForeground: #8e8e90;
--vscode-checkbox-background: #ffffff;
--vscode-checkbox-selectBackground: #f3f3f3;
--vscode-checkbox-foreground: #616161;
--vscode-checkbox-border: #cecece;
--vscode-checkbox-selectBorder: #424242;
--vscode-quickInputList-focusForeground: #000000;
--vscode-quickInputList-focusBackground: #d6ebff;
--vscode-menu-foreground: #616161;
--vscode-menu-background: #ffffff;
--vscode-menu-selectionForeground: #000000;
--vscode-menu-selectionBackground: #d6ebff;
--vscode-menu-separatorBackground: #d4d4d4;
--vscode-toolbar-hoverBackground: rgba(184, 184, 184, 0.31);
--vscode-toolbar-activeBackground: rgba(166, 166, 166, 0.31);
--vscode-editor-snippetTabstopHighlightBackground: rgba(10, 50, 100, 0.2);
--vscode-editor-snippetFinalTabstopHighlightBorder: rgba(10, 50, 100, 0.5);
--vscode-breadcrumb-foreground: rgba(97, 97, 97, 0.8);
--vscode-breadcrumb-background: #ffffff;
--vscode-breadcrumb-focusForeground: #4e4e4e;
--vscode-breadcrumb-activeSelectionForeground: #4e4e4e;
--vscode-breadcrumbPicker-background: #f3f3f3;
--vscode-merge-currentHeaderBackground: rgba(64, 200, 174, 0.5);
--vscode-merge-currentContentBackground: rgba(64, 200, 174, 0.2);
--vscode-merge-incomingHeaderBackground: rgba(64, 166, 255, 0.5);
--vscode-merge-incomingContentBackground: rgba(64, 166, 255, 0.2);
--vscode-merge-commonHeaderBackground: rgba(96, 96, 96, 0.4);
--vscode-merge-commonContentBackground: rgba(96, 96, 96, 0.16);
--vscode-editorOverviewRuler-currentContentForeground: rgba(64, 200, 174, 0.5);
--vscode-editorOverviewRuler-incomingContentForeground: rgba(64, 166, 255, 0.5);
--vscode-editorOverviewRuler-commonContentForeground: rgba(96, 96, 96, 0.4);
--vscode-editorOverviewRuler-findMatchForeground: rgba(209, 134, 22, 0.49);
--vscode-editorOverviewRuler-selectionHighlightForeground: rgba(0, 0, 0, 0);
--vscode-minimap-findMatchHighlight: #d18616;
--vscode-minimap-selectionOccurrenceHighlight: #c9c9c9;
--vscode-minimap-selectionHighlight: #add6ff;
--vscode-minimap-errorHighlight: rgba(255, 18, 18, 0.7);
--vscode-minimap-warningHighlight: #bf8803;
--vscode-minimap-foregroundOpacity: #000000;
--vscode-minimapSlider-background: rgba(100, 100, 100, 0.2);
--vscode-minimapSlider-hoverBackground: rgba(100, 100, 100, 0.35);
--vscode-minimapSlider-activeBackground: rgba(0, 0, 0, 0.3);
--vscode-problemsErrorIcon-foreground: #e51400;
--vscode-problemsWarningIcon-foreground: #bf8803;
--vscode-problemsInfoIcon-foreground: #1a85ff;
--vscode-charts-foreground: #616161;
--vscode-charts-lines: rgba(97, 97, 97, 0.5);
--vscode-charts-red: #e51400;
--vscode-charts-blue: #1a85ff;
--vscode-charts-yellow: #bf8803;
--vscode-charts-orange: #d18616;
--vscode-charts-green: #388a34;
--vscode-charts-purple: #652d90;
--vscode-symbolIcon-arrayForeground: #616161;
--vscode-symbolIcon-booleanForeground: #616161;
--vscode-symbolIcon-classForeground: #d67e00;
--vscode-symbolIcon-colorForeground: #616161;
--vscode-symbolIcon-constantForeground: #616161;
--vscode-symbolIcon-constructorForeground: #652d90;
--vscode-symbolIcon-enumeratorForeground: #d67e00;
--vscode-symbolIcon-enumeratorMemberForeground: #007acc;
--vscode-symbolIcon-eventForeground: #d67e00;
--vscode-symbolIcon-fieldForeground: #007acc;
--vscode-symbolIcon-fileForeground: #616161;
--vscode-symbolIcon-folderForeground: #616161;
--vscode-symbolIcon-functionForeground: #652d90;
--vscode-symbolIcon-interfaceForeground: #007acc;
--vscode-symbolIcon-keyForeground: #616161;
--vscode-symbolIcon-keywordForeground: #616161;
--vscode-symbolIcon-methodForeground: #652d90;
--vscode-symbolIcon-moduleForeground: #616161;
--vscode-symbolIcon-namespaceForeground: #616161;
--vscode-symbolIcon-nullForeground: #616161;
--vscode-symbolIcon-numberForeground: #616161;
--vscode-symbolIcon-objectForeground: #616161;
--vscode-symbolIcon-operatorForeground: #616161;
--vscode-symbolIcon-packageForeground: #616161;
--vscode-symbolIcon-propertyForeground: #616161;
--vscode-symbolIcon-referenceForeground: #616161;
--vscode-symbolIcon-snippetForeground: #616161;
--vscode-symbolIcon-stringForeground: #616161;
--vscode-symbolIcon-structForeground: #616161;
--vscode-symbolIcon-textForeground: #616161;
--vscode-symbolIcon-typeParameterForeground: #616161;
--vscode-symbolIcon-unitForeground: #616161;
--vscode-symbolIcon-variableForeground: #007acc;
--vscode-editor-lineHighlightBorder: #eeeeee;
--vscode-editor-rangeHighlightBackground: rgba(253, 255, 0, 0.2);
--vscode-editor-symbolHighlightBackground: rgba(234, 92, 0, 0.33);
--vscode-editorCursor-foreground: #000000;
--vscode-editorWhitespace-foreground: rgba(51, 51, 51, 0.2);
--vscode-editorIndentGuide-background: #d3d3d3;
--vscode-editorIndentGuide-activeBackground: #939393;
--vscode-editorLineNumber-foreground: #999999;
--vscode-editorActiveLineNumber-foreground: #0b216f;
--vscode-editorLineNumber-activeForeground: #0b216f;
--vscode-editorRuler-foreground: #d3d3d3;
--vscode-editorCodeLens-foreground: #919191;
--vscode-editorBracketMatch-background: rgba(0, 100, 0, 0.1);
--vscode-editorBracketMatch-border: #b9b9b9;
--vscode-editorOverviewRuler-border: rgba(127, 127, 127, 0.3);
--vscode-editorGutter-background: #ffffff;
--vscode-editorUnnecessaryCode-opacity: rgba(0, 0, 0, 0.47);
--vscode-editorGhostText-foreground: rgba(0, 0, 0, 0.47);
--vscode-editorOverviewRuler-rangeHighlightForeground: rgba(0, 122, 204, 0.6);
--vscode-editorOverviewRuler-errorForeground: rgba(255, 18, 18, 0.7);
--vscode-editorOverviewRuler-warningForeground: #bf8803;
--vscode-editorOverviewRuler-infoForeground: #1a85ff;
--vscode-editorBracketHighlight-foreground1: #0431fa;
--vscode-editorBracketHighlight-foreground2: #319331;
--vscode-editorBracketHighlight-foreground3: #7b3814;
--vscode-editorBracketHighlight-foreground4: rgba(0, 0, 0, 0);
--vscode-editorBracketHighlight-foreground5: rgba(0, 0, 0, 0);
--vscode-editorBracketHighlight-foreground6: rgba(0, 0, 0, 0);
--vscode-editorBracketHighlight-unexpectedBracket-foreground: rgba(255, 18, 18, 0.8);
--vscode-editorBracketPairGuide-background1: rgba(0, 0, 0, 0);
--vscode-editorBracketPairGuide-background2: rgba(0, 0, 0, 0);
--vscode-editorBracketPairGuide-background3: rgba(0, 0, 0, 0);
--vscode-editorBracketPairGuide-background4: rgba(0, 0, 0, 0);
--vscode-editorBracketPairGuide-background5: rgba(0, 0, 0, 0);
--vscode-editorBracketPairGuide-background6: rgba(0, 0, 0, 0);
--vscode-editorBracketPairGuide-activeBackground1: rgba(0, 0, 0, 0);
--vscode-editorBracketPairGuide-activeBackground2: rgba(0, 0, 0, 0);
--vscode-editorBracketPairGuide-activeBackground3: rgba(0, 0, 0, 0);
--vscode-editorBracketPairGuide-activeBackground4: rgba(0, 0, 0, 0);
--vscode-editorBracketPairGuide-activeBackground5: rgba(0, 0, 0, 0);
--vscode-editorBracketPairGuide-activeBackground6: rgba(0, 0, 0, 0);
--vscode-editorUnicodeHighlight-border: #cea33d;
--vscode-editorUnicodeHighlight-background: rgba(206, 163, 61, 0.08);
--vscode-editorOverviewRuler-bracketMatchForeground: #a0a0a0;
--vscode-editor-linkedEditingBackground: rgba(255, 0, 0, 0.3);
--vscode-editor-wordHighlightBackground: rgba(87, 87, 87, 0.25);
--vscode-editor-wordHighlightStrongBackground: #d6ebff;
--vscode-editor-wordHighlightTextBackground: rgba(173, 214, 255, 0.45);
--vscode-editorOverviewRuler-wordHighlightForeground: rgba(160, 160, 160, 0.8);
--vscode-editorOverviewRuler-wordHighlightStrongForeground: rgba(192, 160, 192, 0.8);
--vscode-editorOverviewRuler-wordHighlightTextForeground: rgba(0, 0, 0, 0);
--vscode-peekViewTitle-background: #f3f3f3;
--vscode-peekViewTitleLabel-foreground: #000000;
--vscode-peekViewTitleDescription-foreground: #616161;
--vscode-peekView-border: #1a85ff;
--vscode-peekViewResult-background: #f3f3f3;
--vscode-peekViewResult-lineForeground: #646465;
--vscode-peekViewResult-fileForeground: #1e1e1e;
--vscode-peekViewResult-selectionBackground: rgba(51, 153, 255, 0.2);
--vscode-peekViewResult-selectionForeground: #6c6c6c;
--vscode-peekViewEditor-background: #f2f8fc;
--vscode-peekViewEditorGutter-background: #f2f8fc;
--vscode-peekViewEditorStickyScroll-background: #f2f8fc;
--vscode-peekViewResult-matchHighlightBackground: rgba(234, 92, 0, 0.3);
--vscode-peekViewEditor-matchHighlightBackground: rgba(245, 216, 2, 0.87);
--vscode-editorMarkerNavigationError-background: #e51400;
--vscode-editorMarkerNavigationError-headerBackground: rgba(229, 20, 0, 0.1);
--vscode-editorMarkerNavigationWarning-background: #bf8803;
--vscode-editorMarkerNavigationWarning-headerBackground: rgba(191, 136, 3, 0.1);
--vscode-editorMarkerNavigationInfo-background: #1a85ff;
--vscode-editorMarkerNavigationInfo-headerBackground: rgba(26, 133, 255, 0.1);
--vscode-editorMarkerNavigation-background: #ffffff;
--vscode-editorHoverWidget-highlightForeground: #0066bf;
--vscode-editorSuggestWidget-background: #f3f3f3;
--vscode-editorSuggestWidget-border: #c8c8c8;
--vscode-editorSuggestWidget-foreground: #000000;
--vscode-editorSuggestWidget-selectedForeground: #000000;
--vscode-editorSuggestWidget-selectedBackground: #d6ebff;
--vscode-editorSuggestWidget-highlightForeground: #0066bf;
--vscode-editorSuggestWidget-focusHighlightForeground: #0066bf;
--vscode-editorSuggestWidgetStatus-foreground: rgba(0, 0, 0, 0.5);
--vscode-editor-foldBackground: rgba(173, 214, 255, 0.3);
--vscode-editorGutter-foldingControlForeground: #424242; }

.mtk1 { color: #000000; }
.mtk2 { color: #ffffff; }
.mtk3 { color: #808080; }
.mtk4 { color: #ff0000; }
.mtk5 { color: #0451a5; }
.mtk6 { color: #0000ff; }
.mtk7 { color: #098658; }
.mtk8 { color: #008000; }
.mtk9 { color: #dd0000; }
.mtk10 { color: #811f3f; }
.mtk11 { color: #a53434; }
.mtk12 { color: #116644; }
.mtk13 { color: #383838; }
.mtk14 { color: #257693; }
.mtk15 { color: #6a5221; }
.mtk16 { color: #001080; }
.mtk17 { color: #cd3131; }
.mtk18 { color: #863b00; }
.mtk19 { color: #9723b4; }
.mtk20 { color: #af00db; }
.mtk21 { color: #a31515; }
.mtk22 { color: #800000; }
.mtk23 { color: #e00000; }
.mtk24 { color: #3030c0; }
.mtk25 { color: #666666; }
.mtk26 { color: #778899; }
.mtk27 { color: #c700c7; }
.mtk28 { color: #4f76ac; }
.mtk29 { color: #008080; }
.mtk30 { color: #001188; }
.mtk31 { color: #4864aa; }
.mtki { font-style: italic; }
.mtkb { font-weight: bold; }
.mtku { text-decoration: underline; text-underline-position: under; }
.mtks { text-decoration: line-through; }
.mtks.mtku { text-decoration: underline line-through; text-underline-position: under; }</style><style type="text/css">.MathJax_Display {text-align: center; margin: 0; position: relative; display: block!important; text-indent: 0; max-width: none; max-height: none; min-width: 0; min-height: 0; width: 100%}
.MathJax .merror {background-color: #FFFF88; color: #CC0000; border: 1px solid #CC0000; padding: 1px 3px; font-style: normal; font-size: 90%}
.MathJax .MJX-monospace {font-family: monospace}
.MathJax .MJX-sans-serif {font-family: sans-serif}
#MathJax_Tooltip {background-color: InfoBackground; color: InfoText; border: 1px solid black; box-shadow: 2px 2px 5px #AAAAAA; -webkit-box-shadow: 2px 2px 5px #AAAAAA; -moz-box-shadow: 2px 2px 5px #AAAAAA; -khtml-box-shadow: 2px 2px 5px #AAAAAA; filter: progid:DXImageTransform.Microsoft.dropshadow(OffX=2, OffY=2, Color='gray', Positive='true'); padding: 3px 4px; z-index: 401; position: absolute; left: 0; top: 0; width: auto; height: auto; display: none}
.MathJax {display: inline; font-style: normal; font-weight: normal; line-height: normal; font-size: 100%; font-size-adjust: none; text-indent: 0; text-align: left; text-transform: none; letter-spacing: normal; word-spacing: normal; word-wrap: normal; white-space: nowrap; float: none; direction: ltr; max-width: none; max-height: none; min-width: 0; min-height: 0; border: 0; padding: 0; margin: 0}
.MathJax:focus, body :focus .MathJax {display: inline-table}
.MathJax.MathJax_FullWidth {text-align: center; display: table-cell!important; width: 10000em!important}
.MathJax img, .MathJax nobr, .MathJax a {border: 0; padding: 0; margin: 0; max-width: none; max-height: none; min-width: 0; min-height: 0; vertical-align: 0; line-height: normal; text-decoration: none}
img.MathJax_strut {border: 0!important; padding: 0!important; margin: 0!important; vertical-align: 0!important}
.MathJax span {display: inline; position: static; border: 0; padding: 0; margin: 0; vertical-align: 0; line-height: normal; text-decoration: none; box-sizing: content-box}
.MathJax nobr {white-space: nowrap!important}
.MathJax img {display: inline!important; float: none!important}
.MathJax * {transition: none; -webkit-transition: none; -moz-transition: none; -ms-transition: none; -o-transition: none}
.MathJax_Processing {visibility: hidden; position: fixed; width: 0; height: 0; overflow: hidden}
.MathJax_Processed {display: none!important}
.MathJax_test {font-style: normal; font-weight: normal; font-size: 100%; font-size-adjust: none; text-indent: 0; text-transform: none; letter-spacing: normal; word-spacing: normal; overflow: hidden; height: 1px}
.MathJax_test.mjx-test-display {display: table!important}
.MathJax_test.mjx-test-inline {display: inline!important; margin-right: -1px}
.MathJax_test.mjx-test-default {display: block!important; clear: both}
.MathJax_ex_box {display: inline-block!important; position: absolute; overflow: hidden; min-height: 0; max-height: none; padding: 0; border: 0; margin: 0; width: 1px; height: 60ex}
.MathJax_em_box {display: inline-block!important; position: absolute; overflow: hidden; min-height: 0; max-height: none; padding: 0; border: 0; margin: 0; width: 1px; height: 60em}
.mjx-test-inline .MathJax_left_box {display: inline-block; width: 0; float: left}
.mjx-test-inline .MathJax_right_box {display: inline-block; width: 0; float: right}
.mjx-test-display .MathJax_right_box {display: table-cell!important; width: 10000em!important; min-width: 0; max-width: none; padding: 0; border: 0; margin: 0}
.MathJax .MathJax_HitBox {cursor: text; background: white; opacity: 0; filter: alpha(opacity=0)}
.MathJax .MathJax_HitBox * {filter: none; opacity: 1; background: transparent}
#MathJax_Tooltip * {filter: none; opacity: 1; background: transparent}
@font-face {font-family: MathJax_Main; src: url('https://colab.research.google.com/static/mathjax/fonts/HTML-CSS/TeX/woff/MathJax_Main-Regular.woff?V=2.7.5') format('woff'), url('https://colab.research.google.com/static/mathjax/fonts/HTML-CSS/TeX/otf/MathJax_Main-Regular.otf?V=2.7.5') format('opentype')}
@font-face {font-family: MathJax_Main-bold; src: url('https://colab.research.google.com/static/mathjax/fonts/HTML-CSS/TeX/woff/MathJax_Main-Bold.woff?V=2.7.5') format('woff'), url('https://colab.research.google.com/static/mathjax/fonts/HTML-CSS/TeX/otf/MathJax_Main-Bold.otf?V=2.7.5') format('opentype')}
@font-face {font-family: MathJax_Main-italic; src: url('https://colab.research.google.com/static/mathjax/fonts/HTML-CSS/TeX/woff/MathJax_Main-Italic.woff?V=2.7.5') format('woff'), url('https://colab.research.google.com/static/mathjax/fonts/HTML-CSS/TeX/otf/MathJax_Main-Italic.otf?V=2.7.5') format('opentype')}
@font-face {font-family: MathJax_Math-italic; src: url('https://colab.research.google.com/static/mathjax/fonts/HTML-CSS/TeX/woff/MathJax_Math-Italic.woff?V=2.7.5') format('woff'), url('https://colab.research.google.com/static/mathjax/fonts/HTML-CSS/TeX/otf/MathJax_Math-Italic.otf?V=2.7.5') format('opentype')}
@font-face {font-family: MathJax_Caligraphic; src: url('https://colab.research.google.com/static/mathjax/fonts/HTML-CSS/TeX/woff/MathJax_Caligraphic-Regular.woff?V=2.7.5') format('woff'), url('https://colab.research.google.com/static/mathjax/fonts/HTML-CSS/TeX/otf/MathJax_Caligraphic-Regular.otf?V=2.7.5') format('opentype')}
@font-face {font-family: MathJax_Size1; src: url('https://colab.research.google.com/static/mathjax/fonts/HTML-CSS/TeX/woff/MathJax_Size1-Regular.woff?V=2.7.5') format('woff'), url('https://colab.research.google.com/static/mathjax/fonts/HTML-CSS/TeX/otf/MathJax_Size1-Regular.otf?V=2.7.5') format('opentype')}
@font-face {font-family: MathJax_Size2; src: url('https://colab.research.google.com/static/mathjax/fonts/HTML-CSS/TeX/woff/MathJax_Size2-Regular.woff?V=2.7.5') format('woff'), url('https://colab.research.google.com/static/mathjax/fonts/HTML-CSS/TeX/otf/MathJax_Size2-Regular.otf?V=2.7.5') format('opentype')}
@font-face {font-family: MathJax_Size3; src: url('https://colab.research.google.com/static/mathjax/fonts/HTML-CSS/TeX/woff/MathJax_Size3-Regular.woff?V=2.7.5') format('woff'), url('https://colab.research.google.com/static/mathjax/fonts/HTML-CSS/TeX/otf/MathJax_Size3-Regular.otf?V=2.7.5') format('opentype')}
@font-face {font-family: MathJax_Size4; src: url('https://colab.research.google.com/static/mathjax/fonts/HTML-CSS/TeX/woff/MathJax_Size4-Regular.woff?V=2.7.5') format('woff'), url('https://colab.research.google.com/static/mathjax/fonts/HTML-CSS/TeX/otf/MathJax_Size4-Regular.otf?V=2.7.5') format('opentype')}
.MathJax .noError {vertical-align: ; font-size: 90%; text-align: left; color: black; padding: 1px 3px; border: 1px solid}
</style><script src="./OSS_Week06_실습_files/api(2).js.다운로드" nonce=""></script><script src="./OSS_Week06_실습_files/api(3).js.다운로드" nonce=""></script><script async="async" type="text/javascript" src="./OSS_Week06_실습_files/python.js.다운로드"></script></head><body class="" style="overscroll-behavior: contain;"><div style="visibility: hidden; overflow: hidden; position: absolute; top: 0px; height: 1px; width: auto; padding: 0px; border: 0px; margin: 0px; text-align: left; text-indent: 0px; text-transform: none; line-height: normal; letter-spacing: normal; word-spacing: normal;"><div id="MathJax_Hidden"></div></div><div id="MathJax_Message" style="display: none;"></div><div class="scripts"><script nonce="">window.performance.mark('external_scripts_start');</script><script src="./OSS_Week06_실습_files/gapi_loader.js.다운로드" nonce=""></script><script src="./OSS_Week06_실습_files/socketio_binary.js.다운로드" nonce=""></script><script src="./OSS_Week06_실습_files/analytics_binary.js.다운로드" nonce=""></script><script src="./OSS_Week06_실습_files/MathJax.js.다운로드" nonce=""></script><script src="./OSS_Week06_실습_files/js_monaco_editor_vs_loader.js.다운로드" nonce=""></script><script nonce="">window.performance.mark('external_scripts_end'); window.performance.measure('external_scripts', 'external_scripts_start', 'external_scripts_end'); window.performance.mark('colab_load_start');</script><script src="./OSS_Week06_실습_files/external_binary_l10n__ko.js.다운로드" nonce=""></script><script nonce="">
          window.performance.mark('colab_load_end');
          window.performance.measure('colab_load', 'colab_load_start', 'colab_load_end');
        </script></div><colab-snackbar leading="" labeltext="" id="message-area" class="message-area"><template shadowrootmode="open"><!----><style>
        :host .mdc-snackbar {
          z-index: var(--colab-above-dialog-z-index);
        }

        :host .mdc-snackbar__surface {
          background-color: var(--colab-inverse-surface-color);
        }

        :host .mdc-snackbar__label {
          color: var(--colab-inverse-on-surface-color);
        }
      </style>
      <!--?lit$764986503$-->
      <div class="mdc-snackbar  mdc-snackbar--leading ">
        <div class="mdc-snackbar__surface">
          <!--?lit$764986503$-->
          <div class="mdc-snackbar__actions">
            <slot name="action"></slot>
            <slot name="dismiss"></slot>
          </div>
        </div>
      </div><!--?--></template>
      <md-icon-button class="close" slot="dismiss" title="닫기" data-aria-label="닫기" value=""><template shadowrootmode="open" shadowrootdelegatesfocus><!----><button id="button" class="icon-button  standard " aria-label="닫기">
        <!--?lit$764986503$--><md-focus-ring part="focus-ring" for="button" aria-hidden="true"><template shadowrootmode="open"><!----></template></md-focus-ring>
        <!--?lit$764986503$--><md-ripple aria-hidden="true"><template shadowrootmode="open"><!----><div class="surface   "></div></template></md-ripple>
        <!--?lit$764986503$--><span class="icon"><slot></slot></span>
        <!--?lit$764986503$-->
        <!--?lit$764986503$--><span class="touch"></span>
  </button></template>
        <md-icon aria-hidden="true"><template shadowrootmode="open"><!----><slot></slot></template>close</md-icon>
      </md-icon-button>
    </colab-snackbar><colab-snackbar leading="" labeltext="" id="message-area-secondary" class="message-area"><template shadowrootmode="open"><!----><style>
        :host .mdc-snackbar {
          z-index: var(--colab-above-dialog-z-index);
        }

        :host .mdc-snackbar__surface {
          background-color: var(--colab-inverse-surface-color);
        }

        :host .mdc-snackbar__label {
          color: var(--colab-inverse-on-surface-color);
        }
      </style>
      <!--?lit$764986503$-->
      <div class="mdc-snackbar mdc-snackbar--leading">
        <div class="mdc-snackbar__surface">
          <!--?lit$764986503$-->
          <div class="mdc-snackbar__actions">
            <slot name="action"></slot>
            <slot name="dismiss"></slot>
          </div>
        </div>
      </div><!--?--></template>
      <md-icon-button class="close" slot="dismiss" title="닫기" data-aria-label="닫기" value=""><template shadowrootmode="open" shadowrootdelegatesfocus><!----><button id="button" class="icon-button  standard " aria-label="닫기">
        <!--?lit$764986503$--><md-focus-ring part="focus-ring" for="button" aria-hidden="true"><template shadowrootmode="open"><!----></template></md-focus-ring>
        <!--?lit$764986503$--><md-ripple aria-hidden="true"><template shadowrootmode="open"><!----><div class="surface   "></div></template></md-ripple>
        <!--?lit$764986503$--><span class="icon"><slot></slot></span>
        <!--?lit$764986503$-->
        <!--?lit$764986503$--><span class="touch"></span>
  </button></template>
        <md-icon aria-hidden="true"><template shadowrootmode="open"><!----><slot></slot></template>close</md-icon>
      </md-icon-button>
    </colab-snackbar><div ng-non-bindable=""></div><div class="gb_T" ng-non-bindable=""><div class="gb_Oc"><div>Google 계정</div><div class="gb_g">임민우컴퓨터공학과</div><div>20222004@edu.hanbat.ac.kr</div><div class="gb_Pc"></div></div></div><script nonce="">this.gbar_=this.gbar_||{};(function(_){var window=this;
try{
var Fd;Fd=class extends _.od{};_.Gd=function(a,b){if(b in a.i)return a.i[b];throw new Fd;};_.Hd=function(a){return _.Gd(_.ld.i(),a)};
}catch(e){_._DumpException(e)}
try{
/*

 Copyright Google LLC
 SPDX-License-Identifier: Apache-2.0
*/
var Kd;_.Id=function(a){const b=a.length;if(b>0){const c=Array(b);for(let d=0;d<b;d++)c[d]=a[d];return c}return[]};Kd=function(a){return new _.Jd(b=>b.substr(0,a.length+1).toLowerCase()===a+":")};_.Ld=globalThis.trustedTypes;_.Md=class{constructor(a){this.i=a}toString(){return this.i}};_.Nd=new _.Md("about:invalid#zClosurez");_.Jd=class{constructor(a){this.Sh=a}};_.Od=[Kd("data"),Kd("http"),Kd("https"),Kd("mailto"),Kd("ftp"),new _.Jd(a=>/^[^:]*([/?#]|$)/.test(a))];_.Pd=class{constructor(a){this.i=a}toString(){return this.i+""}};_.Qd=new _.Pd(_.Ld?_.Ld.emptyHTML:"");
}catch(e){_._DumpException(e)}
try{
var Ud,ee,he,Td,Vd,$d;_.Rd=function(a){if(a==null)return a;if(typeof a==="string"&&a)a=+a;else if(typeof a!=="number")return;return(0,_.Na)(a)?a|0:void 0};_.Sd=function(a,b){return a.lastIndexOf(b,0)==0};Ud=function(){let a=null;if(!Td)return a;try{const b=c=>c;a=Td.createPolicy("ogb-qtm#html",{createHTML:b,createScript:b,createScriptURL:b})}catch(b){}return a};_.Wd=function(){Vd===void 0&&(Vd=Ud());return Vd};_.Yd=function(a){const b=_.Wd();a=b?b.createScriptURL(a):a;return new _.Xd(a)};
_.Zd=function(a){if(a instanceof _.Xd)return a.i;throw Error("x");};_.ae=function(a){if($d.test(a))return a};_.be=function(a){if(a instanceof _.Md)if(a instanceof _.Md)a=a.i;else throw Error("x");else a=_.ae(a);return a};_.ce=function(a,b=document){let c;const d=(c=b.querySelector)==null?void 0:c.call(b,`${a}[nonce]`);return d==null?"":d.nonce||d.getAttribute("nonce")||""};_.S=function(a,b,c){return _.Ma(_.Kc(a,b,c,_.Jc))};_.de=function(a,b){return _.Rd(_.Kc(a,b,void 0,_.Jc))};
ee=class extends _.O{constructor(a){super(a)}Xb(a){return _.L(this,24,a)}};_.fe=function(){return _.C(_.gd,ee,1)};_.ge=function(a){var b=_.Ka(a);return b=="array"||b=="object"&&typeof a.length=="number"};Td=_.Ld;_.Xd=class{constructor(a){this.i=a}toString(){return this.i+""}};$d=/^\s*(?!javascript:)(?:[\w+.-]+:|[^:/?#]*(?:[/?#]|$))/i;var ne,re,ie;_.ke=function(a){return a?new ie(_.je(a)):he||(he=new ie)};_.le=function(a,b){return typeof b==="string"?a.getElementById(b):b};_.T=function(a,b){var c=b||document;c.getElementsByClassName?a=c.getElementsByClassName(a)[0]:(c=document,a=a?(b||c).querySelector(a?"."+a:""):_.me(c,"*",a,b)[0]||null);return a||null};_.me=function(a,b,c,d){a=d||a;return(b=b&&b!="*"?String(b).toUpperCase():"")||c?a.querySelectorAll(b+(c?"."+c:"")):a.getElementsByTagName("*")};
_.oe=function(a,b){_.Bb(b,function(c,d){d=="style"?a.style.cssText=c:d=="class"?a.className=c:d=="for"?a.htmlFor=c:ne.hasOwnProperty(d)?a.setAttribute(ne[d],c):_.Sd(d,"aria-")||_.Sd(d,"data-")?a.setAttribute(d,c):a[d]=c})};ne={cellpadding:"cellPadding",cellspacing:"cellSpacing",colspan:"colSpan",frameborder:"frameBorder",height:"height",maxlength:"maxLength",nonce:"nonce",role:"role",rowspan:"rowSpan",type:"type",usemap:"useMap",valign:"vAlign",width:"width"};
_.pe=function(a){return a?a.defaultView:window};_.se=function(a,b){const c=b[1],d=_.qe(a,String(b[0]));c&&(typeof c==="string"?d.className=c:Array.isArray(c)?d.className=c.join(" "):_.oe(d,c));b.length>2&&re(a,d,b);return d};re=function(a,b,c){function d(e){e&&b.appendChild(typeof e==="string"?a.createTextNode(e):e)}for(let e=2;e<c.length;e++){const f=c[e];!_.ge(f)||_.Lb(f)&&f.nodeType>0?d(f):_.ac(f&&typeof f.length=="number"&&typeof f.item=="function"?_.Id(f):f,d)}};
_.te=function(a){return _.qe(document,a)};_.qe=function(a,b){b=String(b);a.contentType==="application/xhtml+xml"&&(b=b.toLowerCase());return a.createElement(b)};_.ue=function(a){let b;for(;b=a.firstChild;)a.removeChild(b)};_.ve=function(a){return a&&a.parentNode?a.parentNode.removeChild(a):null};_.we=function(a,b){return a&&b?a==b||a.contains(b):!1};_.je=function(a){return a.nodeType==9?a:a.ownerDocument||a.document};ie=function(a){this.i=a||_.t.document||document};_.n=ie.prototype;
_.n.H=function(a){return _.le(this.i,a)};_.n.Qa=function(a,b,c){return _.se(this.i,arguments)};_.n.appendChild=function(a,b){a.appendChild(b)};_.n.Je=_.ue;_.n.mg=_.ve;_.n.lg=_.we;
}catch(e){_._DumpException(e)}
try{
_.Li=function(a){const b=_.ce("script",a.ownerDocument);b&&a.setAttribute("nonce",b)};_.Mi=function(a){if(!a)return null;a=_.I(a,4);var b;a===null||a===void 0?b=null:b=_.Yd(a);return b};_.Ni=function(a,b,c){a=a.fa;return _.zb(a,a[_.v]|0,b,c)!==void 0};_.Oi=class extends _.O{constructor(a){super(a)}};_.Pi=function(a,b){return(b||document).getElementsByTagName(String(a))};
}catch(e){_._DumpException(e)}
try{
var Ri=function(a,b,c){a<b?Qi(a+1,b):_.Wc.log(Error("W`"+a+"`"+b),{url:c})},Qi=function(a,b){if(Si){const c=_.te("SCRIPT");c.async=!0;c.type="text/javascript";c.charset="UTF-8";c.src=_.Zd(Si);_.Li(c);c.onerror=_.Ob(Ri,a,b,c.src);_.Pi("HEAD")[0].appendChild(c)}},Ti=class extends _.O{constructor(a){super(a)}};var Ui=_.C(_.gd,Ti,17)||new Ti,Vi,Si=(Vi=_.C(Ui,_.Oi,1))?_.Mi(Vi):null,Wi,Xi=(Wi=_.C(Ui,_.Oi,2))?_.Mi(Wi):null,Yi=function(){Qi(1,2);if(Xi){const a=_.te("LINK");a.setAttribute("type","text/css");a.href=_.Zd(Xi).toString();a.rel="stylesheet";let b=_.ce("style",document);b&&a.setAttribute("nonce",b);_.Pi("HEAD")[0].appendChild(a)}};(function(){const a=_.fe();if(_.S(a,18))Yi();else{const b=_.de(a,19)||0;window.addEventListener("load",()=>{window.setTimeout(Yi,b)})}})();
}catch(e){_._DumpException(e)}
})(this.gbar_);
// Google Inc.
</script><div style="position: absolute; width: 0px; height: 0px; overflow: hidden; padding: 0px; border: 0px; margin: 0px;"><div id="MathJax_Font_Test" style="position: absolute; visibility: hidden; top: 0px; left: 0px; width: auto; min-width: 0px; max-width: none; padding: 0px; border: 0px; margin: 0px; white-space: nowrap; text-align: left; text-indent: 0px; text-transform: none; line-height: normal; letter-spacing: normal; word-spacing: normal; font-size: 40px; font-weight: normal; font-style: normal; font-size-adjust: none; font-family: MathJax_Size1, monospace;"></div></div><iframe id="apiproxyfadd8523baad54e4c3012f7e7508e2e6ff3c2d800.4260203211" name="apiproxyfadd8523baad54e4c3012f7e7508e2e6ff3c2d800.4260203211" src="./OSS_Week06_실습_files/proxy.html" tabindex="-1" aria-hidden="true" style="width: 1px; height: 1px; position: absolute; top: -100px; display: none;"></iframe><div><div class="grecaptcha-badge" data-style="bottomright" style="width: 256px; height: 60px; position: fixed; visibility: hidden; display: block; transition: right 0.3s; bottom: 14px; right: -186px; box-shadow: gray 0px 0px 5px; border-radius: 2px; overflow: hidden;"><div class="grecaptcha-logo"><iframe title="reCAPTCHA" width="256" height="60" role="presentation" name="a-5d1o4xprhzvp" frameborder="0" scrolling="no" sandbox="allow-forms allow-popups allow-same-origin allow-scripts allow-top-navigation allow-modals allow-popups-to-escape-sandbox allow-storage-access-by-user-activation" src="./OSS_Week06_실습_files/anchor.html"></iframe></div><div class="grecaptcha-error"></div><textarea id="g-recaptcha-response-100000" name="g-recaptcha-response" class="g-recaptcha-response" style="width: 250px; height: 40px; border: 1px solid rgb(193, 193, 193); margin: 10px 25px; padding: 0px; resize: none; display: none;"></textarea></div><iframe style="display: none;" src="./OSS_Week06_실습_files/saved_resource.html"></iframe></div><iframe src="./OSS_Week06_실습_files/bscframe.html" style="display: none;"></iframe><iframe id="hfcr" src="./OSS_Week06_실습_files/RotateCookiesPage.html" style="display: none;"></iframe><div class="notebook-vertical" style="position: relative;">
      <!--?lit$764986503$--><colab-skip-link><template shadowrootmode="open"><!----><md-elevated-button class="link" href="#notebook-main" value=""><template shadowrootmode="open" shadowrootdelegatesfocus><!---->
      <!--?lit$764986503$--><md-elevation part="elevation" aria-hidden="true"><template shadowrootmode="open"><!----><span class="shadow"></span></template></md-elevation>
      <div class="background"></div>
      <md-focus-ring part="focus-ring" for="link" aria-hidden="true"><template shadowrootmode="open"><!----></template></md-focus-ring>
      <md-ripple part="ripple" for="link" aria-hidden="true"><template shadowrootmode="open"><!----><div class="surface   "></div></template></md-ripple>
      <!--?lit$764986503$--><a id="link" class="button" href="https://colab.research.google.com/drive/1KpB0YCviDlIQxq_SzIM8WSDaoAjfFPbT#notebook-main"><!--?lit$764986503$-->
      <span class="touch"></span>
      <!--?lit$764986503$--><slot name="icon"></slot>
      <span class="label"><slot></slot></span>
      <!--?lit$764986503$-->
    
    </a>
    </template><!--?lit$764986503$-->메인 콘텐츠로 건너뛰기</md-elevated-button></template></colab-skip-link>
      <div class="top-floater"><div role="banner">
    <!--?lit$764986503$-->
    <!--?lit$764986503$-->
          <div id="private-outputs-warning" class="header-warning private-outputs-warning" hidden=""><md-icon aria-hidden="true"><template shadowrootmode="open"><!----><slot></slot></template>info</md-icon>
            <div class="message">
              <!--?lit$764986503$-->이 노트북은 비공개 출력으로 열려 있습니다. 출력 내용은 저장되지 않습니다. <a href="https://colab.research.google.com/drive/1KpB0YCviDlIQxq_SzIM8WSDaoAjfFPbT#" id="private-outputs-notebook-info-link" command="notebook-settings" aria-describedby="private-outputs-notebook-info-link-tooltip">노트북 설정</a><colab-tooltip-trigger aria-hidden="true" for="private-outputs-notebook-info-link" id="private-outputs-notebook-info-link-tooltip"><template shadowrootmode="open"><!----><!--?lit$764986503$--><!----><div><!--?lit$764986503$-->노트 설정 열기</div><!----><!--?--></template>
        </colab-tooltip-trigger>에서 이 기능을 사용 중지할 수 있습니다.
            </div>
          <div class="actions"><md-icon-button class="close" title="닫기" data-aria-label="닫기" value=""><template shadowrootmode="open" shadowrootdelegatesfocus><!----><button id="button" class="icon-button  standard " aria-label="닫기">
        <!--?lit$764986503$--><md-focus-ring part="focus-ring" for="button" aria-hidden="true"><template shadowrootmode="open"><!----></template></md-focus-ring>
        <!--?lit$764986503$--><md-ripple aria-hidden="true"><template shadowrootmode="open"><!----><div class="surface   "></div></template></md-ripple>
        <!--?lit$764986503$--><span class="icon"><slot></slot></span>
        <!--?lit$764986503$-->
        <!--?lit$764986503$--><span class="touch"></span>
  </button></template>
          <md-icon aria-hidden="true"><template shadowrootmode="open"><!----><slot></slot></template>close</md-icon>
        </md-icon-button></div></div>
        
    <!--?lit$764986503$--> <!--?lit$764986503$-->

    <div id="header" class="horizontal layout">
      <div id="header-background"><div></div></div>
      <div id="header-content">
        <!--?lit$764986503$-->
        <!--?lit$764986503$--><div id="header-logo">
              <!--?lit$764986503$--> <!--?lit$764986503$--><a href="https://drive.google.com/drive/search?q=owner%3Ame%20(type%3Aapplication%2Fvnd.google.colaboratory%20%7C%7C%20type%3Aapplication%2Fvnd.google.colab)&amp;authuser=0" aria-label="Google Drive에서 보기">
        <!--?lit$764986503$--><md-icon class="colab-large-icon" aria-hidden="true"><template shadowrootmode="open"><!----><slot></slot></template><!--?lit$764986503$--><svg viewBox="0 0 24 24"><!--?lit$764986503$-->
      <g id="colab-logo">
        <path d="M4.54,9.46,2.19,7.1a6.93,6.93,0,0,0,0,9.79l2.36-2.36A3.59,3.59,0,0,1,4.54,9.46Z" style="fill:var(--colab-logo-dark)"></path>
        <path d="M2.19,7.1,4.54,9.46a3.59,3.59,0,0,1,5.08,0l1.71-2.93h0l-.1-.08h0A6.93,6.93,0,0,0,2.19,7.1Z" style="fill:var(--colab-logo-light)"></path>
        <path d="M11.34,17.46h0L9.62,14.54a3.59,3.59,0,0,1-5.08,0L2.19,16.9a6.93,6.93,0,0,0,9,.65l.11-.09" style="fill:var(--colab-logo-light)"></path>
        <path d="M12,7.1a6.93,6.93,0,0,0,0,9.79l2.36-2.36a3.59,3.59,0,1,1,5.08-5.08L21.81,7.1A6.93,6.93,0,0,0,12,7.1Z" style="fill:var(--colab-logo-light)"></path>
        <path d="M21.81,7.1,19.46,9.46a3.59,3.59,0,0,1-5.08,5.08L12,16.9A6.93,6.93,0,0,0,21.81,7.1Z" style="fill:var(--colab-logo-dark)"></path>
      </g></svg></md-icon>
      </a><!--?-->
            </div>
        <div id="header-doc-toolbar" class="flex">
          <div id="document-info">
            <!--?lit$764986503$--> <!--?lit$764986503$--><md-icon class="file-location-icon" id="file-type" aria-hidden="true" title="Google Drive에 저장된 노트"><template shadowrootmode="open"><!----><slot></slot></template><!--?lit$764986503$-->
      <svg viewBox="0 0 192 192">
        <path d="M128.33,122l7.59,26.17l19.89,21.42c0,0,0,0,0,0v0c2.69-1.55,4.98-3.8,6.59-6.59l18.48-32 c1.61-2.78,2.41-5.89,2.41-9l-28.38-5.5L128.33,122z" fill="#EA4335"></path>
        <path d="M123.48,18.41c-2.69-1.55-5.78-2.41-9-2.41H77.53c-3.2,0-6.32,0.88-9,2.41l0,0l7.96,26.81l19.44,20.64 L96,66l0,0l19.58-20.89L123.48,18.41C123.48,18.41,123.48,18.41,123.48,18.41C123.48,18.41,123.48,18.41,123.48,18.41z" fill="#188038"></path>
        <path d="M63.67,122l-28.33-6.5L8.72,122c0,3.1,0.8,6.2,2.4,8.99L29.6,163c1.61,2.78,3.9,5.03,6.59,6.59 l19.59-20.18L63.67,122L63.67,122z" fill="#1967D2"></path>
        <path d="M155.47,69l-25.4-44c-1.61-2.79-3.9-5.04-6.59-6.59L96,66l32.33,56h54.95c0-3.11-0.8-6.21-2.41-9 L155.47,69z" fill="#FBBC04"></path><path d="M128.33,122H63.67l-27.48,47.59c2.69,1.55,5.78,2.41,9,2.41h101.61c3.22,0,6.31-0.86,9-2.41L128.33,122z" fill="#4285F4"></path>
        <path d="M96,66L68.53,18.41c-2.69,1.55-4.97,3.79-6.58,6.57l-50.83,88.05c-1.6,2.78-2.4,5.88-2.4,8.97h54.95L96,66 z" fill="#34A853"></path>
      </svg></md-icon>
    <input id="doc-name" class="doc-name" maxlength="259" autocomplete="off" aria-label="노트북 이름" command="rename" aria-describedby="doc-name-tooltip" style="width: 211.141px;"><colab-dom-lifecycle-events style="display: none;"></colab-dom-lifecycle-events></input><colab-tooltip-trigger aria-hidden="true" for="doc-name" id="doc-name-tooltip"><template shadowrootmode="open"><!----><!--?lit$764986503$--><!----><div><!--?lit$764986503$-->노트 이름 변경</div><!----><!--?--></template>
        </colab-tooltip-trigger><colab-input-sizer aria-hidden="true" style="left: -1000%; position: absolute; font-family: &quot;Google Sans&quot;, Roboto, Noto, sans-serif; font-size: 18px; font-weight: 400; letter-spacing: normal; padding-left: 3px; padding-right: 4px; white-space: pre;">OSS_Week06_실습.ipynb_</colab-input-sizer>
            <!--?lit$764986503$-->
                  <md-icon-button id="star-icon" command="toggle-star" aria-describedby="star-icon-tooltip" data-aria-label="별" value=""><template shadowrootmode="open" shadowrootdelegatesfocus><!----><button id="button" class="icon-button  standard " aria-label="별">
        <!--?lit$764986503$--><md-focus-ring part="focus-ring" for="button" aria-hidden="true"><template shadowrootmode="open"><!----></template></md-focus-ring>
        <!--?lit$764986503$--><md-ripple aria-hidden="true"><template shadowrootmode="open"><!----><div class="surface"></div></template></md-ripple>
        <!--?lit$764986503$--><span class="icon"><slot></slot></span>
        <!--?lit$764986503$-->
        <!--?lit$764986503$--><span class="touch"></span>
  </button></template>
                    <md-icon aria-hidden="true"><template shadowrootmode="open"><!----><slot></slot></template>star</md-icon>
                  </md-icon-button><colab-tooltip-trigger aria-hidden="true" for="star-icon" id="star-icon-tooltip"><template shadowrootmode="open"><!----><!--?lit$764986503$--><!----><div><!--?lit$764986503$-->Google Drive에서 노트북 별표표시하기</div><!----><!--?--></template>
        </colab-tooltip-trigger>
                
            <!--?lit$764986503$--><colab-last-saved-indicator aria-live="polite" aria-atomic="true"><template shadowrootmode="open"><!----><!--?--></template></colab-last-saved-indicator>
          </div>
        <div class="menubar-wrapper"><div><!----><div id="top-menubar" class="goog-menubar format-lightborder" role="menubar" tabindex="0" style="user-select: none;"><!--?lit$764986503$--><div class="goog-menu-button goog-inline-block" id="file-menu-button" role="button" aria-expanded="false" aria-haspopup="true" style="user-select: none;"><div class="goog-inline-block goog-menu-button-outer-box" style="user-select: none;"><div class="goog-inline-block goog-menu-button-inner-box" style="user-select: none;"><div class="goog-inline-block goog-menu-button-caption" style="user-select: none;"><!--?lit$764986503$-->파일</div><div class="goog-inline-block goog-menu-button-dropdown" style="user-select: none;">&nbsp;</div></div></div></div><div class="goog-menu-button goog-inline-block" id="edit-menu-button" role="button" aria-expanded="false" aria-haspopup="true" style="user-select: none;"><div class="goog-inline-block goog-menu-button-outer-box" style="user-select: none;"><div class="goog-inline-block goog-menu-button-inner-box" style="user-select: none;"><div class="goog-inline-block goog-menu-button-caption" style="user-select: none;"><!--?lit$764986503$-->수정</div><div class="goog-inline-block goog-menu-button-dropdown" style="user-select: none;">&nbsp;</div></div></div></div><div class="goog-menu-button goog-inline-block" id="view-menu-button" role="button" aria-expanded="false" aria-haspopup="true" style="user-select: none;"><div class="goog-inline-block goog-menu-button-outer-box" style="user-select: none;"><div class="goog-inline-block goog-menu-button-inner-box" style="user-select: none;"><div class="goog-inline-block goog-menu-button-caption" style="user-select: none;"><!--?lit$764986503$-->보기</div><div class="goog-inline-block goog-menu-button-dropdown" style="user-select: none;">&nbsp;</div></div></div></div><div class="goog-menu-button goog-inline-block" id="insert-menu-button" role="button" aria-expanded="false" aria-haspopup="true" style="user-select: none;"><div class="goog-inline-block goog-menu-button-outer-box" style="user-select: none;"><div class="goog-inline-block goog-menu-button-inner-box" style="user-select: none;"><div class="goog-inline-block goog-menu-button-caption" style="user-select: none;"><!--?lit$764986503$-->삽입</div><div class="goog-inline-block goog-menu-button-dropdown" style="user-select: none;">&nbsp;</div></div></div></div><div class="goog-menu-button goog-inline-block" id="runtime-menu-button" role="button" aria-expanded="false" aria-haspopup="true" style="user-select: none;"><div class="goog-inline-block goog-menu-button-outer-box" style="user-select: none;"><div class="goog-inline-block goog-menu-button-inner-box" style="user-select: none;"><div class="goog-inline-block goog-menu-button-caption" style="user-select: none;"><!--?lit$764986503$-->런타임</div><div class="goog-inline-block goog-menu-button-dropdown" style="user-select: none;">&nbsp;</div></div></div></div><div class="goog-menu-button goog-inline-block" id="tools-menu-button" role="button" aria-expanded="false" aria-haspopup="true" style="user-select: none;"><div class="goog-inline-block goog-menu-button-outer-box" style="user-select: none;"><div class="goog-inline-block goog-menu-button-inner-box" style="user-select: none;"><div class="goog-inline-block goog-menu-button-caption" style="user-select: none;"><!--?lit$764986503$-->도구</div><div class="goog-inline-block goog-menu-button-dropdown" style="user-select: none;">&nbsp;</div></div></div></div><div class="goog-menu-button goog-inline-block" id="help-menu-button" role="button" aria-expanded="false" aria-haspopup="true" style="user-select: none;"><div class="goog-inline-block goog-menu-button-outer-box" style="user-select: none;"><div class="goog-inline-block goog-menu-button-inner-box" style="user-select: none;"><div class="goog-inline-block goog-menu-button-caption" style="user-select: none;"><!--?lit$764986503$-->도움말</div><div class="goog-inline-block goog-menu-button-dropdown" style="user-select: none;">&nbsp;</div></div></div></div></div></div></div></div>
        <div id="header-right">
          <!--?lit$764986503$-->
    <colab-collaborator-bar id="collaborator-bar"><template shadowrootmode="open"><!----> <div class="collaborator-bar">
      <!--?lit$764986503$-->
      <!--?lit$764986503$-->
    </div></template></colab-collaborator-bar>
  
          <!--?lit$764986503$--> <md-icon-button id="comments" command="open-comments-thread" data-aria-label="댓글 창 열기" aria-describedby="comments-tooltip" value=""><template shadowrootmode="open" shadowrootdelegatesfocus><!----><button id="button" class="icon-button  standard " aria-label="댓글 창 열기">
        <!--?lit$764986503$--><md-focus-ring part="focus-ring" for="button" aria-hidden="true"><template shadowrootmode="open"><!----></template></md-focus-ring>
        <!--?lit$764986503$--><md-ripple aria-hidden="true"><template shadowrootmode="open"><!----><div class="surface   "></div></template></md-ripple>
        <!--?lit$764986503$--><span class="icon"><slot></slot></span>
        <!--?lit$764986503$-->
        <!--?lit$764986503$--><span class="touch"></span>
  </button></template>
                <md-icon aria-hidden="true"><template shadowrootmode="open"><!----><slot></slot></template>comment</md-icon>
              </md-icon-button><colab-tooltip-trigger aria-hidden="true" for="comments" id="comments-tooltip"><template shadowrootmode="open"><!----><!--?lit$764986503$--><!----><div><!--?lit$764986503$-->댓글 창 열기</div><!----><!--?--></template>
        </colab-tooltip-trigger>
          <!--?lit$764986503$--> <md-icon-button id="settings-cog" command="preferences" data-aria-label="설정 열기" aria-describedby="settings-cog-tooltip" value=""><template shadowrootmode="open" shadowrootdelegatesfocus><!----><button id="button" class="icon-button  standard " aria-label="설정 열기">
        <!--?lit$764986503$--><md-focus-ring part="focus-ring" for="button" aria-hidden="true"><template shadowrootmode="open"><!----></template></md-focus-ring>
        <!--?lit$764986503$--><md-ripple aria-hidden="true"><template shadowrootmode="open"><!----><div class="surface   "></div></template></md-ripple>
        <!--?lit$764986503$--><span class="icon"><slot></slot></span>
        <!--?lit$764986503$-->
        <!--?lit$764986503$--><span class="touch"></span>
  </button></template>
                <md-icon aria-hidden="true"><template shadowrootmode="open"><!----><slot></slot></template>settings</md-icon>
              </md-icon-button><colab-tooltip-trigger aria-hidden="true" for="settings-cog" id="settings-cog-tooltip"><template shadowrootmode="open"><!----><!--?lit$764986503$--><!----><div><!--?lit$764986503$-->설정 열기</div><!----><!--?--></template>
        </colab-tooltip-trigger>
          <!--?lit$764986503$--> <md-filled-tonal-button id="share-toolbar-button" command="share" data-aria-label="노트북 공유" aria-describedby="share-toolbar-button-tooltip" value="" has-icon=""><template shadowrootmode="open" shadowrootdelegatesfocus><!---->
      <!--?lit$764986503$--><md-elevation part="elevation" aria-hidden="true"><template shadowrootmode="open"><!----><span class="shadow"></span></template></md-elevation>
      <div class="background"></div>
      <md-focus-ring part="focus-ring" for="button" aria-hidden="true"><template shadowrootmode="open"><!----></template></md-focus-ring>
      <md-ripple part="ripple" for="button" aria-hidden="true"><template shadowrootmode="open"><!----><div class="surface"></div></template></md-ripple>
      <!--?lit$764986503$--><button id="button" class="button" aria-label="노트북 공유">
      <!--?lit$764986503$-->
      <span class="touch"></span>
      <!--?lit$764986503$--><slot name="icon"></slot>
      <span class="label"><slot></slot></span>
      <!--?lit$764986503$-->
    
    </button>
    </template>
                <md-icon slot="icon" aria-hidden="true"><template shadowrootmode="open"><!----><slot></slot></template><!--?lit$764986503$-->people</md-icon>
                <!--?lit$764986503$-->공유
              </md-filled-tonal-button><colab-tooltip-trigger aria-hidden="true" for="share-toolbar-button" id="share-toolbar-button-tooltip"><template shadowrootmode="open"><!----><!--?lit$764986503$--><!----><div><!--?lit$764986503$-->노트북 공유</div><!----><!--?--></template>
        </colab-tooltip-trigger>
          <!--?lit$764986503$--> <md-text-button class="show-chat-button" id="show-chat-button" command="toggle-composer" data-aria-label="Gemini 전환" aria-describedby="show-chat-button-tooltip" hidden="" value="" has-icon=""><template shadowrootmode="open" shadowrootdelegatesfocus><!---->
      <!--?lit$764986503$-->
      <div class="background"></div>
      <md-focus-ring part="focus-ring" for="button" aria-hidden="true"><template shadowrootmode="open"><!----></template></md-focus-ring>
      <md-ripple part="ripple" for="button" aria-hidden="true"><template shadowrootmode="open"><!----><div class="surface   "></div></template></md-ripple>
      <!--?lit$764986503$--><button id="button" class="button" aria-label="Gemini 전환">
      <!--?lit$764986503$-->
      <span class="touch"></span>
      <!--?lit$764986503$--><slot name="icon"></slot>
      <span class="label"><slot></slot></span>
      <!--?lit$764986503$-->
    
    </button>
    </template>
                <md-icon slot="icon" aria-hidden="true"><template shadowrootmode="open"><!----><slot></slot></template>spark</md-icon>
                <!--?lit$764986503$-->Gemini
              </md-text-button><colab-tooltip-trigger aria-hidden="true" for="show-chat-button" id="show-chat-button-tooltip"><template shadowrootmode="open"><!----><!--?lit$764986503$--><!----><div><!--?lit$764986503$-->Gemini 전환</div><!----><!--?--></template>
        </colab-tooltip-trigger>
          <div class="header-onegoogle-container"></div>
        </div>
      </div>
    </div>
  </div></div><colab-notebook-toolbar id="top-toolbar" class="horizontal layout center noshrink"><!----> <!--?lit$764986503$-->
    <!--?lit$764986503$--> <colab-toolbar-button icon="search" id="toolbar-show-command-palette" command="show-command-palette"><template shadowrootmode="open"><!----><md-text-button id="button" data-aria-disabled="false" value="" has-icon=""><template shadowrootmode="open" shadowrootdelegatesfocus><!---->
      <!--?lit$764986503$-->
      <div class="background"></div>
      <md-focus-ring part="focus-ring" for="button" aria-hidden="true"><template shadowrootmode="open"><!----></template></md-focus-ring>
      <md-ripple part="ripple" for="button" aria-hidden="true"><template shadowrootmode="open"><!----><div class="surface"></div></template></md-ripple>
      <!--?lit$764986503$--><button id="button" class="button">
      <!--?lit$764986503$-->
      <span class="touch"></span>
      <!--?lit$764986503$--><slot name="icon"></slot>
      <span class="label"><slot></slot></span>
      <!--?lit$764986503$-->
    
    </button>
    </template>
        <!--?lit$764986503$--><md-icon slot="icon" aria-hidden="true"><template shadowrootmode="open"><!----><slot></slot></template><!--?lit$764986503$-->search</md-icon>
        <span class="button-content"><slot></slot></span>
        <!--?lit$764986503$--><span class="screenreader-only"><!--?lit$764986503$-->명령 팔레트 표시 <!--?lit$764986503$-->Ctrl+Shift+P</span>
      </md-text-button>
      <!--?lit$764986503$--> <colab-tooltip-trigger for="button" aria-hidden="true" id="tooltip" message="명령 팔레트 표시" shortcut="Ctrl+Shift+P"><template shadowrootmode="open"><!----><!--?lit$764986503$--><!----><div><!--?lit$764986503$-->명령 팔레트 표시(Ctrl+Shift+P)</div><!----><!--?--></template>
          </colab-tooltip-trigger><!--?--></template>
            <!--?lit$764986503$-->명령어
          </colab-toolbar-button>
          <!--?lit$764986503$--><span class="colab-separator"></span><!--?-->
    <!--?lit$764986503$--><span class="toolbar-add-code-split"><colab-toolbar-button class="split-button" command="insert-cell-below" icon="add" id="toolbar-add-code"><template shadowrootmode="open"><!----><md-text-button id="button" data-aria-disabled="false" value="" has-icon=""><template shadowrootmode="open" shadowrootdelegatesfocus><!---->
      <!--?lit$764986503$-->
      <div class="background"></div>
      <md-focus-ring part="focus-ring" for="button" aria-hidden="true"><template shadowrootmode="open"><!----></template></md-focus-ring>
      <md-ripple part="ripple" for="button" aria-hidden="true"><template shadowrootmode="open"><!----><div class="surface"></div></template></md-ripple>
      <!--?lit$764986503$--><button id="button" class="button">
      <!--?lit$764986503$-->
      <span class="touch"></span>
      <!--?lit$764986503$--><slot name="icon"></slot>
      <span class="label"><slot></slot></span>
      <!--?lit$764986503$-->
    
    </button>
    </template>
        <!--?lit$764986503$--><md-icon slot="icon" aria-hidden="true"><template shadowrootmode="open"><!----><slot></slot></template><!--?lit$764986503$-->add</md-icon>
        <span class="button-content"><slot></slot></span>
        <!--?lit$764986503$--><span class="screenreader-only"><!--?lit$764986503$-->아래에 코드 셀 삽입 <!--?lit$764986503$-->Ctrl+M B</span>
      </md-text-button>
      <!--?lit$764986503$--> <colab-tooltip-trigger for="button" aria-hidden="true" id="tooltip" message="아래에 코드 셀 삽입" shortcut="Ctrl+M B"><template shadowrootmode="open"><!----><!--?lit$764986503$--><!----><div><!--?lit$764986503$-->아래에 코드 셀 삽입(Ctrl+M B)</div><!----><!--?--></template>
          </colab-tooltip-trigger><!--?--></template>
              <!--?lit$764986503$-->코드
            </colab-toolbar-button>
            <!--?lit$764986503$--></span>
          <colab-toolbar-button command="add-text" icon="add" id="toolbar-add-text"><template shadowrootmode="open"><!----><md-text-button id="button" data-aria-disabled="false" value="" has-icon=""><template shadowrootmode="open" shadowrootdelegatesfocus><!---->
      <!--?lit$764986503$-->
      <div class="background"></div>
      <md-focus-ring part="focus-ring" for="button" aria-hidden="true"><template shadowrootmode="open"><!----></template></md-focus-ring>
      <md-ripple part="ripple" for="button" aria-hidden="true"><template shadowrootmode="open"><!----><div class="surface"></div></template></md-ripple>
      <!--?lit$764986503$--><button id="button" class="button">
      <!--?lit$764986503$-->
      <span class="touch"></span>
      <!--?lit$764986503$--><slot name="icon"></slot>
      <span class="label"><slot></slot></span>
      <!--?lit$764986503$-->
    
    </button>
    </template>
        <!--?lit$764986503$--><md-icon slot="icon" aria-hidden="true"><template shadowrootmode="open"><!----><slot></slot></template><!--?lit$764986503$-->add</md-icon>
        <span class="button-content"><slot></slot></span>
        <!--?lit$764986503$--><span class="screenreader-only"><!--?lit$764986503$-->텍스트 셀 추가 <!--?lit$764986503$--></span>
      </md-text-button>
      <!--?lit$764986503$--> <colab-tooltip-trigger for="button" aria-hidden="true" id="tooltip" message="텍스트 셀 추가" shortcut=""><template shadowrootmode="open"><!----><!--?lit$764986503$--><!----><div><!--?lit$764986503$-->텍스트 셀 추가</div><!----><!--?--></template>
          </colab-tooltip-trigger><!--?--></template>
            <!--?lit$764986503$-->텍스트
          </colab-toolbar-button>
    <span class="colab-separator"></span>
    <colab-notebook-toolbar-run-button><template shadowrootmode="open"><!----><colab-toolbar-button class="split-button" icon="play_arrow" tooltipid="toolbar-run-button-tooltip" id="toolbar-run-button" tooltiptext="노트의 모든 셀 실행"><template shadowrootmode="open"><!----><md-text-button id="button" data-aria-disabled="false" value="" has-icon=""><template shadowrootmode="open" shadowrootdelegatesfocus><!---->
      <!--?lit$764986503$-->
      <div class="background"></div>
      <md-focus-ring part="focus-ring" for="button" aria-hidden="true"><template shadowrootmode="open"><!----></template></md-focus-ring>
      <md-ripple part="ripple" for="button" aria-hidden="true"><template shadowrootmode="open"><!----><div class="surface"></div></template></md-ripple>
      <!--?lit$764986503$--><button id="button" class="button">
      <!--?lit$764986503$-->
      <span class="touch"></span>
      <!--?lit$764986503$--><slot name="icon"></slot>
      <span class="label"><slot></slot></span>
      <!--?lit$764986503$-->
    
    </button>
    </template>
        <!--?lit$764986503$--><md-icon slot="icon" aria-hidden="true"><template shadowrootmode="open"><!----><slot></slot></template><!--?lit$764986503$-->play_arrow</md-icon>
        <span class="button-content"><slot></slot></span>
        <!--?lit$764986503$--><span class="screenreader-only"><!--?lit$764986503$-->노트의 모든 셀 실행 <!--?lit$764986503$--></span>
      </md-text-button>
      <!--?lit$764986503$--> <colab-tooltip-trigger for="button" aria-hidden="true" id="toolbar-run-button-tooltip" message="노트의 모든 셀 실행" shortcut=""><template shadowrootmode="open"><!----><!--?lit$764986503$--><!----><div><!--?lit$764986503$-->노트의 모든 셀 실행</div><!----><!--?--></template>
          </colab-tooltip-trigger><!--?--></template>
        <!--?lit$764986503$-->모두 실행
      </colab-toolbar-button>
      <!--?lit$764986503$--><md-icon-button data-aria-haspopup="menu" data-aria-expanded="false" id="toolbar-run-button-more-actions" data-aria-label="추가 작업" value=""><template shadowrootmode="open" shadowrootdelegatesfocus><!----><button id="button" class="icon-button  standard " aria-label="추가 작업" aria-haspopup="menu" aria-expanded="false">
        <!--?lit$764986503$--><md-focus-ring part="focus-ring" for="button" aria-hidden="true"><template shadowrootmode="open"><!----></template></md-focus-ring>
        <!--?lit$764986503$--><md-ripple aria-hidden="true"><template shadowrootmode="open"><!----><div class="surface"></div></template></md-ripple>
        <!--?lit$764986503$--><span class="icon"><slot></slot></span>
        <!--?lit$764986503$-->
        <!--?lit$764986503$--><span class="touch"></span>
  </button></template>
        <md-icon aria-hidden="true"><template shadowrootmode="open"><!----><slot></slot></template>arrow_drop_down</md-icon>
      </md-icon-button>
      <colab-tooltip-trigger aria-hidden="true" for="toolbar-run-button-more-actions" message="추가 작업"><template shadowrootmode="open"><!----><!--?lit$764986503$--><!----><div><!--?lit$764986503$-->추가 작업</div><!----><!--?--></template>
      </colab-tooltip-trigger>
      <!--?lit$764986503$--><md-menu positioning="popover" quick="" aria-labelledby="toolbar-run-button-more-actions" anchor="toolbar-run-button-more-actions" aria-hidden="true"><template shadowrootmode="open"><!---->
      <div class="menu   " popover="manual" style="display: none;">
        <!--?lit$764986503$--><md-elevation part="elevation" aria-hidden="true"><template shadowrootmode="open"><!----><span class="shadow"></span></template></md-elevation>
        <div class="items">
          <div class="item-padding"> <!--?lit$764986503$--><slot></slot> </div>
        </div>
      </div>
    </template>
    <!--?lit$764986503$--><!----><md-menu-item command="restart" md-menu-item="" tabindex="-1"><template shadowrootmode="open" shadowrootdelegatesfocus><!---->
      <li id="item" tabindex="0" role="menuitem" class="list-item"><!--?lit$764986503$-->
      <md-item><template shadowrootmode="open"><!---->
      <slot name="container"></slot>
      <slot class="non-text" name="start"></slot>
      <div class="text">
        <slot name="overline"></slot>
        <slot class="default-slot"></slot>
        <slot name="headline"></slot>
        <slot name="supporting-text"></slot>
      </div>
      <slot class="non-text" name="trailing-supporting-text"></slot>
      <slot class="non-text" name="end"></slot>
    </template>
        <div slot="container">
          <!--?lit$764986503$--> <md-ripple part="ripple" for="item" aria-hidden="true"><template shadowrootmode="open"><!----><div class="surface   "></div></template></md-ripple> <!--?lit$764986503$--> <md-focus-ring part="focus-ring" for="item" inward="" aria-hidden="true"><template shadowrootmode="open"><!----></template></md-focus-ring>
        </div>
        <slot name="start" slot="start"></slot>
        <slot name="end" slot="end"></slot>
        <!--?lit$764986503$-->
      <slot></slot>
      <slot name="overline" slot="overline"></slot>
      <slot name="headline" slot="headline"></slot>
      <slot name="supporting-text" slot="supporting-text"></slot>
      <slot name="trailing-supporting-text" slot="trailing-supporting-text"></slot>
    
      </md-item>
    </li>
    </template>
    <span slot="headline"><!--?lit$764986503$-->세션 다시 시작</span>
  </md-menu-item><!----><!----><md-menu-item command="restart-and-run-all" md-menu-item="" tabindex="-1"><template shadowrootmode="open" shadowrootdelegatesfocus><!---->
      <li id="item" tabindex="0" role="menuitem" class="list-item"><!--?lit$764986503$-->
      <md-item><template shadowrootmode="open"><!---->
      <slot name="container"></slot>
      <slot class="non-text" name="start"></slot>
      <div class="text">
        <slot name="overline"></slot>
        <slot class="default-slot"></slot>
        <slot name="headline"></slot>
        <slot name="supporting-text"></slot>
      </div>
      <slot class="non-text" name="trailing-supporting-text"></slot>
      <slot class="non-text" name="end"></slot>
    </template>
        <div slot="container">
          <!--?lit$764986503$--> <md-ripple part="ripple" for="item" aria-hidden="true"><template shadowrootmode="open"><!----><div class="surface   "></div></template></md-ripple> <!--?lit$764986503$--> <md-focus-ring part="focus-ring" for="item" inward="" aria-hidden="true"><template shadowrootmode="open"><!----></template></md-focus-ring>
        </div>
        <slot name="start" slot="start"></slot>
        <slot name="end" slot="end"></slot>
        <!--?lit$764986503$-->
      <slot></slot>
      <slot name="overline" slot="overline"></slot>
      <slot name="headline" slot="headline"></slot>
      <slot name="supporting-text" slot="supporting-text"></slot>
      <slot name="trailing-supporting-text" slot="trailing-supporting-text"></slot>
    
      </md-item>
    </li>
    </template>
    <span slot="headline"><!--?lit$764986503$-->세션 다시 시작 및 모두 실행</span>
  </md-menu-item><!----><!----><md-divider><template shadowrootmode="open"><!----></template></md-divider><!----><!----><md-menu-item command="interrupt" md-menu-item="" tabindex="-1"><template shadowrootmode="open" shadowrootdelegatesfocus><!---->
      <li id="item" tabindex="0" role="menuitem" class="list-item"><!--?lit$764986503$-->
      <md-item><template shadowrootmode="open"><!---->
      <slot name="container"></slot>
      <slot class="non-text" name="start"></slot>
      <div class="text">
        <slot name="overline"></slot>
        <slot class="default-slot"></slot>
        <slot name="headline"></slot>
        <slot name="supporting-text"></slot>
      </div>
      <slot class="non-text" name="trailing-supporting-text"></slot>
      <slot class="non-text" name="end"></slot>
    </template>
        <div slot="container">
          <!--?lit$764986503$--> <md-ripple part="ripple" for="item" aria-hidden="true"><template shadowrootmode="open"><!----><div class="surface   "></div></template></md-ripple> <!--?lit$764986503$--> <md-focus-ring part="focus-ring" for="item" inward="" aria-hidden="true"><template shadowrootmode="open"><!----></template></md-focus-ring>
        </div>
        <slot name="start" slot="start"></slot>
        <slot name="end" slot="end"></slot>
        <!--?lit$764986503$-->
      <slot></slot>
      <slot name="overline" slot="overline"></slot>
      <slot name="headline" slot="headline"></slot>
      <slot name="supporting-text" slot="supporting-text"></slot>
      <slot name="trailing-supporting-text" slot="trailing-supporting-text"></slot>
    
      </md-item>
    </li>
    </template>
    <span slot="headline"><!--?lit$764986503$-->실행 중단</span>
  </md-menu-item><!----><!----><md-menu-item command="clear-outputs" md-menu-item="" tabindex="0"><template shadowrootmode="open" shadowrootdelegatesfocus><!---->
      <li id="item" tabindex="0" role="menuitem" class="list-item   "><!--?lit$764986503$-->
      <md-item><template shadowrootmode="open"><!---->
      <slot name="container"></slot>
      <slot class="non-text" name="start"></slot>
      <div class="text">
        <slot name="overline"></slot>
        <slot class="default-slot"></slot>
        <slot name="headline"></slot>
        <slot name="supporting-text"></slot>
      </div>
      <slot class="non-text" name="trailing-supporting-text"></slot>
      <slot class="non-text" name="end"></slot>
    </template>
        <div slot="container">
          <!--?lit$764986503$--> <md-ripple part="ripple" for="item" aria-hidden="true"><template shadowrootmode="open"><!----><div class="surface   "></div></template></md-ripple> <!--?lit$764986503$--> <md-focus-ring part="focus-ring" for="item" inward="" aria-hidden="true"><template shadowrootmode="open"><!----></template></md-focus-ring>
        </div>
        <slot name="start" slot="start"></slot>
        <slot name="end" slot="end"></slot>
        <!--?lit$764986503$-->
      <slot></slot>
      <slot name="overline" slot="overline"></slot>
      <slot name="headline" slot="headline"></slot>
      <slot name="supporting-text" slot="supporting-text"></slot>
      <slot name="trailing-supporting-text" slot="trailing-supporting-text"></slot>
    
      </md-item>
    </li>
    </template>
    <span slot="headline"><!--?lit$764986503$-->모든 출력 지우기</span>
  </md-menu-item><!---->
  </md-menu><!--?--><!--?--></template>
    </colab-notebook-toolbar-run-button>
    <!--?lit$764986503$-->
    <!--?lit$764986503$-->
    <!--?lit$764986503$-->
    <!--?lit$764986503$-->
    <!--?lit$764986503$--> <span class="collapsed-options">
          <colab-last-saved-indicator aria-live="polite" aria-atomic="true"><template shadowrootmode="open"><!----><!--?--></template></colab-last-saved-indicator>
        </span>

    <span class="flex"></span>
    <!--?lit$764986503$-->
    <!--?lit$764986503$--><colab-connect-warning-button><template shadowrootmode="open"><!----><!--?lit$764986503$--><!--?--><!--?--></template></colab-connect-warning-button>
    <!--?lit$764986503$--><!--?lit$764986503$--><colab-connect-button><template shadowrootmode="open"><!----> <!--?lit$764986503$--> <!--?lit$764986503$--><md-icon-button id="connect-icon" class="icon-okay" data-aria-label="마지막으로 실행한 셀로 포커스 이동" value=""><template shadowrootmode="open" shadowrootdelegatesfocus><!----><button id="button" class="icon-button  standard " aria-label="마지막으로 실행한 셀로 포커스 이동">
        <!--?lit$764986503$--><md-focus-ring part="focus-ring" for="button" aria-hidden="true"><template shadowrootmode="open"><!----></template></md-focus-ring>
        <!--?lit$764986503$--><md-ripple aria-hidden="true"><template shadowrootmode="open"><!----><div class="surface   "></div></template></md-ripple>
        <!--?lit$764986503$--><span class="icon"><slot></slot></span>
        <!--?lit$764986503$-->
        <!--?lit$764986503$--><span class="touch"></span>
  </button></template>
            <md-icon aria-hidden="true"><template shadowrootmode="open"><!----><slot></slot></template><!--?lit$764986503$-->done</md-icon>
          </md-icon-button>
          <colab-tooltip-trigger for="connect-icon" id="connect-icon-tooltip" aria-hidden="true" message="마지막으로 실행한 셀로 포커스 이동"><template shadowrootmode="open"><!----><!--?lit$764986503$--><!----><div><!--?lit$764986503$-->마지막으로 실행한 셀로 포커스 이동</div><!----><!--?--></template>
          </colab-tooltip-trigger>
      <colab-toolbar-button id="connect" class="split-button" tooltipid="colab-connect-tooltip" tooltiptext="연결된 런타임:
Python 3 Google Compute Engine 백엔드
RAM: 1.28 GB/12.67 GB
디스크: 39.44 GB/107.72 GB"><template shadowrootmode="open"><!----><md-text-button id="button" value="" data-aria-disabled="false"><template shadowrootmode="open" shadowrootdelegatesfocus><!---->
      <!--?lit$764986503$-->
      <div class="background"></div>
      <md-focus-ring part="focus-ring" for="button" aria-hidden="true"><template shadowrootmode="open"><!----></template></md-focus-ring>
      <md-ripple part="ripple" for="button" aria-hidden="true"><template shadowrootmode="open"><!----><div class="surface"></div></template></md-ripple>
      <!--?lit$764986503$--><button id="button" class="button">
      <!--?lit$764986503$-->
      <span class="touch"></span>
      <!--?lit$764986503$--><slot name="icon"></slot>
      <span class="label"><slot></slot></span>
      <!--?lit$764986503$-->
    
    </button>
    </template>
        <!--?lit$764986503$-->
        <span class="button-content"><slot></slot></span>
        <!--?lit$764986503$--><span class="screenreader-only"><!--?lit$764986503$-->연결된 런타임:
Python 3 Google Compute Engine 백엔드
RAM: 1.28 GB/12.67 GB
디스크: 39.44 GB/107.72 GB <!--?lit$764986503$--></span>
      </md-text-button>
      <!--?lit$764986503$--> <colab-tooltip-trigger for="button" aria-hidden="true" id="colab-connect-tooltip" message="연결된 런타임:
Python 3 Google Compute Engine 백엔드
RAM: 1.28 GB/12.67 GB
디스크: 39.44 GB/107.72 GB" shortcut=""><template shadowrootmode="open"><!----><!--?lit$764986503$--><!----><div><!--?lit$764986503$-->연결된 런타임:</div><!----><!----><div><!--?lit$764986503$-->Python 3 Google Compute Engine 백엔드</div><!----><!----><div><!--?lit$764986503$-->RAM: 1.28 GB/12.67 GB</div><!----><!----><div><!--?lit$764986503$-->디스크: 39.44 GB/107.72 GB</div><!----><!--?--></template>
          </colab-tooltip-trigger><!--?--></template>
        <!--?lit$764986503$--> <div id="connect-button-resource-display">
          <!--?lit$764986503$--><colab-usage-sparkline class="ram" label="RAM"><template shadowrootmode="open"><!---->
      <div class="label"><!--?lit$764986503$-->RAM</div>
      <!--?lit$764986503$-->
      <canvas height="14" width="20"></canvas>
    </template></colab-usage-sparkline>
          <!--?lit$764986503$--><colab-usage-sparkline class="disks" label="디스크"><template shadowrootmode="open"><!---->
      <div class="label"><!--?lit$764986503$-->디스크</div>
      <!--?lit$764986503$-->
      <canvas height="14" width="20"></canvas>
    </template></colab-usage-sparkline>
        </div>
      </colab-toolbar-button>
      <!--?lit$764986503$--> <md-icon-button id="connect-dropdown" class="connect-dropdown" data-aria-expanded="false" data-aria-haspopup="menu" data-aria-label="추가 연결 옵션" value=""><template shadowrootmode="open" shadowrootdelegatesfocus><!----><button id="button" class="icon-button  standard " aria-label="추가 연결 옵션" aria-haspopup="menu" aria-expanded="false">
        <!--?lit$764986503$--><md-focus-ring part="focus-ring" for="button" aria-hidden="true"><template shadowrootmode="open"><!----></template></md-focus-ring>
        <!--?lit$764986503$--><md-ripple aria-hidden="true"><template shadowrootmode="open"><!----><div class="surface   "></div></template></md-ripple>
        <!--?lit$764986503$--><span class="icon"><slot></slot></span>
        <!--?lit$764986503$-->
        <!--?lit$764986503$--><span class="touch"></span>
  </button></template>
        <md-icon aria-hidden="true"><template shadowrootmode="open"><!----><slot></slot></template>arrow_drop_down</md-icon>
      </md-icon-button>
      <colab-tooltip-trigger for="connect-dropdown" id="connect-dropdown-tooltip" aria-hidden="true" message="추가 연결 옵션"><template shadowrootmode="open"><!----><!--?lit$764986503$--><!----><div><!--?lit$764986503$-->추가 연결 옵션</div><!----><!--?--></template>
      </colab-tooltip-trigger>
      <!--?lit$764986503$--><!--?--></template></colab-connect-button><!--?-->
    <!--?lit$764986503$-->
    <span class="collapsed-options">
      <!--?lit$764986503$--><span class="colab-separator"></span>
      <!--?lit$764986503$--> <md-icon-button id="share-button-toolbar" command="share" data-aria-label="노트북 공유" aria-describedby="share-button-toolbar-tooltip" value=""><template shadowrootmode="open" shadowrootdelegatesfocus><!----><button id="button" class="icon-button  standard " aria-label="노트북 공유">
        <!--?lit$764986503$--><md-focus-ring part="focus-ring" for="button" aria-hidden="true"><template shadowrootmode="open"><!----></template></md-focus-ring>
        <!--?lit$764986503$--><md-ripple aria-hidden="true"><template shadowrootmode="open"><!----><div class="surface   "></div></template></md-ripple>
        <!--?lit$764986503$--><span class="icon"><slot></slot></span>
        <!--?lit$764986503$-->
        <!--?lit$764986503$--><span class="touch"></span>
  </button></template>
            <md-icon filled="" aria-hidden="true"><template shadowrootmode="open"><!----><slot></slot></template><!--?lit$764986503$-->people</md-icon>
          </md-icon-button><colab-tooltip-trigger aria-hidden="true" for="share-button-toolbar" id="share-button-toolbar-tooltip"><template shadowrootmode="open"><!----><!--?lit$764986503$--><!----><div><!--?lit$764986503$-->노트북 공유</div><!----><!--?--></template>
        </colab-tooltip-trigger>
      <md-icon-button id="settings-button-toolbar" command="preferences" data-aria-label="설정 열기" aria-describedby="settings-button-toolbar-tooltip" value=""><template shadowrootmode="open" shadowrootdelegatesfocus><!----><button id="button" class="icon-button  standard " aria-label="설정 열기">
        <!--?lit$764986503$--><md-focus-ring part="focus-ring" for="button" aria-hidden="true"><template shadowrootmode="open"><!----></template></md-focus-ring>
        <!--?lit$764986503$--><md-ripple aria-hidden="true"><template shadowrootmode="open"><!----><div class="surface   "></div></template></md-ripple>
        <!--?lit$764986503$--><span class="icon"><slot></slot></span>
        <!--?lit$764986503$-->
        <!--?lit$764986503$--><span class="touch"></span>
  </button></template>
        <md-icon filled="" aria-hidden="true"><template shadowrootmode="open"><!----><slot></slot></template>settings</md-icon>
      </md-icon-button><colab-tooltip-trigger aria-hidden="true" for="settings-button-toolbar" id="settings-button-toolbar-tooltip"><template shadowrootmode="open"><!----><!--?lit$764986503$--><!----><div><!--?lit$764986503$-->설정 열기</div><!----><!--?--></template>
        </colab-tooltip-trigger>
      <!--?lit$764986503$-->
      <!--?lit$764986503$-->
    </span>
    <!--?lit$764986503$--><span class="colab-separator"></span>
    <!--?lit$764986503$--><md-icon-button toggle="" command="toggle-header" id="toggle-header-button" data-aria-label="헤더 공개 상태 전환" aria-describedby="toggle-header-button-tooltip" value=""><template shadowrootmode="open" shadowrootdelegatesfocus><!----><button id="button" class="icon-button  standard " aria-label="헤더 공개 상태 전환" aria-pressed="false">
        <!--?lit$764986503$--><md-focus-ring part="focus-ring" for="button" aria-hidden="true"><template shadowrootmode="open"><!----></template></md-focus-ring>
        <!--?lit$764986503$--><md-ripple aria-hidden="true"><template shadowrootmode="open"><!----><div class="surface   "></div></template></md-ripple>
        <!--?lit$764986503$--><span class="icon"><slot></slot></span>
        <!--?lit$764986503$-->
        <!--?lit$764986503$--><span class="touch"></span>
  </button></template>
    <md-icon aria-hidden="true"><template shadowrootmode="open"><!----><slot></slot></template>expand_less</md-icon>
    <md-icon slot="selected" aria-hidden="true"><template shadowrootmode="open"><!----><slot></slot></template>expand_more</md-icon>
  </md-icon-button><colab-tooltip-trigger aria-hidden="true" for="toggle-header-button" id="toggle-header-button-tooltip"><template shadowrootmode="open"><!----><!--?lit$764986503$--><!----><div><!--?lit$764986503$-->헤더 공개 상태 전환</div><!----><!--?--></template>
        </colab-tooltip-trigger><!--?--></colab-notebook-toolbar><div class="notebook-horizontal">
        <!--?lit$764986503$--><colab-left-pane role="complementary" aria-label="left pane"><!----><div class="colab-left-pane-nib layout vertical" role="toolbar" aria-orientation="vertical">
        <div class="left-pane-top"><!----><div class="left-pane-button">
        <!--?lit$764986503$--><md-icon-button toggle="" command="show-toc-pane" data-aria-label="목차" title="목차" value=""><template shadowrootmode="open" shadowrootdelegatesfocus><!----><button id="button" class="icon-button  standard " aria-label="목차" aria-pressed="false">
        <!--?lit$764986503$--><md-focus-ring part="focus-ring" for="button" aria-hidden="true"><template shadowrootmode="open"><!----></template></md-focus-ring>
        <!--?lit$764986503$--><md-ripple aria-hidden="true"><template shadowrootmode="open"><!----><div class="surface"></div></template></md-ripple>
        <!--?lit$764986503$--><span class="icon"><slot></slot></span>
        <!--?lit$764986503$-->
        <!--?lit$764986503$--><span class="touch"></span>
  </button></template>
      <md-icon aria-hidden="true"><template shadowrootmode="open"><!----><slot></slot></template><!--?lit$764986503$-->format_list_bulleted</md-icon>
    </md-icon-button> <!--?lit$764986503$-->
      </div><!----><div class="left-pane-button">
        <!--?lit$764986503$--><md-icon-button toggle="" command="find" data-aria-label="찾기 및 바꾸기" title="찾기 및 바꾸기" tabindex="-1" value=""><template shadowrootmode="open" shadowrootdelegatesfocus><!----><button id="button" class="icon-button  standard " aria-label="찾기 및 바꾸기" aria-pressed="false">
        <!--?lit$764986503$--><md-focus-ring part="focus-ring" for="button" aria-hidden="true"><template shadowrootmode="open"><!----></template></md-focus-ring>
        <!--?lit$764986503$--><md-ripple aria-hidden="true"><template shadowrootmode="open"><!----><div class="surface"></div></template></md-ripple>
        <!--?lit$764986503$--><span class="icon"><slot></slot></span>
        <!--?lit$764986503$-->
        <!--?lit$764986503$--><span class="touch"></span>
  </button></template>
      <md-icon aria-hidden="true"><template shadowrootmode="open"><!----><slot></slot></template><!--?lit$764986503$-->find_in_page</md-icon>
    </md-icon-button> <!--?lit$764986503$-->
      </div><!----><div class="left-pane-button">
        <!--?lit$764986503$--><md-icon-button toggle="" command="snippets" data-aria-label="코드 스니펫" title="코드 스니펫" tabindex="-1" value=""><template shadowrootmode="open" shadowrootdelegatesfocus><!----><button id="button" class="icon-button  standard " aria-label="코드 스니펫" aria-pressed="false">
        <!--?lit$764986503$--><md-focus-ring part="focus-ring" for="button" aria-hidden="true"><template shadowrootmode="open"><!----></template></md-focus-ring>
        <!--?lit$764986503$--><md-ripple aria-hidden="true"><template shadowrootmode="open"><!----><div class="surface"></div></template></md-ripple>
        <!--?lit$764986503$--><span class="icon"><slot></slot></span>
        <!--?lit$764986503$-->
        <!--?lit$764986503$--><span class="touch"></span>
  </button></template>
      <md-icon aria-hidden="true"><template shadowrootmode="open"><!----><slot></slot></template><!--?lit$764986503$-->code</md-icon>
    </md-icon-button> <!--?lit$764986503$-->
      </div><!----><div class="left-pane-button">
        <!--?lit$764986503$--><md-icon-button toggle="" command="open-user-secrets" data-aria-label="보안 비밀" title="보안 비밀" tabindex="-1" value=""><template shadowrootmode="open" shadowrootdelegatesfocus><!----><button id="button" class="icon-button  standard " aria-label="보안 비밀" aria-pressed="false">
        <!--?lit$764986503$--><md-focus-ring part="focus-ring" for="button" aria-hidden="true"><template shadowrootmode="open"><!----></template></md-focus-ring>
        <!--?lit$764986503$--><md-ripple aria-hidden="true"><template shadowrootmode="open"><!----><div class="surface   "></div></template></md-ripple>
        <!--?lit$764986503$--><span class="icon"><slot></slot></span>
        <!--?lit$764986503$-->
        <!--?lit$764986503$--><span class="touch"></span>
  </button></template>
      <md-icon aria-hidden="true"><template shadowrootmode="open"><!----><slot></slot></template><!--?lit$764986503$-->vpn_key</md-icon>
    </md-icon-button> <!--?lit$764986503$-->
      </div><!----><div class="left-pane-button">
        <!--?lit$764986503$--><md-icon-button toggle="" command="show-files" data-aria-label="파일" title="파일" tabindex="-1" value=""><template shadowrootmode="open" shadowrootdelegatesfocus><!----><button id="button" class="icon-button  standard " aria-label="파일" aria-pressed="false">
        <!--?lit$764986503$--><md-focus-ring part="focus-ring" for="button" aria-hidden="true"><template shadowrootmode="open"><!----></template></md-focus-ring>
        <!--?lit$764986503$--><md-ripple aria-hidden="true"><template shadowrootmode="open"><!----><div class="surface"></div></template></md-ripple>
        <!--?lit$764986503$--><span class="icon"><slot></slot></span>
        <!--?lit$764986503$-->
        <!--?lit$764986503$--><span class="touch"></span>
  </button></template>
      <md-icon aria-hidden="true"><template shadowrootmode="open"><!----><slot></slot></template><!--?lit$764986503$-->folder</md-icon>
    </md-icon-button> <!--?lit$764986503$-->
      </div></div>
      </div></colab-left-pane>
        <div class="layout vertical grow">
          <colab-tab-layout-container class="layout horizontal grow flexible-tabs"><!----> <div class="layout horizontal tab-pane-parent">
      <!--?lit$764986503$--> <div class="layout vertical tab-pane-parent">
      <!--?lit$764986503$--><colab-tab-pane class="layout vertical grow no-header focused" align="horizontal"><!----> <div class="layout vertical grow">
    <div class="tab-pane-header layout horizontal noshrink">
      <md-tabs><template shadowrootmode="open"><!---->
      <div class="tabs">
        <slot></slot>
      </div>
      <md-divider part="divider"><template shadowrootmode="open"><!----></template></md-divider>
    </template><md-primary-tab noink="" title="" aria-labelledby="tab-title-vA-m5WCPNXTW" class="selected-tab" tabindex="0" md-tab="" active=""><template shadowrootmode="open"><!----><div class="button" role="presentation">
      <md-focus-ring part="focus-ring" inward="" aria-hidden="true"><template shadowrootmode="open"><!----></template></md-focus-ring>
      <md-elevation part="elevation" aria-hidden="true"><template shadowrootmode="open"><!----><span class="shadow"></span></template></md-elevation>
      <md-ripple aria-hidden="true"><template shadowrootmode="open"><!----><div class="surface   "></div></template></md-ripple>
      <div role="presentation" class="content  has-label stacked ">
        <slot name="icon"></slot>
        <slot></slot>
        <!--?lit$764986503$--><div class="indicator"></div>
      </div>
      <!--?lit$764986503$-->
    </div></template>
          <div class="colab-tab-header"> <!--?lit$764986503$--><span class="colab-tab-title" id="tab-title-vA-m5WCPNXTW">
          <!--?lit$764986503$--><!--?lit$764986503$-->노트북<!--?-->
        </span> <!--?lit$764986503$--> </div>
        </md-primary-tab></md-tabs>
      <div class="layout grow"></div>
      <!--?lit$764986503$--><md-icon-button data-aria-expanded="false" data-aria-haspopup="menu" id="tab-pane-4-more-actions-button" data-aria-label="추가 탭 작업" value=""><template shadowrootmode="open" shadowrootdelegatesfocus><!----><button id="button" class="icon-button  standard " aria-label="추가 탭 작업" aria-haspopup="menu" aria-expanded="false">
        <!--?lit$764986503$--><md-focus-ring part="focus-ring" for="button" aria-hidden="true"><template shadowrootmode="open"><!----></template></md-focus-ring>
        <!--?lit$764986503$--><md-ripple aria-hidden="true"><template shadowrootmode="open"><!----><div class="surface   "></div></template></md-ripple>
        <!--?lit$764986503$--><span class="icon"><slot></slot></span>
        <!--?lit$764986503$-->
        <!--?lit$764986503$--><span class="touch"></span>
  </button></template>
      <md-icon aria-hidden="true"><template shadowrootmode="open"><!----><slot></slot></template><!--?lit$764986503$-->more_horiz</md-icon>
    </md-icon-button>
    <colab-tooltip-trigger aria-hidden="true" for="tab-pane-4-more-actions-button" message="추가 탭 작업"><template shadowrootmode="open"><!----><!--?lit$764986503$--><!----><div><!--?lit$764986503$-->추가 탭 작업</div><!----><!--?--></template>
    </colab-tooltip-trigger><!--?lit$764986503$-->
    </div>
    <div class="layout vertical grow tab-pane-container"> <colab-tab class="layout vertical grow notebook-tab-content selected-tab"><!----> <div class="overflow-flexbox-workaround">
      <colab-shaded-scroller ignore-dom-changes="" tabindex="-1" role="main" id="notebook-main" class="notebook-container" aria-label="노트북">
        <div class="notebook-scrolling-horizontal-container">
          <div class="notebook-scrolling-horizontal">
            <div class="notebook-content-background">
              <!--?lit$764986503$-->
              <div class="notebook-content ">
                <!--?lit$764986503$--><div class="add-cell">
      <div class="add-cell-buttons">
        <md-outlined-button class="add-code add-button" data-aria-label="코드 셀 추가
Ctrl+M B" title="코드 셀 추가
Ctrl+M B" value="" has-icon=""><template shadowrootmode="open" shadowrootdelegatesfocus><!---->
      <!--?lit$764986503$--><div class="outline"></div>
      <div class="background"></div>
      <md-focus-ring part="focus-ring" for="button" aria-hidden="true"><template shadowrootmode="open"><!----></template></md-focus-ring>
      <md-ripple part="ripple" for="button" aria-hidden="true"><template shadowrootmode="open"><!----><div class="surface   "></div></template></md-ripple>
      <!--?lit$764986503$--><button id="button" class="button" aria-label="코드 셀 추가
Ctrl+M B">
      <!--?lit$764986503$-->
      <span class="touch"></span>
      <!--?lit$764986503$--><slot name="icon"></slot>
      <span class="label"><slot></slot></span>
      <!--?lit$764986503$-->
    
    </button>
    </template>
          <md-icon slot="icon" aria-hidden="true"><template shadowrootmode="open"><!----><slot></slot></template>add</md-icon>
          <!--?lit$764986503$-->코드
        </md-outlined-button>
        <md-outlined-button class="add-text add-button" data-aria-label="텍스트 셀 추가" title="텍스트 셀 추가" value="" has-icon=""><template shadowrootmode="open" shadowrootdelegatesfocus><!---->
      <!--?lit$764986503$--><div class="outline"></div>
      <div class="background"></div>
      <md-focus-ring part="focus-ring" for="button" aria-hidden="true"><template shadowrootmode="open"><!----></template></md-focus-ring>
      <md-ripple part="ripple" for="button" aria-hidden="true"><template shadowrootmode="open"><!----><div class="surface   "></div></template></md-ripple>
      <!--?lit$764986503$--><button id="button" class="button" aria-label="텍스트 셀 추가">
      <!--?lit$764986503$-->
      <span class="touch"></span>
      <!--?lit$764986503$--><slot name="icon"></slot>
      <span class="label"><slot></slot></span>
      <!--?lit$764986503$-->
    
    </button>
    </template>
          <md-icon slot="icon" aria-hidden="true"><template shadowrootmode="open"><!----><slot></slot></template>add</md-icon>
          <!--?lit$764986503$-->텍스트
        </md-outlined-button>
        <!--?lit$764986503$-->
        <!--?lit$764986503$-->
      </div><hr>
    </div>
                <div class="notebook-cell-list"><div class="cell code notebook-cell code-has-output" id="cell-BtKd9g2hNXTS" tabindex="-1" role="region" aria-label="셀 0: 코드 셀: " style=""><div class="cell-tag-editor sticky"></div><div class="agent-focus-label">
      <md-icon aria-hidden="true"><template shadowrootmode="open"><!----><slot></slot></template>spark</md-icon>
      <!--?lit$764986503$-->Gemini
    </div><div class="cell-toolbar sticky"></div><div class="main-content"><div class="cell-contents"><div class="cell-mask"></div><span class="imported-info-area"></span><div class="codecell-input-output">
      <div class="inputarea horizontal layout code">
        <div class="cell-gutter">
          <!-- Bounding range for vertical scrolling of icons -->
          <div class="cell-execution-container">
            <colab-run-button><template shadowrootmode="open"><!----> <div class="cell-execution">
      <button id="run-button" aria-describedby="run-button-tooltip" aria-label="셀 실행" aria-disabled="false">
        <span aria-hidden="true" class="cell-execution-indicator"><!--?lit$764986503$-->
<svg xmlns="http://www.w3.org/2000/svg" viewBox="0 0 24 24">
  <!--?lit$764986503$-->
  <mask id="playSymbolMask">
    <rect width="100%" height="100%" fill="white"></rect>
    <polygon points="10,8 17,12 10,16" fill="black"></polygon>
  </mask>
  <circle cx="12" cy="12" r="7.8" mask="url(#playSymbolMask)" id="filledCircle"></circle>
</svg></span>
      </button>
      <!--?lit$764986503$--><colab-tooltip-trigger for="run-button" id="run-button-tooltip" aria-hidden="true" message="셀 실행 (Ctrl+Enter)
마지막 변경 이후 실행된 셀

임민우컴퓨터공학과에 의해 실행됨
오전 10:38 (0분 전)
0.006초 내에 실행됨"><template shadowrootmode="open"><!----><!--?lit$764986503$--><!----><div><!--?lit$764986503$-->셀 실행 (Ctrl+Enter)</div><!----><!----><div><!--?lit$764986503$-->마지막 변경 이후 실행된 셀</div><!----><!----><br><!----><!----><div><!--?lit$764986503$-->임민우컴퓨터공학과에 의해 실행됨</div><!----><!----><div><!--?lit$764986503$-->오전 10:38 (0분 전)</div><!----><!----><div><!--?lit$764986503$-->0.006초 내에 실행됨</div><!----><!--?--></template>
    </colab-tooltip-trigger> <!--?lit$764986503$--><div class="status">
      <div class="execution-count"><!--?lit$764986503$-->[2]</div>
      <!--?lit$764986503$--><div class="last-run">
      <md-icon aria-hidden="true"><template shadowrootmode="open"><!----><slot></slot></template><!--?lit$764986503$-->check</md-icon>
      <div><!--?lit$764986503$-->0초</div>
    </div>
    </div>
    </div></template></colab-run-button>
          </div>
        </div>
      <div class="editor flex lazy-editor" style=""><pre tabindex="0" class="lazy-virtualized" style="font-size: 14px; line-height: 19px;"><pre class="lazy-gutter"></pre><pre class="monaco-colorized colab colab colab" data-lang="notebook-python"><span><span class="mtk6">def</span><span class="mtk1">&nbsp;</span><span class="mtk15">factorial</span><span class="mtk1">(</span><span class="mtk16">n</span><span class="mtk1">):</span></span><br><span><span class="mtk1">&nbsp;&nbsp;</span><span class="mtk21">"""returns&nbsp;n!"""</span></span><br><span><span class="mtk1">&nbsp;&nbsp;</span><span class="mtk19">return</span><span class="mtk1">&nbsp;</span><span class="mtk12">1</span><span class="mtk1">&nbsp;</span><span class="mtk19">if</span><span class="mtk1">&nbsp;n&nbsp;&lt;&nbsp;</span><span class="mtk12">2</span><span class="mtk1">&nbsp;</span><span class="mtk19">else</span><span class="mtk1">&nbsp;n&nbsp;*&nbsp;factorial(n</span><span class="mtk12">-1</span><span class="mtk1">)</span></span><br><span><span></span></span><br><span><span class="mtk15">print</span><span class="mtk1">(factorial(</span><span class="mtk12">42</span><span class="mtk1">))</span></span><br><span><span class="mtk15">print</span><span class="mtk1">(factorial.</span><span class="mtk16">__doc__</span><span class="mtk1">)</span></span><br><span><span class="mtk15">print</span><span class="mtk1">(</span><span class="mtk14">type</span><span class="mtk1">(factorial))</span></span><br></pre><colab-read-only-cell-placeholder style="display: none;"><template shadowrootmode="open"><!----><div><!--?lit$764986503$-->코딩을 시작하거나 AI로 코드를 <span tabindex="0" role="button" class="link">생성</span>하세요.</div></template></colab-read-only-cell-placeholder></pre></div><colab-form class="formview vertical layout flex"><div class="widget-area vertical layout"></div></colab-form></div>
    <div class="output" aria-label="셀 0 출력" role="region"><!----> <div class="output-header"> </div>
        <div class="output-content">
          <div class="output-info"><colab-output-info><template shadowrootmode="open"><!----><md-icon-button data-aria-expanded="false" data-aria-haspopup="menu" aria-describedby="button-output-actions-tooltip" data-aria-label="코드 셀 출력 작업" id="button-output-actions" value=""><template shadowrootmode="open" shadowrootdelegatesfocus><!----><button id="button" class="icon-button  standard " aria-label="코드 셀 출력 작업" aria-haspopup="menu" aria-expanded="false">
        <!--?lit$764986503$--><md-focus-ring part="focus-ring" for="button" aria-hidden="true"><template shadowrootmode="open"><!----></template></md-focus-ring>
        <!--?lit$764986503$--><md-ripple aria-hidden="true"><template shadowrootmode="open"><!----><div class="surface   "></div></template></md-ripple>
        <!--?lit$764986503$--><span class="icon"><slot></slot></span>
        <!--?lit$764986503$-->
        <!--?lit$764986503$--><span class="touch"></span>
  </button></template>
        <md-icon aria-hidden="true"><template shadowrootmode="open"><!----><slot></slot></template><!--?lit$764986503$--><svg viewBox="0 0 24 24"><!--?lit$764986503$--><path d="m15.9 3.07c-4.32 0.0742-8.64-0.0355-13 0.0568-1.37 0.307-1.74 2.1-1.41 3.26 0.469 0.606 1.86 0.384 1.66-0.525 0.0448-0.329-0.183-0.93 0.354-0.766h13.3v1.53h1.71c0.0709-1.13 0.141-2.62-0.968-3.3-0.511-0.264-1.11-0.252-1.67-0.259zm2.94 6.84v4.87c1.62-1.62 3.24-3.24 4.87-4.87h-4.87zm0 0h-1.71v3.43l1.57 1.57c0.32-1.65 0.0556-3.34 0.135-5zm-1.71 3.43v-3.43h-3.43c1.14 1.14 2.29 2.29 3.43 3.43zm1.4 4.27h-1.71v1.48h-13.6v-1.48h-1.71c-0.0473 1.15-0.16 2.72 1.09 3.29 1.47 0.506 3.02 0.0265 4.53 0.192 3.34-0.0051 6.68 0.0336 10-0.0245 1.49-0.366 1.56-2.22 1.42-3.45zm-10.1-1.12c-0.398-0.483-0.796-0.967-1.19-1.45 0.59-0.683 1.18-1.37 1.77-2.05h-8.67v-2h8.67c-0.59-0.683-1.18-1.37-1.77-2.05 0.398-0.483 0.796-0.967 1.19-1.45 1.28 1.5 2.56 3 3.84 4.5-1.28 1.5-2.56 3-3.84 4.5z"></path></svg></md-icon>
      </md-icon-button>
      <colab-tooltip-trigger aria-hidden="true" id="button-output-actions-tooltip" for="button-output-actions" message="코드 셀 출력 작업"><template shadowrootmode="open"><!----><!--?lit$764986503$--><!----><div><!--?lit$764986503$-->코드 셀 출력 작업</div><!----><!--?--></template></colab-tooltip-trigger></template></colab-output-info></div>
          <div class="output-iframe-container">
            <div class="output-iframe-sizer" style="min-height: 0px;"> <div><div><colab-static-output-renderer tabindex="0" role="group"><div><div class="stream output-id-1 output_text"><pre>1405006117752879898543142606244511569936384000000000
returns n!
&lt;class 'function'&gt;
</pre></div></div><div></div></colab-static-output-renderer></div></div><div><div></div></div></div>
          </div>
        </div></div><colab-cell-next-steps><template shadowrootmode="open"><!----></template></colab-cell-next-steps></div></div></div><div class="add-cell">
      <div class="add-cell-buttons">
        <md-outlined-button class="add-code add-button" data-aria-label="코드 셀 추가
Ctrl+M B" title="코드 셀 추가
Ctrl+M B" value="" has-icon=""><template shadowrootmode="open" shadowrootdelegatesfocus><!---->
      <!--?lit$764986503$--><div class="outline"></div>
      <div class="background"></div>
      <md-focus-ring part="focus-ring" for="button" aria-hidden="true"><template shadowrootmode="open"><!----></template></md-focus-ring>
      <md-ripple part="ripple" for="button" aria-hidden="true"><template shadowrootmode="open"><!----><div class="surface   "></div></template></md-ripple>
      <!--?lit$764986503$--><button id="button" class="button" aria-label="코드 셀 추가
Ctrl+M B">
      <!--?lit$764986503$-->
      <span class="touch"></span>
      <!--?lit$764986503$--><slot name="icon"></slot>
      <span class="label"><slot></slot></span>
      <!--?lit$764986503$-->
    
    </button>
    </template>
          <md-icon slot="icon" aria-hidden="true"><template shadowrootmode="open"><!----><slot></slot></template>add</md-icon>
          <!--?lit$764986503$-->코드
        </md-outlined-button>
        <md-outlined-button class="add-text add-button" data-aria-label="텍스트 셀 추가" title="텍스트 셀 추가" value="" has-icon=""><template shadowrootmode="open" shadowrootdelegatesfocus><!---->
      <!--?lit$764986503$--><div class="outline"></div>
      <div class="background"></div>
      <md-focus-ring part="focus-ring" for="button" aria-hidden="true"><template shadowrootmode="open"><!----></template></md-focus-ring>
      <md-ripple part="ripple" for="button" aria-hidden="true"><template shadowrootmode="open"><!----><div class="surface   "></div></template></md-ripple>
      <!--?lit$764986503$--><button id="button" class="button" aria-label="텍스트 셀 추가">
      <!--?lit$764986503$-->
      <span class="touch"></span>
      <!--?lit$764986503$--><slot name="icon"></slot>
      <span class="label"><slot></slot></span>
      <!--?lit$764986503$-->
    
    </button>
    </template>
          <md-icon slot="icon" aria-hidden="true"><template shadowrootmode="open"><!----><slot></slot></template>add</md-icon>
          <!--?lit$764986503$-->텍스트
        </md-outlined-button>
        <!--?lit$764986503$-->
        <!--?lit$764986503$-->
      </div><hr>
    </div></div><div class="cell code notebook-cell code-has-output" id="cell-80VMtqYINYLP" tabindex="-1" role="region" aria-label="셀 1: 코드 셀: " style="opacity: 1;"><div class="cell-tag-editor sticky"></div><div class="agent-focus-label">
      <md-icon aria-hidden="true"><template shadowrootmode="open"><!----><slot></slot></template>spark</md-icon>
      <!--?lit$764986503$-->Gemini
    </div><div class="cell-toolbar sticky"></div><div class="main-content"><div class="cell-contents"><div class="cell-mask"></div><span class="imported-info-area"></span><div class="codecell-input-output">
      <div class="inputarea horizontal layout code">
        <div class="cell-gutter">
          <!-- Bounding range for vertical scrolling of icons -->
          <div class="cell-execution-container">
            <colab-run-button><template shadowrootmode="open"><!----> <div class="cell-execution">
      <button id="run-button" aria-describedby="run-button-tooltip" aria-label="셀 실행" aria-disabled="false">
        <span aria-hidden="true" class="cell-execution-indicator"><!--?lit$764986503$-->
<svg xmlns="http://www.w3.org/2000/svg" viewBox="0 0 24 24">
  <!--?lit$764986503$-->
  <mask id="playSymbolMask">
    <rect width="100%" height="100%" fill="white"></rect>
    <polygon points="10,8 17,12 10,16" fill="black"></polygon>
  </mask>
  <circle cx="12" cy="12" r="7.8" mask="url(#playSymbolMask)" id="filledCircle"></circle>
</svg></span>
      </button>
      <!--?lit$764986503$--><colab-tooltip-trigger for="run-button" id="run-button-tooltip" aria-hidden="true" message="셀 실행 (Ctrl+Enter)
마지막 변경 이후 실행된 셀

임민우컴퓨터공학과에 의해 실행됨
오전 10:39 (0분 전)
0.051초 내에 실행됨"><template shadowrootmode="open"><!----><!--?lit$764986503$--><!----><div><!--?lit$764986503$-->셀 실행 (Ctrl+Enter)</div><!----><!----><div><!--?lit$764986503$-->마지막 변경 이후 실행된 셀</div><!----><!----><br><!----><!----><div><!--?lit$764986503$-->임민우컴퓨터공학과에 의해 실행됨</div><!----><!----><div><!--?lit$764986503$-->오전 10:39 (0분 전)</div><!----><!----><div><!--?lit$764986503$-->0.051초 내에 실행됨</div><!----><!--?--></template>
    </colab-tooltip-trigger> <!--?lit$764986503$--><div class="status">
      <div class="execution-count"><!--?lit$764986503$-->[3]</div>
      <!--?lit$764986503$--><div class="last-run">
      <md-icon aria-hidden="true"><template shadowrootmode="open"><!----><slot></slot></template><!--?lit$764986503$-->check</md-icon>
      <div><!--?lit$764986503$-->0초</div>
    </div>
    </div>
    </div></template></colab-run-button>
          </div>
        </div>
      <div class="editor flex lazy-editor" style=""><pre tabindex="0" class="lazy-virtualized" style="font-size: 14px; line-height: 19px;"><pre class="lazy-gutter"></pre><pre class="monaco-colorized colab colab colab" data-lang="notebook-python"><span><span class="mtk15">help</span><span class="mtk1">(factorial)</span></span><br></pre><colab-read-only-cell-placeholder style="display: none;"><template shadowrootmode="open"><!----><div><!--?lit$764986503$-->코딩을 시작하거나 AI로 코드를 <span tabindex="0" role="button" class="link">생성</span>하세요.</div></template></colab-read-only-cell-placeholder></pre></div><colab-form class="formview vertical layout flex"><div class="widget-area vertical layout"></div></colab-form></div>
    <div class="output" aria-label="셀 1 출력" role="region"><!----> <div class="output-header"> </div>
        <div class="output-content">
          <div class="output-info"><colab-output-info><template shadowrootmode="open"><!----><md-icon-button data-aria-expanded="false" data-aria-haspopup="menu" aria-describedby="button-output-actions-tooltip" data-aria-label="코드 셀 출력 작업" id="button-output-actions" value=""><template shadowrootmode="open" shadowrootdelegatesfocus><!----><button id="button" class="icon-button  standard " aria-label="코드 셀 출력 작업" aria-haspopup="menu" aria-expanded="false">
        <!--?lit$764986503$--><md-focus-ring part="focus-ring" for="button" aria-hidden="true"><template shadowrootmode="open"><!----></template></md-focus-ring>
        <!--?lit$764986503$--><md-ripple aria-hidden="true"><template shadowrootmode="open"><!----><div class="surface   "></div></template></md-ripple>
        <!--?lit$764986503$--><span class="icon"><slot></slot></span>
        <!--?lit$764986503$-->
        <!--?lit$764986503$--><span class="touch"></span>
  </button></template>
        <md-icon aria-hidden="true"><template shadowrootmode="open"><!----><slot></slot></template><!--?lit$764986503$--><svg viewBox="0 0 24 24"><!--?lit$764986503$--><path d="m15.9 3.07c-4.32 0.0742-8.64-0.0355-13 0.0568-1.37 0.307-1.74 2.1-1.41 3.26 0.469 0.606 1.86 0.384 1.66-0.525 0.0448-0.329-0.183-0.93 0.354-0.766h13.3v1.53h1.71c0.0709-1.13 0.141-2.62-0.968-3.3-0.511-0.264-1.11-0.252-1.67-0.259zm2.94 6.84v4.87c1.62-1.62 3.24-3.24 4.87-4.87h-4.87zm0 0h-1.71v3.43l1.57 1.57c0.32-1.65 0.0556-3.34 0.135-5zm-1.71 3.43v-3.43h-3.43c1.14 1.14 2.29 2.29 3.43 3.43zm1.4 4.27h-1.71v1.48h-13.6v-1.48h-1.71c-0.0473 1.15-0.16 2.72 1.09 3.29 1.47 0.506 3.02 0.0265 4.53 0.192 3.34-0.0051 6.68 0.0336 10-0.0245 1.49-0.366 1.56-2.22 1.42-3.45zm-10.1-1.12c-0.398-0.483-0.796-0.967-1.19-1.45 0.59-0.683 1.18-1.37 1.77-2.05h-8.67v-2h8.67c-0.59-0.683-1.18-1.37-1.77-2.05 0.398-0.483 0.796-0.967 1.19-1.45 1.28 1.5 2.56 3 3.84 4.5-1.28 1.5-2.56 3-3.84 4.5z"></path></svg></md-icon>
      </md-icon-button>
      <colab-tooltip-trigger aria-hidden="true" id="button-output-actions-tooltip" for="button-output-actions" message="코드 셀 출력 작업"><template shadowrootmode="open"><!----><!--?lit$764986503$--><!----><div><!--?lit$764986503$-->코드 셀 출력 작업</div><!----><!--?--></template></colab-tooltip-trigger></template></colab-output-info></div>
          <div class="output-iframe-container">
            <div class="output-iframe-sizer" style="min-height: 0px;"> <div><div><colab-static-output-renderer tabindex="0" role="group"><div><div class="stream output-id-1 output_text"><pre>Help on function factorial in module __main__:

factorial(n)
    returns n!

</pre></div></div><div></div></colab-static-output-renderer></div></div><div><div></div></div></div>
          </div>
        </div></div><colab-cell-next-steps><template shadowrootmode="open"><!----></template></colab-cell-next-steps></div></div></div><div class="add-cell">
      <div class="add-cell-buttons">
        <md-outlined-button class="add-code add-button" data-aria-label="코드 셀 추가
Ctrl+M B" title="코드 셀 추가
Ctrl+M B" value="" has-icon=""><template shadowrootmode="open" shadowrootdelegatesfocus><!---->
      <!--?lit$764986503$--><div class="outline"></div>
      <div class="background"></div>
      <md-focus-ring part="focus-ring" for="button" aria-hidden="true"><template shadowrootmode="open"><!----></template></md-focus-ring>
      <md-ripple part="ripple" for="button" aria-hidden="true"><template shadowrootmode="open"><!----><div class="surface   "></div></template></md-ripple>
      <!--?lit$764986503$--><button id="button" class="button" aria-label="코드 셀 추가
Ctrl+M B">
      <!--?lit$764986503$-->
      <span class="touch"></span>
      <!--?lit$764986503$--><slot name="icon"></slot>
      <span class="label"><slot></slot></span>
      <!--?lit$764986503$-->
    
    </button>
    </template>
          <md-icon slot="icon" aria-hidden="true"><template shadowrootmode="open"><!----><slot></slot></template>add</md-icon>
          <!--?lit$764986503$-->코드
        </md-outlined-button>
        <md-outlined-button class="add-text add-button" data-aria-label="텍스트 셀 추가" title="텍스트 셀 추가" value="" has-icon=""><template shadowrootmode="open" shadowrootdelegatesfocus><!---->
      <!--?lit$764986503$--><div class="outline"></div>
      <div class="background"></div>
      <md-focus-ring part="focus-ring" for="button" aria-hidden="true"><template shadowrootmode="open"><!----></template></md-focus-ring>
      <md-ripple part="ripple" for="button" aria-hidden="true"><template shadowrootmode="open"><!----><div class="surface   "></div></template></md-ripple>
      <!--?lit$764986503$--><button id="button" class="button" aria-label="텍스트 셀 추가">
      <!--?lit$764986503$-->
      <span class="touch"></span>
      <!--?lit$764986503$--><slot name="icon"></slot>
      <span class="label"><slot></slot></span>
      <!--?lit$764986503$-->
    
    </button>
    </template>
          <md-icon slot="icon" aria-hidden="true"><template shadowrootmode="open"><!----><slot></slot></template>add</md-icon>
          <!--?lit$764986503$-->텍스트
        </md-outlined-button>
        <!--?lit$764986503$-->
        <!--?lit$764986503$-->
      </div><hr>
    </div></div><div class="cell code notebook-cell code-has-output" id="cell-nBIVN7HGNYN2" tabindex="-1" role="region" aria-label="셀 2: 코드 셀: " style="opacity: 1;"><div class="cell-tag-editor sticky"></div><div class="agent-focus-label">
      <md-icon aria-hidden="true"><template shadowrootmode="open"><!----><slot></slot></template>spark</md-icon>
      <!--?lit$764986503$-->Gemini
    </div><div class="cell-toolbar sticky"></div><div class="main-content"><div class="cell-contents"><div class="cell-mask"></div><span class="imported-info-area"></span><div class="codecell-input-output">
      <div class="inputarea horizontal layout code">
        <div class="cell-gutter">
          <!-- Bounding range for vertical scrolling of icons -->
          <div class="cell-execution-container">
            <colab-run-button><template shadowrootmode="open"><!----> <div class="cell-execution">
      <button id="run-button" aria-describedby="run-button-tooltip" aria-label="셀 실행" aria-disabled="false">
        <span aria-hidden="true" class="cell-execution-indicator"><!--?lit$764986503$-->
<svg xmlns="http://www.w3.org/2000/svg" viewBox="0 0 24 24">
  <!--?lit$764986503$-->
  <mask id="playSymbolMask">
    <rect width="100%" height="100%" fill="white"></rect>
    <polygon points="10,8 17,12 10,16" fill="black"></polygon>
  </mask>
  <circle cx="12" cy="12" r="7.8" mask="url(#playSymbolMask)" id="filledCircle"></circle>
</svg></span>
      </button>
      <!--?lit$764986503$--><colab-tooltip-trigger for="run-button" id="run-button-tooltip" aria-hidden="true" message="셀 실행 (Ctrl+Enter)
마지막 변경 이후 실행된 셀

임민우컴퓨터공학과에 의해 실행됨
오전 10:40 (0분 전)
0.003초 내에 실행됨"><template shadowrootmode="open"><!----><!--?lit$764986503$--><!----><div><!--?lit$764986503$-->셀 실행 (Ctrl+Enter)</div><!----><!----><div><!--?lit$764986503$-->마지막 변경 이후 실행된 셀</div><!----><!----><br><!----><!----><div><!--?lit$764986503$-->임민우컴퓨터공학과에 의해 실행됨</div><!----><!----><div><!--?lit$764986503$-->오전 10:40 (0분 전)</div><!----><!----><div><!--?lit$764986503$-->0.003초 내에 실행됨</div><!----><!--?--></template>
    </colab-tooltip-trigger> <!--?lit$764986503$--><div class="status">
      <div class="execution-count"><!--?lit$764986503$-->[5]</div>
      <!--?lit$764986503$--><div class="last-run">
      <md-icon aria-hidden="true"><template shadowrootmode="open"><!----><slot></slot></template><!--?lit$764986503$-->check</md-icon>
      <div><!--?lit$764986503$-->0초</div>
    </div>
    </div>
    </div></template></colab-run-button>
          </div>
        </div>
      <div class="editor flex lazy-editor" style=""><pre tabindex="0" class="lazy-virtualized" style="font-size: 14px; line-height: 19px;"><pre class="lazy-gutter"></pre><pre class="monaco-colorized colab colab colab" data-lang="notebook-python"><span><span class="mtk1">fact&nbsp;=&nbsp;factorial</span></span><br><span><span class="mtk1">fact</span></span><br><span><span class="mtk15">print</span><span class="mtk1">(fact(</span><span class="mtk12">5</span><span class="mtk1">))</span></span><br><span><span class="mtk15">print</span><span class="mtk1">(</span><span class="mtk15">map</span><span class="mtk1">(factorial,&nbsp;</span><span class="mtk15">range</span><span class="mtk1">(</span><span class="mtk12">11</span><span class="mtk1">)))</span></span><br><span><span class="mtk15">print</span><span class="mtk1">(</span><span class="mtk14">list</span><span class="mtk1">(</span><span class="mtk15">map</span><span class="mtk1">(fact,&nbsp;</span><span class="mtk15">range</span><span class="mtk1">(</span><span class="mtk12">11</span><span class="mtk1">))))</span></span><br></pre><colab-read-only-cell-placeholder style="display: none;"><template shadowrootmode="open"><!----><div><!--?lit$764986503$-->코딩을 시작하거나 AI로 코드를 <span tabindex="0" role="button" class="link">생성</span>하세요.</div></template></colab-read-only-cell-placeholder></pre></div><colab-form class="formview vertical layout flex"><div class="widget-area vertical layout"></div></colab-form></div>
    <div class="output" aria-label="셀 2 출력" role="region"><!----> <div class="output-header"> </div>
        <div class="output-content">
          <div class="output-info"><colab-output-info><template shadowrootmode="open"><!----><md-icon-button data-aria-expanded="false" data-aria-haspopup="menu" aria-describedby="button-output-actions-tooltip" data-aria-label="코드 셀 출력 작업" id="button-output-actions" value=""><template shadowrootmode="open" shadowrootdelegatesfocus><!----><button id="button" class="icon-button  standard " aria-label="코드 셀 출력 작업" aria-haspopup="menu" aria-expanded="false">
        <!--?lit$764986503$--><md-focus-ring part="focus-ring" for="button" aria-hidden="true"><template shadowrootmode="open"><!----></template></md-focus-ring>
        <!--?lit$764986503$--><md-ripple aria-hidden="true"><template shadowrootmode="open"><!----><div class="surface   "></div></template></md-ripple>
        <!--?lit$764986503$--><span class="icon"><slot></slot></span>
        <!--?lit$764986503$-->
        <!--?lit$764986503$--><span class="touch"></span>
  </button></template>
        <md-icon aria-hidden="true"><template shadowrootmode="open"><!----><slot></slot></template><!--?lit$764986503$--><svg viewBox="0 0 24 24"><!--?lit$764986503$--><path d="m15.9 3.07c-4.32 0.0742-8.64-0.0355-13 0.0568-1.37 0.307-1.74 2.1-1.41 3.26 0.469 0.606 1.86 0.384 1.66-0.525 0.0448-0.329-0.183-0.93 0.354-0.766h13.3v1.53h1.71c0.0709-1.13 0.141-2.62-0.968-3.3-0.511-0.264-1.11-0.252-1.67-0.259zm2.94 6.84v4.87c1.62-1.62 3.24-3.24 4.87-4.87h-4.87zm0 0h-1.71v3.43l1.57 1.57c0.32-1.65 0.0556-3.34 0.135-5zm-1.71 3.43v-3.43h-3.43c1.14 1.14 2.29 2.29 3.43 3.43zm1.4 4.27h-1.71v1.48h-13.6v-1.48h-1.71c-0.0473 1.15-0.16 2.72 1.09 3.29 1.47 0.506 3.02 0.0265 4.53 0.192 3.34-0.0051 6.68 0.0336 10-0.0245 1.49-0.366 1.56-2.22 1.42-3.45zm-10.1-1.12c-0.398-0.483-0.796-0.967-1.19-1.45 0.59-0.683 1.18-1.37 1.77-2.05h-8.67v-2h8.67c-0.59-0.683-1.18-1.37-1.77-2.05 0.398-0.483 0.796-0.967 1.19-1.45 1.28 1.5 2.56 3 3.84 4.5-1.28 1.5-2.56 3-3.84 4.5z"></path></svg></md-icon>
      </md-icon-button>
      <colab-tooltip-trigger aria-hidden="true" id="button-output-actions-tooltip" for="button-output-actions" message="코드 셀 출력 작업"><template shadowrootmode="open"><!----><!--?lit$764986503$--><!----><div><!--?lit$764986503$-->코드 셀 출력 작업</div><!----><!--?--></template></colab-tooltip-trigger></template></colab-output-info></div>
          <div class="output-iframe-container">
            <div class="output-iframe-sizer" style="min-height: 0px;"> <div><div><colab-static-output-renderer tabindex="0" role="group"><div><div class="stream output-id-1 output_text"><pre>120
&lt;map object at 0x7a08b14ef9d0&gt;
[1, 1, 2, 6, 24, 120, 720, 5040, 40320, 362880, 3628800]
</pre></div></div><div></div></colab-static-output-renderer></div></div><div><div></div></div></div>
          </div>
        </div></div><colab-cell-next-steps><template shadowrootmode="open"><!----></template></colab-cell-next-steps></div></div></div><div class="add-cell">
      <div class="add-cell-buttons">
        <md-outlined-button class="add-code add-button" data-aria-label="코드 셀 추가
Ctrl+M B" title="코드 셀 추가
Ctrl+M B" value="" has-icon=""><template shadowrootmode="open" shadowrootdelegatesfocus><!---->
      <!--?lit$764986503$--><div class="outline"></div>
      <div class="background"></div>
      <md-focus-ring part="focus-ring" for="button" aria-hidden="true"><template shadowrootmode="open"><!----></template></md-focus-ring>
      <md-ripple part="ripple" for="button" aria-hidden="true"><template shadowrootmode="open"><!----><div class="surface   "></div></template></md-ripple>
      <!--?lit$764986503$--><button id="button" class="button" aria-label="코드 셀 추가
Ctrl+M B">
      <!--?lit$764986503$-->
      <span class="touch"></span>
      <!--?lit$764986503$--><slot name="icon"></slot>
      <span class="label"><slot></slot></span>
      <!--?lit$764986503$-->
    
    </button>
    </template>
          <md-icon slot="icon" aria-hidden="true"><template shadowrootmode="open"><!----><slot></slot></template>add</md-icon>
          <!--?lit$764986503$-->코드
        </md-outlined-button>
        <md-outlined-button class="add-text add-button" data-aria-label="텍스트 셀 추가" title="텍스트 셀 추가" value="" has-icon=""><template shadowrootmode="open" shadowrootdelegatesfocus><!---->
      <!--?lit$764986503$--><div class="outline"></div>
      <div class="background"></div>
      <md-focus-ring part="focus-ring" for="button" aria-hidden="true"><template shadowrootmode="open"><!----></template></md-focus-ring>
      <md-ripple part="ripple" for="button" aria-hidden="true"><template shadowrootmode="open"><!----><div class="surface   "></div></template></md-ripple>
      <!--?lit$764986503$--><button id="button" class="button" aria-label="텍스트 셀 추가">
      <!--?lit$764986503$-->
      <span class="touch"></span>
      <!--?lit$764986503$--><slot name="icon"></slot>
      <span class="label"><slot></slot></span>
      <!--?lit$764986503$-->
    
    </button>
    </template>
          <md-icon slot="icon" aria-hidden="true"><template shadowrootmode="open"><!----><slot></slot></template>add</md-icon>
          <!--?lit$764986503$-->텍스트
        </md-outlined-button>
        <!--?lit$764986503$-->
        <!--?lit$764986503$-->
      </div><hr>
    </div></div><div class="cell code notebook-cell code-has-output" id="cell-rgYmT92nNYR-" tabindex="-1" role="region" aria-label="셀 3: 코드 셀: " style="opacity: 1;"><div class="cell-tag-editor sticky"></div><div class="agent-focus-label">
      <md-icon aria-hidden="true"><template shadowrootmode="open"><!----><slot></slot></template>spark</md-icon>
      <!--?lit$764986503$-->Gemini
    </div><div class="cell-toolbar sticky"></div><div class="main-content"><div class="cell-contents"><div class="cell-mask"></div><span class="imported-info-area"></span><div class="codecell-input-output">
      <div class="inputarea horizontal layout code">
        <div class="cell-gutter">
          <!-- Bounding range for vertical scrolling of icons -->
          <div class="cell-execution-container">
            <colab-run-button><template shadowrootmode="open"><!----> <div class="cell-execution">
      <button id="run-button" aria-describedby="run-button-tooltip" aria-label="셀 실행" aria-disabled="false">
        <span aria-hidden="true" class="cell-execution-indicator"><!--?lit$764986503$-->
<svg xmlns="http://www.w3.org/2000/svg" viewBox="0 0 24 24">
  <!--?lit$764986503$-->
  <mask id="playSymbolMask">
    <rect width="100%" height="100%" fill="white"></rect>
    <polygon points="10,8 17,12 10,16" fill="black"></polygon>
  </mask>
  <circle cx="12" cy="12" r="7.8" mask="url(#playSymbolMask)" id="filledCircle"></circle>
</svg></span>
      </button>
      <!--?lit$764986503$--><colab-tooltip-trigger for="run-button" id="run-button-tooltip" aria-hidden="true" message="셀 실행 (Ctrl+Enter)
마지막 변경 이후 실행된 셀

임민우컴퓨터공학과에 의해 실행됨
오전 10:40 (0분 전)
0.01초 내에 실행됨"><template shadowrootmode="open"><!----><!--?lit$764986503$--><!----><div><!--?lit$764986503$-->셀 실행 (Ctrl+Enter)</div><!----><!----><div><!--?lit$764986503$-->마지막 변경 이후 실행된 셀</div><!----><!----><br><!----><!----><div><!--?lit$764986503$-->임민우컴퓨터공학과에 의해 실행됨</div><!----><!----><div><!--?lit$764986503$-->오전 10:40 (0분 전)</div><!----><!----><div><!--?lit$764986503$-->0.01초 내에 실행됨</div><!----><!--?--></template>
    </colab-tooltip-trigger> <!--?lit$764986503$--><div class="status">
      <div class="execution-count"><!--?lit$764986503$-->[6]</div>
      <!--?lit$764986503$--><div class="last-run">
      <md-icon aria-hidden="true"><template shadowrootmode="open"><!----><slot></slot></template><!--?lit$764986503$-->check</md-icon>
      <div><!--?lit$764986503$-->0초</div>
    </div>
    </div>
    </div></template></colab-run-button>
          </div>
        </div>
      <div class="editor flex lazy-editor" style=""><pre tabindex="0" class="lazy-virtualized" style="font-size: 14px; line-height: 19px;"><pre class="lazy-gutter"></pre><pre class="monaco-colorized colab colab colab" data-lang="notebook-python"><span><span class="mtk1">fruits&nbsp;=&nbsp;[</span><span class="mtk21">'strawberry'</span><span class="mtk1">,&nbsp;</span><span class="mtk21">'fig'</span><span class="mtk1">,&nbsp;</span><span class="mtk21">'apple'</span><span class="mtk1">,&nbsp;</span><span class="mtk21">'cherry'</span><span class="mtk1">,&nbsp;</span><span class="mtk21">'raspberry'</span><span class="mtk1">,&nbsp;</span><span class="mtk21">'banana'</span><span class="mtk1">]</span></span><br><span><span class="mtk15">sorted</span><span class="mtk1">(fruits,&nbsp;key=len)</span></span><br></pre><colab-read-only-cell-placeholder style="display: none;"><template shadowrootmode="open"><!----><div><!--?lit$764986503$-->코딩을 시작하거나 AI로 코드를 <span tabindex="0" role="button" class="link">생성</span>하세요.</div></template></colab-read-only-cell-placeholder></pre></div><colab-form class="formview vertical layout flex"><div class="widget-area vertical layout"></div></colab-form></div>
    <div class="output" aria-label="셀 3 출력" role="region"><!----> <div class="output-header"> </div>
        <div class="output-content">
          <div class="output-info"><colab-output-info><template shadowrootmode="open"><!----><md-icon-button data-aria-expanded="false" data-aria-haspopup="menu" aria-describedby="button-output-actions-tooltip" data-aria-label="코드 셀 출력 작업" id="button-output-actions" value=""><template shadowrootmode="open" shadowrootdelegatesfocus><!----><button id="button" class="icon-button  standard " aria-label="코드 셀 출력 작업" aria-haspopup="menu" aria-expanded="false">
        <!--?lit$764986503$--><md-focus-ring part="focus-ring" for="button" aria-hidden="true"><template shadowrootmode="open"><!----></template></md-focus-ring>
        <!--?lit$764986503$--><md-ripple aria-hidden="true"><template shadowrootmode="open"><!----><div class="surface   "></div></template></md-ripple>
        <!--?lit$764986503$--><span class="icon"><slot></slot></span>
        <!--?lit$764986503$-->
        <!--?lit$764986503$--><span class="touch"></span>
  </button></template>
        <md-icon aria-hidden="true"><template shadowrootmode="open"><!----><slot></slot></template><!--?lit$764986503$--><svg viewBox="0 0 24 24"><!--?lit$764986503$--><path d="m15.9 3.07c-4.32 0.0742-8.64-0.0355-13 0.0568-1.37 0.307-1.74 2.1-1.41 3.26 0.469 0.606 1.86 0.384 1.66-0.525 0.0448-0.329-0.183-0.93 0.354-0.766h13.3v1.53h1.71c0.0709-1.13 0.141-2.62-0.968-3.3-0.511-0.264-1.11-0.252-1.67-0.259zm2.94 6.84v4.87c1.62-1.62 3.24-3.24 4.87-4.87h-4.87zm0 0h-1.71v3.43l1.57 1.57c0.32-1.65 0.0556-3.34 0.135-5zm-1.71 3.43v-3.43h-3.43c1.14 1.14 2.29 2.29 3.43 3.43zm1.4 4.27h-1.71v1.48h-13.6v-1.48h-1.71c-0.0473 1.15-0.16 2.72 1.09 3.29 1.47 0.506 3.02 0.0265 4.53 0.192 3.34-0.0051 6.68 0.0336 10-0.0245 1.49-0.366 1.56-2.22 1.42-3.45zm-10.1-1.12c-0.398-0.483-0.796-0.967-1.19-1.45 0.59-0.683 1.18-1.37 1.77-2.05h-8.67v-2h8.67c-0.59-0.683-1.18-1.37-1.77-2.05 0.398-0.483 0.796-0.967 1.19-1.45 1.28 1.5 2.56 3 3.84 4.5-1.28 1.5-2.56 3-3.84 4.5z"></path></svg></md-icon>
      </md-icon-button>
      <colab-tooltip-trigger aria-hidden="true" id="button-output-actions-tooltip" for="button-output-actions" message="코드 셀 출력 작업"><template shadowrootmode="open"><!----><!--?lit$764986503$--><!----><div><!--?lit$764986503$-->코드 셀 출력 작업</div><!----><!--?--></template></colab-tooltip-trigger></template></colab-output-info></div>
          <div class="output-iframe-container">
            <div class="output-iframe-sizer" style="min-height: 0px;"> <div><div><colab-static-output-renderer tabindex="0" role="group"><div><div class="execute_result output-id-1 output_text"><pre>['fig', 'apple', 'cherry', 'banana', 'raspberry', 'strawberry']</pre></div></div><div></div></colab-static-output-renderer></div></div><div><div></div></div></div>
          </div>
        </div></div><colab-cell-next-steps><template shadowrootmode="open"><!----></template></colab-cell-next-steps></div></div></div><div class="add-cell">
      <div class="add-cell-buttons">
        <md-outlined-button class="add-code add-button" data-aria-label="코드 셀 추가
Ctrl+M B" title="코드 셀 추가
Ctrl+M B" value="" has-icon=""><template shadowrootmode="open" shadowrootdelegatesfocus><!---->
      <!--?lit$764986503$--><div class="outline"></div>
      <div class="background"></div>
      <md-focus-ring part="focus-ring" for="button" aria-hidden="true"><template shadowrootmode="open"><!----></template></md-focus-ring>
      <md-ripple part="ripple" for="button" aria-hidden="true"><template shadowrootmode="open"><!----><div class="surface   "></div></template></md-ripple>
      <!--?lit$764986503$--><button id="button" class="button" aria-label="코드 셀 추가
Ctrl+M B">
      <!--?lit$764986503$-->
      <span class="touch"></span>
      <!--?lit$764986503$--><slot name="icon"></slot>
      <span class="label"><slot></slot></span>
      <!--?lit$764986503$-->
    
    </button>
    </template>
          <md-icon slot="icon" aria-hidden="true"><template shadowrootmode="open"><!----><slot></slot></template>add</md-icon>
          <!--?lit$764986503$-->코드
        </md-outlined-button>
        <md-outlined-button class="add-text add-button" data-aria-label="텍스트 셀 추가" title="텍스트 셀 추가" value="" has-icon=""><template shadowrootmode="open" shadowrootdelegatesfocus><!---->
      <!--?lit$764986503$--><div class="outline"></div>
      <div class="background"></div>
      <md-focus-ring part="focus-ring" for="button" aria-hidden="true"><template shadowrootmode="open"><!----></template></md-focus-ring>
      <md-ripple part="ripple" for="button" aria-hidden="true"><template shadowrootmode="open"><!----><div class="surface   "></div></template></md-ripple>
      <!--?lit$764986503$--><button id="button" class="button" aria-label="텍스트 셀 추가">
      <!--?lit$764986503$-->
      <span class="touch"></span>
      <!--?lit$764986503$--><slot name="icon"></slot>
      <span class="label"><slot></slot></span>
      <!--?lit$764986503$-->
    
    </button>
    </template>
          <md-icon slot="icon" aria-hidden="true"><template shadowrootmode="open"><!----><slot></slot></template>add</md-icon>
          <!--?lit$764986503$-->텍스트
        </md-outlined-button>
        <!--?lit$764986503$-->
        <!--?lit$764986503$-->
      </div><hr>
    </div></div><div class="cell code notebook-cell code-has-output" id="cell-PaJowQEdNYUf" tabindex="-1" role="region" aria-label="셀 4: 코드 셀: " style="opacity: 1;"><div class="cell-tag-editor sticky"></div><div class="agent-focus-label">
      <md-icon aria-hidden="true"><template shadowrootmode="open"><!----><slot></slot></template>spark</md-icon>
      <!--?lit$764986503$-->Gemini
    </div><div class="cell-toolbar sticky"></div><div class="main-content"><div class="cell-contents"><div class="cell-mask"></div><span class="imported-info-area"></span><div class="codecell-input-output">
      <div class="inputarea horizontal layout code">
        <div class="cell-gutter">
          <!-- Bounding range for vertical scrolling of icons -->
          <div class="cell-execution-container">
            <colab-run-button><template shadowrootmode="open"><!----> <div class="cell-execution">
      <button id="run-button" aria-describedby="run-button-tooltip" aria-label="셀 실행" aria-disabled="false">
        <span aria-hidden="true" class="cell-execution-indicator"><!--?lit$764986503$-->
<svg xmlns="http://www.w3.org/2000/svg" viewBox="0 0 24 24">
  <!--?lit$764986503$-->
  <mask id="playSymbolMask">
    <rect width="100%" height="100%" fill="white"></rect>
    <polygon points="10,8 17,12 10,16" fill="black"></polygon>
  </mask>
  <circle cx="12" cy="12" r="7.8" mask="url(#playSymbolMask)" id="filledCircle"></circle>
</svg></span>
      </button>
      <!--?lit$764986503$--><colab-tooltip-trigger for="run-button" id="run-button-tooltip" aria-hidden="true" message="셀 실행 (Ctrl+Enter)
마지막 변경 이후 실행된 셀

임민우컴퓨터공학과에 의해 실행됨
오전 10:41 (0분 전)
0.011초 내에 실행됨"><template shadowrootmode="open"><!----><!--?lit$764986503$--><!----><div><!--?lit$764986503$-->셀 실행 (Ctrl+Enter)</div><!----><!----><div><!--?lit$764986503$-->마지막 변경 이후 실행된 셀</div><!----><!----><br><!----><!----><div><!--?lit$764986503$-->임민우컴퓨터공학과에 의해 실행됨</div><!----><!----><div><!--?lit$764986503$-->오전 10:41 (0분 전)</div><!----><!----><div><!--?lit$764986503$-->0.011초 내에 실행됨</div><!----><!--?--></template>
    </colab-tooltip-trigger> <!--?lit$764986503$--><div class="status">
      <div class="execution-count"><!--?lit$764986503$-->[8]</div>
      <!--?lit$764986503$--><div class="last-run">
      <md-icon aria-hidden="true"><template shadowrootmode="open"><!----><slot></slot></template><!--?lit$764986503$-->check</md-icon>
      <div><!--?lit$764986503$-->0초</div>
    </div>
    </div>
    </div></template></colab-run-button>
          </div>
        </div>
      <div class="editor flex lazy-editor" style=""><pre tabindex="0" class="lazy-virtualized" style="font-size: 14px; line-height: 19px;"><pre class="lazy-gutter"></pre><pre class="monaco-colorized colab colab colab" data-lang="notebook-python"><span><span class="mtk6">def</span><span class="mtk1">&nbsp;</span><span class="mtk15">reverse</span><span class="mtk1">(</span><span class="mtk16">word</span><span class="mtk1">):</span></span><br><span><span class="mtk1">&nbsp;&nbsp;</span><span class="mtk19">return</span><span class="mtk1">&nbsp;word[::</span><span class="mtk12">-1</span><span class="mtk1">]</span></span><br><span><span class="mtk15">print</span><span class="mtk1">(reverse(</span><span class="mtk21">'testing'</span><span class="mtk1">))</span></span><br><span><span class="mtk15">sorted</span><span class="mtk1">(fruits,&nbsp;key=reverse)</span></span><br></pre><colab-read-only-cell-placeholder style="display: none;"><template shadowrootmode="open"><!----><div><!--?lit$764986503$-->코딩을 시작하거나 AI로 코드를 <span tabindex="0" role="button" class="link">생성</span>하세요.</div></template></colab-read-only-cell-placeholder></pre></div><colab-form class="formview vertical layout flex"><div class="widget-area vertical layout"></div></colab-form></div>
    <div class="output" aria-label="셀 4 출력" role="region"><!----> <div class="output-header"> </div>
        <div class="output-content">
          <div class="output-info"><colab-output-info><template shadowrootmode="open"><!----><md-icon-button data-aria-expanded="false" data-aria-haspopup="menu" aria-describedby="button-output-actions-tooltip" data-aria-label="코드 셀 출력 작업" id="button-output-actions" value=""><template shadowrootmode="open" shadowrootdelegatesfocus><!----><button id="button" class="icon-button  standard " aria-label="코드 셀 출력 작업" aria-haspopup="menu" aria-expanded="false">
        <!--?lit$764986503$--><md-focus-ring part="focus-ring" for="button" aria-hidden="true"><template shadowrootmode="open"><!----></template></md-focus-ring>
        <!--?lit$764986503$--><md-ripple aria-hidden="true"><template shadowrootmode="open"><!----><div class="surface   "></div></template></md-ripple>
        <!--?lit$764986503$--><span class="icon"><slot></slot></span>
        <!--?lit$764986503$-->
        <!--?lit$764986503$--><span class="touch"></span>
  </button></template>
        <md-icon aria-hidden="true"><template shadowrootmode="open"><!----><slot></slot></template><!--?lit$764986503$--><svg viewBox="0 0 24 24"><!--?lit$764986503$--><path d="m15.9 3.07c-4.32 0.0742-8.64-0.0355-13 0.0568-1.37 0.307-1.74 2.1-1.41 3.26 0.469 0.606 1.86 0.384 1.66-0.525 0.0448-0.329-0.183-0.93 0.354-0.766h13.3v1.53h1.71c0.0709-1.13 0.141-2.62-0.968-3.3-0.511-0.264-1.11-0.252-1.67-0.259zm2.94 6.84v4.87c1.62-1.62 3.24-3.24 4.87-4.87h-4.87zm0 0h-1.71v3.43l1.57 1.57c0.32-1.65 0.0556-3.34 0.135-5zm-1.71 3.43v-3.43h-3.43c1.14 1.14 2.29 2.29 3.43 3.43zm1.4 4.27h-1.71v1.48h-13.6v-1.48h-1.71c-0.0473 1.15-0.16 2.72 1.09 3.29 1.47 0.506 3.02 0.0265 4.53 0.192 3.34-0.0051 6.68 0.0336 10-0.0245 1.49-0.366 1.56-2.22 1.42-3.45zm-10.1-1.12c-0.398-0.483-0.796-0.967-1.19-1.45 0.59-0.683 1.18-1.37 1.77-2.05h-8.67v-2h8.67c-0.59-0.683-1.18-1.37-1.77-2.05 0.398-0.483 0.796-0.967 1.19-1.45 1.28 1.5 2.56 3 3.84 4.5-1.28 1.5-2.56 3-3.84 4.5z"></path></svg></md-icon>
      </md-icon-button>
      <colab-tooltip-trigger aria-hidden="true" id="button-output-actions-tooltip" for="button-output-actions" message="코드 셀 출력 작업"><template shadowrootmode="open"><!----><!--?lit$764986503$--><!----><div><!--?lit$764986503$-->코드 셀 출력 작업</div><!----><!--?--></template></colab-tooltip-trigger></template></colab-output-info></div>
          <div class="output-iframe-container">
            <div class="output-iframe-sizer" style="min-height: 0px;"> <div><div><colab-static-output-renderer tabindex="0" role="group"><div><div class="stream output-id-1 output_text"><pre>gnitset
</pre></div><div class="execute_result output-id-2 output_text"><pre>['banana', 'apple', 'fig', 'raspberry', 'strawberry', 'cherry']</pre></div></div><div></div></colab-static-output-renderer></div></div><div><div></div></div></div>
          </div>
        </div></div><colab-cell-next-steps><template shadowrootmode="open"><!----></template></colab-cell-next-steps></div></div></div><div class="add-cell">
      <div class="add-cell-buttons">
        <md-outlined-button class="add-code add-button" data-aria-label="코드 셀 추가
Ctrl+M B" title="코드 셀 추가
Ctrl+M B" value="" has-icon=""><template shadowrootmode="open" shadowrootdelegatesfocus><!---->
      <!--?lit$764986503$--><div class="outline"></div>
      <div class="background"></div>
      <md-focus-ring part="focus-ring" for="button" aria-hidden="true"><template shadowrootmode="open"><!----></template></md-focus-ring>
      <md-ripple part="ripple" for="button" aria-hidden="true"><template shadowrootmode="open"><!----><div class="surface   "></div></template></md-ripple>
      <!--?lit$764986503$--><button id="button" class="button" aria-label="코드 셀 추가
Ctrl+M B">
      <!--?lit$764986503$-->
      <span class="touch"></span>
      <!--?lit$764986503$--><slot name="icon"></slot>
      <span class="label"><slot></slot></span>
      <!--?lit$764986503$-->
    
    </button>
    </template>
          <md-icon slot="icon" aria-hidden="true"><template shadowrootmode="open"><!----><slot></slot></template>add</md-icon>
          <!--?lit$764986503$-->코드
        </md-outlined-button>
        <md-outlined-button class="add-text add-button" data-aria-label="텍스트 셀 추가" title="텍스트 셀 추가" value="" has-icon=""><template shadowrootmode="open" shadowrootdelegatesfocus><!---->
      <!--?lit$764986503$--><div class="outline"></div>
      <div class="background"></div>
      <md-focus-ring part="focus-ring" for="button" aria-hidden="true"><template shadowrootmode="open"><!----></template></md-focus-ring>
      <md-ripple part="ripple" for="button" aria-hidden="true"><template shadowrootmode="open"><!----><div class="surface   "></div></template></md-ripple>
      <!--?lit$764986503$--><button id="button" class="button" aria-label="텍스트 셀 추가">
      <!--?lit$764986503$-->
      <span class="touch"></span>
      <!--?lit$764986503$--><slot name="icon"></slot>
      <span class="label"><slot></slot></span>
      <!--?lit$764986503$-->
    
    </button>
    </template>
          <md-icon slot="icon" aria-hidden="true"><template shadowrootmode="open"><!----><slot></slot></template>add</md-icon>
          <!--?lit$764986503$-->텍스트
        </md-outlined-button>
        <!--?lit$764986503$-->
        <!--?lit$764986503$-->
      </div><hr>
    </div></div><div class="cell code notebook-cell code-has-output" id="cell-32QcG0hANYW-" tabindex="-1" role="region" aria-label="셀 5: 코드 셀: " style="opacity: 1;"><div class="cell-tag-editor sticky"></div><div class="agent-focus-label">
      <md-icon aria-hidden="true"><template shadowrootmode="open"><!----><slot></slot></template>spark</md-icon>
      <!--?lit$764986503$-->Gemini
    </div><div class="cell-toolbar sticky"></div><div class="main-content"><div class="cell-contents"><div class="cell-mask"></div><span class="imported-info-area"></span><div class="codecell-input-output">
      <div class="inputarea horizontal layout code">
        <div class="cell-gutter">
          <!-- Bounding range for vertical scrolling of icons -->
          <div class="cell-execution-container">
            <colab-run-button><template shadowrootmode="open"><!----> <div class="cell-execution">
      <button id="run-button" aria-describedby="run-button-tooltip" aria-label="셀 실행" aria-disabled="false">
        <span aria-hidden="true" class="cell-execution-indicator"><!--?lit$764986503$-->
<svg xmlns="http://www.w3.org/2000/svg" viewBox="0 0 24 24">
  <!--?lit$764986503$-->
  <mask id="playSymbolMask">
    <rect width="100%" height="100%" fill="white"></rect>
    <polygon points="10,8 17,12 10,16" fill="black"></polygon>
  </mask>
  <circle cx="12" cy="12" r="7.8" mask="url(#playSymbolMask)" id="filledCircle"></circle>
</svg></span>
      </button>
      <!--?lit$764986503$--><colab-tooltip-trigger for="run-button" id="run-button-tooltip" aria-hidden="true" message="셀 실행 (Ctrl+Enter)
마지막 변경 이후 실행된 셀

임민우컴퓨터공학과에 의해 실행됨
오전 10:43 (0분 전)
0.006초 내에 실행됨"><template shadowrootmode="open"><!----><!--?lit$764986503$--><!----><div><!--?lit$764986503$-->셀 실행 (Ctrl+Enter)</div><!----><!----><div><!--?lit$764986503$-->마지막 변경 이후 실행된 셀</div><!----><!----><br><!----><!----><div><!--?lit$764986503$-->임민우컴퓨터공학과에 의해 실행됨</div><!----><!----><div><!--?lit$764986503$-->오전 10:43 (0분 전)</div><!----><!----><div><!--?lit$764986503$-->0.006초 내에 실행됨</div><!----><!--?--></template>
    </colab-tooltip-trigger> <!--?lit$764986503$--><div class="status">
      <div class="execution-count"><!--?lit$764986503$-->[10]</div>
      <!--?lit$764986503$--><div class="last-run">
      <md-icon aria-hidden="true"><template shadowrootmode="open"><!----><slot></slot></template><!--?lit$764986503$-->check</md-icon>
      <div><!--?lit$764986503$-->0초</div>
    </div>
    </div>
    </div></template></colab-run-button>
          </div>
        </div>
      <div class="editor flex lazy-editor" style=""><pre tabindex="0" class="lazy-virtualized" style="font-size: 14px; line-height: 19px;"><pre class="lazy-gutter"></pre><pre class="monaco-colorized colab colab colab" data-lang="notebook-python"><span><span class="mtk15">print</span><span class="mtk1">(</span><span class="mtk14">list</span><span class="mtk1">(</span><span class="mtk15">map</span><span class="mtk1">(fact,&nbsp;</span><span class="mtk15">range</span><span class="mtk1">(</span><span class="mtk12">6</span><span class="mtk1">))))</span></span><br><span><span class="mtk15">print</span><span class="mtk1">([fact(n)&nbsp;</span><span class="mtk19">for</span><span class="mtk1">&nbsp;n&nbsp;</span><span class="mtk6">in</span><span class="mtk1">&nbsp;</span><span class="mtk15">range</span><span class="mtk1">(</span><span class="mtk12">6</span><span class="mtk1">)])</span></span><br><span><span class="mtk15">print</span><span class="mtk1">(</span><span class="mtk14">list</span><span class="mtk1">(</span><span class="mtk15">map</span><span class="mtk1">(factorial,&nbsp;</span><span class="mtk15">filter</span><span class="mtk1">(</span><span class="mtk6">lambda</span><span class="mtk1">&nbsp;n:&nbsp;n&nbsp;%&nbsp;</span><span class="mtk12">2</span><span class="mtk1">,&nbsp;</span><span class="mtk15">range</span><span class="mtk1">(</span><span class="mtk12">6</span><span class="mtk1">)))))</span></span><br><span><span class="mtk15">print</span><span class="mtk1">([factorial(n)&nbsp;</span><span class="mtk19">for</span><span class="mtk1">&nbsp;n&nbsp;</span><span class="mtk6">in</span><span class="mtk1">&nbsp;</span><span class="mtk15">range</span><span class="mtk1">(</span><span class="mtk12">6</span><span class="mtk1">)&nbsp;</span><span class="mtk19">if</span><span class="mtk1">&nbsp;n&nbsp;%&nbsp;</span><span class="mtk12">2</span><span class="mtk1">])</span></span><br></pre><colab-read-only-cell-placeholder style="display: none;"><template shadowrootmode="open"><!----><div><!--?lit$764986503$-->코딩을 시작하거나 AI로 코드를 <span tabindex="0" role="button" class="link">생성</span>하세요.</div></template></colab-read-only-cell-placeholder></pre></div><colab-form class="formview vertical layout flex"><div class="widget-area vertical layout"></div></colab-form></div>
    <div class="output" aria-label="셀 5 출력" role="region"><!----> <div class="output-header"> </div>
        <div class="output-content">
          <div class="output-info"><colab-output-info><template shadowrootmode="open"><!----><md-icon-button data-aria-expanded="false" data-aria-haspopup="menu" aria-describedby="button-output-actions-tooltip" data-aria-label="코드 셀 출력 작업" id="button-output-actions" value=""><template shadowrootmode="open" shadowrootdelegatesfocus><!----><button id="button" class="icon-button  standard " aria-label="코드 셀 출력 작업" aria-haspopup="menu" aria-expanded="false">
        <!--?lit$764986503$--><md-focus-ring part="focus-ring" for="button" aria-hidden="true"><template shadowrootmode="open"><!----></template></md-focus-ring>
        <!--?lit$764986503$--><md-ripple aria-hidden="true"><template shadowrootmode="open"><!----><div class="surface   "></div></template></md-ripple>
        <!--?lit$764986503$--><span class="icon"><slot></slot></span>
        <!--?lit$764986503$-->
        <!--?lit$764986503$--><span class="touch"></span>
  </button></template>
        <md-icon aria-hidden="true"><template shadowrootmode="open"><!----><slot></slot></template><!--?lit$764986503$--><svg viewBox="0 0 24 24"><!--?lit$764986503$--><path d="m15.9 3.07c-4.32 0.0742-8.64-0.0355-13 0.0568-1.37 0.307-1.74 2.1-1.41 3.26 0.469 0.606 1.86 0.384 1.66-0.525 0.0448-0.329-0.183-0.93 0.354-0.766h13.3v1.53h1.71c0.0709-1.13 0.141-2.62-0.968-3.3-0.511-0.264-1.11-0.252-1.67-0.259zm2.94 6.84v4.87c1.62-1.62 3.24-3.24 4.87-4.87h-4.87zm0 0h-1.71v3.43l1.57 1.57c0.32-1.65 0.0556-3.34 0.135-5zm-1.71 3.43v-3.43h-3.43c1.14 1.14 2.29 2.29 3.43 3.43zm1.4 4.27h-1.71v1.48h-13.6v-1.48h-1.71c-0.0473 1.15-0.16 2.72 1.09 3.29 1.47 0.506 3.02 0.0265 4.53 0.192 3.34-0.0051 6.68 0.0336 10-0.0245 1.49-0.366 1.56-2.22 1.42-3.45zm-10.1-1.12c-0.398-0.483-0.796-0.967-1.19-1.45 0.59-0.683 1.18-1.37 1.77-2.05h-8.67v-2h8.67c-0.59-0.683-1.18-1.37-1.77-2.05 0.398-0.483 0.796-0.967 1.19-1.45 1.28 1.5 2.56 3 3.84 4.5-1.28 1.5-2.56 3-3.84 4.5z"></path></svg></md-icon>
      </md-icon-button>
      <colab-tooltip-trigger aria-hidden="true" id="button-output-actions-tooltip" for="button-output-actions" message="코드 셀 출력 작업"><template shadowrootmode="open"><!----><!--?lit$764986503$--><!----><div><!--?lit$764986503$-->코드 셀 출력 작업</div><!----><!--?--></template></colab-tooltip-trigger></template></colab-output-info></div>
          <div class="output-iframe-container">
            <div class="output-iframe-sizer" style="min-height: 0px;"> <div><div><colab-static-output-renderer tabindex="0" role="group"><div><div class="stream output-id-1 output_text"><pre>[1, 1, 2, 6, 24, 120]
[1, 1, 2, 6, 24, 120]
[1, 6, 120]
[1, 6, 120]
</pre></div></div><div></div></colab-static-output-renderer></div></div><div><div></div></div></div>
          </div>
        </div></div><colab-cell-next-steps><template shadowrootmode="open"><!----></template></colab-cell-next-steps></div></div></div><div class="add-cell">
      <div class="add-cell-buttons">
        <md-outlined-button class="add-code add-button" data-aria-label="코드 셀 추가
Ctrl+M B" title="코드 셀 추가
Ctrl+M B" value="" has-icon=""><template shadowrootmode="open" shadowrootdelegatesfocus><!---->
      <!--?lit$764986503$--><div class="outline"></div>
      <div class="background"></div>
      <md-focus-ring part="focus-ring" for="button" aria-hidden="true"><template shadowrootmode="open"><!----></template></md-focus-ring>
      <md-ripple part="ripple" for="button" aria-hidden="true"><template shadowrootmode="open"><!----><div class="surface   "></div></template></md-ripple>
      <!--?lit$764986503$--><button id="button" class="button" aria-label="코드 셀 추가
Ctrl+M B">
      <!--?lit$764986503$-->
      <span class="touch"></span>
      <!--?lit$764986503$--><slot name="icon"></slot>
      <span class="label"><slot></slot></span>
      <!--?lit$764986503$-->
    
    </button>
    </template>
          <md-icon slot="icon" aria-hidden="true"><template shadowrootmode="open"><!----><slot></slot></template>add</md-icon>
          <!--?lit$764986503$-->코드
        </md-outlined-button>
        <md-outlined-button class="add-text add-button" data-aria-label="텍스트 셀 추가" title="텍스트 셀 추가" value="" has-icon=""><template shadowrootmode="open" shadowrootdelegatesfocus><!---->
      <!--?lit$764986503$--><div class="outline"></div>
      <div class="background"></div>
      <md-focus-ring part="focus-ring" for="button" aria-hidden="true"><template shadowrootmode="open"><!----></template></md-focus-ring>
      <md-ripple part="ripple" for="button" aria-hidden="true"><template shadowrootmode="open"><!----><div class="surface"></div></template></md-ripple>
      <!--?lit$764986503$--><button id="button" class="button" aria-label="텍스트 셀 추가">
      <!--?lit$764986503$-->
      <span class="touch"></span>
      <!--?lit$764986503$--><slot name="icon"></slot>
      <span class="label"><slot></slot></span>
      <!--?lit$764986503$-->
    
    </button>
    </template>
          <md-icon slot="icon" aria-hidden="true"><template shadowrootmode="open"><!----><slot></slot></template>add</md-icon>
          <!--?lit$764986503$-->텍스트
        </md-outlined-button>
        <!--?lit$764986503$-->
        <!--?lit$764986503$-->
      </div><hr>
    </div></div><div class="cell code notebook-cell code-has-output" id="cell-TygacRvANYZW" tabindex="-1" role="region" aria-label="셀 6: 코드 셀: " style="opacity: 1;"><div class="cell-tag-editor sticky"></div><div class="agent-focus-label">
      <md-icon aria-hidden="true"><template shadowrootmode="open"><!----><slot></slot></template>spark</md-icon>
      <!--?lit$764986503$-->Gemini
    </div><div class="cell-toolbar sticky"></div><div class="main-content"><div class="cell-contents"><div class="cell-mask"></div><span class="imported-info-area"></span><div class="codecell-input-output">
      <div class="inputarea horizontal layout code">
        <div class="cell-gutter">
          <!-- Bounding range for vertical scrolling of icons -->
          <div class="cell-execution-container">
            <colab-run-button><template shadowrootmode="open"><!----> <div class="cell-execution">
      <button id="run-button" aria-describedby="run-button-tooltip" aria-label="셀 실행" aria-disabled="false">
        <span aria-hidden="true" class="cell-execution-indicator"><!--?lit$764986503$-->
<svg xmlns="http://www.w3.org/2000/svg" viewBox="0 0 24 24">
  <!--?lit$764986503$-->
  <mask id="playSymbolMask">
    <rect width="100%" height="100%" fill="white"></rect>
    <polygon points="10,8 17,12 10,16" fill="black"></polygon>
  </mask>
  <circle cx="12" cy="12" r="7.8" mask="url(#playSymbolMask)" id="filledCircle"></circle>
</svg></span>
      </button>
      <!--?lit$764986503$--><colab-tooltip-trigger for="run-button" id="run-button-tooltip" aria-hidden="true" message="셀 실행 (Ctrl+Enter)
마지막 변경 이후 실행된 셀

임민우컴퓨터공학과에 의해 실행됨
오전 10:43 (0분 전)
0.01초 내에 실행됨"><template shadowrootmode="open"><!----><!--?lit$764986503$--><!----><div><!--?lit$764986503$-->셀 실행 (Ctrl+Enter)</div><!----><!----><div><!--?lit$764986503$-->마지막 변경 이후 실행된 셀</div><!----><!----><br><!----><!----><div><!--?lit$764986503$-->임민우컴퓨터공학과에 의해 실행됨</div><!----><!----><div><!--?lit$764986503$-->오전 10:43 (0분 전)</div><!----><!----><div><!--?lit$764986503$-->0.01초 내에 실행됨</div><!----><!--?--></template>
    </colab-tooltip-trigger> <!--?lit$764986503$--><div class="status">
      <div class="execution-count"><!--?lit$764986503$-->[11]</div>
      <!--?lit$764986503$--><div class="last-run">
      <md-icon aria-hidden="true"><template shadowrootmode="open"><!----><slot></slot></template><!--?lit$764986503$-->check</md-icon>
      <div><!--?lit$764986503$-->0초</div>
    </div>
    </div>
    </div></template></colab-run-button>
          </div>
        </div>
      <div class="editor flex lazy-editor" style=""><pre tabindex="0" class="lazy-virtualized" style="font-size: 14px; line-height: 19px;"><pre class="lazy-gutter"></pre><pre class="monaco-colorized colab colab colab colab colab" data-lang="notebook-python"><span><span class="mtk1">fruits&nbsp;=&nbsp;[</span><span class="mtk21">'strawberry'</span><span class="mtk1">,&nbsp;</span><span class="mtk21">'fig'</span><span class="mtk1">,&nbsp;</span><span class="mtk21">'apple'</span><span class="mtk1">,&nbsp;</span><span class="mtk21">'cherry'</span><span class="mtk1">,&nbsp;</span><span class="mtk21">'raspberry'</span><span class="mtk1">,&nbsp;</span><span class="mtk21">'banana'</span><span class="mtk1">]</span></span><br><span><span class="mtk15">print</span><span class="mtk1">(</span><span class="mtk15">sorted</span><span class="mtk1">(fruits,&nbsp;key=</span><span class="mtk6">lambda</span><span class="mtk1">&nbsp;word:&nbsp;word[::</span><span class="mtk12">-1</span><span class="mtk1">]))</span></span><br></pre><colab-read-only-cell-placeholder style="display: none;"><template shadowrootmode="open"><!----><div><!--?lit$764986503$-->코딩을 시작하거나 AI로 코드를 <span tabindex="0" role="button" class="link">생성</span>하세요.</div></template></colab-read-only-cell-placeholder></pre></div><colab-form class="formview vertical layout flex"><div class="widget-area vertical layout"></div></colab-form></div>
    <div class="output" aria-label="셀 6 출력" role="region"><!----> <div class="output-header"> </div>
        <div class="output-content">
          <div class="output-info"><colab-output-info><template shadowrootmode="open"><!----><md-icon-button data-aria-expanded="false" data-aria-haspopup="menu" aria-describedby="button-output-actions-tooltip" data-aria-label="코드 셀 출력 작업" id="button-output-actions" value=""><template shadowrootmode="open" shadowrootdelegatesfocus><!----><button id="button" class="icon-button  standard " aria-label="코드 셀 출력 작업" aria-haspopup="menu" aria-expanded="false">
        <!--?lit$764986503$--><md-focus-ring part="focus-ring" for="button" aria-hidden="true"><template shadowrootmode="open"><!----></template></md-focus-ring>
        <!--?lit$764986503$--><md-ripple aria-hidden="true"><template shadowrootmode="open"><!----><div class="surface   "></div></template></md-ripple>
        <!--?lit$764986503$--><span class="icon"><slot></slot></span>
        <!--?lit$764986503$-->
        <!--?lit$764986503$--><span class="touch"></span>
  </button></template>
        <md-icon aria-hidden="true"><template shadowrootmode="open"><!----><slot></slot></template><!--?lit$764986503$--><svg viewBox="0 0 24 24"><!--?lit$764986503$--><path d="m15.9 3.07c-4.32 0.0742-8.64-0.0355-13 0.0568-1.37 0.307-1.74 2.1-1.41 3.26 0.469 0.606 1.86 0.384 1.66-0.525 0.0448-0.329-0.183-0.93 0.354-0.766h13.3v1.53h1.71c0.0709-1.13 0.141-2.62-0.968-3.3-0.511-0.264-1.11-0.252-1.67-0.259zm2.94 6.84v4.87c1.62-1.62 3.24-3.24 4.87-4.87h-4.87zm0 0h-1.71v3.43l1.57 1.57c0.32-1.65 0.0556-3.34 0.135-5zm-1.71 3.43v-3.43h-3.43c1.14 1.14 2.29 2.29 3.43 3.43zm1.4 4.27h-1.71v1.48h-13.6v-1.48h-1.71c-0.0473 1.15-0.16 2.72 1.09 3.29 1.47 0.506 3.02 0.0265 4.53 0.192 3.34-0.0051 6.68 0.0336 10-0.0245 1.49-0.366 1.56-2.22 1.42-3.45zm-10.1-1.12c-0.398-0.483-0.796-0.967-1.19-1.45 0.59-0.683 1.18-1.37 1.77-2.05h-8.67v-2h8.67c-0.59-0.683-1.18-1.37-1.77-2.05 0.398-0.483 0.796-0.967 1.19-1.45 1.28 1.5 2.56 3 3.84 4.5-1.28 1.5-2.56 3-3.84 4.5z"></path></svg></md-icon>
      </md-icon-button>
      <colab-tooltip-trigger aria-hidden="true" id="button-output-actions-tooltip" for="button-output-actions" message="코드 셀 출력 작업"><template shadowrootmode="open"><!----><!--?lit$764986503$--><!----><div><!--?lit$764986503$-->코드 셀 출력 작업</div><!----><!--?--></template></colab-tooltip-trigger></template></colab-output-info></div>
          <div class="output-iframe-container">
            <div class="output-iframe-sizer" style="min-height: 0px;"> <div><div><colab-static-output-renderer tabindex="0" role="group"><div><div class="stream output-id-1 output_text"><pre>['banana', 'apple', 'fig', 'raspberry', 'strawberry', 'cherry']
</pre></div></div><div></div></colab-static-output-renderer></div></div><div><div></div></div></div>
          </div>
        </div></div><colab-cell-next-steps><template shadowrootmode="open"><!----></template></colab-cell-next-steps></div></div></div><div class="add-cell">
      <hr>
    </div></div><div class="cell code notebook-cell code-has-output" id="cell-B2VX8o8RNYbu" tabindex="-1" role="region" aria-label="셀 7: 코드 셀: " style="opacity: 1;"><div class="cell-tag-editor sticky"></div><div class="agent-focus-label">
      <md-icon aria-hidden="true"><template shadowrootmode="open"><!----><slot></slot></template>spark</md-icon>
      <!--?lit$764986503$-->Gemini
    </div><div class="cell-toolbar sticky"></div><div class="main-content"><div class="cell-contents"><div class="cell-mask"></div><span class="imported-info-area"></span><div class="codecell-input-output">
      <div class="inputarea horizontal layout code">
        <div class="cell-gutter">
          <!-- Bounding range for vertical scrolling of icons -->
          <div class="cell-execution-container">
            <colab-run-button><template shadowrootmode="open"><!----> <div class="cell-execution">
      <button id="run-button" aria-describedby="run-button-tooltip" aria-label="셀 실행" aria-disabled="false">
        <span aria-hidden="true" class="cell-execution-indicator"><!--?lit$764986503$-->
<svg xmlns="http://www.w3.org/2000/svg" viewBox="0 0 24 24">
  <!--?lit$764986503$-->
  <mask id="playSymbolMask">
    <rect width="100%" height="100%" fill="white"></rect>
    <polygon points="10,8 17,12 10,16" fill="black"></polygon>
  </mask>
  <circle cx="12" cy="12" r="7.8" mask="url(#playSymbolMask)" id="filledCircle"></circle>
</svg></span>
      </button>
      <!--?lit$764986503$--><colab-tooltip-trigger for="run-button" id="run-button-tooltip" aria-hidden="true" message="셀 실행 (Ctrl+Enter)
마지막 변경 이후 실행된 셀

임민우컴퓨터공학과에 의해 실행됨
오전 10:44 (0분 전)
0.007초 내에 실행됨"><template shadowrootmode="open"><!----><!--?lit$764986503$--><!----><div><!--?lit$764986503$-->셀 실행 (Ctrl+Enter)</div><!----><!----><div><!--?lit$764986503$-->마지막 변경 이후 실행된 셀</div><!----><!----><br><!----><!----><div><!--?lit$764986503$-->임민우컴퓨터공학과에 의해 실행됨</div><!----><!----><div><!--?lit$764986503$-->오전 10:44 (0분 전)</div><!----><!----><div><!--?lit$764986503$-->0.007초 내에 실행됨</div><!----><!--?--></template>
    </colab-tooltip-trigger> <!--?lit$764986503$--><div class="status">
      <div class="execution-count"><!--?lit$764986503$-->[13]</div>
      <!--?lit$764986503$--><div class="last-run">
      <md-icon aria-hidden="true"><template shadowrootmode="open"><!----><slot></slot></template><!--?lit$764986503$-->check</md-icon>
      <div><!--?lit$764986503$-->0초</div>
    </div>
    </div>
    </div></template></colab-run-button>
          </div>
        </div>
      <div class="editor flex lazy-editor" style=""><pre tabindex="0" class="lazy-virtualized" style="font-size: 14px; line-height: 19px;"><pre class="lazy-gutter"></pre><pre class="monaco-colorized colab colab colab colab" data-lang="notebook-python"><span><span class="mtk1">abs,&nbsp;</span><span class="mtk14">str</span><span class="mtk1">,&nbsp;</span><span class="mtk12">13</span></span><br><span><span class="mtk1">[</span><span class="mtk15">callable</span><span class="mtk1">(obj)&nbsp;</span><span class="mtk19">for</span><span class="mtk1">&nbsp;obj&nbsp;</span><span class="mtk6">in</span><span class="mtk1">&nbsp;(abs,&nbsp;</span><span class="mtk14">str</span><span class="mtk1">,&nbsp;</span><span class="mtk12">13</span><span class="mtk1">)]</span></span><br></pre><colab-read-only-cell-placeholder style="display: none;"><template shadowrootmode="open"><!----><div><!--?lit$764986503$-->코딩을 시작하거나 AI로 코드를 <span tabindex="0" role="button" class="link">생성</span>하세요.</div></template></colab-read-only-cell-placeholder></pre></div><colab-form class="formview vertical layout flex"><div class="widget-area vertical layout"></div></colab-form></div>
    <div class="output" aria-label="셀 7 출력" role="region"><!----> <div class="output-header"> </div>
        <div class="output-content">
          <div class="output-info"><colab-output-info><template shadowrootmode="open"><!----><md-icon-button data-aria-expanded="false" data-aria-haspopup="menu" aria-describedby="button-output-actions-tooltip" data-aria-label="코드 셀 출력 작업" id="button-output-actions" value=""><template shadowrootmode="open" shadowrootdelegatesfocus><!----><button id="button" class="icon-button  standard " aria-label="코드 셀 출력 작업" aria-haspopup="menu" aria-expanded="false">
        <!--?lit$764986503$--><md-focus-ring part="focus-ring" for="button" aria-hidden="true"><template shadowrootmode="open"><!----></template></md-focus-ring>
        <!--?lit$764986503$--><md-ripple aria-hidden="true"><template shadowrootmode="open"><!----><div class="surface   "></div></template></md-ripple>
        <!--?lit$764986503$--><span class="icon"><slot></slot></span>
        <!--?lit$764986503$-->
        <!--?lit$764986503$--><span class="touch"></span>
  </button></template>
        <md-icon aria-hidden="true"><template shadowrootmode="open"><!----><slot></slot></template><!--?lit$764986503$--><svg viewBox="0 0 24 24"><!--?lit$764986503$--><path d="m15.9 3.07c-4.32 0.0742-8.64-0.0355-13 0.0568-1.37 0.307-1.74 2.1-1.41 3.26 0.469 0.606 1.86 0.384 1.66-0.525 0.0448-0.329-0.183-0.93 0.354-0.766h13.3v1.53h1.71c0.0709-1.13 0.141-2.62-0.968-3.3-0.511-0.264-1.11-0.252-1.67-0.259zm2.94 6.84v4.87c1.62-1.62 3.24-3.24 4.87-4.87h-4.87zm0 0h-1.71v3.43l1.57 1.57c0.32-1.65 0.0556-3.34 0.135-5zm-1.71 3.43v-3.43h-3.43c1.14 1.14 2.29 2.29 3.43 3.43zm1.4 4.27h-1.71v1.48h-13.6v-1.48h-1.71c-0.0473 1.15-0.16 2.72 1.09 3.29 1.47 0.506 3.02 0.0265 4.53 0.192 3.34-0.0051 6.68 0.0336 10-0.0245 1.49-0.366 1.56-2.22 1.42-3.45zm-10.1-1.12c-0.398-0.483-0.796-0.967-1.19-1.45 0.59-0.683 1.18-1.37 1.77-2.05h-8.67v-2h8.67c-0.59-0.683-1.18-1.37-1.77-2.05 0.398-0.483 0.796-0.967 1.19-1.45 1.28 1.5 2.56 3 3.84 4.5-1.28 1.5-2.56 3-3.84 4.5z"></path></svg></md-icon>
      </md-icon-button>
      <colab-tooltip-trigger aria-hidden="true" id="button-output-actions-tooltip" for="button-output-actions" message="코드 셀 출력 작업"><template shadowrootmode="open"><!----><!--?lit$764986503$--><!----><div><!--?lit$764986503$-->코드 셀 출력 작업</div><!----><!--?--></template></colab-tooltip-trigger></template></colab-output-info></div>
          <div class="output-iframe-container">
            <div class="output-iframe-sizer" style="min-height: 0px;"> <div><div><colab-static-output-renderer tabindex="0" role="group"><div><div class="execute_result output-id-1 output_text"><pre>[True, True, False]</pre></div></div><div></div></colab-static-output-renderer></div></div><div><div></div></div></div>
          </div>
        </div></div><colab-cell-next-steps><template shadowrootmode="open"><!----></template></colab-cell-next-steps></div></div></div><div class="add-cell">
      <div class="add-cell-buttons">
        <md-outlined-button class="add-code add-button" data-aria-label="코드 셀 추가
Ctrl+M B" title="코드 셀 추가
Ctrl+M B" value="" has-icon=""><template shadowrootmode="open" shadowrootdelegatesfocus><!---->
      <!--?lit$764986503$--><div class="outline"></div>
      <div class="background"></div>
      <md-focus-ring part="focus-ring" for="button" aria-hidden="true"><template shadowrootmode="open"><!----></template></md-focus-ring>
      <md-ripple part="ripple" for="button" aria-hidden="true"><template shadowrootmode="open"><!----><div class="surface   "></div></template></md-ripple>
      <!--?lit$764986503$--><button id="button" class="button" aria-label="코드 셀 추가
Ctrl+M B">
      <!--?lit$764986503$-->
      <span class="touch"></span>
      <!--?lit$764986503$--><slot name="icon"></slot>
      <span class="label"><slot></slot></span>
      <!--?lit$764986503$-->
    
    </button>
    </template>
          <md-icon slot="icon" aria-hidden="true"><template shadowrootmode="open"><!----><slot></slot></template>add</md-icon>
          <!--?lit$764986503$-->코드
        </md-outlined-button>
        <md-outlined-button class="add-text add-button" data-aria-label="텍스트 셀 추가" title="텍스트 셀 추가" value="" has-icon=""><template shadowrootmode="open" shadowrootdelegatesfocus><!---->
      <!--?lit$764986503$--><div class="outline"></div>
      <div class="background"></div>
      <md-focus-ring part="focus-ring" for="button" aria-hidden="true"><template shadowrootmode="open"><!----></template></md-focus-ring>
      <md-ripple part="ripple" for="button" aria-hidden="true"><template shadowrootmode="open"><!----><div class="surface   "></div></template></md-ripple>
      <!--?lit$764986503$--><button id="button" class="button" aria-label="텍스트 셀 추가">
      <!--?lit$764986503$-->
      <span class="touch"></span>
      <!--?lit$764986503$--><slot name="icon"></slot>
      <span class="label"><slot></slot></span>
      <!--?lit$764986503$-->
    
    </button>
    </template>
          <md-icon slot="icon" aria-hidden="true"><template shadowrootmode="open"><!----><slot></slot></template>add</md-icon>
          <!--?lit$764986503$-->텍스트
        </md-outlined-button>
        <!--?lit$764986503$-->
        <!--?lit$764986503$-->
      </div><hr>
    </div></div><div class="cell code notebook-cell" id="cell-8h0R7mWENYeO" tabindex="-1" role="region" aria-label="셀 8: 코드 셀: " style="opacity: 1;"><div class="cell-tag-editor sticky"></div><div class="agent-focus-label">
      <md-icon aria-hidden="true"><template shadowrootmode="open"><!----><slot></slot></template>spark</md-icon>
      <!--?lit$764986503$-->Gemini
    </div><div class="cell-toolbar sticky"></div><div class="main-content"><div class="cell-contents"><div class="cell-mask"></div><span class="imported-info-area"></span><div class="codecell-input-output">
      <div class="inputarea horizontal layout code">
        <div class="cell-gutter">
          <!-- Bounding range for vertical scrolling of icons -->
          <div class="cell-execution-container">
            <colab-run-button><template shadowrootmode="open"><!----> <div class="cell-execution">
      <button id="run-button" aria-describedby="run-button-tooltip" aria-label="셀 실행" aria-disabled="false">
        <span aria-hidden="true" class="cell-execution-indicator"><!--?lit$764986503$-->
<svg xmlns="http://www.w3.org/2000/svg" viewBox="0 0 24 24">
  <!--?lit$764986503$-->
  <mask id="playSymbolMask">
    <rect width="100%" height="100%" fill="white"></rect>
    <polygon points="10,8 17,12 10,16" fill="black"></polygon>
  </mask>
  <circle cx="12" cy="12" r="7.8" mask="url(#playSymbolMask)" id="filledCircle"></circle>
</svg></span>
      </button>
      <!--?lit$764986503$--><colab-tooltip-trigger for="run-button" id="run-button-tooltip" aria-hidden="true" message="셀 실행 (Ctrl+Enter)
마지막 변경 이후 실행된 셀

임민우컴퓨터공학과에 의해 실행됨
오전 10:45 (0분 전)
0.003초 내에 실행됨"><template shadowrootmode="open"><!----><!--?lit$764986503$--><!----><div><!--?lit$764986503$-->셀 실행 (Ctrl+Enter)</div><!----><!----><div><!--?lit$764986503$-->마지막 변경 이후 실행된 셀</div><!----><!----><br><!----><!----><div><!--?lit$764986503$-->임민우컴퓨터공학과에 의해 실행됨</div><!----><!----><div><!--?lit$764986503$-->오전 10:45 (0분 전)</div><!----><!----><div><!--?lit$764986503$-->0.003초 내에 실행됨</div><!----><!--?--></template>
    </colab-tooltip-trigger> <!--?lit$764986503$--><div class="status">
      <div class="execution-count"><!--?lit$764986503$-->[14]</div>
      <!--?lit$764986503$--><div class="last-run">
      <md-icon aria-hidden="true"><template shadowrootmode="open"><!----><slot></slot></template><!--?lit$764986503$-->check</md-icon>
      <div><!--?lit$764986503$-->0초</div>
    </div>
    </div>
    </div></template></colab-run-button>
          </div>
        </div>
      <div class="editor flex lazy-editor" style=""><pre tabindex="0" class="lazy-virtualized" style="font-size: 14px; line-height: 19px;"><pre class="lazy-gutter"></pre><pre class="monaco-colorized colab colab colab" data-lang="notebook-python"><span><span class="mtk19">import</span><span class="mtk1">&nbsp;random</span></span><br><span><span></span></span><br><span><span class="mtk6">class</span><span class="mtk1">&nbsp;BingoCage:</span></span><br><span><span class="mtk1">&nbsp;&nbsp;</span><span class="mtk6">def</span><span class="mtk1">&nbsp;</span><span class="mtk15">__init__</span><span class="mtk1">(</span><span class="mtk16">self</span><span class="mtk1">,&nbsp;</span><span class="mtk16">items</span><span class="mtk1">):</span></span><br><span><span class="mtk1">&nbsp;&nbsp;&nbsp;&nbsp;</span><span class="mtk16">self</span><span class="mtk1">._items&nbsp;=&nbsp;</span><span class="mtk14">list</span><span class="mtk1">(items)</span></span><br><span><span class="mtk1">&nbsp;&nbsp;&nbsp;&nbsp;random.shuffle(</span><span class="mtk16">self</span><span class="mtk1">._items)</span></span><br><span><span></span></span><br><span><span class="mtk1">&nbsp;&nbsp;</span><span class="mtk6">def</span><span class="mtk1">&nbsp;</span><span class="mtk15">pick</span><span class="mtk1">(</span><span class="mtk16">self</span><span class="mtk1">):</span></span><br><span><span class="mtk1">&nbsp;&nbsp;&nbsp;&nbsp;</span><span class="mtk19">try</span><span class="mtk1">:</span></span><br><span><span class="mtk1">&nbsp;&nbsp;&nbsp;&nbsp;&nbsp;&nbsp;</span><span class="mtk19">return</span><span class="mtk1">&nbsp;</span><span class="mtk16">self</span><span class="mtk1">._items.pop()</span></span><br><span><span class="mtk1">&nbsp;&nbsp;&nbsp;&nbsp;</span><span class="mtk19">except</span><span class="mtk1">:</span></span><br><span><span class="mtk1">&nbsp;&nbsp;&nbsp;&nbsp;&nbsp;&nbsp;</span><span class="mtk19">raise</span><span class="mtk1">&nbsp;</span><span class="mtk14">LookupError</span><span class="mtk1">(</span><span class="mtk21">'pick&nbsp;from&nbsp;empty&nbsp;BingoCage'</span><span class="mtk1">)</span></span><br><span><span></span></span><br><span><span class="mtk1">&nbsp;&nbsp;</span><span class="mtk6">def</span><span class="mtk1">&nbsp;</span><span class="mtk15">__call__</span><span class="mtk1">(</span><span class="mtk16">self</span><span class="mtk1">):</span></span><br><span><span class="mtk1">&nbsp;&nbsp;&nbsp;&nbsp;</span><span class="mtk19">return</span><span class="mtk1">&nbsp;</span><span class="mtk16">self</span><span class="mtk1">.pick()</span></span><br></pre><colab-read-only-cell-placeholder style="display: none;"><template shadowrootmode="open"><!----><div><!--?lit$764986503$-->코딩을 시작하거나 AI로 코드를 <span tabindex="0" role="button" class="link">생성</span>하세요.</div></template></colab-read-only-cell-placeholder></pre></div><colab-form class="formview vertical layout flex"><div class="widget-area vertical layout"></div></colab-form></div>
    <div class="output" aria-label="셀 8 출력" role="region"><!----> <div class="output-header"> </div>
        <div class="output-content" hidden="">
          <div class="output-info"><colab-output-info><template shadowrootmode="open"><!----><md-icon-button data-aria-expanded="false" data-aria-haspopup="menu" aria-describedby="button-output-actions-tooltip" data-aria-label="코드 셀 출력 작업" id="button-output-actions" value=""><template shadowrootmode="open" shadowrootdelegatesfocus><!----><button id="button" class="icon-button  standard " aria-label="코드 셀 출력 작업" aria-haspopup="menu" aria-expanded="false">
        <!--?lit$764986503$--><md-focus-ring part="focus-ring" for="button" aria-hidden="true"><template shadowrootmode="open"><!----></template></md-focus-ring>
        <!--?lit$764986503$--><md-ripple aria-hidden="true"><template shadowrootmode="open"><!----><div class="surface   "></div></template></md-ripple>
        <!--?lit$764986503$--><span class="icon"><slot></slot></span>
        <!--?lit$764986503$-->
        <!--?lit$764986503$--><span class="touch"></span>
  </button></template>
        <md-icon aria-hidden="true"><template shadowrootmode="open"><!----><slot></slot></template><!--?lit$764986503$--><svg viewBox="0 0 24 24"><!--?lit$764986503$--><path d="m15.9 3.07c-4.32 0.0742-8.64-0.0355-13 0.0568-1.37 0.307-1.74 2.1-1.41 3.26 0.469 0.606 1.86 0.384 1.66-0.525 0.0448-0.329-0.183-0.93 0.354-0.766h13.3v1.53h1.71c0.0709-1.13 0.141-2.62-0.968-3.3-0.511-0.264-1.11-0.252-1.67-0.259zm2.94 6.84v4.87c1.62-1.62 3.24-3.24 4.87-4.87h-4.87zm0 0h-1.71v3.43l1.57 1.57c0.32-1.65 0.0556-3.34 0.135-5zm-1.71 3.43v-3.43h-3.43c1.14 1.14 2.29 2.29 3.43 3.43zm1.4 4.27h-1.71v1.48h-13.6v-1.48h-1.71c-0.0473 1.15-0.16 2.72 1.09 3.29 1.47 0.506 3.02 0.0265 4.53 0.192 3.34-0.0051 6.68 0.0336 10-0.0245 1.49-0.366 1.56-2.22 1.42-3.45zm-10.1-1.12c-0.398-0.483-0.796-0.967-1.19-1.45 0.59-0.683 1.18-1.37 1.77-2.05h-8.67v-2h8.67c-0.59-0.683-1.18-1.37-1.77-2.05 0.398-0.483 0.796-0.967 1.19-1.45 1.28 1.5 2.56 3 3.84 4.5-1.28 1.5-2.56 3-3.84 4.5z"></path></svg></md-icon>
      </md-icon-button>
      <colab-tooltip-trigger aria-hidden="true" id="button-output-actions-tooltip" for="button-output-actions" message="코드 셀 출력 작업"><template shadowrootmode="open"><!----><!--?lit$764986503$--><!----><div><!--?lit$764986503$-->코드 셀 출력 작업</div><!----><!--?--></template></colab-tooltip-trigger></template></colab-output-info></div>
          <div class="output-iframe-container" hidden="">
            <div class="output-iframe-sizer" style="min-height: 0px;"> <div><div><colab-static-output-renderer tabindex="0" role="group"><div></div><div></div></colab-static-output-renderer></div></div><div><div></div></div></div>
          </div>
        </div></div><colab-cell-next-steps><template shadowrootmode="open"><!----></template></colab-cell-next-steps></div></div></div><div class="add-cell">
      <div class="add-cell-buttons">
        <md-outlined-button class="add-code add-button" data-aria-label="코드 셀 추가
Ctrl+M B" title="코드 셀 추가
Ctrl+M B" value="" has-icon=""><template shadowrootmode="open" shadowrootdelegatesfocus><!---->
      <!--?lit$764986503$--><div class="outline"></div>
      <div class="background"></div>
      <md-focus-ring part="focus-ring" for="button" aria-hidden="true"><template shadowrootmode="open"><!----></template></md-focus-ring>
      <md-ripple part="ripple" for="button" aria-hidden="true"><template shadowrootmode="open"><!----><div class="surface   "></div></template></md-ripple>
      <!--?lit$764986503$--><button id="button" class="button" aria-label="코드 셀 추가
Ctrl+M B">
      <!--?lit$764986503$-->
      <span class="touch"></span>
      <!--?lit$764986503$--><slot name="icon"></slot>
      <span class="label"><slot></slot></span>
      <!--?lit$764986503$-->
    
    </button>
    </template>
          <md-icon slot="icon" aria-hidden="true"><template shadowrootmode="open"><!----><slot></slot></template>add</md-icon>
          <!--?lit$764986503$-->코드
        </md-outlined-button>
        <md-outlined-button class="add-text add-button" data-aria-label="텍스트 셀 추가" title="텍스트 셀 추가" value="" has-icon=""><template shadowrootmode="open" shadowrootdelegatesfocus><!---->
      <!--?lit$764986503$--><div class="outline"></div>
      <div class="background"></div>
      <md-focus-ring part="focus-ring" for="button" aria-hidden="true"><template shadowrootmode="open"><!----></template></md-focus-ring>
      <md-ripple part="ripple" for="button" aria-hidden="true"><template shadowrootmode="open"><!----><div class="surface   "></div></template></md-ripple>
      <!--?lit$764986503$--><button id="button" class="button" aria-label="텍스트 셀 추가">
      <!--?lit$764986503$-->
      <span class="touch"></span>
      <!--?lit$764986503$--><slot name="icon"></slot>
      <span class="label"><slot></slot></span>
      <!--?lit$764986503$-->
    
    </button>
    </template>
          <md-icon slot="icon" aria-hidden="true"><template shadowrootmode="open"><!----><slot></slot></template>add</md-icon>
          <!--?lit$764986503$-->텍스트
        </md-outlined-button>
        <!--?lit$764986503$-->
        <!--?lit$764986503$-->
      </div><hr>
    </div></div><div class="cell code notebook-cell code-has-output" id="cell-N2RgWijZNYgn" tabindex="-1" role="region" aria-label="셀 9: 코드 셀: " style="opacity: 1;"><div class="cell-tag-editor sticky"></div><div class="agent-focus-label">
      <md-icon aria-hidden="true"><template shadowrootmode="open"><!----><slot></slot></template>spark</md-icon>
      <!--?lit$764986503$-->Gemini
    </div><div class="cell-toolbar sticky"></div><div class="main-content"><div class="cell-contents"><div class="cell-mask"></div><span class="imported-info-area"></span><div class="codecell-input-output">
      <div class="inputarea horizontal layout code">
        <div class="cell-gutter">
          <!-- Bounding range for vertical scrolling of icons -->
          <div class="cell-execution-container">
            <colab-run-button><template shadowrootmode="open"><!----> <div class="cell-execution">
      <button id="run-button" aria-describedby="run-button-tooltip" aria-label="셀 실행" aria-disabled="false">
        <span aria-hidden="true" class="cell-execution-indicator"><!--?lit$764986503$-->
<svg xmlns="http://www.w3.org/2000/svg" viewBox="0 0 24 24">
  <!--?lit$764986503$-->
  <mask id="playSymbolMask">
    <rect width="100%" height="100%" fill="white"></rect>
    <polygon points="10,8 17,12 10,16" fill="black"></polygon>
  </mask>
  <circle cx="12" cy="12" r="7.8" mask="url(#playSymbolMask)" id="filledCircle"></circle>
</svg></span>
      </button>
      <!--?lit$764986503$--><colab-tooltip-trigger for="run-button" id="run-button-tooltip" aria-hidden="true" message="셀 실행 (Ctrl+Enter)
마지막 변경 이후 실행된 셀

임민우컴퓨터공학과에 의해 실행됨
오전 10:46 (0분 전)
0.006초 내에 실행됨"><template shadowrootmode="open"><!----><!--?lit$764986503$--><!----><div><!--?lit$764986503$-->셀 실행 (Ctrl+Enter)</div><!----><!----><div><!--?lit$764986503$-->마지막 변경 이후 실행된 셀</div><!----><!----><br><!----><!----><div><!--?lit$764986503$-->임민우컴퓨터공학과에 의해 실행됨</div><!----><!----><div><!--?lit$764986503$-->오전 10:46 (0분 전)</div><!----><!----><div><!--?lit$764986503$-->0.006초 내에 실행됨</div><!----><!--?--></template>
    </colab-tooltip-trigger> <!--?lit$764986503$--><div class="status">
      <div class="execution-count"><!--?lit$764986503$-->[15]</div>
      <!--?lit$764986503$--><div class="last-run">
      <md-icon aria-hidden="true"><template shadowrootmode="open"><!----><slot></slot></template><!--?lit$764986503$-->check</md-icon>
      <div><!--?lit$764986503$-->0초</div>
    </div>
    </div>
    </div></template></colab-run-button>
          </div>
        </div>
      <div class="editor flex lazy-editor" style=""><pre tabindex="0" class="lazy-virtualized" style="font-size: 14px; line-height: 19px;"><pre class="lazy-gutter"></pre><pre class="monaco-colorized colab colab colab colab colab" data-lang="notebook-python"><span><span class="mtk1">bingo&nbsp;=&nbsp;BingoCage(</span><span class="mtk15">range</span><span class="mtk1">(</span><span class="mtk12">3</span><span class="mtk1">))</span></span><br><span><span class="mtk15">print</span><span class="mtk1">(bingo.pick())</span></span><br><span><span class="mtk15">print</span><span class="mtk1">(bingo())</span></span><br><span><span class="mtk15">print</span><span class="mtk1">(</span><span class="mtk15">callable</span><span class="mtk1">(bingo))</span></span><br><span><span class="mtk15">print</span><span class="mtk1">(bingo())</span></span><br></pre><colab-read-only-cell-placeholder style="display: none;"><template shadowrootmode="open"><!----><div><!--?lit$764986503$-->코딩을 시작하거나 AI로 코드를 <span tabindex="0" role="button" class="link">생성</span>하세요.</div></template></colab-read-only-cell-placeholder></pre></div><colab-form class="formview vertical layout flex"><div class="widget-area vertical layout"></div></colab-form></div>
    <div class="output" aria-label="셀 9 출력" role="region"><!----> <div class="output-header"> </div>
        <div class="output-content">
          <div class="output-info"><colab-output-info><template shadowrootmode="open"><!----><md-icon-button data-aria-expanded="false" data-aria-haspopup="menu" aria-describedby="button-output-actions-tooltip" data-aria-label="코드 셀 출력 작업" id="button-output-actions" value=""><template shadowrootmode="open" shadowrootdelegatesfocus><!----><button id="button" class="icon-button  standard " aria-label="코드 셀 출력 작업" aria-haspopup="menu" aria-expanded="false">
        <!--?lit$764986503$--><md-focus-ring part="focus-ring" for="button" aria-hidden="true"><template shadowrootmode="open"><!----></template></md-focus-ring>
        <!--?lit$764986503$--><md-ripple aria-hidden="true"><template shadowrootmode="open"><!----><div class="surface   "></div></template></md-ripple>
        <!--?lit$764986503$--><span class="icon"><slot></slot></span>
        <!--?lit$764986503$-->
        <!--?lit$764986503$--><span class="touch"></span>
  </button></template>
        <md-icon aria-hidden="true"><template shadowrootmode="open"><!----><slot></slot></template><!--?lit$764986503$--><svg viewBox="0 0 24 24"><!--?lit$764986503$--><path d="m15.9 3.07c-4.32 0.0742-8.64-0.0355-13 0.0568-1.37 0.307-1.74 2.1-1.41 3.26 0.469 0.606 1.86 0.384 1.66-0.525 0.0448-0.329-0.183-0.93 0.354-0.766h13.3v1.53h1.71c0.0709-1.13 0.141-2.62-0.968-3.3-0.511-0.264-1.11-0.252-1.67-0.259zm2.94 6.84v4.87c1.62-1.62 3.24-3.24 4.87-4.87h-4.87zm0 0h-1.71v3.43l1.57 1.57c0.32-1.65 0.0556-3.34 0.135-5zm-1.71 3.43v-3.43h-3.43c1.14 1.14 2.29 2.29 3.43 3.43zm1.4 4.27h-1.71v1.48h-13.6v-1.48h-1.71c-0.0473 1.15-0.16 2.72 1.09 3.29 1.47 0.506 3.02 0.0265 4.53 0.192 3.34-0.0051 6.68 0.0336 10-0.0245 1.49-0.366 1.56-2.22 1.42-3.45zm-10.1-1.12c-0.398-0.483-0.796-0.967-1.19-1.45 0.59-0.683 1.18-1.37 1.77-2.05h-8.67v-2h8.67c-0.59-0.683-1.18-1.37-1.77-2.05 0.398-0.483 0.796-0.967 1.19-1.45 1.28 1.5 2.56 3 3.84 4.5-1.28 1.5-2.56 3-3.84 4.5z"></path></svg></md-icon>
      </md-icon-button>
      <colab-tooltip-trigger aria-hidden="true" id="button-output-actions-tooltip" for="button-output-actions" message="코드 셀 출력 작업"><template shadowrootmode="open"><!----><!--?lit$764986503$--><!----><div><!--?lit$764986503$-->코드 셀 출력 작업</div><!----><!--?--></template></colab-tooltip-trigger></template></colab-output-info></div>
          <div class="output-iframe-container">
            <div class="output-iframe-sizer" style="min-height: 0px;"> <div><div><colab-static-output-renderer tabindex="0" role="group"><div><div class="stream output-id-1 output_text"><pre>0
1
True
2
</pre></div></div><div></div></colab-static-output-renderer></div></div><div><div></div></div></div>
          </div>
        </div></div><colab-cell-next-steps><template shadowrootmode="open"><!----></template></colab-cell-next-steps></div></div></div><div class="add-cell">
      <div class="add-cell-buttons">
        <md-outlined-button class="add-code add-button" data-aria-label="코드 셀 추가
Ctrl+M B" title="코드 셀 추가
Ctrl+M B" value="" has-icon=""><template shadowrootmode="open" shadowrootdelegatesfocus><!---->
      <!--?lit$764986503$--><div class="outline"></div>
      <div class="background"></div>
      <md-focus-ring part="focus-ring" for="button" aria-hidden="true"><template shadowrootmode="open"><!----></template></md-focus-ring>
      <md-ripple part="ripple" for="button" aria-hidden="true"><template shadowrootmode="open"><!----><div class="surface   "></div></template></md-ripple>
      <!--?lit$764986503$--><button id="button" class="button" aria-label="코드 셀 추가
Ctrl+M B">
      <!--?lit$764986503$-->
      <span class="touch"></span>
      <!--?lit$764986503$--><slot name="icon"></slot>
      <span class="label"><slot></slot></span>
      <!--?lit$764986503$-->
    
    </button>
    </template>
          <md-icon slot="icon" aria-hidden="true"><template shadowrootmode="open"><!----><slot></slot></template>add</md-icon>
          <!--?lit$764986503$-->코드
        </md-outlined-button>
        <md-outlined-button class="add-text add-button" data-aria-label="텍스트 셀 추가" title="텍스트 셀 추가" value="" has-icon=""><template shadowrootmode="open" shadowrootdelegatesfocus><!---->
      <!--?lit$764986503$--><div class="outline"></div>
      <div class="background"></div>
      <md-focus-ring part="focus-ring" for="button" aria-hidden="true"><template shadowrootmode="open"><!----></template></md-focus-ring>
      <md-ripple part="ripple" for="button" aria-hidden="true"><template shadowrootmode="open"><!----><div class="surface   "></div></template></md-ripple>
      <!--?lit$764986503$--><button id="button" class="button" aria-label="텍스트 셀 추가">
      <!--?lit$764986503$-->
      <span class="touch"></span>
      <!--?lit$764986503$--><slot name="icon"></slot>
      <span class="label"><slot></slot></span>
      <!--?lit$764986503$-->
    
    </button>
    </template>
          <md-icon slot="icon" aria-hidden="true"><template shadowrootmode="open"><!----><slot></slot></template>add</md-icon>
          <!--?lit$764986503$-->텍스트
        </md-outlined-button>
        <!--?lit$764986503$-->
        <!--?lit$764986503$-->
      </div><hr>
    </div></div><div class="cell code notebook-cell code-has-output" id="cell-M8pmjVq0NYjH" tabindex="-1" role="region" aria-label="셀 10: 코드 셀: " style="opacity: 1;"><div class="cell-tag-editor sticky"></div><div class="agent-focus-label">
      <md-icon aria-hidden="true"><template shadowrootmode="open"><!----><slot></slot></template>spark</md-icon>
      <!--?lit$764986503$-->Gemini
    </div><div class="cell-toolbar sticky"></div><div class="main-content"><div class="cell-contents"><div class="cell-mask"></div><span class="imported-info-area"></span><div class="codecell-input-output">
      <div class="inputarea horizontal layout code">
        <div class="cell-gutter">
          <!-- Bounding range for vertical scrolling of icons -->
          <div class="cell-execution-container">
            <colab-run-button><template shadowrootmode="open"><!----> <div class="cell-execution error">
      <button id="run-button" aria-describedby="run-button-tooltip" aria-label="셀 실행" aria-disabled="false">
        <span aria-hidden="true" class="cell-execution-indicator"><!--?lit$764986503$-->
<svg xmlns="http://www.w3.org/2000/svg" viewBox="0 0 24 24">
  <!--?lit$764986503$-->
  <mask id="playSymbolMask">
    <rect width="100%" height="100%" fill="white"></rect>
    <polygon points="10,8 17,12 10,16" fill="black"></polygon>
  </mask>
  <circle cx="12" cy="12" r="7.8" mask="url(#playSymbolMask)" id="filledCircle"></circle>
</svg></span>
      </button>
      <!--?lit$764986503$--><colab-tooltip-trigger for="run-button" id="run-button-tooltip" aria-hidden="true" message="셀 실행 (Ctrl+Enter)
마지막 변경 이후 실행된 셀
이전 실행이 예기치 못하게 종료되었습니다.

임민우컴퓨터공학과에 의해 실행됨
오전 10:46 (0분 전)
0.01초 내에 실행됨"><template shadowrootmode="open"><!----><!--?lit$764986503$--><!----><div><!--?lit$764986503$-->셀 실행 (Ctrl+Enter)</div><!----><!----><div><!--?lit$764986503$-->마지막 변경 이후 실행된 셀</div><!----><!----><div><!--?lit$764986503$-->이전 실행이 예기치 못하게 종료되었습니다.</div><!----><!----><br><!----><!----><div><!--?lit$764986503$-->임민우컴퓨터공학과에 의해 실행됨</div><!----><!----><div><!--?lit$764986503$-->오전 10:46 (0분 전)</div><!----><!----><div><!--?lit$764986503$-->0.01초 내에 실행됨</div><!----><!--?--></template>
    </colab-tooltip-trigger> <!--?lit$764986503$--><div class="status">
      <div class="execution-count"><!--?lit$764986503$-->[16]</div>
      <!--?lit$764986503$--><div class="last-run">
      <md-icon aria-hidden="true"><template shadowrootmode="open"><!----><slot></slot></template><!--?lit$764986503$-->error</md-icon>
      <div><!--?lit$764986503$-->0초</div>
    </div>
    </div>
    </div></template></colab-run-button>
          </div>
        </div>
      <div class="editor flex lazy-editor" style=""><pre tabindex="0" class="lazy-virtualized" style="font-size: 14px; line-height: 19px;"><pre class="lazy-gutter"></pre><pre class="monaco-colorized colab colab colab colab colab colab" data-lang="notebook-python"><span><span class="mtk1">bingo()</span></span><br></pre><colab-read-only-cell-placeholder style="display: none;"><template shadowrootmode="open"><!----><div><!--?lit$764986503$-->코딩을 시작하거나 AI로 코드를 <span tabindex="0" role="button" class="link">생성</span>하세요.</div></template></colab-read-only-cell-placeholder></pre></div><colab-form class="formview vertical layout flex"><div class="widget-area vertical layout"></div></colab-form></div>
    <div class="output" aria-label="셀 10 출력" role="region"><!----> <div class="output-header"> </div>
        <div class="output-content">
          <div class="output-info"><colab-output-info><template shadowrootmode="open"><!----><md-icon-button data-aria-expanded="false" data-aria-haspopup="menu" aria-describedby="button-output-actions-tooltip" data-aria-label="코드 셀 출력 작업" id="button-output-actions" value=""><template shadowrootmode="open" shadowrootdelegatesfocus><!----><button id="button" class="icon-button  standard " aria-label="코드 셀 출력 작업" aria-haspopup="menu" aria-expanded="false">
        <!--?lit$764986503$--><md-focus-ring part="focus-ring" for="button" aria-hidden="true"><template shadowrootmode="open"><!----></template></md-focus-ring>
        <!--?lit$764986503$--><md-ripple aria-hidden="true"><template shadowrootmode="open"><!----><div class="surface   "></div></template></md-ripple>
        <!--?lit$764986503$--><span class="icon"><slot></slot></span>
        <!--?lit$764986503$-->
        <!--?lit$764986503$--><span class="touch"></span>
  </button></template>
        <md-icon aria-hidden="true"><template shadowrootmode="open"><!----><slot></slot></template><!--?lit$764986503$--><svg viewBox="0 0 24 24"><!--?lit$764986503$--><path d="m15.9 3.07c-4.32 0.0742-8.64-0.0355-13 0.0568-1.37 0.307-1.74 2.1-1.41 3.26 0.469 0.606 1.86 0.384 1.66-0.525 0.0448-0.329-0.183-0.93 0.354-0.766h13.3v1.53h1.71c0.0709-1.13 0.141-2.62-0.968-3.3-0.511-0.264-1.11-0.252-1.67-0.259zm2.94 6.84v4.87c1.62-1.62 3.24-3.24 4.87-4.87h-4.87zm0 0h-1.71v3.43l1.57 1.57c0.32-1.65 0.0556-3.34 0.135-5zm-1.71 3.43v-3.43h-3.43c1.14 1.14 2.29 2.29 3.43 3.43zm1.4 4.27h-1.71v1.48h-13.6v-1.48h-1.71c-0.0473 1.15-0.16 2.72 1.09 3.29 1.47 0.506 3.02 0.0265 4.53 0.192 3.34-0.0051 6.68 0.0336 10-0.0245 1.49-0.366 1.56-2.22 1.42-3.45zm-10.1-1.12c-0.398-0.483-0.796-0.967-1.19-1.45 0.59-0.683 1.18-1.37 1.77-2.05h-8.67v-2h8.67c-0.59-0.683-1.18-1.37-1.77-2.05 0.398-0.483 0.796-0.967 1.19-1.45 1.28 1.5 2.56 3 3.84 4.5-1.28 1.5-2.56 3-3.84 4.5z"></path></svg></md-icon>
      </md-icon-button>
      <colab-tooltip-trigger aria-hidden="true" id="button-output-actions-tooltip" for="button-output-actions" message="코드 셀 출력 작업"><template shadowrootmode="open"><!----><!--?lit$764986503$--><!----><div><!--?lit$764986503$-->코드 셀 출력 작업</div><!----><!--?--></template></colab-tooltip-trigger></template></colab-output-info></div>
          <div class="output-iframe-container">
            <div class="output-iframe-sizer" style="min-height: 0px;"> <div><div class="outputview" style="height: 428px;"><colab-dom-lifecycle-events style="display: none;"></colab-dom-lifecycle-events><iframe allow="accelerometer; autoplay; gyroscope; magnetometer; xr-spatial-tracking; clipboard-write" sandbox="allow-downloads allow-forms allow-pointer-lock allow-popups allow-popups-to-escape-sandbox allow-same-origin allow-scripts allow-storage-access-by-user-activation allow-modals" src="./OSS_Week06_실습_files/outputframe.html" class="" style="height: 428px;"></iframe></div></div><div><div></div></div></div>
          </div>
        </div></div><colab-cell-next-steps hascontent=""><template shadowrootmode="open"><!----> <div class="root">
        <span class="next-steps-title"> <!--?lit$764986503$-->다음 단계: </span>
        <!--?lit$764986503$--><!----><md-outlined-button class="fix" data-test-id="explain-error" value=""><template shadowrootmode="open" shadowrootdelegatesfocus><!---->
      <!--?lit$764986503$--><div class="outline"></div>
      <div class="background"></div>
      <md-focus-ring part="focus-ring" for="button" aria-hidden="true"><template shadowrootmode="open"><!----></template></md-focus-ring>
      <md-ripple part="ripple" for="button" aria-hidden="true"><template shadowrootmode="open"><!----><div class="surface"></div></template></md-ripple>
      <!--?lit$764986503$--><button id="button" class="button">
      <!--?lit$764986503$-->
      <span class="touch"></span>
      <!--?lit$764986503$--><slot name="icon"></slot>
      <span class="label"><slot></slot></span>
      <!--?lit$764986503$-->
    
    </button>
    </template>
            <!--?lit$764986503$-->오류 설명
          </md-outlined-button><!---->
      </div>
      <div class="content"><!--?lit$764986503$--></div></template></colab-cell-next-steps></div></div></div><div class="add-cell">
      <div class="add-cell-buttons">
        <md-outlined-button class="add-code add-button" data-aria-label="코드 셀 추가
Ctrl+M B" title="코드 셀 추가
Ctrl+M B" value="" has-icon=""><template shadowrootmode="open" shadowrootdelegatesfocus><!---->
      <!--?lit$764986503$--><div class="outline"></div>
      <div class="background"></div>
      <md-focus-ring part="focus-ring" for="button" aria-hidden="true"><template shadowrootmode="open"><!----></template></md-focus-ring>
      <md-ripple part="ripple" for="button" aria-hidden="true"><template shadowrootmode="open"><!----><div class="surface   "></div></template></md-ripple>
      <!--?lit$764986503$--><button id="button" class="button" aria-label="코드 셀 추가
Ctrl+M B">
      <!--?lit$764986503$-->
      <span class="touch"></span>
      <!--?lit$764986503$--><slot name="icon"></slot>
      <span class="label"><slot></slot></span>
      <!--?lit$764986503$-->
    
    </button>
    </template>
          <md-icon slot="icon" aria-hidden="true"><template shadowrootmode="open"><!----><slot></slot></template>add</md-icon>
          <!--?lit$764986503$-->코드
        </md-outlined-button>
        <md-outlined-button class="add-text add-button" data-aria-label="텍스트 셀 추가" title="텍스트 셀 추가" value="" has-icon=""><template shadowrootmode="open" shadowrootdelegatesfocus><!---->
      <!--?lit$764986503$--><div class="outline"></div>
      <div class="background"></div>
      <md-focus-ring part="focus-ring" for="button" aria-hidden="true"><template shadowrootmode="open"><!----></template></md-focus-ring>
      <md-ripple part="ripple" for="button" aria-hidden="true"><template shadowrootmode="open"><!----><div class="surface"></div></template></md-ripple>
      <!--?lit$764986503$--><button id="button" class="button" aria-label="텍스트 셀 추가">
      <!--?lit$764986503$-->
      <span class="touch"></span>
      <!--?lit$764986503$--><slot name="icon"></slot>
      <span class="label"><slot></slot></span>
      <!--?lit$764986503$-->
    
    </button>
    </template>
          <md-icon slot="icon" aria-hidden="true"><template shadowrootmode="open"><!----><slot></slot></template>add</md-icon>
          <!--?lit$764986503$-->텍스트
        </md-outlined-button>
        <!--?lit$764986503$-->
        <!--?lit$764986503$-->
      </div><hr>
    </div></div><div class="cell code notebook-cell" id="cell-o9EIQ2-LNYl3" tabindex="-1" role="region" aria-label="셀 11: 코드 셀: " style="opacity: 1;"><div class="cell-tag-editor sticky"></div><div class="agent-focus-label">
      <md-icon aria-hidden="true"><template shadowrootmode="open"><!----><slot></slot></template>spark</md-icon>
      <!--?lit$764986503$-->Gemini
    </div><div class="cell-toolbar sticky"></div><div class="main-content"><div class="cell-contents"><div class="cell-mask"></div><span class="imported-info-area"></span><div class="codecell-input-output">
      <div class="inputarea horizontal layout code">
        <div class="cell-gutter">
          <!-- Bounding range for vertical scrolling of icons -->
          <div class="cell-execution-container">
            <colab-run-button><template shadowrootmode="open"><!----> <div class="cell-execution">
      <button id="run-button" aria-describedby="run-button-tooltip" aria-label="셀 실행" aria-disabled="false">
        <span aria-hidden="true" class="cell-execution-indicator"><!--?lit$764986503$-->
<svg xmlns="http://www.w3.org/2000/svg" viewBox="0 0 24 24">
  <!--?lit$764986503$-->
  <mask id="playSymbolMask">
    <rect width="100%" height="100%" fill="white"></rect>
    <polygon points="10,8 17,12 10,16" fill="black"></polygon>
  </mask>
  <circle cx="12" cy="12" r="7.8" mask="url(#playSymbolMask)" id="filledCircle"></circle>
</svg></span>
      </button>
      <!--?lit$764986503$--><colab-tooltip-trigger for="run-button" id="run-button-tooltip" aria-hidden="true" message="셀 실행 (Ctrl+Enter)
마지막 변경 이후 실행된 셀

임민우컴퓨터공학과에 의해 실행됨
오전 10:48 (0분 전)
0.003초 내에 실행됨"><template shadowrootmode="open"><!----><!--?lit$764986503$--><!----><div><!--?lit$764986503$-->셀 실행 (Ctrl+Enter)</div><!----><!----><div><!--?lit$764986503$-->마지막 변경 이후 실행된 셀</div><!----><!----><br><!----><!----><div><!--?lit$764986503$-->임민우컴퓨터공학과에 의해 실행됨</div><!----><!----><div><!--?lit$764986503$-->오전 10:48 (0분 전)</div><!----><!----><div><!--?lit$764986503$-->0.003초 내에 실행됨</div><!----><!--?--></template>
    </colab-tooltip-trigger> <!--?lit$764986503$--><div class="status">
      <div class="execution-count"><!--?lit$764986503$-->[17]</div>
      <!--?lit$764986503$--><div class="last-run">
      <md-icon aria-hidden="true"><template shadowrootmode="open"><!----><slot></slot></template><!--?lit$764986503$-->check</md-icon>
      <div><!--?lit$764986503$-->0초</div>
    </div>
    </div>
    </div></template></colab-run-button>
          </div>
        </div>
      <div class="editor flex lazy-editor" style=""><pre tabindex="0" class="lazy-virtualized" style="font-size: 14px; line-height: 19px;"><pre class="lazy-gutter"></pre><pre class="monaco-colorized colab colab colab colab colab colab colab colab" data-lang="notebook-python"><span><span class="mtk6">def</span><span class="mtk1">&nbsp;</span><span class="mtk15">tag</span><span class="mtk1">(</span><span class="mtk16">name</span><span class="mtk1">,&nbsp;*</span><span class="mtk16">content</span><span class="mtk1">,&nbsp;</span><span class="mtk16">cls</span><span class="mtk1">=</span><span class="mtk6">None</span><span class="mtk1">,&nbsp;**</span><span class="mtk16">attrs</span><span class="mtk1">):</span></span><br><span><span class="mtk1">&nbsp;&nbsp;</span><span class="mtk21">"""하나&nbsp;이상의&nbsp;HTML&nbsp;태그를&nbsp;생성"""</span></span><br><span><span class="mtk1">&nbsp;&nbsp;</span><span class="mtk19">if</span><span class="mtk1">&nbsp;cls&nbsp;</span><span class="mtk6">is</span><span class="mtk1">&nbsp;</span><span class="mtk6">not</span><span class="mtk1">&nbsp;</span><span class="mtk6">None</span><span class="mtk1">:</span></span><br><span><span class="mtk1">&nbsp;&nbsp;&nbsp;&nbsp;attrs[</span><span class="mtk21">'class'</span><span class="mtk1">]&nbsp;=&nbsp;cls</span></span><br><span><span class="mtk1">&nbsp;&nbsp;</span><span class="mtk19">if</span><span class="mtk1">&nbsp;attrs:</span></span><br><span><span class="mtk1">&nbsp;&nbsp;&nbsp;&nbsp;attr_str&nbsp;=&nbsp;</span><span class="mtk21">''</span><span class="mtk1">.join(</span><span class="mtk21">'&nbsp;%s="%s"'</span><span class="mtk1">&nbsp;%&nbsp;(attr,&nbsp;value)</span></span><br><span><span class="mtk1">&nbsp;&nbsp;&nbsp;&nbsp;&nbsp;&nbsp;&nbsp;&nbsp;&nbsp;&nbsp;&nbsp;&nbsp;&nbsp;&nbsp;&nbsp;&nbsp;&nbsp;&nbsp;&nbsp;&nbsp;&nbsp;&nbsp;&nbsp;</span><span class="mtk19">for</span><span class="mtk1">&nbsp;attr,&nbsp;value</span></span><br><span><span class="mtk1">&nbsp;&nbsp;&nbsp;&nbsp;&nbsp;&nbsp;&nbsp;&nbsp;&nbsp;&nbsp;&nbsp;&nbsp;&nbsp;&nbsp;&nbsp;&nbsp;&nbsp;&nbsp;&nbsp;&nbsp;&nbsp;&nbsp;&nbsp;</span><span class="mtk6">in</span><span class="mtk1">&nbsp;</span><span class="mtk15">sorted</span><span class="mtk1">(attrs.items()))</span></span><br><span><span class="mtk1">&nbsp;&nbsp;</span><span class="mtk19">else</span><span class="mtk1">:</span></span><br><span><span class="mtk1">&nbsp;&nbsp;&nbsp;&nbsp;attr_str&nbsp;=&nbsp;</span><span class="mtk21">''</span></span><br><span><span class="mtk1">&nbsp;&nbsp;</span><span class="mtk19">if</span><span class="mtk1">&nbsp;content:</span></span><br><span><span class="mtk1">&nbsp;&nbsp;&nbsp;&nbsp;</span><span class="mtk19">return</span><span class="mtk1">&nbsp;</span><span class="mtk21">'\n'</span><span class="mtk1">.join(</span><span class="mtk21">'&lt;%s%s&gt;%s&lt;/%s&gt;'</span><span class="mtk1">&nbsp;%</span></span><br><span><span class="mtk1">&nbsp;&nbsp;&nbsp;&nbsp;&nbsp;&nbsp;&nbsp;&nbsp;&nbsp;&nbsp;&nbsp;&nbsp;&nbsp;&nbsp;&nbsp;&nbsp;&nbsp;&nbsp;&nbsp;&nbsp;&nbsp;(name,&nbsp;attr_str,&nbsp;c,&nbsp;name)&nbsp;</span><span class="mtk19">for</span><span class="mtk1">&nbsp;c&nbsp;</span><span class="mtk6">in</span><span class="mtk1">&nbsp;content)&nbsp;&nbsp;</span></span><br><span><span class="mtk1">&nbsp;&nbsp;</span><span class="mtk19">else</span><span class="mtk1">:</span></span><br><span><span class="mtk1">&nbsp;&nbsp;&nbsp;&nbsp;</span><span class="mtk19">return</span><span class="mtk1">&nbsp;</span><span class="mtk21">'&lt;%s%s&nbsp;/&gt;'</span><span class="mtk1">&nbsp;%&nbsp;(name,&nbsp;attr_str)</span></span><br></pre><colab-read-only-cell-placeholder style="display: none;"><template shadowrootmode="open"><!----><div><!--?lit$764986503$-->코딩을 시작하거나 AI로 코드를 <span tabindex="0" role="button" class="link">생성</span>하세요.</div></template></colab-read-only-cell-placeholder></pre></div><colab-form class="formview vertical layout flex"><div class="widget-area vertical layout"></div></colab-form></div>
    <div class="output" aria-label="셀 11 출력" role="region"><!----> <div class="output-header"> </div>
        <div class="output-content" hidden="">
          <div class="output-info"><colab-output-info><template shadowrootmode="open"><!----><md-icon-button data-aria-expanded="false" data-aria-haspopup="menu" aria-describedby="button-output-actions-tooltip" data-aria-label="코드 셀 출력 작업" id="button-output-actions" value=""><template shadowrootmode="open" shadowrootdelegatesfocus><!----><button id="button" class="icon-button  standard " aria-label="코드 셀 출력 작업" aria-haspopup="menu" aria-expanded="false">
        <!--?lit$764986503$--><md-focus-ring part="focus-ring" for="button" aria-hidden="true"><template shadowrootmode="open"><!----></template></md-focus-ring>
        <!--?lit$764986503$--><md-ripple aria-hidden="true"><template shadowrootmode="open"><!----><div class="surface   "></div></template></md-ripple>
        <!--?lit$764986503$--><span class="icon"><slot></slot></span>
        <!--?lit$764986503$-->
        <!--?lit$764986503$--><span class="touch"></span>
  </button></template>
        <md-icon aria-hidden="true"><template shadowrootmode="open"><!----><slot></slot></template><!--?lit$764986503$--><svg viewBox="0 0 24 24"><!--?lit$764986503$--><path d="m15.9 3.07c-4.32 0.0742-8.64-0.0355-13 0.0568-1.37 0.307-1.74 2.1-1.41 3.26 0.469 0.606 1.86 0.384 1.66-0.525 0.0448-0.329-0.183-0.93 0.354-0.766h13.3v1.53h1.71c0.0709-1.13 0.141-2.62-0.968-3.3-0.511-0.264-1.11-0.252-1.67-0.259zm2.94 6.84v4.87c1.62-1.62 3.24-3.24 4.87-4.87h-4.87zm0 0h-1.71v3.43l1.57 1.57c0.32-1.65 0.0556-3.34 0.135-5zm-1.71 3.43v-3.43h-3.43c1.14 1.14 2.29 2.29 3.43 3.43zm1.4 4.27h-1.71v1.48h-13.6v-1.48h-1.71c-0.0473 1.15-0.16 2.72 1.09 3.29 1.47 0.506 3.02 0.0265 4.53 0.192 3.34-0.0051 6.68 0.0336 10-0.0245 1.49-0.366 1.56-2.22 1.42-3.45zm-10.1-1.12c-0.398-0.483-0.796-0.967-1.19-1.45 0.59-0.683 1.18-1.37 1.77-2.05h-8.67v-2h8.67c-0.59-0.683-1.18-1.37-1.77-2.05 0.398-0.483 0.796-0.967 1.19-1.45 1.28 1.5 2.56 3 3.84 4.5-1.28 1.5-2.56 3-3.84 4.5z"></path></svg></md-icon>
      </md-icon-button>
      <colab-tooltip-trigger aria-hidden="true" id="button-output-actions-tooltip" for="button-output-actions" message="코드 셀 출력 작업"><template shadowrootmode="open"><!----><!--?lit$764986503$--><!----><div><!--?lit$764986503$-->코드 셀 출력 작업</div><!----><!--?--></template></colab-tooltip-trigger></template></colab-output-info></div>
          <div class="output-iframe-container" hidden="">
            <div class="output-iframe-sizer" style="min-height: 0px;"> <div><div><colab-static-output-renderer tabindex="0" role="group"><div></div><div></div></colab-static-output-renderer></div></div><div><div></div></div></div>
          </div>
        </div></div><colab-cell-next-steps><template shadowrootmode="open"><!----></template></colab-cell-next-steps></div></div></div><div class="add-cell">
      <div class="add-cell-buttons">
        <md-outlined-button class="add-code add-button" data-aria-label="코드 셀 추가
Ctrl+M B" title="코드 셀 추가
Ctrl+M B" value="" has-icon=""><template shadowrootmode="open" shadowrootdelegatesfocus><!---->
      <!--?lit$764986503$--><div class="outline"></div>
      <div class="background"></div>
      <md-focus-ring part="focus-ring" for="button" aria-hidden="true"><template shadowrootmode="open"><!----></template></md-focus-ring>
      <md-ripple part="ripple" for="button" aria-hidden="true"><template shadowrootmode="open"><!----><div class="surface   "></div></template></md-ripple>
      <!--?lit$764986503$--><button id="button" class="button" aria-label="코드 셀 추가
Ctrl+M B">
      <!--?lit$764986503$-->
      <span class="touch"></span>
      <!--?lit$764986503$--><slot name="icon"></slot>
      <span class="label"><slot></slot></span>
      <!--?lit$764986503$-->
    
    </button>
    </template>
          <md-icon slot="icon" aria-hidden="true"><template shadowrootmode="open"><!----><slot></slot></template>add</md-icon>
          <!--?lit$764986503$-->코드
        </md-outlined-button>
        <md-outlined-button class="add-text add-button" data-aria-label="텍스트 셀 추가" title="텍스트 셀 추가" value="" has-icon=""><template shadowrootmode="open" shadowrootdelegatesfocus><!---->
      <!--?lit$764986503$--><div class="outline"></div>
      <div class="background"></div>
      <md-focus-ring part="focus-ring" for="button" aria-hidden="true"><template shadowrootmode="open"><!----></template></md-focus-ring>
      <md-ripple part="ripple" for="button" aria-hidden="true"><template shadowrootmode="open"><!----><div class="surface"></div></template></md-ripple>
      <!--?lit$764986503$--><button id="button" class="button" aria-label="텍스트 셀 추가">
      <!--?lit$764986503$-->
      <span class="touch"></span>
      <!--?lit$764986503$--><slot name="icon"></slot>
      <span class="label"><slot></slot></span>
      <!--?lit$764986503$-->
    
    </button>
    </template>
          <md-icon slot="icon" aria-hidden="true"><template shadowrootmode="open"><!----><slot></slot></template>add</md-icon>
          <!--?lit$764986503$-->텍스트
        </md-outlined-button>
        <!--?lit$764986503$-->
        <!--?lit$764986503$-->
      </div><hr>
    </div></div><div class="cell code notebook-cell code-has-output" id="cell-Rm9RxOkCNYnu" tabindex="-1" role="region" aria-label="셀 12: 코드 셀: " style="opacity: 1;"><div class="cell-tag-editor sticky"></div><div class="agent-focus-label">
      <md-icon aria-hidden="true"><template shadowrootmode="open"><!----><slot></slot></template>spark</md-icon>
      <!--?lit$764986503$-->Gemini
    </div><div class="cell-toolbar sticky"></div><div class="main-content"><div class="cell-contents"><div class="cell-mask"></div><span class="imported-info-area"></span><div class="codecell-input-output">
      <div class="inputarea horizontal layout code">
        <div class="cell-gutter">
          <!-- Bounding range for vertical scrolling of icons -->
          <div class="cell-execution-container">
            <colab-run-button><template shadowrootmode="open"><!----> <div class="cell-execution">
      <button id="run-button" aria-describedby="run-button-tooltip" aria-label="셀 실행" aria-disabled="false">
        <span aria-hidden="true" class="cell-execution-indicator"><!--?lit$764986503$-->
<svg xmlns="http://www.w3.org/2000/svg" viewBox="0 0 24 24">
  <!--?lit$764986503$-->
  <mask id="playSymbolMask">
    <rect width="100%" height="100%" fill="white"></rect>
    <polygon points="10,8 17,12 10,16" fill="black"></polygon>
  </mask>
  <circle cx="12" cy="12" r="7.8" mask="url(#playSymbolMask)" id="filledCircle"></circle>
</svg></span>
      </button>
      <!--?lit$764986503$--><colab-tooltip-trigger for="run-button" id="run-button-tooltip" aria-hidden="true" message="셀 실행 (Ctrl+Enter)
마지막 변경 이후 실행된 셀

임민우컴퓨터공학과에 의해 실행됨
오전 10:48 (0분 전)
0.008초 내에 실행됨"><template shadowrootmode="open"><!----><!--?lit$764986503$--><!----><div><!--?lit$764986503$-->셀 실행 (Ctrl+Enter)</div><!----><!----><div><!--?lit$764986503$-->마지막 변경 이후 실행된 셀</div><!----><!----><br><!----><!----><div><!--?lit$764986503$-->임민우컴퓨터공학과에 의해 실행됨</div><!----><!----><div><!--?lit$764986503$-->오전 10:48 (0분 전)</div><!----><!----><div><!--?lit$764986503$-->0.008초 내에 실행됨</div><!----><!--?--></template>
    </colab-tooltip-trigger> <!--?lit$764986503$--><div class="status">
      <div class="execution-count"><!--?lit$764986503$-->[18]</div>
      <!--?lit$764986503$--><div class="last-run">
      <md-icon aria-hidden="true"><template shadowrootmode="open"><!----><slot></slot></template><!--?lit$764986503$-->check</md-icon>
      <div><!--?lit$764986503$-->0초</div>
    </div>
    </div>
    </div></template></colab-run-button>
          </div>
        </div>
      <div class="editor flex lazy-editor" style=""><pre tabindex="0" class="lazy-virtualized" style="font-size: 14px; line-height: 19px;"><pre class="lazy-gutter"></pre><pre class="monaco-colorized colab colab colab colab colab colab colab" data-lang="notebook-python"><span><span class="mtk15">print</span><span class="mtk1">(tag(</span><span class="mtk21">'br'</span><span class="mtk1">))</span></span><br><span><span class="mtk15">print</span><span class="mtk1">(tag(</span><span class="mtk21">'p'</span><span class="mtk1">,&nbsp;</span><span class="mtk21">'hello'</span><span class="mtk1">))</span></span><br><span><span class="mtk15">print</span><span class="mtk1">(tag(</span><span class="mtk21">'p'</span><span class="mtk1">,&nbsp;</span><span class="mtk21">'hello'</span><span class="mtk1">,&nbsp;</span><span class="mtk21">'world'</span><span class="mtk1">))</span></span><br><span><span class="mtk15">print</span><span class="mtk1">(tag(</span><span class="mtk21">'p'</span><span class="mtk1">,&nbsp;</span><span class="mtk21">'hello'</span><span class="mtk1">,&nbsp;id=</span><span class="mtk12">33</span><span class="mtk1">))</span></span><br></pre><colab-read-only-cell-placeholder style="display: none;"><template shadowrootmode="open"><!----><div><!--?lit$764986503$-->코딩을 시작하거나 AI로 코드를 <span tabindex="0" role="button" class="link">생성</span>하세요.</div></template></colab-read-only-cell-placeholder></pre></div><colab-form class="formview vertical layout flex"><div class="widget-area vertical layout"></div></colab-form></div>
    <div class="output" aria-label="셀 12 출력" role="region"><!----> <div class="output-header"> </div>
        <div class="output-content">
          <div class="output-info"><colab-output-info><template shadowrootmode="open"><!----><md-icon-button data-aria-expanded="false" data-aria-haspopup="menu" aria-describedby="button-output-actions-tooltip" data-aria-label="코드 셀 출력 작업" id="button-output-actions" value=""><template shadowrootmode="open" shadowrootdelegatesfocus><!----><button id="button" class="icon-button  standard " aria-label="코드 셀 출력 작업" aria-haspopup="menu" aria-expanded="false">
        <!--?lit$764986503$--><md-focus-ring part="focus-ring" for="button" aria-hidden="true"><template shadowrootmode="open"><!----></template></md-focus-ring>
        <!--?lit$764986503$--><md-ripple aria-hidden="true"><template shadowrootmode="open"><!----><div class="surface"></div></template></md-ripple>
        <!--?lit$764986503$--><span class="icon"><slot></slot></span>
        <!--?lit$764986503$-->
        <!--?lit$764986503$--><span class="touch"></span>
  </button></template>
        <md-icon aria-hidden="true"><template shadowrootmode="open"><!----><slot></slot></template><!--?lit$764986503$--><svg viewBox="0 0 24 24"><!--?lit$764986503$--><path d="m15.9 3.07c-4.32 0.0742-8.64-0.0355-13 0.0568-1.37 0.307-1.74 2.1-1.41 3.26 0.469 0.606 1.86 0.384 1.66-0.525 0.0448-0.329-0.183-0.93 0.354-0.766h13.3v1.53h1.71c0.0709-1.13 0.141-2.62-0.968-3.3-0.511-0.264-1.11-0.252-1.67-0.259zm2.94 6.84v4.87c1.62-1.62 3.24-3.24 4.87-4.87h-4.87zm0 0h-1.71v3.43l1.57 1.57c0.32-1.65 0.0556-3.34 0.135-5zm-1.71 3.43v-3.43h-3.43c1.14 1.14 2.29 2.29 3.43 3.43zm1.4 4.27h-1.71v1.48h-13.6v-1.48h-1.71c-0.0473 1.15-0.16 2.72 1.09 3.29 1.47 0.506 3.02 0.0265 4.53 0.192 3.34-0.0051 6.68 0.0336 10-0.0245 1.49-0.366 1.56-2.22 1.42-3.45zm-10.1-1.12c-0.398-0.483-0.796-0.967-1.19-1.45 0.59-0.683 1.18-1.37 1.77-2.05h-8.67v-2h8.67c-0.59-0.683-1.18-1.37-1.77-2.05 0.398-0.483 0.796-0.967 1.19-1.45 1.28 1.5 2.56 3 3.84 4.5-1.28 1.5-2.56 3-3.84 4.5z"></path></svg></md-icon>
      </md-icon-button>
      <colab-tooltip-trigger aria-hidden="true" id="button-output-actions-tooltip" for="button-output-actions" message="코드 셀 출력 작업"><template shadowrootmode="open"><!----><!--?lit$764986503$--><!----><div><!--?lit$764986503$-->코드 셀 출력 작업</div><!----><!--?--></template></colab-tooltip-trigger></template></colab-output-info></div>
          <div class="output-iframe-container">
            <div class="output-iframe-sizer" style="min-height: 0px;"> <div><div><colab-static-output-renderer tabindex="0" role="group"><div><div class="stream output-id-1 output_text"><pre>&lt;br /&gt;
&lt;p&gt;hello&lt;/p&gt;
&lt;p&gt;hello&lt;/p&gt;
&lt;p&gt;world&lt;/p&gt;
&lt;p id="33"&gt;hello&lt;/p&gt;
</pre></div></div><div></div></colab-static-output-renderer></div></div><div><div></div></div></div>
          </div>
        </div></div><colab-cell-next-steps><template shadowrootmode="open"><!----></template></colab-cell-next-steps></div></div></div><div class="add-cell">
      <div class="add-cell-buttons">
        <md-outlined-button class="add-code add-button" data-aria-label="코드 셀 추가
Ctrl+M B" title="코드 셀 추가
Ctrl+M B" value="" has-icon=""><template shadowrootmode="open" shadowrootdelegatesfocus><!---->
      <!--?lit$764986503$--><div class="outline"></div>
      <div class="background"></div>
      <md-focus-ring part="focus-ring" for="button" aria-hidden="true"><template shadowrootmode="open"><!----></template></md-focus-ring>
      <md-ripple part="ripple" for="button" aria-hidden="true"><template shadowrootmode="open"><!----><div class="surface"></div></template></md-ripple>
      <!--?lit$764986503$--><button id="button" class="button" aria-label="코드 셀 추가
Ctrl+M B">
      <!--?lit$764986503$-->
      <span class="touch"></span>
      <!--?lit$764986503$--><slot name="icon"></slot>
      <span class="label"><slot></slot></span>
      <!--?lit$764986503$-->
    
    </button>
    </template>
          <md-icon slot="icon" aria-hidden="true"><template shadowrootmode="open"><!----><slot></slot></template>add</md-icon>
          <!--?lit$764986503$-->코드
        </md-outlined-button>
        <md-outlined-button class="add-text add-button" data-aria-label="텍스트 셀 추가" title="텍스트 셀 추가" value="" has-icon=""><template shadowrootmode="open" shadowrootdelegatesfocus><!---->
      <!--?lit$764986503$--><div class="outline"></div>
      <div class="background"></div>
      <md-focus-ring part="focus-ring" for="button" aria-hidden="true"><template shadowrootmode="open"><!----></template></md-focus-ring>
      <md-ripple part="ripple" for="button" aria-hidden="true"><template shadowrootmode="open"><!----><div class="surface"></div></template></md-ripple>
      <!--?lit$764986503$--><button id="button" class="button" aria-label="텍스트 셀 추가">
      <!--?lit$764986503$-->
      <span class="touch"></span>
      <!--?lit$764986503$--><slot name="icon"></slot>
      <span class="label"><slot></slot></span>
      <!--?lit$764986503$-->
    
    </button>
    </template>
          <md-icon slot="icon" aria-hidden="true"><template shadowrootmode="open"><!----><slot></slot></template>add</md-icon>
          <!--?lit$764986503$-->텍스트
        </md-outlined-button>
        <!--?lit$764986503$-->
        <!--?lit$764986503$-->
      </div><hr>
    </div></div><div class="cell code notebook-cell code-has-output" id="cell-yQJAZsaENYqX" tabindex="-1" role="region" aria-label="셀 13: 코드 셀: " style="opacity: 1;"><div class="cell-tag-editor sticky"></div><div class="agent-focus-label">
      <md-icon aria-hidden="true"><template shadowrootmode="open"><!----><slot></slot></template>spark</md-icon>
      <!--?lit$764986503$-->Gemini
    </div><div class="cell-toolbar sticky"></div><div class="main-content"><div class="cell-contents"><div class="cell-mask"></div><span class="imported-info-area"></span><div class="codecell-input-output">
      <div class="inputarea horizontal layout code">
        <div class="cell-gutter">
          <!-- Bounding range for vertical scrolling of icons -->
          <div class="cell-execution-container">
            <colab-run-button><template shadowrootmode="open"><!----> <div class="cell-execution">
      <button id="run-button" aria-describedby="run-button-tooltip" aria-label="셀 실행" aria-disabled="false">
        <span aria-hidden="true" class="cell-execution-indicator"><!--?lit$764986503$-->
<svg xmlns="http://www.w3.org/2000/svg" viewBox="0 0 24 24">
  <!--?lit$764986503$-->
  <mask id="playSymbolMask">
    <rect width="100%" height="100%" fill="white"></rect>
    <polygon points="10,8 17,12 10,16" fill="black"></polygon>
  </mask>
  <circle cx="12" cy="12" r="7.8" mask="url(#playSymbolMask)" id="filledCircle"></circle>
</svg></span>
      </button>
      <!--?lit$764986503$--><colab-tooltip-trigger for="run-button" id="run-button-tooltip" aria-hidden="true" message="셀 실행 (Ctrl+Enter)
마지막 변경 이후 실행된 셀

임민우컴퓨터공학과에 의해 실행됨
오전 10:49 (0분 전)
0.006초 내에 실행됨"><template shadowrootmode="open"><!----><!--?lit$764986503$--><!----><div><!--?lit$764986503$-->셀 실행 (Ctrl+Enter)</div><!----><!----><div><!--?lit$764986503$-->마지막 변경 이후 실행된 셀</div><!----><!----><br><!----><!----><div><!--?lit$764986503$-->임민우컴퓨터공학과에 의해 실행됨</div><!----><!----><div><!--?lit$764986503$-->오전 10:49 (0분 전)</div><!----><!----><div><!--?lit$764986503$-->0.006초 내에 실행됨</div><!----><!--?--></template>
    </colab-tooltip-trigger> <!--?lit$764986503$--><div class="status">
      <div class="execution-count"><!--?lit$764986503$-->[19]</div>
      <!--?lit$764986503$--><div class="last-run">
      <md-icon aria-hidden="true"><template shadowrootmode="open"><!----><slot></slot></template><!--?lit$764986503$-->check</md-icon>
      <div><!--?lit$764986503$-->0초</div>
    </div>
    </div>
    </div></template></colab-run-button>
          </div>
        </div>
      <div class="editor flex lazy-editor" style=""><pre tabindex="0" class="lazy-virtualized" style="font-size: 14px; line-height: 19px;"><pre class="lazy-gutter"></pre><pre class="monaco-colorized colab colab colab colab colab colab" data-lang="notebook-python"><span><span class="mtk15">print</span><span class="mtk1">(tag(</span><span class="mtk21">'p'</span><span class="mtk1">,&nbsp;</span><span class="mtk21">'hello'</span><span class="mtk1">,&nbsp;</span><span class="mtk21">'world'</span><span class="mtk1">,&nbsp;cls=</span><span class="mtk21">'sidebar'</span><span class="mtk1">))</span></span><br><span><span class="mtk15">print</span><span class="mtk1">(tag(content=</span><span class="mtk21">'testing'</span><span class="mtk1">,&nbsp;name=</span><span class="mtk21">'img'</span><span class="mtk1">))</span></span><br><span><span class="mtk1">my_tag&nbsp;=&nbsp;{</span><span class="mtk21">'name'</span><span class="mtk1">:&nbsp;</span><span class="mtk21">'img'</span><span class="mtk1">,&nbsp;</span><span class="mtk21">'title'</span><span class="mtk1">:&nbsp;</span><span class="mtk21">'Sunset&nbsp;Boulevard'</span><span class="mtk1">,</span></span><br><span><span class="mtk1">&nbsp;&nbsp;&nbsp;&nbsp;&nbsp;&nbsp;&nbsp;&nbsp;&nbsp;&nbsp;</span><span class="mtk21">'src'</span><span class="mtk1">:&nbsp;</span><span class="mtk21">'sunset.jpg'</span><span class="mtk1">,&nbsp;</span><span class="mtk21">'cls'</span><span class="mtk1">:&nbsp;</span><span class="mtk21">'framed'</span><span class="mtk1">}</span></span><br><span><span class="mtk1">tag(**my_tag)</span></span><br></pre><colab-read-only-cell-placeholder style="display: none;"><template shadowrootmode="open"><!----><div><!--?lit$764986503$-->코딩을 시작하거나 AI로 코드를 <span tabindex="0" role="button" class="link">생성</span>하세요.</div></template></colab-read-only-cell-placeholder></pre></div><colab-form class="formview vertical layout flex"><div class="widget-area vertical layout"></div></colab-form></div>
    <div class="output" aria-label="셀 13 출력" role="region"><!----> <div class="output-header"> </div>
        <div class="output-content">
          <div class="output-info"><colab-output-info><template shadowrootmode="open"><!----><md-icon-button data-aria-expanded="false" data-aria-haspopup="menu" aria-describedby="button-output-actions-tooltip" data-aria-label="코드 셀 출력 작업" id="button-output-actions" value=""><template shadowrootmode="open" shadowrootdelegatesfocus><!----><button id="button" class="icon-button  standard " aria-label="코드 셀 출력 작업" aria-haspopup="menu" aria-expanded="false">
        <!--?lit$764986503$--><md-focus-ring part="focus-ring" for="button" aria-hidden="true"><template shadowrootmode="open"><!----></template></md-focus-ring>
        <!--?lit$764986503$--><md-ripple aria-hidden="true"><template shadowrootmode="open"><!----><div class="surface   "></div></template></md-ripple>
        <!--?lit$764986503$--><span class="icon"><slot></slot></span>
        <!--?lit$764986503$-->
        <!--?lit$764986503$--><span class="touch"></span>
  </button></template>
        <md-icon aria-hidden="true"><template shadowrootmode="open"><!----><slot></slot></template><!--?lit$764986503$--><svg viewBox="0 0 24 24"><!--?lit$764986503$--><path d="m15.9 3.07c-4.32 0.0742-8.64-0.0355-13 0.0568-1.37 0.307-1.74 2.1-1.41 3.26 0.469 0.606 1.86 0.384 1.66-0.525 0.0448-0.329-0.183-0.93 0.354-0.766h13.3v1.53h1.71c0.0709-1.13 0.141-2.62-0.968-3.3-0.511-0.264-1.11-0.252-1.67-0.259zm2.94 6.84v4.87c1.62-1.62 3.24-3.24 4.87-4.87h-4.87zm0 0h-1.71v3.43l1.57 1.57c0.32-1.65 0.0556-3.34 0.135-5zm-1.71 3.43v-3.43h-3.43c1.14 1.14 2.29 2.29 3.43 3.43zm1.4 4.27h-1.71v1.48h-13.6v-1.48h-1.71c-0.0473 1.15-0.16 2.72 1.09 3.29 1.47 0.506 3.02 0.0265 4.53 0.192 3.34-0.0051 6.68 0.0336 10-0.0245 1.49-0.366 1.56-2.22 1.42-3.45zm-10.1-1.12c-0.398-0.483-0.796-0.967-1.19-1.45 0.59-0.683 1.18-1.37 1.77-2.05h-8.67v-2h8.67c-0.59-0.683-1.18-1.37-1.77-2.05 0.398-0.483 0.796-0.967 1.19-1.45 1.28 1.5 2.56 3 3.84 4.5-1.28 1.5-2.56 3-3.84 4.5z"></path></svg></md-icon>
      </md-icon-button>
      <colab-tooltip-trigger aria-hidden="true" id="button-output-actions-tooltip" for="button-output-actions" message="코드 셀 출력 작업"><template shadowrootmode="open"><!----><!--?lit$764986503$--><!----><div><!--?lit$764986503$-->코드 셀 출력 작업</div><!----><!--?--></template></colab-tooltip-trigger></template></colab-output-info></div>
          <div class="output-iframe-container">
            <div class="output-iframe-sizer" style="min-height: 0px;"> <div><div class="outputview" style="height: 90px;"><colab-dom-lifecycle-events style="display: none;"></colab-dom-lifecycle-events><iframe allow="accelerometer; autoplay; gyroscope; magnetometer; xr-spatial-tracking; clipboard-write" sandbox="allow-downloads allow-forms allow-pointer-lock allow-popups allow-popups-to-escape-sandbox allow-same-origin allow-scripts allow-storage-access-by-user-activation allow-modals" src="./OSS_Week06_실습_files/outputframe(1).html" class="" style="height: 90px;"></iframe></div></div><div><div></div></div></div>
          </div>
        </div></div><colab-cell-next-steps><template shadowrootmode="open"><!----></template></colab-cell-next-steps></div></div></div><div class="add-cell">
      <div class="add-cell-buttons">
        <md-outlined-button class="add-code add-button" data-aria-label="코드 셀 추가
Ctrl+M B" title="코드 셀 추가
Ctrl+M B" value="" has-icon=""><template shadowrootmode="open" shadowrootdelegatesfocus><!---->
      <!--?lit$764986503$--><div class="outline"></div>
      <div class="background"></div>
      <md-focus-ring part="focus-ring" for="button" aria-hidden="true"><template shadowrootmode="open"><!----></template></md-focus-ring>
      <md-ripple part="ripple" for="button" aria-hidden="true"><template shadowrootmode="open"><!----><div class="surface   "></div></template></md-ripple>
      <!--?lit$764986503$--><button id="button" class="button" aria-label="코드 셀 추가
Ctrl+M B">
      <!--?lit$764986503$-->
      <span class="touch"></span>
      <!--?lit$764986503$--><slot name="icon"></slot>
      <span class="label"><slot></slot></span>
      <!--?lit$764986503$-->
    
    </button>
    </template>
          <md-icon slot="icon" aria-hidden="true"><template shadowrootmode="open"><!----><slot></slot></template>add</md-icon>
          <!--?lit$764986503$-->코드
        </md-outlined-button>
        <md-outlined-button class="add-text add-button" data-aria-label="텍스트 셀 추가" title="텍스트 셀 추가" value="" has-icon=""><template shadowrootmode="open" shadowrootdelegatesfocus><!---->
      <!--?lit$764986503$--><div class="outline"></div>
      <div class="background"></div>
      <md-focus-ring part="focus-ring" for="button" aria-hidden="true"><template shadowrootmode="open"><!----></template></md-focus-ring>
      <md-ripple part="ripple" for="button" aria-hidden="true"><template shadowrootmode="open"><!----><div class="surface"></div></template></md-ripple>
      <!--?lit$764986503$--><button id="button" class="button" aria-label="텍스트 셀 추가">
      <!--?lit$764986503$-->
      <span class="touch"></span>
      <!--?lit$764986503$--><slot name="icon"></slot>
      <span class="label"><slot></slot></span>
      <!--?lit$764986503$-->
    
    </button>
    </template>
          <md-icon slot="icon" aria-hidden="true"><template shadowrootmode="open"><!----><slot></slot></template>add</md-icon>
          <!--?lit$764986503$-->텍스트
        </md-outlined-button>
        <!--?lit$764986503$-->
        <!--?lit$764986503$-->
      </div><hr>
    </div></div><div class="cell code notebook-cell code-has-output" id="cell-vZ5s5RlwNYw4" tabindex="-1" role="region" aria-label="셀 14: 코드 셀: " style="opacity: 1;"><div class="cell-tag-editor sticky"></div><div class="agent-focus-label">
      <md-icon aria-hidden="true"><template shadowrootmode="open"><!----><slot></slot></template>spark</md-icon>
      <!--?lit$764986503$-->Gemini
    </div><div class="cell-toolbar sticky"></div><div class="main-content"><div class="cell-contents"><div class="cell-mask"></div><span class="imported-info-area"></span><div class="codecell-input-output">
      <div class="inputarea horizontal layout code">
        <div class="cell-gutter">
          <!-- Bounding range for vertical scrolling of icons -->
          <div class="cell-execution-container">
            <colab-run-button><template shadowrootmode="open"><!----> <div class="cell-execution">
      <button id="run-button" aria-describedby="run-button-tooltip" aria-label="셀 실행" aria-disabled="false">
        <span aria-hidden="true" class="cell-execution-indicator"><!--?lit$764986503$-->
<svg xmlns="http://www.w3.org/2000/svg" viewBox="0 0 24 24">
  <!--?lit$764986503$-->
  <mask id="playSymbolMask">
    <rect width="100%" height="100%" fill="white"></rect>
    <polygon points="10,8 17,12 10,16" fill="black"></polygon>
  </mask>
  <circle cx="12" cy="12" r="7.8" mask="url(#playSymbolMask)" id="filledCircle"></circle>
</svg></span>
      </button>
      <!--?lit$764986503$--><colab-tooltip-trigger for="run-button" id="run-button-tooltip" aria-hidden="true" message="셀 실행 (Ctrl+Enter)
마지막 변경 이후 실행된 셀

임민우컴퓨터공학과에 의해 실행됨
오전 10:50 (0분 전)
0.009초 내에 실행됨"><template shadowrootmode="open"><!----><!--?lit$764986503$--><!----><div><!--?lit$764986503$-->셀 실행 (Ctrl+Enter)</div><!----><!----><div><!--?lit$764986503$-->마지막 변경 이후 실행된 셀</div><!----><!----><br><!----><!----><div><!--?lit$764986503$-->임민우컴퓨터공학과에 의해 실행됨</div><!----><!----><div><!--?lit$764986503$-->오전 10:50 (0분 전)</div><!----><!----><div><!--?lit$764986503$-->0.009초 내에 실행됨</div><!----><!--?--></template>
    </colab-tooltip-trigger> <!--?lit$764986503$--><div class="status">
      <div class="execution-count"><!--?lit$764986503$-->[20]</div>
      <!--?lit$764986503$--><div class="last-run">
      <md-icon aria-hidden="true"><template shadowrootmode="open"><!----><slot></slot></template><!--?lit$764986503$-->check</md-icon>
      <div><!--?lit$764986503$-->0초</div>
    </div>
    </div>
    </div></template></colab-run-button>
          </div>
        </div>
      <div class="editor flex lazy-editor" style=""><pre tabindex="0" class="lazy-virtualized" style="font-size: 14px; line-height: 19px;"><pre class="lazy-gutter"></pre><pre class="monaco-colorized colab colab colab colab colab colab colab colab" data-lang="notebook-python"><span><span class="mtk6">def</span><span class="mtk1">&nbsp;</span><span class="mtk15">f</span><span class="mtk1">(</span><span class="mtk16">a</span><span class="mtk1">,&nbsp;*,&nbsp;</span><span class="mtk16">b</span><span class="mtk1">):</span></span><br><span><span class="mtk1">&nbsp;&nbsp;</span><span class="mtk19">return</span><span class="mtk1">&nbsp;a,b</span></span><br><span><span class="mtk1">f(</span><span class="mtk12">1</span><span class="mtk1">,&nbsp;b=</span><span class="mtk12">2</span><span class="mtk1">)</span></span><br></pre><colab-read-only-cell-placeholder style="display: none;"><template shadowrootmode="open"><!----><div><!--?lit$764986503$-->코딩을 시작하거나 AI로 코드를 <span tabindex="0" role="button" class="link">생성</span>하세요.</div></template></colab-read-only-cell-placeholder></pre></div><colab-form class="formview vertical layout flex"><div class="widget-area vertical layout"></div></colab-form></div>
    <div class="output" aria-label="셀 14 출력" role="region"><!----> <div class="output-header"> </div>
        <div class="output-content">
          <div class="output-info"><colab-output-info><template shadowrootmode="open"><!----><md-icon-button data-aria-expanded="false" data-aria-haspopup="menu" aria-describedby="button-output-actions-tooltip" data-aria-label="코드 셀 출력 작업" id="button-output-actions" value=""><template shadowrootmode="open" shadowrootdelegatesfocus><!----><button id="button" class="icon-button  standard " aria-label="코드 셀 출력 작업" aria-haspopup="menu" aria-expanded="false">
        <!--?lit$764986503$--><md-focus-ring part="focus-ring" for="button" aria-hidden="true"><template shadowrootmode="open"><!----></template></md-focus-ring>
        <!--?lit$764986503$--><md-ripple aria-hidden="true"><template shadowrootmode="open"><!----><div class="surface   "></div></template></md-ripple>
        <!--?lit$764986503$--><span class="icon"><slot></slot></span>
        <!--?lit$764986503$-->
        <!--?lit$764986503$--><span class="touch"></span>
  </button></template>
        <md-icon aria-hidden="true"><template shadowrootmode="open"><!----><slot></slot></template><!--?lit$764986503$--><svg viewBox="0 0 24 24"><!--?lit$764986503$--><path d="m15.9 3.07c-4.32 0.0742-8.64-0.0355-13 0.0568-1.37 0.307-1.74 2.1-1.41 3.26 0.469 0.606 1.86 0.384 1.66-0.525 0.0448-0.329-0.183-0.93 0.354-0.766h13.3v1.53h1.71c0.0709-1.13 0.141-2.62-0.968-3.3-0.511-0.264-1.11-0.252-1.67-0.259zm2.94 6.84v4.87c1.62-1.62 3.24-3.24 4.87-4.87h-4.87zm0 0h-1.71v3.43l1.57 1.57c0.32-1.65 0.0556-3.34 0.135-5zm-1.71 3.43v-3.43h-3.43c1.14 1.14 2.29 2.29 3.43 3.43zm1.4 4.27h-1.71v1.48h-13.6v-1.48h-1.71c-0.0473 1.15-0.16 2.72 1.09 3.29 1.47 0.506 3.02 0.0265 4.53 0.192 3.34-0.0051 6.68 0.0336 10-0.0245 1.49-0.366 1.56-2.22 1.42-3.45zm-10.1-1.12c-0.398-0.483-0.796-0.967-1.19-1.45 0.59-0.683 1.18-1.37 1.77-2.05h-8.67v-2h8.67c-0.59-0.683-1.18-1.37-1.77-2.05 0.398-0.483 0.796-0.967 1.19-1.45 1.28 1.5 2.56 3 3.84 4.5-1.28 1.5-2.56 3-3.84 4.5z"></path></svg></md-icon>
      </md-icon-button>
      <colab-tooltip-trigger aria-hidden="true" id="button-output-actions-tooltip" for="button-output-actions" message="코드 셀 출력 작업"><template shadowrootmode="open"><!----><!--?lit$764986503$--><!----><div><!--?lit$764986503$-->코드 셀 출력 작업</div><!----><!--?--></template></colab-tooltip-trigger></template></colab-output-info></div>
          <div class="output-iframe-container">
            <div class="output-iframe-sizer" style="min-height: 0px;"> <div><div><colab-static-output-renderer tabindex="0" role="group"><div><div class="execute_result output-id-1 output_text"><pre>(1, 2)</pre></div></div><div></div></colab-static-output-renderer></div></div><div><div></div></div></div>
          </div>
        </div></div><colab-cell-next-steps><template shadowrootmode="open"><!----></template></colab-cell-next-steps></div></div></div><div class="add-cell">
      <div class="add-cell-buttons">
        <md-outlined-button class="add-code add-button" data-aria-label="코드 셀 추가
Ctrl+M B" title="코드 셀 추가
Ctrl+M B" value="" has-icon=""><template shadowrootmode="open" shadowrootdelegatesfocus><!---->
      <!--?lit$764986503$--><div class="outline"></div>
      <div class="background"></div>
      <md-focus-ring part="focus-ring" for="button" aria-hidden="true"><template shadowrootmode="open"><!----></template></md-focus-ring>
      <md-ripple part="ripple" for="button" aria-hidden="true"><template shadowrootmode="open"><!----><div class="surface   "></div></template></md-ripple>
      <!--?lit$764986503$--><button id="button" class="button" aria-label="코드 셀 추가
Ctrl+M B">
      <!--?lit$764986503$-->
      <span class="touch"></span>
      <!--?lit$764986503$--><slot name="icon"></slot>
      <span class="label"><slot></slot></span>
      <!--?lit$764986503$-->
    
    </button>
    </template>
          <md-icon slot="icon" aria-hidden="true"><template shadowrootmode="open"><!----><slot></slot></template>add</md-icon>
          <!--?lit$764986503$-->코드
        </md-outlined-button>
        <md-outlined-button class="add-text add-button" data-aria-label="텍스트 셀 추가" title="텍스트 셀 추가" value="" has-icon=""><template shadowrootmode="open" shadowrootdelegatesfocus><!---->
      <!--?lit$764986503$--><div class="outline"></div>
      <div class="background"></div>
      <md-focus-ring part="focus-ring" for="button" aria-hidden="true"><template shadowrootmode="open"><!----></template></md-focus-ring>
      <md-ripple part="ripple" for="button" aria-hidden="true"><template shadowrootmode="open"><!----><div class="surface"></div></template></md-ripple>
      <!--?lit$764986503$--><button id="button" class="button" aria-label="텍스트 셀 추가">
      <!--?lit$764986503$-->
      <span class="touch"></span>
      <!--?lit$764986503$--><slot name="icon"></slot>
      <span class="label"><slot></slot></span>
      <!--?lit$764986503$-->
    
    </button>
    </template>
          <md-icon slot="icon" aria-hidden="true"><template shadowrootmode="open"><!----><slot></slot></template>add</md-icon>
          <!--?lit$764986503$-->텍스트
        </md-outlined-button>
        <!--?lit$764986503$-->
        <!--?lit$764986503$-->
      </div><hr>
    </div></div><div class="cell code notebook-cell code-has-output" id="cell-NTLFg36aNYzv" tabindex="-1" role="region" aria-label="셀 15: 코드 셀: " style="opacity: 1;"><div class="cell-tag-editor sticky"></div><div class="agent-focus-label">
      <md-icon aria-hidden="true"><template shadowrootmode="open"><!----><slot></slot></template>spark</md-icon>
      <!--?lit$764986503$-->Gemini
    </div><div class="cell-toolbar sticky"></div><div class="main-content"><div class="cell-contents"><div class="cell-mask"></div><span class="imported-info-area"></span><div class="codecell-input-output">
      <div class="inputarea horizontal layout code">
        <div class="cell-gutter">
          <!-- Bounding range for vertical scrolling of icons -->
          <div class="cell-execution-container">
            <colab-run-button><template shadowrootmode="open"><!----> <div class="cell-execution error">
      <button id="run-button" aria-describedby="run-button-tooltip" aria-label="셀 실행" aria-disabled="false">
        <span aria-hidden="true" class="cell-execution-indicator"><!--?lit$764986503$-->
<svg xmlns="http://www.w3.org/2000/svg" viewBox="0 0 24 24">
  <!--?lit$764986503$-->
  <mask id="playSymbolMask">
    <rect width="100%" height="100%" fill="white"></rect>
    <polygon points="10,8 17,12 10,16" fill="black"></polygon>
  </mask>
  <circle cx="12" cy="12" r="7.8" mask="url(#playSymbolMask)" id="filledCircle"></circle>
</svg></span>
      </button>
      <!--?lit$764986503$--><colab-tooltip-trigger for="run-button" id="run-button-tooltip" aria-hidden="true" message="셀 실행 (Ctrl+Enter)
마지막 변경 이후 실행된 셀
이전 실행이 예기치 못하게 종료되었습니다.

임민우컴퓨터공학과에 의해 실행됨
오전 10:52 (0분 전)
0.05초 내에 실행됨"><template shadowrootmode="open"><!----><!--?lit$764986503$--><!----><div><!--?lit$764986503$-->셀 실행 (Ctrl+Enter)</div><!----><!----><div><!--?lit$764986503$-->마지막 변경 이후 실행된 셀</div><!----><!----><div><!--?lit$764986503$-->이전 실행이 예기치 못하게 종료되었습니다.</div><!----><!----><br><!----><!----><div><!--?lit$764986503$-->임민우컴퓨터공학과에 의해 실행됨</div><!----><!----><div><!--?lit$764986503$-->오전 10:52 (0분 전)</div><!----><!----><div><!--?lit$764986503$-->0.05초 내에 실행됨</div><!----><!--?--></template>
    </colab-tooltip-trigger> <!--?lit$764986503$--><div class="status">
      <div class="execution-count"><!--?lit$764986503$-->[21]</div>
      <!--?lit$764986503$--><div class="last-run">
      <md-icon aria-hidden="true"><template shadowrootmode="open"><!----><slot></slot></template><!--?lit$764986503$-->error</md-icon>
      <div><!--?lit$764986503$-->0초</div>
    </div>
    </div>
    </div></template></colab-run-button>
          </div>
        </div>
      <div class="editor flex lazy-editor" style=""><pre tabindex="0" class="lazy-virtualized" style="font-size: 14px; line-height: 19px;"><pre class="lazy-gutter"></pre><pre class="monaco-colorized colab colab colab colab colab colab colab colab" data-lang="notebook-python"><span><span class="mtk6">def</span><span class="mtk1">&nbsp;</span><span class="mtk15">create_user</span><span class="mtk1">(</span><span class="mtk16">name</span><span class="mtk1">,&nbsp;*,&nbsp;</span><span class="mtk16">age</span><span class="mtk1">,&nbsp;</span><span class="mtk16">is_admin</span><span class="mtk1">=</span><span class="mtk6">False</span><span class="mtk1">):</span></span><br><span><span class="mtk1">&nbsp;&nbsp;</span><span class="mtk15">print</span><span class="mtk1">(</span><span class="mtk6">f</span><span class="mtk21">"Name:&nbsp;</span><span class="mtk1">{name}</span><span class="mtk21">,&nbsp;Age:&nbsp;</span><span class="mtk1">{age}</span><span class="mtk21">,&nbsp;Admin:&nbsp;</span><span class="mtk1">{is_admin}</span><span class="mtk21">"</span><span class="mtk1">)</span></span><br><span><span></span></span><br><span><span class="mtk1">create_user(</span><span class="mtk21">"Alice"</span><span class="mtk1">,&nbsp;age=</span><span class="mtk12">25</span><span class="mtk1">,&nbsp;is_admin=</span><span class="mtk6">True</span><span class="mtk1">)</span></span><br><span><span class="mtk1">create_user(</span><span class="mtk21">"Bob"</span><span class="mtk1">,&nbsp;</span><span class="mtk12">25</span><span class="mtk1">)</span></span><br></pre><colab-read-only-cell-placeholder style="display: none;"><template shadowrootmode="open"><!----><div><!--?lit$764986503$-->코딩을 시작하거나 AI로 코드를 <span tabindex="0" role="button" class="link">생성</span>하세요.</div></template></colab-read-only-cell-placeholder></pre></div><colab-form class="formview vertical layout flex"><div class="widget-area vertical layout"></div></colab-form></div>
    <div class="output" aria-label="셀 15 출력" role="region"><!----> <div class="output-header"> </div>
        <div class="output-content">
          <div class="output-info"><colab-output-info><template shadowrootmode="open"><!----><md-icon-button data-aria-expanded="false" data-aria-haspopup="menu" aria-describedby="button-output-actions-tooltip" data-aria-label="코드 셀 출력 작업" id="button-output-actions" value=""><template shadowrootmode="open" shadowrootdelegatesfocus><!----><button id="button" class="icon-button  standard " aria-label="코드 셀 출력 작업" aria-haspopup="menu" aria-expanded="false">
        <!--?lit$764986503$--><md-focus-ring part="focus-ring" for="button" aria-hidden="true"><template shadowrootmode="open"><!----></template></md-focus-ring>
        <!--?lit$764986503$--><md-ripple aria-hidden="true"><template shadowrootmode="open"><!----><div class="surface"></div></template></md-ripple>
        <!--?lit$764986503$--><span class="icon"><slot></slot></span>
        <!--?lit$764986503$-->
        <!--?lit$764986503$--><span class="touch"></span>
  </button></template>
        <md-icon aria-hidden="true"><template shadowrootmode="open"><!----><slot></slot></template><!--?lit$764986503$--><svg viewBox="0 0 24 24"><!--?lit$764986503$--><path d="m15.9 3.07c-4.32 0.0742-8.64-0.0355-13 0.0568-1.37 0.307-1.74 2.1-1.41 3.26 0.469 0.606 1.86 0.384 1.66-0.525 0.0448-0.329-0.183-0.93 0.354-0.766h13.3v1.53h1.71c0.0709-1.13 0.141-2.62-0.968-3.3-0.511-0.264-1.11-0.252-1.67-0.259zm2.94 6.84v4.87c1.62-1.62 3.24-3.24 4.87-4.87h-4.87zm0 0h-1.71v3.43l1.57 1.57c0.32-1.65 0.0556-3.34 0.135-5zm-1.71 3.43v-3.43h-3.43c1.14 1.14 2.29 2.29 3.43 3.43zm1.4 4.27h-1.71v1.48h-13.6v-1.48h-1.71c-0.0473 1.15-0.16 2.72 1.09 3.29 1.47 0.506 3.02 0.0265 4.53 0.192 3.34-0.0051 6.68 0.0336 10-0.0245 1.49-0.366 1.56-2.22 1.42-3.45zm-10.1-1.12c-0.398-0.483-0.796-0.967-1.19-1.45 0.59-0.683 1.18-1.37 1.77-2.05h-8.67v-2h8.67c-0.59-0.683-1.18-1.37-1.77-2.05 0.398-0.483 0.796-0.967 1.19-1.45 1.28 1.5 2.56 3 3.84 4.5-1.28 1.5-2.56 3-3.84 4.5z"></path></svg></md-icon>
      </md-icon-button>
      <colab-tooltip-trigger aria-hidden="true" id="button-output-actions-tooltip" for="button-output-actions" message="코드 셀 출력 작업"><template shadowrootmode="open"><!----><!--?lit$764986503$--><!----><div><!--?lit$764986503$-->코드 셀 출력 작업</div><!----><!--?--></template></colab-tooltip-trigger></template></colab-output-info></div>
          <div class="output-iframe-container">
            <div class="output-iframe-sizer" style="min-height: 0px;"> <div><div class="outputview" style="height: 202px;"><colab-dom-lifecycle-events style="display: none;"></colab-dom-lifecycle-events><iframe allow="accelerometer; autoplay; gyroscope; magnetometer; xr-spatial-tracking; clipboard-write" sandbox="allow-downloads allow-forms allow-pointer-lock allow-popups allow-popups-to-escape-sandbox allow-same-origin allow-scripts allow-storage-access-by-user-activation allow-modals" src="./OSS_Week06_실습_files/outputframe(2).html" class="" style="height: 202px;"></iframe></div></div><div><div></div></div></div>
          </div>
        </div></div><colab-cell-next-steps hascontent=""><template shadowrootmode="open"><!----> <div class="root">
        <span class="next-steps-title"> <!--?lit$764986503$-->다음 단계: </span>
        <!--?lit$764986503$--><!----><md-outlined-button class="fix" data-test-id="explain-error" value=""><template shadowrootmode="open" shadowrootdelegatesfocus><!---->
      <!--?lit$764986503$--><div class="outline"></div>
      <div class="background"></div>
      <md-focus-ring part="focus-ring" for="button" aria-hidden="true"><template shadowrootmode="open"><!----></template></md-focus-ring>
      <md-ripple part="ripple" for="button" aria-hidden="true"><template shadowrootmode="open"><!----><div class="surface"></div></template></md-ripple>
      <!--?lit$764986503$--><button id="button" class="button">
      <!--?lit$764986503$-->
      <span class="touch"></span>
      <!--?lit$764986503$--><slot name="icon"></slot>
      <span class="label"><slot></slot></span>
      <!--?lit$764986503$-->
    
    </button>
    </template>
            <!--?lit$764986503$-->오류 설명
          </md-outlined-button><!---->
      </div>
      <div class="content"><!--?lit$764986503$--></div></template></colab-cell-next-steps></div></div></div><div class="add-cell">
      <div class="add-cell-buttons">
        <md-outlined-button class="add-code add-button" data-aria-label="코드 셀 추가
Ctrl+M B" title="코드 셀 추가
Ctrl+M B" value="" has-icon=""><template shadowrootmode="open" shadowrootdelegatesfocus><!---->
      <!--?lit$764986503$--><div class="outline"></div>
      <div class="background"></div>
      <md-focus-ring part="focus-ring" for="button" aria-hidden="true"><template shadowrootmode="open"><!----></template></md-focus-ring>
      <md-ripple part="ripple" for="button" aria-hidden="true"><template shadowrootmode="open"><!----><div class="surface"></div></template></md-ripple>
      <!--?lit$764986503$--><button id="button" class="button" aria-label="코드 셀 추가
Ctrl+M B">
      <!--?lit$764986503$-->
      <span class="touch"></span>
      <!--?lit$764986503$--><slot name="icon"></slot>
      <span class="label"><slot></slot></span>
      <!--?lit$764986503$-->
    
    </button>
    </template>
          <md-icon slot="icon" aria-hidden="true"><template shadowrootmode="open"><!----><slot></slot></template>add</md-icon>
          <!--?lit$764986503$-->코드
        </md-outlined-button>
        <md-outlined-button class="add-text add-button" data-aria-label="텍스트 셀 추가" title="텍스트 셀 추가" value="" has-icon=""><template shadowrootmode="open" shadowrootdelegatesfocus><!---->
      <!--?lit$764986503$--><div class="outline"></div>
      <div class="background"></div>
      <md-focus-ring part="focus-ring" for="button" aria-hidden="true"><template shadowrootmode="open"><!----></template></md-focus-ring>
      <md-ripple part="ripple" for="button" aria-hidden="true"><template shadowrootmode="open"><!----><div class="surface   "></div></template></md-ripple>
      <!--?lit$764986503$--><button id="button" class="button" aria-label="텍스트 셀 추가">
      <!--?lit$764986503$-->
      <span class="touch"></span>
      <!--?lit$764986503$--><slot name="icon"></slot>
      <span class="label"><slot></slot></span>
      <!--?lit$764986503$-->
    
    </button>
    </template>
          <md-icon slot="icon" aria-hidden="true"><template shadowrootmode="open"><!----><slot></slot></template>add</md-icon>
          <!--?lit$764986503$-->텍스트
        </md-outlined-button>
        <!--?lit$764986503$-->
        <!--?lit$764986503$-->
      </div><hr>
    </div></div><div class="cell code notebook-cell" id="cell-o91MNb5DNY2n" tabindex="-1" role="region" aria-label="셀 16: 코드 셀: " style="opacity: 1;"><div class="cell-tag-editor sticky"></div><div class="agent-focus-label">
      <md-icon aria-hidden="true"><template shadowrootmode="open"><!----><slot></slot></template>spark</md-icon>
      <!--?lit$764986503$-->Gemini
    </div><div class="cell-toolbar sticky"></div><div class="main-content"><div class="cell-contents"><div class="cell-mask"></div><span class="imported-info-area"></span><div class="codecell-input-output">
      <div class="inputarea horizontal layout code">
        <div class="cell-gutter">
          <!-- Bounding range for vertical scrolling of icons -->
          <div class="cell-execution-container">
            <colab-run-button><template shadowrootmode="open"><!----> <div class="cell-execution">
      <button id="run-button" aria-describedby="run-button-tooltip" aria-label="셀 실행" aria-disabled="false">
        <span aria-hidden="true" class="cell-execution-indicator"><!--?lit$764986503$-->
<svg xmlns="http://www.w3.org/2000/svg" viewBox="0 0 24 24">
  <!--?lit$764986503$-->
  <mask id="playSymbolMask">
    <rect width="100%" height="100%" fill="white"></rect>
    <polygon points="10,8 17,12 10,16" fill="black"></polygon>
  </mask>
  <circle cx="12" cy="12" r="7.8" mask="url(#playSymbolMask)" id="filledCircle"></circle>
</svg></span>
      </button>
      <!--?lit$764986503$--><colab-tooltip-trigger for="run-button" id="run-button-tooltip" aria-hidden="true" message="셀 실행 (Ctrl+Enter)
마지막 변경 이후 실행된 셀

임민우컴퓨터공학과에 의해 실행됨
오전 10:54 (0분 전)
0.004초 내에 실행됨"><template shadowrootmode="open"><!----><!--?lit$764986503$--><!----><div><!--?lit$764986503$-->셀 실행 (Ctrl+Enter)</div><!----><!----><div><!--?lit$764986503$-->마지막 변경 이후 실행된 셀</div><!----><!----><br><!----><!----><div><!--?lit$764986503$-->임민우컴퓨터공학과에 의해 실행됨</div><!----><!----><div><!--?lit$764986503$-->오전 10:54 (0분 전)</div><!----><!----><div><!--?lit$764986503$-->0.004초 내에 실행됨</div><!----><!--?--></template>
    </colab-tooltip-trigger> <!--?lit$764986503$--><div class="status">
      <div class="execution-count"><!--?lit$764986503$-->[22]</div>
      <!--?lit$764986503$--><div class="last-run">
      <md-icon aria-hidden="true"><template shadowrootmode="open"><!----><slot></slot></template><!--?lit$764986503$-->check</md-icon>
      <div><!--?lit$764986503$-->0초</div>
    </div>
    </div>
    </div></template></colab-run-button>
          </div>
        </div>
      <div class="editor flex lazy-editor" style=""><pre tabindex="0" class="lazy-virtualized" style="font-size: 14px; line-height: 19px;"><pre class="lazy-gutter"></pre><pre class="monaco-colorized colab colab colab colab colab" data-lang="notebook-python"><span><span class="mtk6">def</span><span class="mtk1">&nbsp;</span><span class="mtk15">clip</span><span class="mtk1">(</span><span class="mtk16">text</span><span class="mtk1">,&nbsp;</span><span class="mtk16">max_len</span><span class="mtk1">=</span><span class="mtk12">80</span><span class="mtk1">):</span></span><br><span><span class="mtk1">&nbsp;&nbsp;</span><span class="mtk21">"""max_len&nbsp;앞이나&nbsp;뒤의&nbsp;마지막&nbsp;공백에서&nbsp;잘라낸&nbsp;텍스트를&nbsp;반환한다."""</span></span><br><span><span></span></span><br><span><span class="mtk1">&nbsp;&nbsp;end=</span><span class="mtk6">None</span></span><br><span><span class="mtk1">&nbsp;&nbsp;</span><span class="mtk19">if</span><span class="mtk1">&nbsp;</span><span class="mtk15">len</span><span class="mtk1">(text)&nbsp;&gt;&nbsp;max_len:</span></span><br><span><span class="mtk1">&nbsp;&nbsp;&nbsp;&nbsp;space_before&nbsp;=&nbsp;text.rfind(</span><span class="mtk21">'&nbsp;'</span><span class="mtk1">,&nbsp;</span><span class="mtk12">0</span><span class="mtk1">,&nbsp;max_len)</span></span><br><span><span class="mtk1">&nbsp;&nbsp;&nbsp;&nbsp;</span><span class="mtk19">if</span><span class="mtk1">&nbsp;space_before&nbsp;&gt;=&nbsp;</span><span class="mtk12">0</span><span class="mtk1">:</span></span><br><span><span class="mtk1">&nbsp;&nbsp;&nbsp;&nbsp;&nbsp;&nbsp;end&nbsp;=&nbsp;space_before</span></span><br><span><span class="mtk1">&nbsp;&nbsp;&nbsp;&nbsp;</span><span class="mtk19">else</span><span class="mtk1">:</span></span><br><span><span class="mtk1">&nbsp;&nbsp;&nbsp;&nbsp;&nbsp;&nbsp;space_after&nbsp;=&nbsp;text.rfind(</span><span class="mtk21">'&nbsp;'</span><span class="mtk1">,&nbsp;max_len)</span></span><br><span><span class="mtk1">&nbsp;&nbsp;&nbsp;&nbsp;&nbsp;&nbsp;</span><span class="mtk19">if</span><span class="mtk1">&nbsp;space_after&nbsp;&gt;=&nbsp;</span><span class="mtk12">0</span><span class="mtk1">:</span></span><br><span><span class="mtk1">&nbsp;&nbsp;&nbsp;&nbsp;&nbsp;&nbsp;&nbsp;&nbsp;end&nbsp;=&nbsp;space_after</span></span><br><span><span class="mtk1">&nbsp;&nbsp;</span><span class="mtk19">if</span><span class="mtk1">&nbsp;end&nbsp;</span><span class="mtk6">is</span><span class="mtk1">&nbsp;</span><span class="mtk6">None</span><span class="mtk1">:</span></span><br><span><span class="mtk1">&nbsp;&nbsp;&nbsp;&nbsp;end&nbsp;=&nbsp;</span><span class="mtk15">len</span><span class="mtk1">(text)</span></span><br><span><span class="mtk1">&nbsp;&nbsp;</span><span class="mtk19">return</span><span class="mtk1">&nbsp;text[:end].rstrip()</span></span><br></pre><colab-read-only-cell-placeholder style="display: none;"><template shadowrootmode="open"><!----><div><!--?lit$764986503$-->코딩을 시작하거나 AI로 코드를 <span tabindex="0" role="button" class="link">생성</span>하세요.</div></template></colab-read-only-cell-placeholder></pre></div><colab-form class="formview vertical layout flex"><div class="widget-area vertical layout"></div></colab-form></div>
    <div class="output" aria-label="셀 16 출력" role="region"><!----> <div class="output-header"> </div>
        <div class="output-content" hidden="">
          <div class="output-info"><colab-output-info><template shadowrootmode="open"><!----><md-icon-button data-aria-expanded="false" data-aria-haspopup="menu" aria-describedby="button-output-actions-tooltip" data-aria-label="코드 셀 출력 작업" id="button-output-actions" value=""><template shadowrootmode="open" shadowrootdelegatesfocus><!----><button id="button" class="icon-button  standard " aria-label="코드 셀 출력 작업" aria-haspopup="menu" aria-expanded="false">
        <!--?lit$764986503$--><md-focus-ring part="focus-ring" for="button" aria-hidden="true"><template shadowrootmode="open"><!----></template></md-focus-ring>
        <!--?lit$764986503$--><md-ripple aria-hidden="true"><template shadowrootmode="open"><!----><div class="surface   "></div></template></md-ripple>
        <!--?lit$764986503$--><span class="icon"><slot></slot></span>
        <!--?lit$764986503$-->
        <!--?lit$764986503$--><span class="touch"></span>
  </button></template>
        <md-icon aria-hidden="true"><template shadowrootmode="open"><!----><slot></slot></template><!--?lit$764986503$--><svg viewBox="0 0 24 24"><!--?lit$764986503$--><path d="m15.9 3.07c-4.32 0.0742-8.64-0.0355-13 0.0568-1.37 0.307-1.74 2.1-1.41 3.26 0.469 0.606 1.86 0.384 1.66-0.525 0.0448-0.329-0.183-0.93 0.354-0.766h13.3v1.53h1.71c0.0709-1.13 0.141-2.62-0.968-3.3-0.511-0.264-1.11-0.252-1.67-0.259zm2.94 6.84v4.87c1.62-1.62 3.24-3.24 4.87-4.87h-4.87zm0 0h-1.71v3.43l1.57 1.57c0.32-1.65 0.0556-3.34 0.135-5zm-1.71 3.43v-3.43h-3.43c1.14 1.14 2.29 2.29 3.43 3.43zm1.4 4.27h-1.71v1.48h-13.6v-1.48h-1.71c-0.0473 1.15-0.16 2.72 1.09 3.29 1.47 0.506 3.02 0.0265 4.53 0.192 3.34-0.0051 6.68 0.0336 10-0.0245 1.49-0.366 1.56-2.22 1.42-3.45zm-10.1-1.12c-0.398-0.483-0.796-0.967-1.19-1.45 0.59-0.683 1.18-1.37 1.77-2.05h-8.67v-2h8.67c-0.59-0.683-1.18-1.37-1.77-2.05 0.398-0.483 0.796-0.967 1.19-1.45 1.28 1.5 2.56 3 3.84 4.5-1.28 1.5-2.56 3-3.84 4.5z"></path></svg></md-icon>
      </md-icon-button>
      <colab-tooltip-trigger aria-hidden="true" id="button-output-actions-tooltip" for="button-output-actions" message="코드 셀 출력 작업"><template shadowrootmode="open"><!----><!--?lit$764986503$--><!----><div><!--?lit$764986503$-->코드 셀 출력 작업</div><!----><!--?--></template></colab-tooltip-trigger></template></colab-output-info></div>
          <div class="output-iframe-container" hidden="">
            <div class="output-iframe-sizer" style="min-height: 0px;"> <div><div><colab-static-output-renderer tabindex="0" role="group"><div></div><div></div></colab-static-output-renderer></div></div><div><div></div></div></div>
          </div>
        </div></div><colab-cell-next-steps><template shadowrootmode="open"><!----></template></colab-cell-next-steps></div></div></div><div class="add-cell">
      <div class="add-cell-buttons">
        <md-outlined-button class="add-code add-button" data-aria-label="코드 셀 추가
Ctrl+M B" title="코드 셀 추가
Ctrl+M B" value="" has-icon=""><template shadowrootmode="open" shadowrootdelegatesfocus><!---->
      <!--?lit$764986503$--><div class="outline"></div>
      <div class="background"></div>
      <md-focus-ring part="focus-ring" for="button" aria-hidden="true"><template shadowrootmode="open"><!----></template></md-focus-ring>
      <md-ripple part="ripple" for="button" aria-hidden="true"><template shadowrootmode="open"><!----><div class="surface   "></div></template></md-ripple>
      <!--?lit$764986503$--><button id="button" class="button" aria-label="코드 셀 추가
Ctrl+M B">
      <!--?lit$764986503$-->
      <span class="touch"></span>
      <!--?lit$764986503$--><slot name="icon"></slot>
      <span class="label"><slot></slot></span>
      <!--?lit$764986503$-->
    
    </button>
    </template>
          <md-icon slot="icon" aria-hidden="true"><template shadowrootmode="open"><!----><slot></slot></template>add</md-icon>
          <!--?lit$764986503$-->코드
        </md-outlined-button>
        <md-outlined-button class="add-text add-button" data-aria-label="텍스트 셀 추가" title="텍스트 셀 추가" value="" has-icon=""><template shadowrootmode="open" shadowrootdelegatesfocus><!---->
      <!--?lit$764986503$--><div class="outline"></div>
      <div class="background"></div>
      <md-focus-ring part="focus-ring" for="button" aria-hidden="true"><template shadowrootmode="open"><!----></template></md-focus-ring>
      <md-ripple part="ripple" for="button" aria-hidden="true"><template shadowrootmode="open"><!----><div class="surface   "></div></template></md-ripple>
      <!--?lit$764986503$--><button id="button" class="button" aria-label="텍스트 셀 추가">
      <!--?lit$764986503$-->
      <span class="touch"></span>
      <!--?lit$764986503$--><slot name="icon"></slot>
      <span class="label"><slot></slot></span>
      <!--?lit$764986503$-->
    
    </button>
    </template>
          <md-icon slot="icon" aria-hidden="true"><template shadowrootmode="open"><!----><slot></slot></template>add</md-icon>
          <!--?lit$764986503$-->텍스트
        </md-outlined-button>
        <!--?lit$764986503$-->
        <!--?lit$764986503$-->
      </div><hr>
    </div></div><div class="cell code notebook-cell code-has-output" id="cell-lcFBL2VFNY4m" tabindex="-1" role="region" aria-label="셀 17: 코드 셀: " style="opacity: 1;"><div class="cell-tag-editor sticky"></div><div class="agent-focus-label">
      <md-icon aria-hidden="true"><template shadowrootmode="open"><!----><slot></slot></template>spark</md-icon>
      <!--?lit$764986503$-->Gemini
    </div><div class="cell-toolbar sticky"></div><div class="main-content"><div class="cell-contents"><div class="cell-mask"></div><span class="imported-info-area"></span><div class="codecell-input-output">
      <div class="inputarea horizontal layout code">
        <div class="cell-gutter">
          <!-- Bounding range for vertical scrolling of icons -->
          <div class="cell-execution-container">
            <colab-run-button><template shadowrootmode="open"><!----> <div class="cell-execution">
      <button id="run-button" aria-describedby="run-button-tooltip" aria-label="셀 실행" aria-disabled="false">
        <span aria-hidden="true" class="cell-execution-indicator"><!--?lit$764986503$-->
<svg xmlns="http://www.w3.org/2000/svg" viewBox="0 0 24 24">
  <!--?lit$764986503$-->
  <mask id="playSymbolMask">
    <rect width="100%" height="100%" fill="white"></rect>
    <polygon points="10,8 17,12 10,16" fill="black"></polygon>
  </mask>
  <circle cx="12" cy="12" r="7.8" mask="url(#playSymbolMask)" id="filledCircle"></circle>
</svg></span>
      </button>
      <!--?lit$764986503$--><colab-tooltip-trigger for="run-button" id="run-button-tooltip" aria-hidden="true" message="셀 실행 (Ctrl+Enter)
마지막 변경 이후 실행된 셀

임민우컴퓨터공학과에 의해 실행됨
오전 10:55 (0분 전)
0.005초 내에 실행됨"><template shadowrootmode="open"><!----><!--?lit$764986503$--><!----><div><!--?lit$764986503$-->셀 실행 (Ctrl+Enter)</div><!----><!----><div><!--?lit$764986503$-->마지막 변경 이후 실행된 셀</div><!----><!----><br><!----><!----><div><!--?lit$764986503$-->임민우컴퓨터공학과에 의해 실행됨</div><!----><!----><div><!--?lit$764986503$-->오전 10:55 (0분 전)</div><!----><!----><div><!--?lit$764986503$-->0.005초 내에 실행됨</div><!----><!--?--></template>
    </colab-tooltip-trigger> <!--?lit$764986503$--><div class="status">
      <div class="execution-count"><!--?lit$764986503$-->[24]</div>
      <!--?lit$764986503$--><div class="last-run">
      <md-icon aria-hidden="true"><template shadowrootmode="open"><!----><slot></slot></template><!--?lit$764986503$-->check</md-icon>
      <div><!--?lit$764986503$-->0초</div>
    </div>
    </div>
    </div></template></colab-run-button>
          </div>
        </div>
      <div class="editor flex lazy-editor" style=""><pre tabindex="0" class="lazy-virtualized" style="font-size: 14px; line-height: 19px;"><pre class="lazy-gutter"></pre><pre class="monaco-colorized colab colab colab colab colab colab colab colab" data-lang="notebook-python"><span><span class="mtk15">print</span><span class="mtk1">(clip.</span><span class="mtk16">__defaults__</span><span class="mtk1">)</span></span><br><span><span class="mtk15">print</span><span class="mtk1">(clip.</span><span class="mtk16">__code__</span><span class="mtk1">)</span></span><br><span><span class="mtk15">print</span><span class="mtk1">(clip.</span><span class="mtk16">__code__</span><span class="mtk1">.co_varnames)</span></span><br><span><span class="mtk15">print</span><span class="mtk1">(clip.</span><span class="mtk16">__code__</span><span class="mtk1">.co_argcount)</span></span><br></pre><colab-read-only-cell-placeholder style="display: none;"><template shadowrootmode="open"><!----><div><!--?lit$764986503$-->코딩을 시작하거나 AI로 코드를 <span tabindex="0" role="button" class="link">생성</span>하세요.</div></template></colab-read-only-cell-placeholder></pre></div><colab-form class="formview vertical layout flex"><div class="widget-area vertical layout"></div></colab-form></div>
    <div class="output" aria-label="셀 17 출력" role="region"><!----> <div class="output-header"> </div>
        <div class="output-content">
          <div class="output-info"><colab-output-info><template shadowrootmode="open"><!----><md-icon-button data-aria-expanded="false" data-aria-haspopup="menu" aria-describedby="button-output-actions-tooltip" data-aria-label="코드 셀 출력 작업" id="button-output-actions" value=""><template shadowrootmode="open" shadowrootdelegatesfocus><!----><button id="button" class="icon-button  standard " aria-label="코드 셀 출력 작업" aria-haspopup="menu" aria-expanded="false">
        <!--?lit$764986503$--><md-focus-ring part="focus-ring" for="button" aria-hidden="true"><template shadowrootmode="open"><!----></template></md-focus-ring>
        <!--?lit$764986503$--><md-ripple aria-hidden="true"><template shadowrootmode="open"><!----><div class="surface   "></div></template></md-ripple>
        <!--?lit$764986503$--><span class="icon"><slot></slot></span>
        <!--?lit$764986503$-->
        <!--?lit$764986503$--><span class="touch"></span>
  </button></template>
        <md-icon aria-hidden="true"><template shadowrootmode="open"><!----><slot></slot></template><!--?lit$764986503$--><svg viewBox="0 0 24 24"><!--?lit$764986503$--><path d="m15.9 3.07c-4.32 0.0742-8.64-0.0355-13 0.0568-1.37 0.307-1.74 2.1-1.41 3.26 0.469 0.606 1.86 0.384 1.66-0.525 0.0448-0.329-0.183-0.93 0.354-0.766h13.3v1.53h1.71c0.0709-1.13 0.141-2.62-0.968-3.3-0.511-0.264-1.11-0.252-1.67-0.259zm2.94 6.84v4.87c1.62-1.62 3.24-3.24 4.87-4.87h-4.87zm0 0h-1.71v3.43l1.57 1.57c0.32-1.65 0.0556-3.34 0.135-5zm-1.71 3.43v-3.43h-3.43c1.14 1.14 2.29 2.29 3.43 3.43zm1.4 4.27h-1.71v1.48h-13.6v-1.48h-1.71c-0.0473 1.15-0.16 2.72 1.09 3.29 1.47 0.506 3.02 0.0265 4.53 0.192 3.34-0.0051 6.68 0.0336 10-0.0245 1.49-0.366 1.56-2.22 1.42-3.45zm-10.1-1.12c-0.398-0.483-0.796-0.967-1.19-1.45 0.59-0.683 1.18-1.37 1.77-2.05h-8.67v-2h8.67c-0.59-0.683-1.18-1.37-1.77-2.05 0.398-0.483 0.796-0.967 1.19-1.45 1.28 1.5 2.56 3 3.84 4.5-1.28 1.5-2.56 3-3.84 4.5z"></path></svg></md-icon>
      </md-icon-button>
      <colab-tooltip-trigger aria-hidden="true" id="button-output-actions-tooltip" for="button-output-actions" message="코드 셀 출력 작업"><template shadowrootmode="open"><!----><!--?lit$764986503$--><!----><div><!--?lit$764986503$-->코드 셀 출력 작업</div><!----><!--?--></template></colab-tooltip-trigger></template></colab-output-info></div>
          <div class="output-iframe-container">
            <div class="output-iframe-sizer" style="min-height: 0px;"> <div><div><colab-static-output-renderer tabindex="0" role="group"><div><div class="stream output-id-1 output_text"><pre>(80,)
&lt;code object clip at 0x7a0890cf57a0, file "/tmp/ipython-input-1537919987.py", line 1&gt;
('text', 'max_len', 'end', 'space_before', 'space_after')
2
</pre></div></div><div></div></colab-static-output-renderer></div></div><div><div></div></div></div>
          </div>
        </div></div><colab-cell-next-steps><template shadowrootmode="open"><!----></template></colab-cell-next-steps></div></div></div><div class="add-cell">
      <div class="add-cell-buttons">
        <md-outlined-button class="add-code add-button" data-aria-label="코드 셀 추가
Ctrl+M B" title="코드 셀 추가
Ctrl+M B" value="" has-icon=""><template shadowrootmode="open" shadowrootdelegatesfocus><!---->
      <!--?lit$764986503$--><div class="outline"></div>
      <div class="background"></div>
      <md-focus-ring part="focus-ring" for="button" aria-hidden="true"><template shadowrootmode="open"><!----></template></md-focus-ring>
      <md-ripple part="ripple" for="button" aria-hidden="true"><template shadowrootmode="open"><!----><div class="surface"></div></template></md-ripple>
      <!--?lit$764986503$--><button id="button" class="button" aria-label="코드 셀 추가
Ctrl+M B">
      <!--?lit$764986503$-->
      <span class="touch"></span>
      <!--?lit$764986503$--><slot name="icon"></slot>
      <span class="label"><slot></slot></span>
      <!--?lit$764986503$-->
    
    </button>
    </template>
          <md-icon slot="icon" aria-hidden="true"><template shadowrootmode="open"><!----><slot></slot></template>add</md-icon>
          <!--?lit$764986503$-->코드
        </md-outlined-button>
        <md-outlined-button class="add-text add-button" data-aria-label="텍스트 셀 추가" title="텍스트 셀 추가" value="" has-icon=""><template shadowrootmode="open" shadowrootdelegatesfocus><!---->
      <!--?lit$764986503$--><div class="outline"></div>
      <div class="background"></div>
      <md-focus-ring part="focus-ring" for="button" aria-hidden="true"><template shadowrootmode="open"><!----></template></md-focus-ring>
      <md-ripple part="ripple" for="button" aria-hidden="true"><template shadowrootmode="open"><!----><div class="surface   "></div></template></md-ripple>
      <!--?lit$764986503$--><button id="button" class="button" aria-label="텍스트 셀 추가">
      <!--?lit$764986503$-->
      <span class="touch"></span>
      <!--?lit$764986503$--><slot name="icon"></slot>
      <span class="label"><slot></slot></span>
      <!--?lit$764986503$-->
    
    </button>
    </template>
          <md-icon slot="icon" aria-hidden="true"><template shadowrootmode="open"><!----><slot></slot></template>add</md-icon>
          <!--?lit$764986503$-->텍스트
        </md-outlined-button>
        <!--?lit$764986503$-->
        <!--?lit$764986503$-->
      </div><hr>
    </div></div><div class="cell code notebook-cell code-has-output" id="cell-5crDzJhZNY7O" tabindex="-1" role="region" aria-label="셀 18: 코드 셀: " style="opacity: 1;"><div class="cell-tag-editor sticky"></div><div class="agent-focus-label">
      <md-icon aria-hidden="true"><template shadowrootmode="open"><!----><slot></slot></template>spark</md-icon>
      <!--?lit$764986503$-->Gemini
    </div><div class="cell-toolbar sticky"></div><div class="main-content"><div class="cell-contents"><div class="cell-mask"></div><span class="imported-info-area"></span><div class="codecell-input-output">
      <div class="inputarea horizontal layout code">
        <div class="cell-gutter">
          <!-- Bounding range for vertical scrolling of icons -->
          <div class="cell-execution-container">
            <colab-run-button><template shadowrootmode="open"><!----> <div class="cell-execution">
      <button id="run-button" aria-describedby="run-button-tooltip" aria-label="셀 실행" aria-disabled="false">
        <span aria-hidden="true" class="cell-execution-indicator"><!--?lit$764986503$-->
<svg xmlns="http://www.w3.org/2000/svg" viewBox="0 0 24 24">
  <!--?lit$764986503$-->
  <mask id="playSymbolMask">
    <rect width="100%" height="100%" fill="white"></rect>
    <polygon points="10,8 17,12 10,16" fill="black"></polygon>
  </mask>
  <circle cx="12" cy="12" r="7.8" mask="url(#playSymbolMask)" id="filledCircle"></circle>
</svg></span>
      </button>
      <!--?lit$764986503$--><colab-tooltip-trigger for="run-button" id="run-button-tooltip" aria-hidden="true" message="셀 실행 (Ctrl+Enter)
마지막 변경 이후 실행된 셀

임민우컴퓨터공학과에 의해 실행됨
오전 10:55 (0분 전)
0.006초 내에 실행됨"><template shadowrootmode="open"><!----><!--?lit$764986503$--><!----><div><!--?lit$764986503$-->셀 실행 (Ctrl+Enter)</div><!----><!----><div><!--?lit$764986503$-->마지막 변경 이후 실행된 셀</div><!----><!----><br><!----><!----><div><!--?lit$764986503$-->임민우컴퓨터공학과에 의해 실행됨</div><!----><!----><div><!--?lit$764986503$-->오전 10:55 (0분 전)</div><!----><!----><div><!--?lit$764986503$-->0.006초 내에 실행됨</div><!----><!--?--></template>
    </colab-tooltip-trigger> <!--?lit$764986503$--><div class="status">
      <div class="execution-count"><!--?lit$764986503$-->[25]</div>
      <!--?lit$764986503$--><div class="last-run">
      <md-icon aria-hidden="true"><template shadowrootmode="open"><!----><slot></slot></template><!--?lit$764986503$-->check</md-icon>
      <div><!--?lit$764986503$-->0초</div>
    </div>
    </div>
    </div></template></colab-run-button>
          </div>
        </div>
      <div class="editor flex lazy-editor" style=""><pre tabindex="0" class="lazy-virtualized" style="font-size: 14px; line-height: 19px;"><pre class="lazy-gutter"></pre><pre class="monaco-colorized colab colab colab colab colab colab colab colab colab colab colab" data-lang="notebook-python"><span><span class="mtk19">from</span><span class="mtk1">&nbsp;inspect&nbsp;</span><span class="mtk19">import</span><span class="mtk1">&nbsp;signature</span></span><br><span><span class="mtk1">sig&nbsp;=&nbsp;signature(clip)</span></span><br><span><span class="mtk15">print</span><span class="mtk1">(sig)</span></span><br><span><span class="mtk15">print</span><span class="mtk1">(</span><span class="mtk14">str</span><span class="mtk1">(sig))</span></span><br><span><span class="mtk19">for</span><span class="mtk1">&nbsp;name,&nbsp;param&nbsp;</span><span class="mtk6">in</span><span class="mtk1">&nbsp;sig.parameters.items():</span></span><br><span><span class="mtk1">&nbsp;&nbsp;&nbsp;&nbsp;</span><span class="mtk15">print</span><span class="mtk1">(param.kind,&nbsp;</span><span class="mtk21">':'</span><span class="mtk1">,&nbsp;name,&nbsp;</span><span class="mtk21">'='</span><span class="mtk1">,&nbsp;param.default)</span></span><br></pre><colab-read-only-cell-placeholder style="display: none;"><template shadowrootmode="open"><!----><div><!--?lit$764986503$-->코딩을 시작하거나 AI로 코드를 <span tabindex="0" role="button" class="link">생성</span>하세요.</div></template></colab-read-only-cell-placeholder></pre></div><colab-form class="formview vertical layout flex"><div class="widget-area vertical layout"></div></colab-form></div>
    <div class="output" aria-label="셀 18 출력" role="region"><!----> <div class="output-header"> </div>
        <div class="output-content">
          <div class="output-info"><colab-output-info><template shadowrootmode="open"><!----><md-icon-button data-aria-expanded="false" data-aria-haspopup="menu" aria-describedby="button-output-actions-tooltip" data-aria-label="코드 셀 출력 작업" id="button-output-actions" value=""><template shadowrootmode="open" shadowrootdelegatesfocus><!----><button id="button" class="icon-button  standard " aria-label="코드 셀 출력 작업" aria-haspopup="menu" aria-expanded="false">
        <!--?lit$764986503$--><md-focus-ring part="focus-ring" for="button" aria-hidden="true"><template shadowrootmode="open"><!----></template></md-focus-ring>
        <!--?lit$764986503$--><md-ripple aria-hidden="true"><template shadowrootmode="open"><!----><div class="surface"></div></template></md-ripple>
        <!--?lit$764986503$--><span class="icon"><slot></slot></span>
        <!--?lit$764986503$-->
        <!--?lit$764986503$--><span class="touch"></span>
  </button></template>
        <md-icon aria-hidden="true"><template shadowrootmode="open"><!----><slot></slot></template><!--?lit$764986503$--><svg viewBox="0 0 24 24"><!--?lit$764986503$--><path d="m15.9 3.07c-4.32 0.0742-8.64-0.0355-13 0.0568-1.37 0.307-1.74 2.1-1.41 3.26 0.469 0.606 1.86 0.384 1.66-0.525 0.0448-0.329-0.183-0.93 0.354-0.766h13.3v1.53h1.71c0.0709-1.13 0.141-2.62-0.968-3.3-0.511-0.264-1.11-0.252-1.67-0.259zm2.94 6.84v4.87c1.62-1.62 3.24-3.24 4.87-4.87h-4.87zm0 0h-1.71v3.43l1.57 1.57c0.32-1.65 0.0556-3.34 0.135-5zm-1.71 3.43v-3.43h-3.43c1.14 1.14 2.29 2.29 3.43 3.43zm1.4 4.27h-1.71v1.48h-13.6v-1.48h-1.71c-0.0473 1.15-0.16 2.72 1.09 3.29 1.47 0.506 3.02 0.0265 4.53 0.192 3.34-0.0051 6.68 0.0336 10-0.0245 1.49-0.366 1.56-2.22 1.42-3.45zm-10.1-1.12c-0.398-0.483-0.796-0.967-1.19-1.45 0.59-0.683 1.18-1.37 1.77-2.05h-8.67v-2h8.67c-0.59-0.683-1.18-1.37-1.77-2.05 0.398-0.483 0.796-0.967 1.19-1.45 1.28 1.5 2.56 3 3.84 4.5-1.28 1.5-2.56 3-3.84 4.5z"></path></svg></md-icon>
      </md-icon-button>
      <colab-tooltip-trigger aria-hidden="true" id="button-output-actions-tooltip" for="button-output-actions" message="코드 셀 출력 작업"><template shadowrootmode="open"><!----><!--?lit$764986503$--><!----><div><!--?lit$764986503$-->코드 셀 출력 작업</div><!----><!--?--></template></colab-tooltip-trigger></template></colab-output-info></div>
          <div class="output-iframe-container">
            <div class="output-iframe-sizer" style="min-height: 0px;"> <div><div><colab-static-output-renderer tabindex="0" role="group"><div><div class="stream output-id-1 output_text"><pre>(text, max_len=80)
(text, max_len=80)
POSITIONAL_OR_KEYWORD : text = &lt;class 'inspect._empty'&gt;
POSITIONAL_OR_KEYWORD : max_len = 80
</pre></div></div><div></div></colab-static-output-renderer></div></div><div><div></div></div></div>
          </div>
        </div></div><colab-cell-next-steps><template shadowrootmode="open"><!----></template></colab-cell-next-steps></div></div></div><div class="add-cell">
      <div class="add-cell-buttons">
        <md-outlined-button class="add-code add-button" data-aria-label="코드 셀 추가
Ctrl+M B" title="코드 셀 추가
Ctrl+M B" value="" has-icon=""><template shadowrootmode="open" shadowrootdelegatesfocus><!---->
      <!--?lit$764986503$--><div class="outline"></div>
      <div class="background"></div>
      <md-focus-ring part="focus-ring" for="button" aria-hidden="true"><template shadowrootmode="open"><!----></template></md-focus-ring>
      <md-ripple part="ripple" for="button" aria-hidden="true"><template shadowrootmode="open"><!----><div class="surface   "></div></template></md-ripple>
      <!--?lit$764986503$--><button id="button" class="button" aria-label="코드 셀 추가
Ctrl+M B">
      <!--?lit$764986503$-->
      <span class="touch"></span>
      <!--?lit$764986503$--><slot name="icon"></slot>
      <span class="label"><slot></slot></span>
      <!--?lit$764986503$-->
    
    </button>
    </template>
          <md-icon slot="icon" aria-hidden="true"><template shadowrootmode="open"><!----><slot></slot></template>add</md-icon>
          <!--?lit$764986503$-->코드
        </md-outlined-button>
        <md-outlined-button class="add-text add-button" data-aria-label="텍스트 셀 추가" title="텍스트 셀 추가" value="" has-icon=""><template shadowrootmode="open" shadowrootdelegatesfocus><!---->
      <!--?lit$764986503$--><div class="outline"></div>
      <div class="background"></div>
      <md-focus-ring part="focus-ring" for="button" aria-hidden="true"><template shadowrootmode="open"><!----></template></md-focus-ring>
      <md-ripple part="ripple" for="button" aria-hidden="true"><template shadowrootmode="open"><!----><div class="surface"></div></template></md-ripple>
      <!--?lit$764986503$--><button id="button" class="button" aria-label="텍스트 셀 추가">
      <!--?lit$764986503$-->
      <span class="touch"></span>
      <!--?lit$764986503$--><slot name="icon"></slot>
      <span class="label"><slot></slot></span>
      <!--?lit$764986503$-->
    
    </button>
    </template>
          <md-icon slot="icon" aria-hidden="true"><template shadowrootmode="open"><!----><slot></slot></template>add</md-icon>
          <!--?lit$764986503$-->텍스트
        </md-outlined-button>
        <!--?lit$764986503$-->
        <!--?lit$764986503$-->
      </div><hr>
    </div></div><div class="cell code notebook-cell code-has-output" id="cell-3eRgv47JNY9O" tabindex="-1" role="region" aria-label="셀 19: 코드 셀: " style="opacity: 1;"><div class="cell-tag-editor sticky"></div><div class="agent-focus-label">
      <md-icon aria-hidden="true"><template shadowrootmode="open"><!----><slot></slot></template>spark</md-icon>
      <!--?lit$764986503$-->Gemini
    </div><div class="cell-toolbar sticky"></div><div class="main-content"><div class="cell-contents"><div class="cell-mask"></div><span class="imported-info-area"></span><div class="codecell-input-output">
      <div class="inputarea horizontal layout code">
        <div class="cell-gutter">
          <!-- Bounding range for vertical scrolling of icons -->
          <div class="cell-execution-container">
            <colab-run-button><template shadowrootmode="open"><!----> <div class="cell-execution">
      <button id="run-button" aria-describedby="run-button-tooltip" aria-label="셀 실행" aria-disabled="false">
        <span aria-hidden="true" class="cell-execution-indicator"><!--?lit$764986503$-->
<svg xmlns="http://www.w3.org/2000/svg" viewBox="0 0 24 24">
  <!--?lit$764986503$-->
  <mask id="playSymbolMask">
    <rect width="100%" height="100%" fill="white"></rect>
    <polygon points="10,8 17,12 10,16" fill="black"></polygon>
  </mask>
  <circle cx="12" cy="12" r="7.8" mask="url(#playSymbolMask)" id="filledCircle"></circle>
</svg></span>
      </button>
      <!--?lit$764986503$--><colab-tooltip-trigger for="run-button" id="run-button-tooltip" aria-hidden="true" message="셀 실행 (Ctrl+Enter)
마지막 변경 이후 실행된 셀

임민우컴퓨터공학과에 의해 실행됨
오전 10:57 (0분 전)
0.005초 내에 실행됨"><template shadowrootmode="open"><!----><!--?lit$764986503$--><!----><div><!--?lit$764986503$-->셀 실행 (Ctrl+Enter)</div><!----><!----><div><!--?lit$764986503$-->마지막 변경 이후 실행된 셀</div><!----><!----><br><!----><!----><div><!--?lit$764986503$-->임민우컴퓨터공학과에 의해 실행됨</div><!----><!----><div><!--?lit$764986503$-->오전 10:57 (0분 전)</div><!----><!----><div><!--?lit$764986503$-->0.005초 내에 실행됨</div><!----><!--?--></template>
    </colab-tooltip-trigger> <!--?lit$764986503$--><div class="status">
      <div class="execution-count"><!--?lit$764986503$-->[26]</div>
      <!--?lit$764986503$--><div class="last-run">
      <md-icon aria-hidden="true"><template shadowrootmode="open"><!----><slot></slot></template><!--?lit$764986503$-->check</md-icon>
      <div><!--?lit$764986503$-->0초</div>
    </div>
    </div>
    </div></template></colab-run-button>
          </div>
        </div>
      <div class="editor flex lazy-editor" style=""><pre tabindex="0" class="lazy-virtualized" style="font-size: 14px; line-height: 19px;"><pre class="lazy-gutter"></pre><pre class="monaco-colorized colab colab colab colab colab colab colab colab colab" data-lang="notebook-python"><span><span class="mtk19">from</span><span class="mtk1">&nbsp;inspect&nbsp;</span><span class="mtk19">import</span><span class="mtk1">&nbsp;signature</span></span><br><span><span></span></span><br><span><span class="mtk1">sig&nbsp;=&nbsp;signature(tag)</span></span><br><span><span class="mtk15">print</span><span class="mtk1">(my_tag)</span></span><br><span><span></span></span><br><span><span class="mtk1">bound_args&nbsp;=&nbsp;sig.bind(**my_tag)</span></span><br><span><span class="mtk15">print</span><span class="mtk1">(bound_args)</span></span><br><span><span></span></span><br><span><span class="mtk19">for</span><span class="mtk1">&nbsp;name,&nbsp;value&nbsp;</span><span class="mtk6">in</span><span class="mtk1">&nbsp;bound_args.arguments.items():</span></span><br><span><span class="mtk1">&nbsp;&nbsp;&nbsp;&nbsp;</span><span class="mtk15">print</span><span class="mtk1">(name,&nbsp;</span><span class="mtk21">'='</span><span class="mtk1">,&nbsp;value)</span></span><br></pre><colab-read-only-cell-placeholder style="display: none;"><template shadowrootmode="open"><!----><div><!--?lit$764986503$-->코딩을 시작하거나 AI로 코드를 <span tabindex="0" role="button" class="link">생성</span>하세요.</div></template></colab-read-only-cell-placeholder></pre></div><colab-form class="formview vertical layout flex"><div class="widget-area vertical layout"></div></colab-form></div>
    <div class="output" aria-label="셀 19 출력" role="region"><!----> <div class="output-header"> </div>
        <div class="output-content">
          <div class="output-info"><colab-output-info><template shadowrootmode="open"><!----><md-icon-button data-aria-expanded="false" data-aria-haspopup="menu" aria-describedby="button-output-actions-tooltip" data-aria-label="코드 셀 출력 작업" id="button-output-actions" value=""><template shadowrootmode="open" shadowrootdelegatesfocus><!----><button id="button" class="icon-button  standard " aria-label="코드 셀 출력 작업" aria-haspopup="menu" aria-expanded="false">
        <!--?lit$764986503$--><md-focus-ring part="focus-ring" for="button" aria-hidden="true"><template shadowrootmode="open"><!----></template></md-focus-ring>
        <!--?lit$764986503$--><md-ripple aria-hidden="true"><template shadowrootmode="open"><!----><div class="surface"></div></template></md-ripple>
        <!--?lit$764986503$--><span class="icon"><slot></slot></span>
        <!--?lit$764986503$-->
        <!--?lit$764986503$--><span class="touch"></span>
  </button></template>
        <md-icon aria-hidden="true"><template shadowrootmode="open"><!----><slot></slot></template><!--?lit$764986503$--><svg viewBox="0 0 24 24"><!--?lit$764986503$--><path d="m15.9 3.07c-4.32 0.0742-8.64-0.0355-13 0.0568-1.37 0.307-1.74 2.1-1.41 3.26 0.469 0.606 1.86 0.384 1.66-0.525 0.0448-0.329-0.183-0.93 0.354-0.766h13.3v1.53h1.71c0.0709-1.13 0.141-2.62-0.968-3.3-0.511-0.264-1.11-0.252-1.67-0.259zm2.94 6.84v4.87c1.62-1.62 3.24-3.24 4.87-4.87h-4.87zm0 0h-1.71v3.43l1.57 1.57c0.32-1.65 0.0556-3.34 0.135-5zm-1.71 3.43v-3.43h-3.43c1.14 1.14 2.29 2.29 3.43 3.43zm1.4 4.27h-1.71v1.48h-13.6v-1.48h-1.71c-0.0473 1.15-0.16 2.72 1.09 3.29 1.47 0.506 3.02 0.0265 4.53 0.192 3.34-0.0051 6.68 0.0336 10-0.0245 1.49-0.366 1.56-2.22 1.42-3.45zm-10.1-1.12c-0.398-0.483-0.796-0.967-1.19-1.45 0.59-0.683 1.18-1.37 1.77-2.05h-8.67v-2h8.67c-0.59-0.683-1.18-1.37-1.77-2.05 0.398-0.483 0.796-0.967 1.19-1.45 1.28 1.5 2.56 3 3.84 4.5-1.28 1.5-2.56 3-3.84 4.5z"></path></svg></md-icon>
      </md-icon-button>
      <colab-tooltip-trigger aria-hidden="true" id="button-output-actions-tooltip" for="button-output-actions" message="코드 셀 출력 작업"><template shadowrootmode="open"><!----><!--?lit$764986503$--><!----><div><!--?lit$764986503$-->코드 셀 출력 작업</div><!----><!--?--></template></colab-tooltip-trigger></template></colab-output-info></div>
          <div class="output-iframe-container">
            <div class="output-iframe-sizer" style="min-height: 0px;"> <div><div><colab-static-output-renderer tabindex="0" role="group"><div><div class="stream output-id-1 output_text"><pre>{'name': 'img', 'title': 'Sunset Boulevard', 'src': 'sunset.jpg', 'cls': 'framed'}
&lt;BoundArguments (name='img', cls='framed', attrs={'title': 'Sunset Boulevard', 'src': 'sunset.jpg'})&gt;
name = img
cls = framed
attrs = {'title': 'Sunset Boulevard', 'src': 'sunset.jpg'}
</pre></div></div><div></div></colab-static-output-renderer></div></div><div><div></div></div></div>
          </div>
        </div></div><colab-cell-next-steps><template shadowrootmode="open"><!----></template></colab-cell-next-steps></div></div></div><div class="add-cell">
      <div class="add-cell-buttons">
        <md-outlined-button class="add-code add-button" data-aria-label="코드 셀 추가
Ctrl+M B" title="코드 셀 추가
Ctrl+M B" value="" has-icon=""><template shadowrootmode="open" shadowrootdelegatesfocus><!---->
      <!--?lit$764986503$--><div class="outline"></div>
      <div class="background"></div>
      <md-focus-ring part="focus-ring" for="button" aria-hidden="true"><template shadowrootmode="open"><!----></template></md-focus-ring>
      <md-ripple part="ripple" for="button" aria-hidden="true"><template shadowrootmode="open"><!----><div class="surface"></div></template></md-ripple>
      <!--?lit$764986503$--><button id="button" class="button" aria-label="코드 셀 추가
Ctrl+M B">
      <!--?lit$764986503$-->
      <span class="touch"></span>
      <!--?lit$764986503$--><slot name="icon"></slot>
      <span class="label"><slot></slot></span>
      <!--?lit$764986503$-->
    
    </button>
    </template>
          <md-icon slot="icon" aria-hidden="true"><template shadowrootmode="open"><!----><slot></slot></template>add</md-icon>
          <!--?lit$764986503$-->코드
        </md-outlined-button>
        <md-outlined-button class="add-text add-button" data-aria-label="텍스트 셀 추가" title="텍스트 셀 추가" value="" has-icon=""><template shadowrootmode="open" shadowrootdelegatesfocus><!---->
      <!--?lit$764986503$--><div class="outline"></div>
      <div class="background"></div>
      <md-focus-ring part="focus-ring" for="button" aria-hidden="true"><template shadowrootmode="open"><!----></template></md-focus-ring>
      <md-ripple part="ripple" for="button" aria-hidden="true"><template shadowrootmode="open"><!----><div class="surface   "></div></template></md-ripple>
      <!--?lit$764986503$--><button id="button" class="button" aria-label="텍스트 셀 추가">
      <!--?lit$764986503$-->
      <span class="touch"></span>
      <!--?lit$764986503$--><slot name="icon"></slot>
      <span class="label"><slot></slot></span>
      <!--?lit$764986503$-->
    
    </button>
    </template>
          <md-icon slot="icon" aria-hidden="true"><template shadowrootmode="open"><!----><slot></slot></template>add</md-icon>
          <!--?lit$764986503$-->텍스트
        </md-outlined-button>
        <!--?lit$764986503$-->
        <!--?lit$764986503$-->
      </div><hr>
    </div></div><div class="cell code notebook-cell code-has-output" id="cell-zVKud97GNY_m" tabindex="-1" role="region" aria-label="셀 20: 코드 셀: " style="opacity: 1;"><div class="cell-tag-editor sticky"></div><div class="agent-focus-label">
      <md-icon aria-hidden="true"><template shadowrootmode="open"><!----><slot></slot></template>spark</md-icon>
      <!--?lit$764986503$-->Gemini
    </div><div class="cell-toolbar sticky"></div><div class="main-content"><div class="cell-contents"><div class="cell-mask"></div><span class="imported-info-area"></span><div class="codecell-input-output">
      <div class="inputarea horizontal layout code">
        <div class="cell-gutter">
          <!-- Bounding range for vertical scrolling of icons -->
          <div class="cell-execution-container">
            <colab-run-button><template shadowrootmode="open"><!----> <div class="cell-execution error">
      <button id="run-button" aria-describedby="run-button-tooltip" aria-label="셀 실행" aria-disabled="false">
        <span aria-hidden="true" class="cell-execution-indicator"><!--?lit$764986503$-->
<svg xmlns="http://www.w3.org/2000/svg" viewBox="0 0 24 24">
  <!--?lit$764986503$-->
  <mask id="playSymbolMask">
    <rect width="100%" height="100%" fill="white"></rect>
    <polygon points="10,8 17,12 10,16" fill="black"></polygon>
  </mask>
  <circle cx="12" cy="12" r="7.8" mask="url(#playSymbolMask)" id="filledCircle"></circle>
</svg></span>
      </button>
      <!--?lit$764986503$--><colab-tooltip-trigger for="run-button" id="run-button-tooltip" aria-hidden="true" message="셀 실행 (Ctrl+Enter)
마지막 변경 이후 실행된 셀
이전 실행이 예기치 못하게 종료되었습니다.

임민우컴퓨터공학과에 의해 실행됨
오전 10:57 (0분 전)
0.012초 내에 실행됨"><template shadowrootmode="open"><!----><!--?lit$764986503$--><!----><div><!--?lit$764986503$-->셀 실행 (Ctrl+Enter)</div><!----><!----><div><!--?lit$764986503$-->마지막 변경 이후 실행된 셀</div><!----><!----><div><!--?lit$764986503$-->이전 실행이 예기치 못하게 종료되었습니다.</div><!----><!----><br><!----><!----><div><!--?lit$764986503$-->임민우컴퓨터공학과에 의해 실행됨</div><!----><!----><div><!--?lit$764986503$-->오전 10:57 (0분 전)</div><!----><!----><div><!--?lit$764986503$-->0.012초 내에 실행됨</div><!----><!--?--></template>
    </colab-tooltip-trigger> <!--?lit$764986503$--><div class="status">
      <div class="execution-count"><!--?lit$764986503$-->[27]</div>
      <!--?lit$764986503$--><div class="last-run">
      <md-icon aria-hidden="true"><template shadowrootmode="open"><!----><slot></slot></template><!--?lit$764986503$-->error</md-icon>
      <div><!--?lit$764986503$-->0초</div>
    </div>
    </div>
    </div></template></colab-run-button>
          </div>
        </div>
      <div class="editor flex lazy-editor" style=""><div class="editor flex monaco" data-keybinding-context="103" data-mode-id="notebook-python" style="height: 86px; --vscode-editorCodeLens-lineHeight: 16px; --vscode-editorCodeLens-fontSize: 12px; --vscode-editorCodeLens-fontFeatureSettings: &quot;liga&quot; off, &quot;calt&quot; off;"><div class="monaco-editor no-user-select  showUnused showDeprecated vs" role="code" data-uri="inmemory://model/42" style="width: 797px; height: 86px;"><div data-mprt="3" class="overflow-guard" style="width: 797px; height: 86px; overflow: clip;"><div class="margin" role="presentation" aria-hidden="true" style="position: absolute; contain: strict; will-change: unset; top: 0px; height: 86px; width: 6px;"><div class="glyph-margin" style="left: 0px; width: 0px; height: 86px;"></div><div class="margin-view-zones" role="presentation" aria-hidden="true" style="position: absolute;"></div><div class="margin-view-overlays" role="presentation" aria-hidden="true" style="position: absolute; font-family: monospace, Consolas, &quot;Courier New&quot;, monospace; font-weight: normal; font-size: 14px; font-feature-settings: &quot;liga&quot; 0, &quot;calt&quot; 0; font-variation-settings: normal; line-height: 19px; letter-spacing: 0px; width: 6px; height: 86px;"><div style="position:absolute;top:0px;width:100%;height:19px;"></div><div style="position:absolute;top:19px;width:100%;height:19px;"></div><div style="position:absolute;top:38px;width:100%;height:19px;"></div><div style="position:absolute;top:57px;width:100%;height:19px;"><div class="current-line current-line-margin-both" style="width:6px; height:19px;"></div></div></div><div class="glyph-margin-widgets" style="position: absolute; top: 0px;"></div></div><div class="monaco-scrollable-element editor-scrollable vs" role="presentation" data-mprt="5" style="position: absolute; overflow: hidden; left: 6px; width: 791px; height: 86px;"><div class="lines-content monaco-editor-background" style="position: absolute; overflow: hidden; width: 1e+06px; height: 86px; contain: strict; will-change: unset; top: 0px; left: 0px;"><div class="view-overlays" role="presentation" aria-hidden="true" style="position: absolute; font-family: monospace, Consolas, &quot;Courier New&quot;, monospace; font-weight: normal; font-size: 14px; font-feature-settings: &quot;liga&quot; 0, &quot;calt&quot; 0; font-variation-settings: normal; line-height: 19px; letter-spacing: 0px; height: 0px; width: 791px;"><div style="position:absolute;top:0px;width:100%;height:19px;"></div><div style="position:absolute;top:19px;width:100%;height:19px;"></div><div style="position:absolute;top:38px;width:100%;height:19px;"></div><div style="position:absolute;top:57px;width:100%;height:19px;"><div class="current-line" style="width:791px; height:19px;"></div></div></div><div role="presentation" aria-hidden="true" class="view-rulers"></div><div class="view-zones" role="presentation" aria-hidden="true" style="position: absolute;"></div><div class="view-lines monaco-mouse-cursor-text" role="presentation" aria-hidden="true" data-mprt="7" style="position: absolute; font-family: monospace, Consolas, &quot;Courier New&quot;, monospace; font-weight: normal; font-size: 14px; font-feature-settings: &quot;liga&quot; 0, &quot;calt&quot; 0; font-variation-settings: normal; line-height: 19px; letter-spacing: 0px; width: 791px; height: 86px;"><div style="top:0px;height:19px;" class="view-line"><span><span class="mtk19">del</span><span class="mtk1">&nbsp;my_tag</span><span class="mtk1 bracket-highlighting-0">[</span><span class="mtk21">'name'</span><span class="mtk1 bracket-highlighting-0">]</span></span></div><div style="top:19px;height:19px;" class="view-line"><span><span></span></span></div><div style="top:38px;height:19px;" class="view-line"><span><span class="mtk1">bound_args&nbsp;=&nbsp;sig.bind</span><span class="mtk1 bracket-highlighting-0">(</span><span class="mtk1">**my_tag</span><span class="mtk1 bracket-highlighting-0">)</span></span></div><div style="top:57px;height:19px;" class="view-line"><span><span class="mtk15">print</span><span class="mtk1 bracket-highlighting-0">(</span><span class="mtk1">bound_args</span><span class="mtk1 bracket-highlighting-0">)</span></span></div></div><div data-mprt="1" class="contentWidgets" style="position: absolute; top: 0px;"><div class="lightBulbWidget codicon codicon-light-bulb" widgetid="LightBulbWidget" title="Show Code Actions (Ctrl+.)" style="position: absolute; display: none; visibility: hidden; max-width: 791px;"></div></div><div role="presentation" aria-hidden="true" class="cursors-layer cursor-line-style cursor-solid"><div class="cursor monaco-mouse-cursor-text " style="height: 19px; top: 57px; left: 118px; font-family: monospace, Consolas, &quot;Courier New&quot;, monospace; font-weight: normal; font-size: 14px; font-feature-settings: &quot;liga&quot; 0, &quot;calt&quot; 0; font-variation-settings: normal; line-height: 19px; letter-spacing: 0px; display: block; visibility: hidden; padding-left: 1px; width: 2px;"></div></div></div><div role="presentation" aria-hidden="true" class="invisible scrollbar horizontal" style="position: absolute; width: 777px; height: 10px; left: 0px; bottom: 0px;"><div class="slider" style="position: absolute; top: 0px; left: 0px; height: 10px; transform: translate3d(0px, 0px, 0px); contain: strict; will-change: unset; width: 777px;"></div></div><canvas class="decorationsOverviewRuler" aria-hidden="true" width="14" height="86" style="position: absolute; transform: translate3d(0px, 0px, 0px); contain: strict; top: 0px; right: 0px; width: 14px; height: 86px; will-change: unset; display: block;"></canvas><div role="presentation" aria-hidden="true" class="invisible scrollbar vertical" style="position: absolute; width: 14px; height: 86px; right: 0px; top: 0px;"><div class="slider" style="position: absolute; top: 0px; left: 0px; width: 14px; transform: translate3d(0px, 0px, 0px); contain: strict; will-change: unset; height: 86px;"></div></div></div><div role="presentation" aria-hidden="true" style="width: 797px;"></div><textarea data-mprt="6" class="inputarea monaco-mouse-cursor-text" wrap="on" autocorrect="off" autocapitalize="off" autocomplete="off" spellcheck="false" aria-label="Editor content;Press Alt+F1 for Accessibility Options." tabindex="0" role="textbox" aria-roledescription="editor" aria-multiline="true" aria-haspopup="false" aria-autocomplete="both" style="tab-size: 14px; font-family: monospace, Consolas, &quot;Courier New&quot;, monospace; font-weight: normal; font-size: 14px; font-feature-settings: &quot;liga&quot; 0, &quot;calt&quot; 0; font-variation-settings: normal; line-height: 19px; letter-spacing: 0px; top: 57px; left: 6px; width: 70000px; height: 1px;"></textarea><div style="position: absolute; top: 0px; left: 0px; width: 0px; height: 0px;" class="monaco-editor-background textAreaCover"></div><div data-mprt="4" class="overlayWidgets" style="width: 797px;"></div><div data-mprt="8" class="minimap slider-mouseover" role="presentation" aria-hidden="true" style="position: absolute; left: 0px; width: 0px; height: 86px;"><div class="minimap-shadow-hidden" style="height: 86px;"></div><canvas width="0" height="86" style="position: absolute; left: 0px; width: 0px; height: 86px;"></canvas><canvas class="minimap-decorations-layer" width="0" height="86" style="position: absolute; left: 0px; width: 0px; height: 86px;"></canvas><div class="minimap-slider" style="position: absolute; transform: translate3d(0px, 0px, 0px); contain: strict; width: 0px; will-change: unset;"><div class="minimap-slider-horizontal" style="position: absolute; width: 0px; height: 0px;"></div></div></div><div role="presentation" aria-hidden="true" class="blockDecorations-container"></div></div><div data-mprt="2" class="overflowingContentWidgets" style="display: none;"><div widgetid="editor.contrib.resizableContentHoverWidget" style="position: fixed; height: 10px; width: 10px; z-index: 50; display: none; visibility: hidden; max-width: 958px;"><div class="monaco-sash vertical" style="left: 8px;"></div><div class="monaco-sash vertical" style="left: -2px;"></div><div class="monaco-sash orthogonal-edge-north horizontal" style="top: -2px;"><div class="orthogonal-drag-handle start"></div><div class="orthogonal-drag-handle end"></div></div><div class="monaco-sash orthogonal-edge-south horizontal" style="top: 8px;"><div class="orthogonal-drag-handle start"></div><div class="orthogonal-drag-handle end"></div></div><div class="monaco-hover hidden" tabindex="0" role="tooltip"><div class="monaco-scrollable-element " role="presentation" style="position: relative; overflow: hidden;"><div class="monaco-hover-content" style="overflow: hidden; font-size: 14px; line-height: 1.35714; max-width: 526.02px; max-height: 250px;"></div><div role="presentation" aria-hidden="true" class="invisible scrollbar horizontal" style="position: absolute;"><div class="slider" style="position: absolute; top: 0px; left: 0px; height: 10px; transform: translate3d(0px, 0px, 0px); contain: strict;"></div></div><div role="presentation" aria-hidden="true" class="invisible scrollbar vertical" style="position: absolute;"><div class="slider" style="position: absolute; top: 0px; left: 0px; width: 10px; transform: translate3d(0px, 0px, 0px); contain: strict;"></div></div><div class="shadow"></div><div class="shadow"></div><div class="shadow"></div></div></div></div><div class="editor-widget suggest-widget" widgetid="editor.widget.suggestWidget" style="position: fixed; display: none; visibility: hidden; max-width: 958px; height: 230px; width: 430px; top: 494.453px; left: 178px;"><div class="monaco-sash vertical" style="left: 428px;"></div><div class="monaco-sash vertical disabled" style="left: -2px;"></div><div class="monaco-sash orthogonal-edge-north horizontal" style="top: -2px;"><div class="orthogonal-drag-handle end"></div></div><div class="monaco-sash orthogonal-edge-south horizontal disabled" style="top: 228px;"><div class="orthogonal-drag-handle end"></div></div><div class="message" aria-hidden="true" style="display: none;"></div><div class="tree" style="height: 230px; display: none;" aria-hidden="true"><div class="monaco-list list_id_103 selection-none" tabindex="0" role="listbox" aria-label="Suggest"><div class="monaco-scrollable-element " role="presentation" style="position: relative; overflow: hidden;"><div class="monaco-list-rows" style="transform: translate3d(0px, 0px, 0px); overflow: hidden; contain: strict; height: 0px; left: 0px; top: 0px;"></div><div role="presentation" aria-hidden="true" class="invisible scrollbar horizontal" style="position: absolute; width: 0px; height: 10px; left: 0px; bottom: 0px;"><div class="slider" style="position: absolute; top: 0px; left: 0px; height: 10px; transform: translate3d(0px, 0px, 0px); contain: strict; width: 0px;"></div></div><div role="presentation" aria-hidden="true" class="invisible scrollbar vertical" style="position: absolute; width: 10px; height: 230px; right: 0px; top: 0px;"><div class="slider" style="position: absolute; top: 0px; left: 0px; width: 10px; transform: translate3d(0px, 0px, 0px); contain: strict; height: 230px;"></div></div></div><style type="text/css" media="screen">.monaco-list.list_id_103:focus .monaco-list-row.focused { background-color: var(--vscode-list-focusBackground); }
.monaco-list.list_id_103:focus .monaco-list-row.focused:hover { background-color: var(--vscode-list-focusBackground); }
.monaco-list.list_id_103:focus .monaco-list-row.focused { color: var(--vscode-list-focusForeground); }
.monaco-list.list_id_103:focus .monaco-list-row.selected { background-color: var(--vscode-list-activeSelectionBackground); }
.monaco-list.list_id_103:focus .monaco-list-row.selected:hover { background-color: var(--vscode-list-activeSelectionBackground); }
.monaco-list.list_id_103:focus .monaco-list-row.selected { color: var(--vscode-list-activeSelectionForeground); }
.monaco-list.list_id_103:focus .monaco-list-row.selected .codicon { color: var(--vscode-list-activeSelectionIconForeground); }

				.monaco-drag-image,
				.monaco-list.list_id_103:focus .monaco-list-row.selected.focused { background-color: var(--vscode-list-activeSelectionBackground); }
			

				.monaco-drag-image,
				.monaco-list.list_id_103:focus .monaco-list-row.selected.focused { color: var(--vscode-list-activeSelectionForeground); }
			
.monaco-list.list_id_103 .monaco-list-row.focused .codicon { color:  var(--vscode-list-inactiveSelectionIconForeground); }
.monaco-list.list_id_103 .monaco-list-row.focused { background-color:  var(--vscode-editorSuggestWidget-selectedBackground); }
.monaco-list.list_id_103 .monaco-list-row.focused:hover { background-color:  var(--vscode-editorSuggestWidget-selectedBackground); }
.monaco-list.list_id_103 .monaco-list-row.selected { background-color:  var(--vscode-list-inactiveSelectionBackground); }
.monaco-list.list_id_103 .monaco-list-row.selected:hover { background-color:  var(--vscode-list-inactiveSelectionBackground); }
.monaco-list.list_id_103 .monaco-list-row.selected { color: var(--vscode-list-inactiveSelectionForeground); }
.monaco-list.list_id_103:not(.drop-target):not(.dragging) .monaco-list-row:hover:not(.selected):not(.focused) { background-color: var(--vscode-list-hoverBackground); }
.monaco-list.list_id_103:not(.drop-target):not(.dragging) .monaco-list-row:hover:not(.selected):not(.focused) { color:  var(--vscode-list-hoverForeground); }
.monaco-list.list_id_103:focus .monaco-list-row.focused.selected { outline: 1px solid var(--vscode-list-focusAndSelectionOutline, var(--vscode-contrastActiveBorder, var(--vscode-list-focusOutline))); outline-offset: -1px;}

				.monaco-drag-image,
				.monaco-list.list_id_103:focus .monaco-list-row.focused { outline: 1px solid var(--vscode-list-focusOutline); outline-offset: -1px; }
				.monaco-workbench.context-menu-visible .monaco-list.list_id_103.last-focused .monaco-list-row.focused { outline: 1px solid var(--vscode-list-focusOutline); outline-offset: -1px; }
			
.monaco-list.list_id_103 .monaco-list-row.focused.selected { outline: 1px dotted var(--vscode-contrastActiveBorder, var(--vscode-contrastActiveBorder)); outline-offset: -1px; }
.monaco-list.list_id_103 .monaco-list-row.selected { outline: 1px dotted var(--vscode-contrastActiveBorder); outline-offset: -1px; }
.monaco-list.list_id_103 .monaco-list-row.focused { outline: 1px dotted var(--vscode-contrastActiveBorder); outline-offset: -1px; }
.monaco-list.list_id_103 .monaco-list-row:hover { outline: 1px dashed var(--vscode-contrastActiveBorder); outline-offset: -1px; }

				.monaco-list.list_id_103.drop-target,
				.monaco-list.list_id_103 .monaco-list-rows.drop-target,
				.monaco-list.list_id_103 .monaco-list-row.drop-target { background-color: var(--vscode-list-dropBackground) !important; color: inherit !important; }
			

				.monaco-table > .monaco-split-view2,
				.monaco-table > .monaco-split-view2 .monaco-sash.vertical::before,
				.monaco-workbench:not(.reduce-motion) .monaco-table:hover > .monaco-split-view2,
				.monaco-workbench:not(.reduce-motion) .monaco-table:hover > .monaco-split-view2 .monaco-sash.vertical::before {
					border-color: var(--vscode-tree-tableColumnsBorder);
				}

				.monaco-workbench:not(.reduce-motion) .monaco-table > .monaco-split-view2,
				.monaco-workbench:not(.reduce-motion) .monaco-table > .monaco-split-view2 .monaco-sash.vertical::before {
					border-color: transparent;
				}
			

				.monaco-table .monaco-list-row[data-parity=odd]:not(.focused):not(.selected):not(:hover) .monaco-table-tr,
				.monaco-table .monaco-list:not(:focus) .monaco-list-row[data-parity=odd].focused:not(.selected):not(:hover) .monaco-table-tr,
				.monaco-table .monaco-list:not(.focused) .monaco-list-row[data-parity=odd].focused:not(.selected):not(:hover) .monaco-table-tr {
					background-color: var(--vscode-tree-tableOddRowsBackground);
				}
			</style></div></div><div class="suggest-status-bar" style="height: 19px; display: none;" aria-hidden="true"><div class="monaco-action-bar animated left"><ul class="actions-container" role="presentation"><li class="action-item menu-entry" role="presentation" title="Insert (Enter)"><a class="action-label" role="button" aria-label="Insert (Enter)" aria-checked="" tabindex="0">Insert (⏎)</a></li></ul></div><div class="monaco-action-bar animated right"><ul class="actions-container" role="presentation"><li class="action-item menu-entry" role="presentation" title="show more (Ctrl+Space)"><a class="action-label" role="button" aria-label="show more (Ctrl+Space)" aria-checked="" tabindex="0">show more (Ctrl+Space)</a></li></ul></div></div></div><div class="editor-widget parameter-hints-widget multiple" widgetid="editor.widget.parameterHintsWidget" style="user-select: text; position: fixed; display: none; visibility: hidden; max-width: 958px; font-size: 14px; line-height: 1.35714; max-height: 250px; top: 474.453px; left: 262px;"><div class="phwrapper" tabindex="-1" style="max-height: 250px;"><div class="controls"><div class="button codicon codicon-parameter-hints-previous"></div><div class="overloads">1/2</div><div class="button codicon codicon-parameter-hints-next"></div></div><div class="monaco-scrollable-element " role="presentation" style="position: relative; overflow: hidden;"><div class="body" style="overflow: hidden;"><div class="signature has-docs"><div class="code" style="font-size: 14px; font-family: monospace;"><span>(</span><span class="parameter active">*values: object</span><span>, sep: str | None = ..., end: str | None = ..., file: SupportsWrite[str] | None = ..., flush: Literal[False] = ...) -&gt; None</span></div></div><div class="docs"><div class="rendered-markdown markdown-docs"><p>Prints the values to a stream, or to sys.stdout by default.</p><p>sep<br>&nbsp;&nbsp;string inserted between values, default a space.<br>end<br>&nbsp;&nbsp;string appended after the last value, default a newline.<br>file<br>&nbsp;&nbsp;a file-like object (stream); defaults to the current sys.stdout.<br>flush<br>&nbsp;&nbsp;whether to forcibly flush the stream.</p></div></div></div><div role="presentation" aria-hidden="true" class="invisible scrollbar horizontal" style="position: absolute; width: 403px; height: 10px; left: 0px; bottom: 0px;"><div class="slider" style="position: absolute; top: 0px; left: 0px; height: 10px; transform: translate3d(0px, 0px, 0px); contain: strict; width: 403px;"></div></div><div role="presentation" aria-hidden="true" class="invisible scrollbar vertical fade" style="position: absolute; width: 10px; height: 250px; right: 0px; top: 0px;"><div class="slider" style="position: absolute; top: 0px; left: 0px; width: 10px; transform: translate3d(0px, 0px, 0px); contain: strict; height: 240px;"></div></div><div class="shadow"></div><div class="shadow"></div><div class="shadow"></div></div></div></div></div><div class=".in-cell-overflowing"><div widgetid="editor.contrib.quickInputWidget" style="position: absolute; top: 0px; right: 50%;"></div></div></div></div></div><colab-form class="formview vertical layout flex"><div class="widget-area vertical layout"></div></colab-form></div>
    <div class="output" aria-label="셀 20 출력" role="region"><!----> <div class="output-header"> </div>
        <div class="output-content">
          <div class="output-info"><colab-output-info><template shadowrootmode="open"><!----><md-icon-button data-aria-expanded="false" data-aria-haspopup="menu" aria-describedby="button-output-actions-tooltip" data-aria-label="코드 셀 출력 작업" id="button-output-actions" value=""><template shadowrootmode="open" shadowrootdelegatesfocus><!----><button id="button" class="icon-button  standard " aria-label="코드 셀 출력 작업" aria-haspopup="menu" aria-expanded="false">
        <!--?lit$764986503$--><md-focus-ring part="focus-ring" for="button" aria-hidden="true"><template shadowrootmode="open"><!----></template></md-focus-ring>
        <!--?lit$764986503$--><md-ripple aria-hidden="true"><template shadowrootmode="open"><!----><div class="surface   "></div></template></md-ripple>
        <!--?lit$764986503$--><span class="icon"><slot></slot></span>
        <!--?lit$764986503$-->
        <!--?lit$764986503$--><span class="touch"></span>
  </button></template>
        <md-icon aria-hidden="true"><template shadowrootmode="open"><!----><slot></slot></template><!--?lit$764986503$--><svg viewBox="0 0 24 24"><!--?lit$764986503$--><path d="m15.9 3.07c-4.32 0.0742-8.64-0.0355-13 0.0568-1.37 0.307-1.74 2.1-1.41 3.26 0.469 0.606 1.86 0.384 1.66-0.525 0.0448-0.329-0.183-0.93 0.354-0.766h13.3v1.53h1.71c0.0709-1.13 0.141-2.62-0.968-3.3-0.511-0.264-1.11-0.252-1.67-0.259zm2.94 6.84v4.87c1.62-1.62 3.24-3.24 4.87-4.87h-4.87zm0 0h-1.71v3.43l1.57 1.57c0.32-1.65 0.0556-3.34 0.135-5zm-1.71 3.43v-3.43h-3.43c1.14 1.14 2.29 2.29 3.43 3.43zm1.4 4.27h-1.71v1.48h-13.6v-1.48h-1.71c-0.0473 1.15-0.16 2.72 1.09 3.29 1.47 0.506 3.02 0.0265 4.53 0.192 3.34-0.0051 6.68 0.0336 10-0.0245 1.49-0.366 1.56-2.22 1.42-3.45zm-10.1-1.12c-0.398-0.483-0.796-0.967-1.19-1.45 0.59-0.683 1.18-1.37 1.77-2.05h-8.67v-2h8.67c-0.59-0.683-1.18-1.37-1.77-2.05 0.398-0.483 0.796-0.967 1.19-1.45 1.28 1.5 2.56 3 3.84 4.5-1.28 1.5-2.56 3-3.84 4.5z"></path></svg></md-icon>
      </md-icon-button>
      <colab-tooltip-trigger aria-hidden="true" id="button-output-actions-tooltip" for="button-output-actions" message="코드 셀 출력 작업"><template shadowrootmode="open"><!----><!--?lit$764986503$--><!----><div><!--?lit$764986503$-->코드 셀 출력 작업</div><!----><!--?--></template></colab-tooltip-trigger></template></colab-output-info></div>
          <div class="output-iframe-container">
            <div class="output-iframe-sizer" style="min-height: 0px;"> <div><div class="outputview" style="height: 355px;"><colab-dom-lifecycle-events style="display: none;"></colab-dom-lifecycle-events><iframe allow="accelerometer; autoplay; gyroscope; magnetometer; xr-spatial-tracking; clipboard-write" sandbox="allow-downloads allow-forms allow-pointer-lock allow-popups allow-popups-to-escape-sandbox allow-same-origin allow-scripts allow-storage-access-by-user-activation allow-modals" src="./OSS_Week06_실습_files/outputframe(3).html" class="" style="height: 355px;"></iframe></div></div><div><div></div></div></div>
          </div>
        </div></div><colab-cell-next-steps hascontent=""><template shadowrootmode="open"><!----> <div class="root">
        <span class="next-steps-title"> <!--?lit$764986503$-->다음 단계: </span>
        <!--?lit$764986503$--><!----><md-outlined-button class="fix" data-test-id="explain-error" value=""><template shadowrootmode="open" shadowrootdelegatesfocus><!---->
      <!--?lit$764986503$--><div class="outline"></div>
      <div class="background"></div>
      <md-focus-ring part="focus-ring" for="button" aria-hidden="true"><template shadowrootmode="open"><!----></template></md-focus-ring>
      <md-ripple part="ripple" for="button" aria-hidden="true"><template shadowrootmode="open"><!----><div class="surface   "></div></template></md-ripple>
      <!--?lit$764986503$--><button id="button" class="button">
      <!--?lit$764986503$-->
      <span class="touch"></span>
      <!--?lit$764986503$--><slot name="icon"></slot>
      <span class="label"><slot></slot></span>
      <!--?lit$764986503$-->
    
    </button>
    </template>
            <!--?lit$764986503$-->오류 설명
          </md-outlined-button><!---->
      </div>
      <div class="content"><!--?lit$764986503$--></div></template></colab-cell-next-steps></div></div></div><div class="add-cell">
      <div class="add-cell-buttons">
        <md-outlined-button class="add-code add-button" data-aria-label="코드 셀 추가
Ctrl+M B" title="코드 셀 추가
Ctrl+M B" value="" has-icon=""><template shadowrootmode="open" shadowrootdelegatesfocus><!---->
      <!--?lit$764986503$--><div class="outline"></div>
      <div class="background"></div>
      <md-focus-ring part="focus-ring" for="button" aria-hidden="true"><template shadowrootmode="open"><!----></template></md-focus-ring>
      <md-ripple part="ripple" for="button" aria-hidden="true"><template shadowrootmode="open"><!----><div class="surface   "></div></template></md-ripple>
      <!--?lit$764986503$--><button id="button" class="button" aria-label="코드 셀 추가
Ctrl+M B">
      <!--?lit$764986503$-->
      <span class="touch"></span>
      <!--?lit$764986503$--><slot name="icon"></slot>
      <span class="label"><slot></slot></span>
      <!--?lit$764986503$-->
    
    </button>
    </template>
          <md-icon slot="icon" aria-hidden="true"><template shadowrootmode="open"><!----><slot></slot></template>add</md-icon>
          <!--?lit$764986503$-->코드
        </md-outlined-button>
        <md-outlined-button class="add-text add-button" data-aria-label="텍스트 셀 추가" title="텍스트 셀 추가" value="" has-icon=""><template shadowrootmode="open" shadowrootdelegatesfocus><!---->
      <!--?lit$764986503$--><div class="outline"></div>
      <div class="background"></div>
      <md-focus-ring part="focus-ring" for="button" aria-hidden="true"><template shadowrootmode="open"><!----></template></md-focus-ring>
      <md-ripple part="ripple" for="button" aria-hidden="true"><template shadowrootmode="open"><!----><div class="surface   "></div></template></md-ripple>
      <!--?lit$764986503$--><button id="button" class="button" aria-label="텍스트 셀 추가">
      <!--?lit$764986503$-->
      <span class="touch"></span>
      <!--?lit$764986503$--><slot name="icon"></slot>
      <span class="label"><slot></slot></span>
      <!--?lit$764986503$-->
    
    </button>
    </template>
          <md-icon slot="icon" aria-hidden="true"><template shadowrootmode="open"><!----><slot></slot></template>add</md-icon>
          <!--?lit$764986503$-->텍스트
        </md-outlined-button>
        <!--?lit$764986503$-->
        <!--?lit$764986503$-->
      </div><hr>
    </div></div><div class="cell code notebook-cell" id="cell-Z6zrIC1aNZCO" tabindex="-1" role="region" aria-label="셀 21: 코드 셀: " style="opacity: 1;"><div class="cell-tag-editor sticky"></div><div class="agent-focus-label">
      <md-icon aria-hidden="true"><template shadowrootmode="open"><!----><slot></slot></template>spark</md-icon>
      <!--?lit$764986503$-->Gemini
    </div><div class="cell-toolbar sticky"></div><div class="main-content"><div class="cell-contents"><div class="cell-mask"></div><span class="imported-info-area"></span><div class="codecell-input-output">
      <div class="inputarea horizontal layout code">
        <div class="cell-gutter">
          <!-- Bounding range for vertical scrolling of icons -->
          <div class="cell-execution-container">
            <colab-run-button><template shadowrootmode="open"><!----> <div class="cell-execution">
      <button id="run-button" aria-describedby="run-button-tooltip" aria-label="셀 실행" aria-disabled="false">
        <span aria-hidden="true" class="cell-execution-indicator"><!--?lit$764986503$-->
<svg xmlns="http://www.w3.org/2000/svg" viewBox="0 0 24 24">
  <!--?lit$764986503$-->
  <mask id="playSymbolMask">
    <rect width="100%" height="100%" fill="white"></rect>
    <polygon points="10,8 17,12 10,16" fill="black"></polygon>
  </mask>
  <circle cx="12" cy="12" r="7.8" mask="url(#playSymbolMask)" id="filledCircle"></circle>
</svg></span>
      </button>
      <!--?lit$764986503$--><colab-tooltip-trigger for="run-button" id="run-button-tooltip" aria-hidden="true" message="셀 실행 (Ctrl+Enter)
마지막 변경 이후 실행된 셀

임민우컴퓨터공학과에 의해 실행됨
오전 10:59 (0분 전)
0.003초 내에 실행됨"><template shadowrootmode="open"><!----><!--?lit$764986503$--><!----><div><!--?lit$764986503$-->셀 실행 (Ctrl+Enter)</div><!----><!----><div><!--?lit$764986503$-->마지막 변경 이후 실행된 셀</div><!----><!----><br><!----><!----><div><!--?lit$764986503$-->임민우컴퓨터공학과에 의해 실행됨</div><!----><!----><div><!--?lit$764986503$-->오전 10:59 (0분 전)</div><!----><!----><div><!--?lit$764986503$-->0.003초 내에 실행됨</div><!----><!--?--></template>
    </colab-tooltip-trigger> <!--?lit$764986503$--><div class="status">
      <div class="execution-count"><!--?lit$764986503$-->[29]</div>
      <!--?lit$764986503$--><div class="last-run">
      <md-icon aria-hidden="true"><template shadowrootmode="open"><!----><slot></slot></template><!--?lit$764986503$-->check</md-icon>
      <div><!--?lit$764986503$-->0초</div>
    </div>
    </div>
    </div></template></colab-run-button>
          </div>
        </div>
      <div class="editor flex lazy-editor" style=""><pre tabindex="0" class="lazy-virtualized" style="font-size: 14px; line-height: 19px;"><pre class="lazy-gutter"></pre><pre class="monaco-colorized colab colab colab colab colab colab colab colab colab colab colab colab" data-lang="notebook-python"><span><span class="mtk6">def</span><span class="mtk1">&nbsp;</span><span class="mtk15">clip_fa</span><span class="mtk1">(</span><span class="mtk16">text</span><span class="mtk1">:&nbsp;</span><span class="mtk16">str</span><span class="mtk1">,&nbsp;</span><span class="mtk16">max_len</span><span class="mtk1">:&nbsp;'</span><span class="mtk16">int</span><span class="mtk1">&nbsp;&gt;&nbsp;0'=</span><span class="mtk12">80</span><span class="mtk1">)&nbsp;-&gt;&nbsp;</span><span class="mtk14">str</span><span class="mtk1">:</span></span><br><span><span class="mtk1">&nbsp;&nbsp;</span><span class="mtk21">"""max_len&nbsp;앞이나&nbsp;뒤의&nbsp;마지막&nbsp;공백에서&nbsp;잘라낸&nbsp;텍스트를&nbsp;반환한다."""</span></span><br><span><span></span></span><br><span><span class="mtk1">&nbsp;&nbsp;end=</span><span class="mtk6">None</span></span><br><span><span class="mtk1">&nbsp;&nbsp;</span><span class="mtk19">if</span><span class="mtk1">&nbsp;</span><span class="mtk15">len</span><span class="mtk1">(text)&nbsp;&gt;&nbsp;max_len:</span></span><br><span><span class="mtk1">&nbsp;&nbsp;&nbsp;&nbsp;space_before&nbsp;=&nbsp;text.rfind(</span><span class="mtk21">'&nbsp;'</span><span class="mtk1">,&nbsp;</span><span class="mtk12">0</span><span class="mtk1">,&nbsp;max_len)</span></span><br><span><span class="mtk1">&nbsp;&nbsp;&nbsp;&nbsp;</span><span class="mtk19">if</span><span class="mtk1">&nbsp;space_before&nbsp;&gt;=&nbsp;</span><span class="mtk12">0</span><span class="mtk1">:</span></span><br><span><span class="mtk1">&nbsp;&nbsp;&nbsp;&nbsp;&nbsp;&nbsp;end&nbsp;=&nbsp;space_before</span></span><br><span><span class="mtk1">&nbsp;&nbsp;&nbsp;&nbsp;</span><span class="mtk19">else</span><span class="mtk1">:</span></span><br><span><span class="mtk1">&nbsp;&nbsp;&nbsp;&nbsp;&nbsp;&nbsp;space_after&nbsp;=&nbsp;text.rfind(</span><span class="mtk21">'&nbsp;'</span><span class="mtk1">,&nbsp;max_len)</span></span><br><span><span class="mtk1">&nbsp;&nbsp;&nbsp;&nbsp;&nbsp;&nbsp;</span><span class="mtk19">if</span><span class="mtk1">&nbsp;space_after&nbsp;&gt;=&nbsp;</span><span class="mtk12">0</span><span class="mtk1">:</span></span><br><span><span class="mtk1">&nbsp;&nbsp;&nbsp;&nbsp;&nbsp;&nbsp;&nbsp;&nbsp;end&nbsp;=&nbsp;space_after</span></span><br><span><span class="mtk1">&nbsp;&nbsp;</span><span class="mtk19">if</span><span class="mtk1">&nbsp;end&nbsp;</span><span class="mtk6">is</span><span class="mtk1">&nbsp;</span><span class="mtk6">not</span><span class="mtk1">&nbsp;</span><span class="mtk6">None</span><span class="mtk1">:</span></span><br><span><span class="mtk1">&nbsp;&nbsp;&nbsp;&nbsp;text&nbsp;=&nbsp;text[:end]</span></span><br><span><span class="mtk1">&nbsp;&nbsp;</span><span class="mtk19">return</span><span class="mtk1">&nbsp;text[:end].rstrip()</span></span><br></pre><colab-read-only-cell-placeholder style="display: none;"><template shadowrootmode="open"><!----><div><!--?lit$764986503$-->코딩을 시작하거나 AI로 코드를 <span tabindex="0" role="button" class="link">생성</span>하세요.</div></template></colab-read-only-cell-placeholder></pre></div><colab-form class="formview vertical layout flex"><div class="widget-area vertical layout"></div></colab-form></div>
    <div class="output" aria-label="셀 21 출력" role="region"><!----> <div class="output-header"> </div>
        <div class="output-content" hidden="">
          <div class="output-info"><colab-output-info><template shadowrootmode="open"><!----><md-icon-button data-aria-expanded="false" data-aria-haspopup="menu" aria-describedby="button-output-actions-tooltip" data-aria-label="코드 셀 출력 작업" id="button-output-actions" value=""><template shadowrootmode="open" shadowrootdelegatesfocus><!----><button id="button" class="icon-button  standard " aria-label="코드 셀 출력 작업" aria-haspopup="menu" aria-expanded="false">
        <!--?lit$764986503$--><md-focus-ring part="focus-ring" for="button" aria-hidden="true"><template shadowrootmode="open"><!----></template></md-focus-ring>
        <!--?lit$764986503$--><md-ripple aria-hidden="true"><template shadowrootmode="open"><!----><div class="surface   "></div></template></md-ripple>
        <!--?lit$764986503$--><span class="icon"><slot></slot></span>
        <!--?lit$764986503$-->
        <!--?lit$764986503$--><span class="touch"></span>
  </button></template>
        <md-icon aria-hidden="true"><template shadowrootmode="open"><!----><slot></slot></template><!--?lit$764986503$--><svg viewBox="0 0 24 24"><!--?lit$764986503$--><path d="m15.9 3.07c-4.32 0.0742-8.64-0.0355-13 0.0568-1.37 0.307-1.74 2.1-1.41 3.26 0.469 0.606 1.86 0.384 1.66-0.525 0.0448-0.329-0.183-0.93 0.354-0.766h13.3v1.53h1.71c0.0709-1.13 0.141-2.62-0.968-3.3-0.511-0.264-1.11-0.252-1.67-0.259zm2.94 6.84v4.87c1.62-1.62 3.24-3.24 4.87-4.87h-4.87zm0 0h-1.71v3.43l1.57 1.57c0.32-1.65 0.0556-3.34 0.135-5zm-1.71 3.43v-3.43h-3.43c1.14 1.14 2.29 2.29 3.43 3.43zm1.4 4.27h-1.71v1.48h-13.6v-1.48h-1.71c-0.0473 1.15-0.16 2.72 1.09 3.29 1.47 0.506 3.02 0.0265 4.53 0.192 3.34-0.0051 6.68 0.0336 10-0.0245 1.49-0.366 1.56-2.22 1.42-3.45zm-10.1-1.12c-0.398-0.483-0.796-0.967-1.19-1.45 0.59-0.683 1.18-1.37 1.77-2.05h-8.67v-2h8.67c-0.59-0.683-1.18-1.37-1.77-2.05 0.398-0.483 0.796-0.967 1.19-1.45 1.28 1.5 2.56 3 3.84 4.5-1.28 1.5-2.56 3-3.84 4.5z"></path></svg></md-icon>
      </md-icon-button>
      <colab-tooltip-trigger aria-hidden="true" id="button-output-actions-tooltip" for="button-output-actions" message="코드 셀 출력 작업"><template shadowrootmode="open"><!----><!--?lit$764986503$--><!----><div><!--?lit$764986503$-->코드 셀 출력 작업</div><!----><!--?--></template></colab-tooltip-trigger></template></colab-output-info></div>
          <div class="output-iframe-container" hidden="">
            <div class="output-iframe-sizer" style="min-height: 0px;"> <div><div><colab-static-output-renderer tabindex="0" role="group"><div></div><div></div></colab-static-output-renderer></div></div><div><div></div></div></div>
          </div>
        </div></div><colab-cell-next-steps><template shadowrootmode="open"><!----></template></colab-cell-next-steps></div></div></div><div class="add-cell">
      <div class="add-cell-buttons">
        <md-outlined-button class="add-code add-button" data-aria-label="코드 셀 추가
Ctrl+M B" title="코드 셀 추가
Ctrl+M B" value="" has-icon=""><template shadowrootmode="open" shadowrootdelegatesfocus><!---->
      <!--?lit$764986503$--><div class="outline"></div>
      <div class="background"></div>
      <md-focus-ring part="focus-ring" for="button" aria-hidden="true"><template shadowrootmode="open"><!----></template></md-focus-ring>
      <md-ripple part="ripple" for="button" aria-hidden="true"><template shadowrootmode="open"><!----><div class="surface   "></div></template></md-ripple>
      <!--?lit$764986503$--><button id="button" class="button" aria-label="코드 셀 추가
Ctrl+M B">
      <!--?lit$764986503$-->
      <span class="touch"></span>
      <!--?lit$764986503$--><slot name="icon"></slot>
      <span class="label"><slot></slot></span>
      <!--?lit$764986503$-->
    
    </button>
    </template>
          <md-icon slot="icon" aria-hidden="true"><template shadowrootmode="open"><!----><slot></slot></template>add</md-icon>
          <!--?lit$764986503$-->코드
        </md-outlined-button>
        <md-outlined-button class="add-text add-button" data-aria-label="텍스트 셀 추가" title="텍스트 셀 추가" value="" has-icon=""><template shadowrootmode="open" shadowrootdelegatesfocus><!---->
      <!--?lit$764986503$--><div class="outline"></div>
      <div class="background"></div>
      <md-focus-ring part="focus-ring" for="button" aria-hidden="true"><template shadowrootmode="open"><!----></template></md-focus-ring>
      <md-ripple part="ripple" for="button" aria-hidden="true"><template shadowrootmode="open"><!----><div class="surface   "></div></template></md-ripple>
      <!--?lit$764986503$--><button id="button" class="button" aria-label="텍스트 셀 추가">
      <!--?lit$764986503$-->
      <span class="touch"></span>
      <!--?lit$764986503$--><slot name="icon"></slot>
      <span class="label"><slot></slot></span>
      <!--?lit$764986503$-->
    
    </button>
    </template>
          <md-icon slot="icon" aria-hidden="true"><template shadowrootmode="open"><!----><slot></slot></template>add</md-icon>
          <!--?lit$764986503$-->텍스트
        </md-outlined-button>
        <!--?lit$764986503$-->
        <!--?lit$764986503$-->
      </div><hr>
    </div></div><div class="cell code notebook-cell code-has-output" id="cell-BaBk9tg6Sztw" tabindex="-1" role="region" aria-label="셀 22: 코드 셀: " style="opacity: 1;"><div class="cell-tag-editor sticky"></div><div class="agent-focus-label">
      <md-icon aria-hidden="true"><template shadowrootmode="open"><!----><slot></slot></template>spark</md-icon>
      <!--?lit$764986503$-->Gemini
    </div><div class="cell-toolbar sticky"></div><div class="main-content"><div class="cell-contents"><div class="cell-mask"></div><span class="imported-info-area"></span><div class="codecell-input-output">
      <div class="inputarea horizontal layout code">
        <div class="cell-gutter">
          <!-- Bounding range for vertical scrolling of icons -->
          <div class="cell-execution-container">
            <colab-run-button><template shadowrootmode="open"><!----> <div class="cell-execution">
      <button id="run-button" aria-describedby="run-button-tooltip" aria-label="셀 실행" aria-disabled="false">
        <span aria-hidden="true" class="cell-execution-indicator"><!--?lit$764986503$-->
<svg xmlns="http://www.w3.org/2000/svg" viewBox="0 0 24 24">
  <!--?lit$764986503$-->
  <mask id="playSymbolMask">
    <rect width="100%" height="100%" fill="white"></rect>
    <polygon points="10,8 17,12 10,16" fill="black"></polygon>
  </mask>
  <circle cx="12" cy="12" r="7.8" mask="url(#playSymbolMask)" id="filledCircle"></circle>
</svg></span>
      </button>
      <!--?lit$764986503$--><colab-tooltip-trigger for="run-button" id="run-button-tooltip" aria-hidden="true" message="셀 실행 (Ctrl+Enter)
마지막 변경 이후 실행된 셀

임민우컴퓨터공학과에 의해 실행됨
오전 10:59 (0분 전)
0.006초 내에 실행됨"><template shadowrootmode="open"><!----><!--?lit$764986503$--><!----><div><!--?lit$764986503$-->셀 실행 (Ctrl+Enter)</div><!----><!----><div><!--?lit$764986503$-->마지막 변경 이후 실행된 셀</div><!----><!----><br><!----><!----><div><!--?lit$764986503$-->임민우컴퓨터공학과에 의해 실행됨</div><!----><!----><div><!--?lit$764986503$-->오전 10:59 (0분 전)</div><!----><!----><div><!--?lit$764986503$-->0.006초 내에 실행됨</div><!----><!--?--></template>
    </colab-tooltip-trigger> <!--?lit$764986503$--><div class="status">
      <div class="execution-count"><!--?lit$764986503$-->[31]</div>
      <!--?lit$764986503$--><div class="last-run">
      <md-icon aria-hidden="true"><template shadowrootmode="open"><!----><slot></slot></template><!--?lit$764986503$-->check</md-icon>
      <div><!--?lit$764986503$-->0초</div>
    </div>
    </div>
    </div></template></colab-run-button>
          </div>
        </div>
      <div class="editor flex lazy-editor" style=""><pre tabindex="0" class="lazy-virtualized" style="font-size: 14px; line-height: 19px;"><pre class="lazy-gutter"></pre><pre class="monaco-colorized colab colab" data-lang="notebook-python"><span><span class="mtk1">clip_fa.</span><span class="mtk16">__annotations__</span></span><br></pre><colab-read-only-cell-placeholder style="display: none;"><template shadowrootmode="open"><!----><div><!--?lit$764986503$-->코딩을 시작하거나 AI로 코드를 <span tabindex="0" role="button" class="link">생성</span>하세요.</div></template></colab-read-only-cell-placeholder></pre></div><colab-form class="formview vertical layout flex"><div class="widget-area vertical layout"></div></colab-form></div>
    <div class="output" aria-label="셀 22 출력" role="region"><!----> <div class="output-header"> </div>
        <div class="output-content">
          <div class="output-info"><colab-output-info><template shadowrootmode="open"><!----><md-icon-button data-aria-expanded="false" data-aria-haspopup="menu" aria-describedby="button-output-actions-tooltip" data-aria-label="코드 셀 출력 작업" id="button-output-actions" value=""><template shadowrootmode="open" shadowrootdelegatesfocus><!----><button id="button" class="icon-button  standard " aria-label="코드 셀 출력 작업" aria-haspopup="menu" aria-expanded="false">
        <!--?lit$764986503$--><md-focus-ring part="focus-ring" for="button" aria-hidden="true"><template shadowrootmode="open"><!----></template></md-focus-ring>
        <!--?lit$764986503$--><md-ripple aria-hidden="true"><template shadowrootmode="open"><!----><div class="surface   "></div></template></md-ripple>
        <!--?lit$764986503$--><span class="icon"><slot></slot></span>
        <!--?lit$764986503$-->
        <!--?lit$764986503$--><span class="touch"></span>
  </button></template>
        <md-icon aria-hidden="true"><template shadowrootmode="open"><!----><slot></slot></template><!--?lit$764986503$--><svg viewBox="0 0 24 24"><!--?lit$764986503$--><path d="m15.9 3.07c-4.32 0.0742-8.64-0.0355-13 0.0568-1.37 0.307-1.74 2.1-1.41 3.26 0.469 0.606 1.86 0.384 1.66-0.525 0.0448-0.329-0.183-0.93 0.354-0.766h13.3v1.53h1.71c0.0709-1.13 0.141-2.62-0.968-3.3-0.511-0.264-1.11-0.252-1.67-0.259zm2.94 6.84v4.87c1.62-1.62 3.24-3.24 4.87-4.87h-4.87zm0 0h-1.71v3.43l1.57 1.57c0.32-1.65 0.0556-3.34 0.135-5zm-1.71 3.43v-3.43h-3.43c1.14 1.14 2.29 2.29 3.43 3.43zm1.4 4.27h-1.71v1.48h-13.6v-1.48h-1.71c-0.0473 1.15-0.16 2.72 1.09 3.29 1.47 0.506 3.02 0.0265 4.53 0.192 3.34-0.0051 6.68 0.0336 10-0.0245 1.49-0.366 1.56-2.22 1.42-3.45zm-10.1-1.12c-0.398-0.483-0.796-0.967-1.19-1.45 0.59-0.683 1.18-1.37 1.77-2.05h-8.67v-2h8.67c-0.59-0.683-1.18-1.37-1.77-2.05 0.398-0.483 0.796-0.967 1.19-1.45 1.28 1.5 2.56 3 3.84 4.5-1.28 1.5-2.56 3-3.84 4.5z"></path></svg></md-icon>
      </md-icon-button>
      <colab-tooltip-trigger aria-hidden="true" id="button-output-actions-tooltip" for="button-output-actions" message="코드 셀 출력 작업"><template shadowrootmode="open"><!----><!--?lit$764986503$--><!----><div><!--?lit$764986503$-->코드 셀 출력 작업</div><!----><!--?--></template></colab-tooltip-trigger></template></colab-output-info></div>
          <div class="output-iframe-container">
            <div class="output-iframe-sizer" style="min-height: 0px;"> <div><div><colab-static-output-renderer tabindex="0" role="group"><div><div class="execute_result output-id-1 output_text"><pre>{'text': str, 'max_len': 'int &gt; 0', 'return': str}</pre></div></div><div></div></colab-static-output-renderer></div></div><div><div></div></div></div>
          </div>
        </div></div><colab-cell-next-steps><template shadowrootmode="open"><!----></template></colab-cell-next-steps></div></div></div><div class="add-cell">
      <div class="add-cell-buttons">
        <md-outlined-button class="add-code add-button" data-aria-label="코드 셀 추가
Ctrl+M B" title="코드 셀 추가
Ctrl+M B" value="" has-icon=""><template shadowrootmode="open" shadowrootdelegatesfocus><!---->
      <!--?lit$764986503$--><div class="outline"></div>
      <div class="background"></div>
      <md-focus-ring part="focus-ring" for="button" aria-hidden="true"><template shadowrootmode="open"><!----></template></md-focus-ring>
      <md-ripple part="ripple" for="button" aria-hidden="true"><template shadowrootmode="open"><!----><div class="surface   "></div></template></md-ripple>
      <!--?lit$764986503$--><button id="button" class="button" aria-label="코드 셀 추가
Ctrl+M B">
      <!--?lit$764986503$-->
      <span class="touch"></span>
      <!--?lit$764986503$--><slot name="icon"></slot>
      <span class="label"><slot></slot></span>
      <!--?lit$764986503$-->
    
    </button>
    </template>
          <md-icon slot="icon" aria-hidden="true"><template shadowrootmode="open"><!----><slot></slot></template>add</md-icon>
          <!--?lit$764986503$-->코드
        </md-outlined-button>
        <md-outlined-button class="add-text add-button" data-aria-label="텍스트 셀 추가" title="텍스트 셀 추가" value="" has-icon=""><template shadowrootmode="open" shadowrootdelegatesfocus><!---->
      <!--?lit$764986503$--><div class="outline"></div>
      <div class="background"></div>
      <md-focus-ring part="focus-ring" for="button" aria-hidden="true"><template shadowrootmode="open"><!----></template></md-focus-ring>
      <md-ripple part="ripple" for="button" aria-hidden="true"><template shadowrootmode="open"><!----><div class="surface   "></div></template></md-ripple>
      <!--?lit$764986503$--><button id="button" class="button" aria-label="텍스트 셀 추가">
      <!--?lit$764986503$-->
      <span class="touch"></span>
      <!--?lit$764986503$--><slot name="icon"></slot>
      <span class="label"><slot></slot></span>
      <!--?lit$764986503$-->
    
    </button>
    </template>
          <md-icon slot="icon" aria-hidden="true"><template shadowrootmode="open"><!----><slot></slot></template>add</md-icon>
          <!--?lit$764986503$-->텍스트
        </md-outlined-button>
        <!--?lit$764986503$-->
        <!--?lit$764986503$-->
      </div><hr>
    </div></div><div class="cell code notebook-cell code-has-output" id="cell-d6FEw34ZSzwh" tabindex="-1" role="region" aria-label="셀 23: 코드 셀: " style="opacity: 1;"><div class="cell-tag-editor sticky"></div><div class="agent-focus-label">
      <md-icon aria-hidden="true"><template shadowrootmode="open"><!----><slot></slot></template>spark</md-icon>
      <!--?lit$764986503$-->Gemini
    </div><div class="cell-toolbar sticky"></div><div class="main-content"><div class="cell-contents"><div class="cell-mask"></div><span class="imported-info-area"></span><div class="codecell-input-output">
      <div class="inputarea horizontal layout code">
        <div class="cell-gutter">
          <!-- Bounding range for vertical scrolling of icons -->
          <div class="cell-execution-container">
            <colab-run-button><template shadowrootmode="open"><!----> <div class="cell-execution">
      <button id="run-button" aria-describedby="run-button-tooltip" aria-label="셀 실행" aria-disabled="false">
        <span aria-hidden="true" class="cell-execution-indicator"><!--?lit$764986503$-->
<svg xmlns="http://www.w3.org/2000/svg" viewBox="0 0 24 24">
  <!--?lit$764986503$-->
  <mask id="playSymbolMask">
    <rect width="100%" height="100%" fill="white"></rect>
    <polygon points="10,8 17,12 10,16" fill="black"></polygon>
  </mask>
  <circle cx="12" cy="12" r="7.8" mask="url(#playSymbolMask)" id="filledCircle"></circle>
</svg></span>
      </button>
      <!--?lit$764986503$--><colab-tooltip-trigger for="run-button" id="run-button-tooltip" aria-hidden="true" message="셀 실행 (Ctrl+Enter)
마지막 변경 이후 실행된 셀

임민우컴퓨터공학과에 의해 실행됨
오전 11:00 (1분 전)
0.006초 내에 실행됨"><template shadowrootmode="open"><!----><!--?lit$764986503$--><!----><div><!--?lit$764986503$-->셀 실행 (Ctrl+Enter)</div><!----><!----><div><!--?lit$764986503$-->마지막 변경 이후 실행된 셀</div><!----><!----><br><!----><!----><div><!--?lit$764986503$-->임민우컴퓨터공학과에 의해 실행됨</div><!----><!----><div><!--?lit$764986503$-->오전 11:00 (1분 전)</div><!----><!----><div><!--?lit$764986503$-->0.006초 내에 실행됨</div><!----><!--?--></template>
    </colab-tooltip-trigger> <!--?lit$764986503$--><div class="status">
      <div class="execution-count"><!--?lit$764986503$-->[33]</div>
      <!--?lit$764986503$--><div class="last-run">
      <md-icon aria-hidden="true"><template shadowrootmode="open"><!----><slot></slot></template><!--?lit$764986503$-->check</md-icon>
      <div><!--?lit$764986503$-->0초</div>
    </div>
    </div>
    </div></template></colab-run-button>
          </div>
        </div>
      <div class="editor flex lazy-editor" style=""><pre tabindex="0" class="lazy-virtualized" style="font-size: 14px; line-height: 19px;"><pre class="lazy-gutter"></pre><pre class="monaco-colorized colab colab" data-lang="notebook-python"><span><span class="mtk15">print</span><span class="mtk1">(clip_fa.</span><span class="mtk16">__annotations__</span><span class="mtk1">)</span></span><br><span><span></span></span><br><span><span class="mtk1">sig2&nbsp;=&nbsp;signature(clip_fa)</span></span><br><span><span class="mtk1">sig2.return_annotation</span></span><br><span><span></span></span><br><span><span class="mtk19">for</span><span class="mtk1">&nbsp;param&nbsp;</span><span class="mtk6">in</span><span class="mtk1">&nbsp;sig2.parameters.values():</span></span><br><span><span class="mtk1">&nbsp;&nbsp;note&nbsp;=&nbsp;</span><span class="mtk15">repr</span><span class="mtk1">(param.annotation).ljust(</span><span class="mtk12">13</span><span class="mtk1">)</span></span><br><span><span class="mtk1">&nbsp;&nbsp;</span><span class="mtk15">print</span><span class="mtk1">(note,&nbsp;</span><span class="mtk21">':'</span><span class="mtk1">,&nbsp;param.name,&nbsp;</span><span class="mtk21">'='</span><span class="mtk1">,&nbsp;param.default)</span></span><br></pre><colab-read-only-cell-placeholder style="display: none;"><template shadowrootmode="open"><!----><div><!--?lit$764986503$-->코딩을 시작하거나 AI로 코드를 <span tabindex="0" role="button" class="link">생성</span>하세요.</div></template></colab-read-only-cell-placeholder></pre></div><colab-form class="formview vertical layout flex"><div class="widget-area vertical layout"></div></colab-form></div>
    <div class="output" aria-label="셀 23 출력" role="region"><!----> <div class="output-header"> </div>
        <div class="output-content">
          <div class="output-info"><colab-output-info><template shadowrootmode="open"><!----><md-icon-button data-aria-expanded="false" data-aria-haspopup="menu" aria-describedby="button-output-actions-tooltip" data-aria-label="코드 셀 출력 작업" id="button-output-actions" value=""><template shadowrootmode="open" shadowrootdelegatesfocus><!----><button id="button" class="icon-button  standard " aria-label="코드 셀 출력 작업" aria-haspopup="menu" aria-expanded="false">
        <!--?lit$764986503$--><md-focus-ring part="focus-ring" for="button" aria-hidden="true"><template shadowrootmode="open"><!----></template></md-focus-ring>
        <!--?lit$764986503$--><md-ripple aria-hidden="true"><template shadowrootmode="open"><!----><div class="surface"></div></template></md-ripple>
        <!--?lit$764986503$--><span class="icon"><slot></slot></span>
        <!--?lit$764986503$-->
        <!--?lit$764986503$--><span class="touch"></span>
  </button></template>
        <md-icon aria-hidden="true"><template shadowrootmode="open"><!----><slot></slot></template><!--?lit$764986503$--><svg viewBox="0 0 24 24"><!--?lit$764986503$--><path d="m15.9 3.07c-4.32 0.0742-8.64-0.0355-13 0.0568-1.37 0.307-1.74 2.1-1.41 3.26 0.469 0.606 1.86 0.384 1.66-0.525 0.0448-0.329-0.183-0.93 0.354-0.766h13.3v1.53h1.71c0.0709-1.13 0.141-2.62-0.968-3.3-0.511-0.264-1.11-0.252-1.67-0.259zm2.94 6.84v4.87c1.62-1.62 3.24-3.24 4.87-4.87h-4.87zm0 0h-1.71v3.43l1.57 1.57c0.32-1.65 0.0556-3.34 0.135-5zm-1.71 3.43v-3.43h-3.43c1.14 1.14 2.29 2.29 3.43 3.43zm1.4 4.27h-1.71v1.48h-13.6v-1.48h-1.71c-0.0473 1.15-0.16 2.72 1.09 3.29 1.47 0.506 3.02 0.0265 4.53 0.192 3.34-0.0051 6.68 0.0336 10-0.0245 1.49-0.366 1.56-2.22 1.42-3.45zm-10.1-1.12c-0.398-0.483-0.796-0.967-1.19-1.45 0.59-0.683 1.18-1.37 1.77-2.05h-8.67v-2h8.67c-0.59-0.683-1.18-1.37-1.77-2.05 0.398-0.483 0.796-0.967 1.19-1.45 1.28 1.5 2.56 3 3.84 4.5-1.28 1.5-2.56 3-3.84 4.5z"></path></svg></md-icon>
      </md-icon-button>
      <colab-tooltip-trigger aria-hidden="true" id="button-output-actions-tooltip" for="button-output-actions" message="코드 셀 출력 작업"><template shadowrootmode="open"><!----><!--?lit$764986503$--><!----><div><!--?lit$764986503$-->코드 셀 출력 작업</div><!----><!--?--></template></colab-tooltip-trigger></template></colab-output-info></div>
          <div class="output-iframe-container">
            <div class="output-iframe-sizer" style="min-height: 0px;"> <div><div><colab-static-output-renderer tabindex="0" role="group"><div><div class="stream output-id-1 output_text"><pre>{'text': &lt;class 'str'&gt;, 'max_len': 'int &gt; 0', 'return': &lt;class 'str'&gt;}
&lt;class 'str'&gt; : text = &lt;class 'inspect._empty'&gt;
'int &gt; 0'     : max_len = 80
</pre></div></div><div></div></colab-static-output-renderer></div></div><div><div></div></div></div>
          </div>
        </div></div><colab-cell-next-steps><template shadowrootmode="open"><!----></template></colab-cell-next-steps></div></div></div><div class="add-cell">
      <div class="add-cell-buttons">
        <md-outlined-button class="add-code add-button" data-aria-label="코드 셀 추가
Ctrl+M B" title="코드 셀 추가
Ctrl+M B" value="" has-icon=""><template shadowrootmode="open" shadowrootdelegatesfocus><!---->
      <!--?lit$764986503$--><div class="outline"></div>
      <div class="background"></div>
      <md-focus-ring part="focus-ring" for="button" aria-hidden="true"><template shadowrootmode="open"><!----></template></md-focus-ring>
      <md-ripple part="ripple" for="button" aria-hidden="true"><template shadowrootmode="open"><!----><div class="surface   "></div></template></md-ripple>
      <!--?lit$764986503$--><button id="button" class="button" aria-label="코드 셀 추가
Ctrl+M B">
      <!--?lit$764986503$-->
      <span class="touch"></span>
      <!--?lit$764986503$--><slot name="icon"></slot>
      <span class="label"><slot></slot></span>
      <!--?lit$764986503$-->
    
    </button>
    </template>
          <md-icon slot="icon" aria-hidden="true"><template shadowrootmode="open"><!----><slot></slot></template>add</md-icon>
          <!--?lit$764986503$-->코드
        </md-outlined-button>
        <md-outlined-button class="add-text add-button" data-aria-label="텍스트 셀 추가" title="텍스트 셀 추가" value="" has-icon=""><template shadowrootmode="open" shadowrootdelegatesfocus><!---->
      <!--?lit$764986503$--><div class="outline"></div>
      <div class="background"></div>
      <md-focus-ring part="focus-ring" for="button" aria-hidden="true"><template shadowrootmode="open"><!----></template></md-focus-ring>
      <md-ripple part="ripple" for="button" aria-hidden="true"><template shadowrootmode="open"><!----><div class="surface   "></div></template></md-ripple>
      <!--?lit$764986503$--><button id="button" class="button" aria-label="텍스트 셀 추가">
      <!--?lit$764986503$-->
      <span class="touch"></span>
      <!--?lit$764986503$--><slot name="icon"></slot>
      <span class="label"><slot></slot></span>
      <!--?lit$764986503$-->
    
    </button>
    </template>
          <md-icon slot="icon" aria-hidden="true"><template shadowrootmode="open"><!----><slot></slot></template>add</md-icon>
          <!--?lit$764986503$-->텍스트
        </md-outlined-button>
        <!--?lit$764986503$-->
        <!--?lit$764986503$-->
      </div><hr>
    </div></div><div class="cell code notebook-cell code-has-output" id="cell-L4R2FdfqSz0_" tabindex="-1" role="region" aria-label="셀 24: 코드 셀: " style="opacity: 1;"><div class="cell-tag-editor sticky"></div><div class="agent-focus-label">
      <md-icon aria-hidden="true"><template shadowrootmode="open"><!----><slot></slot></template>spark</md-icon>
      <!--?lit$764986503$-->Gemini
    </div><div class="cell-toolbar sticky"></div><div class="main-content"><div class="cell-contents"><div class="cell-mask"></div><span class="imported-info-area"></span><div class="codecell-input-output">
      <div class="inputarea horizontal layout code">
        <div class="cell-gutter">
          <!-- Bounding range for vertical scrolling of icons -->
          <div class="cell-execution-container">
            <colab-run-button><template shadowrootmode="open"><!----> <div class="cell-execution">
      <button id="run-button" aria-describedby="run-button-tooltip" aria-label="셀 실행" aria-disabled="false">
        <span aria-hidden="true" class="cell-execution-indicator"><!--?lit$764986503$-->
<svg xmlns="http://www.w3.org/2000/svg" viewBox="0 0 24 24">
  <!--?lit$764986503$-->
  <mask id="playSymbolMask">
    <rect width="100%" height="100%" fill="white"></rect>
    <polygon points="10,8 17,12 10,16" fill="black"></polygon>
  </mask>
  <circle cx="12" cy="12" r="7.8" mask="url(#playSymbolMask)" id="filledCircle"></circle>
</svg></span>
      </button>
      <!--?lit$764986503$--><colab-tooltip-trigger for="run-button" id="run-button-tooltip" aria-hidden="true" message="셀 실행 (Ctrl+Enter)
마지막 변경 이후 실행된 셀

임민우컴퓨터공학과에 의해 실행됨
오전 11:02 (0분 전)
0.007초 내에 실행됨"><template shadowrootmode="open"><!----><!--?lit$764986503$--><!----><div><!--?lit$764986503$-->셀 실행 (Ctrl+Enter)</div><!----><!----><div><!--?lit$764986503$-->마지막 변경 이후 실행된 셀</div><!----><!----><br><!----><!----><div><!--?lit$764986503$-->임민우컴퓨터공학과에 의해 실행됨</div><!----><!----><div><!--?lit$764986503$-->오전 11:02 (0분 전)</div><!----><!----><div><!--?lit$764986503$-->0.007초 내에 실행됨</div><!----><!--?--></template>
    </colab-tooltip-trigger> <!--?lit$764986503$--><div class="status">
      <div class="execution-count"><!--?lit$764986503$-->[34]</div>
      <!--?lit$764986503$--><div class="last-run">
      <md-icon aria-hidden="true"><template shadowrootmode="open"><!----><slot></slot></template><!--?lit$764986503$-->check</md-icon>
      <div><!--?lit$764986503$-->0초</div>
    </div>
    </div>
    </div></template></colab-run-button>
          </div>
        </div>
      <div class="editor flex lazy-editor" style=""><pre tabindex="0" class="lazy-virtualized" style="font-size: 14px; line-height: 19px;"><pre class="lazy-gutter"></pre><pre class="monaco-colorized colab colab" data-lang="notebook-python"><span><span class="mtk19">from</span><span class="mtk1">&nbsp;functools&nbsp;</span><span class="mtk19">import</span><span class="mtk1">&nbsp;</span><span class="mtk16">reduce</span></span><br><span><span></span></span><br><span><span class="mtk6">def</span><span class="mtk1">&nbsp;</span><span class="mtk15">fact</span><span class="mtk1">(</span><span class="mtk16">n</span><span class="mtk1">):</span></span><br><span><span class="mtk1">&nbsp;&nbsp;</span><span class="mtk19">return</span><span class="mtk1">&nbsp;reduce(</span><span class="mtk6">lambda</span><span class="mtk1">&nbsp;a,&nbsp;b:&nbsp;a*b,&nbsp;</span><span class="mtk15">range</span><span class="mtk1">(</span><span class="mtk12">1</span><span class="mtk1">,&nbsp;n+</span><span class="mtk12">1</span><span class="mtk1">))&nbsp;&nbsp;</span></span><br><span><span></span></span><br><span><span class="mtk1">fact(</span><span class="mtk12">10</span><span class="mtk1">)</span></span><br></pre><colab-read-only-cell-placeholder style="display: none;"><template shadowrootmode="open"><!----><div><!--?lit$764986503$-->코딩을 시작하거나 AI로 코드를 <span tabindex="0" role="button" class="link">생성</span>하세요.</div></template></colab-read-only-cell-placeholder></pre></div><colab-form class="formview vertical layout flex"><div class="widget-area vertical layout"></div></colab-form></div>
    <div class="output" aria-label="셀 24 출력" role="region"><!----> <div class="output-header"> </div>
        <div class="output-content">
          <div class="output-info"><colab-output-info><template shadowrootmode="open"><!----><md-icon-button data-aria-expanded="false" data-aria-haspopup="menu" aria-describedby="button-output-actions-tooltip" data-aria-label="코드 셀 출력 작업" id="button-output-actions" value=""><template shadowrootmode="open" shadowrootdelegatesfocus><!----><button id="button" class="icon-button  standard " aria-label="코드 셀 출력 작업" aria-haspopup="menu" aria-expanded="false">
        <!--?lit$764986503$--><md-focus-ring part="focus-ring" for="button" aria-hidden="true"><template shadowrootmode="open"><!----></template></md-focus-ring>
        <!--?lit$764986503$--><md-ripple aria-hidden="true"><template shadowrootmode="open"><!----><div class="surface   "></div></template></md-ripple>
        <!--?lit$764986503$--><span class="icon"><slot></slot></span>
        <!--?lit$764986503$-->
        <!--?lit$764986503$--><span class="touch"></span>
  </button></template>
        <md-icon aria-hidden="true"><template shadowrootmode="open"><!----><slot></slot></template><!--?lit$764986503$--><svg viewBox="0 0 24 24"><!--?lit$764986503$--><path d="m15.9 3.07c-4.32 0.0742-8.64-0.0355-13 0.0568-1.37 0.307-1.74 2.1-1.41 3.26 0.469 0.606 1.86 0.384 1.66-0.525 0.0448-0.329-0.183-0.93 0.354-0.766h13.3v1.53h1.71c0.0709-1.13 0.141-2.62-0.968-3.3-0.511-0.264-1.11-0.252-1.67-0.259zm2.94 6.84v4.87c1.62-1.62 3.24-3.24 4.87-4.87h-4.87zm0 0h-1.71v3.43l1.57 1.57c0.32-1.65 0.0556-3.34 0.135-5zm-1.71 3.43v-3.43h-3.43c1.14 1.14 2.29 2.29 3.43 3.43zm1.4 4.27h-1.71v1.48h-13.6v-1.48h-1.71c-0.0473 1.15-0.16 2.72 1.09 3.29 1.47 0.506 3.02 0.0265 4.53 0.192 3.34-0.0051 6.68 0.0336 10-0.0245 1.49-0.366 1.56-2.22 1.42-3.45zm-10.1-1.12c-0.398-0.483-0.796-0.967-1.19-1.45 0.59-0.683 1.18-1.37 1.77-2.05h-8.67v-2h8.67c-0.59-0.683-1.18-1.37-1.77-2.05 0.398-0.483 0.796-0.967 1.19-1.45 1.28 1.5 2.56 3 3.84 4.5-1.28 1.5-2.56 3-3.84 4.5z"></path></svg></md-icon>
      </md-icon-button>
      <colab-tooltip-trigger aria-hidden="true" id="button-output-actions-tooltip" for="button-output-actions" message="코드 셀 출력 작업"><template shadowrootmode="open"><!----><!--?lit$764986503$--><!----><div><!--?lit$764986503$-->코드 셀 출력 작업</div><!----><!--?--></template></colab-tooltip-trigger></template></colab-output-info></div>
          <div class="output-iframe-container">
            <div class="output-iframe-sizer" style="min-height: 0px;"> <div><div><colab-static-output-renderer tabindex="0" role="group"><div><div class="execute_result output-id-1 output_text"><pre>3628800</pre></div></div><div></div></colab-static-output-renderer></div></div><div><div></div></div></div>
          </div>
        </div></div><colab-cell-next-steps><template shadowrootmode="open"><!----></template></colab-cell-next-steps></div></div></div><div class="add-cell">
      <div class="add-cell-buttons">
        <md-outlined-button class="add-code add-button" data-aria-label="코드 셀 추가
Ctrl+M B" title="코드 셀 추가
Ctrl+M B" value="" has-icon=""><template shadowrootmode="open" shadowrootdelegatesfocus><!---->
      <!--?lit$764986503$--><div class="outline"></div>
      <div class="background"></div>
      <md-focus-ring part="focus-ring" for="button" aria-hidden="true"><template shadowrootmode="open"><!----></template></md-focus-ring>
      <md-ripple part="ripple" for="button" aria-hidden="true"><template shadowrootmode="open"><!----><div class="surface   "></div></template></md-ripple>
      <!--?lit$764986503$--><button id="button" class="button" aria-label="코드 셀 추가
Ctrl+M B">
      <!--?lit$764986503$-->
      <span class="touch"></span>
      <!--?lit$764986503$--><slot name="icon"></slot>
      <span class="label"><slot></slot></span>
      <!--?lit$764986503$-->
    
    </button>
    </template>
          <md-icon slot="icon" aria-hidden="true"><template shadowrootmode="open"><!----><slot></slot></template>add</md-icon>
          <!--?lit$764986503$-->코드
        </md-outlined-button>
        <md-outlined-button class="add-text add-button" data-aria-label="텍스트 셀 추가" title="텍스트 셀 추가" value="" has-icon=""><template shadowrootmode="open" shadowrootdelegatesfocus><!---->
      <!--?lit$764986503$--><div class="outline"></div>
      <div class="background"></div>
      <md-focus-ring part="focus-ring" for="button" aria-hidden="true"><template shadowrootmode="open"><!----></template></md-focus-ring>
      <md-ripple part="ripple" for="button" aria-hidden="true"><template shadowrootmode="open"><!----><div class="surface   "></div></template></md-ripple>
      <!--?lit$764986503$--><button id="button" class="button" aria-label="텍스트 셀 추가">
      <!--?lit$764986503$-->
      <span class="touch"></span>
      <!--?lit$764986503$--><slot name="icon"></slot>
      <span class="label"><slot></slot></span>
      <!--?lit$764986503$-->
    
    </button>
    </template>
          <md-icon slot="icon" aria-hidden="true"><template shadowrootmode="open"><!----><slot></slot></template>add</md-icon>
          <!--?lit$764986503$-->텍스트
        </md-outlined-button>
        <!--?lit$764986503$-->
        <!--?lit$764986503$-->
      </div><hr>
    </div></div><div class="cell code notebook-cell code-has-output" id="cell-z-oqA8bcSz4B" tabindex="-1" role="region" aria-label="셀 25: 코드 셀: " style="opacity: 1;"><div class="cell-tag-editor sticky"></div><div class="agent-focus-label">
      <md-icon aria-hidden="true"><template shadowrootmode="open"><!----><slot></slot></template>spark</md-icon>
      <!--?lit$764986503$-->Gemini
    </div><div class="cell-toolbar sticky"></div><div class="main-content"><div class="cell-contents"><div class="cell-mask"></div><span class="imported-info-area"></span><div class="codecell-input-output">
      <div class="inputarea horizontal layout code">
        <div class="cell-gutter">
          <!-- Bounding range for vertical scrolling of icons -->
          <div class="cell-execution-container">
            <colab-run-button><template shadowrootmode="open"><!----> <div class="cell-execution">
      <button id="run-button" aria-describedby="run-button-tooltip" aria-label="셀 실행" aria-disabled="false">
        <span aria-hidden="true" class="cell-execution-indicator"><!--?lit$764986503$-->
<svg xmlns="http://www.w3.org/2000/svg" viewBox="0 0 24 24">
  <!--?lit$764986503$-->
  <mask id="playSymbolMask">
    <rect width="100%" height="100%" fill="white"></rect>
    <polygon points="10,8 17,12 10,16" fill="black"></polygon>
  </mask>
  <circle cx="12" cy="12" r="7.8" mask="url(#playSymbolMask)" id="filledCircle"></circle>
</svg></span>
      </button>
      <!--?lit$764986503$--><colab-tooltip-trigger for="run-button" id="run-button-tooltip" aria-hidden="true" message="셀 실행 (Ctrl+Enter)
마지막 변경 이후 실행된 셀

임민우컴퓨터공학과에 의해 실행됨
오전 11:02 (0분 전)
0.006초 내에 실행됨"><template shadowrootmode="open"><!----><!--?lit$764986503$--><!----><div><!--?lit$764986503$-->셀 실행 (Ctrl+Enter)</div><!----><!----><div><!--?lit$764986503$-->마지막 변경 이후 실행된 셀</div><!----><!----><br><!----><!----><div><!--?lit$764986503$-->임민우컴퓨터공학과에 의해 실행됨</div><!----><!----><div><!--?lit$764986503$-->오전 11:02 (0분 전)</div><!----><!----><div><!--?lit$764986503$-->0.006초 내에 실행됨</div><!----><!--?--></template>
    </colab-tooltip-trigger> <!--?lit$764986503$--><div class="status">
      <div class="execution-count"><!--?lit$764986503$-->[35]</div>
      <!--?lit$764986503$--><div class="last-run">
      <md-icon aria-hidden="true"><template shadowrootmode="open"><!----><slot></slot></template><!--?lit$764986503$-->check</md-icon>
      <div><!--?lit$764986503$-->0초</div>
    </div>
    </div>
    </div></template></colab-run-button>
          </div>
        </div>
      <div class="editor flex lazy-editor" style=""><pre tabindex="0" class="lazy-virtualized" style="font-size: 14px; line-height: 19px;"><pre class="lazy-gutter"></pre><pre class="monaco-colorized colab colab" data-lang="notebook-python"><span><span class="mtk19">from</span><span class="mtk1">&nbsp;operator&nbsp;</span><span class="mtk19">import</span><span class="mtk1">&nbsp;mul</span></span><br><span><span></span></span><br><span><span class="mtk6">def</span><span class="mtk1">&nbsp;</span><span class="mtk15">fact</span><span class="mtk1">(</span><span class="mtk16">n</span><span class="mtk1">):</span></span><br><span><span class="mtk1">&nbsp;&nbsp;</span><span class="mtk19">return</span><span class="mtk1">&nbsp;reduce(mul,&nbsp;</span><span class="mtk15">range</span><span class="mtk1">(</span><span class="mtk12">1</span><span class="mtk1">,&nbsp;n+</span><span class="mtk12">1</span><span class="mtk1">))</span></span><br><span><span></span></span><br><span><span class="mtk1">fact(</span><span class="mtk12">10</span><span class="mtk1">)</span></span><br></pre><colab-read-only-cell-placeholder style="display: none;"><template shadowrootmode="open"><!----><div><!--?lit$764986503$-->코딩을 시작하거나 AI로 코드를 <span tabindex="0" role="button" class="link">생성</span>하세요.</div></template></colab-read-only-cell-placeholder></pre></div><colab-form class="formview vertical layout flex"><div class="widget-area vertical layout"></div></colab-form></div>
    <div class="output" aria-label="셀 25 출력" role="region"><!----> <div class="output-header"> </div>
        <div class="output-content">
          <div class="output-info"><colab-output-info><template shadowrootmode="open"><!----><md-icon-button data-aria-expanded="false" data-aria-haspopup="menu" aria-describedby="button-output-actions-tooltip" data-aria-label="코드 셀 출력 작업" id="button-output-actions" value=""><template shadowrootmode="open" shadowrootdelegatesfocus><!----><button id="button" class="icon-button  standard " aria-label="코드 셀 출력 작업" aria-haspopup="menu" aria-expanded="false">
        <!--?lit$764986503$--><md-focus-ring part="focus-ring" for="button" aria-hidden="true"><template shadowrootmode="open"><!----></template></md-focus-ring>
        <!--?lit$764986503$--><md-ripple aria-hidden="true"><template shadowrootmode="open"><!----><div class="surface"></div></template></md-ripple>
        <!--?lit$764986503$--><span class="icon"><slot></slot></span>
        <!--?lit$764986503$-->
        <!--?lit$764986503$--><span class="touch"></span>
  </button></template>
        <md-icon aria-hidden="true"><template shadowrootmode="open"><!----><slot></slot></template><!--?lit$764986503$--><svg viewBox="0 0 24 24"><!--?lit$764986503$--><path d="m15.9 3.07c-4.32 0.0742-8.64-0.0355-13 0.0568-1.37 0.307-1.74 2.1-1.41 3.26 0.469 0.606 1.86 0.384 1.66-0.525 0.0448-0.329-0.183-0.93 0.354-0.766h13.3v1.53h1.71c0.0709-1.13 0.141-2.62-0.968-3.3-0.511-0.264-1.11-0.252-1.67-0.259zm2.94 6.84v4.87c1.62-1.62 3.24-3.24 4.87-4.87h-4.87zm0 0h-1.71v3.43l1.57 1.57c0.32-1.65 0.0556-3.34 0.135-5zm-1.71 3.43v-3.43h-3.43c1.14 1.14 2.29 2.29 3.43 3.43zm1.4 4.27h-1.71v1.48h-13.6v-1.48h-1.71c-0.0473 1.15-0.16 2.72 1.09 3.29 1.47 0.506 3.02 0.0265 4.53 0.192 3.34-0.0051 6.68 0.0336 10-0.0245 1.49-0.366 1.56-2.22 1.42-3.45zm-10.1-1.12c-0.398-0.483-0.796-0.967-1.19-1.45 0.59-0.683 1.18-1.37 1.77-2.05h-8.67v-2h8.67c-0.59-0.683-1.18-1.37-1.77-2.05 0.398-0.483 0.796-0.967 1.19-1.45 1.28 1.5 2.56 3 3.84 4.5-1.28 1.5-2.56 3-3.84 4.5z"></path></svg></md-icon>
      </md-icon-button>
      <colab-tooltip-trigger aria-hidden="true" id="button-output-actions-tooltip" for="button-output-actions" message="코드 셀 출력 작업"><template shadowrootmode="open"><!----><!--?lit$764986503$--><!----><div><!--?lit$764986503$-->코드 셀 출력 작업</div><!----><!--?--></template></colab-tooltip-trigger></template></colab-output-info></div>
          <div class="output-iframe-container">
            <div class="output-iframe-sizer" style="min-height: 0px;"> <div><div><colab-static-output-renderer tabindex="0" role="group"><div><div class="execute_result output-id-1 output_text"><pre>3628800</pre></div></div><div></div></colab-static-output-renderer></div></div><div><div></div></div></div>
          </div>
        </div></div><colab-cell-next-steps><template shadowrootmode="open"><!----></template></colab-cell-next-steps></div></div></div><div class="add-cell">
      <div class="add-cell-buttons">
        <md-outlined-button class="add-code add-button" data-aria-label="코드 셀 추가
Ctrl+M B" title="코드 셀 추가
Ctrl+M B" value="" has-icon=""><template shadowrootmode="open" shadowrootdelegatesfocus><!---->
      <!--?lit$764986503$--><div class="outline"></div>
      <div class="background"></div>
      <md-focus-ring part="focus-ring" for="button" aria-hidden="true"><template shadowrootmode="open"><!----></template></md-focus-ring>
      <md-ripple part="ripple" for="button" aria-hidden="true"><template shadowrootmode="open"><!----><div class="surface"></div></template></md-ripple>
      <!--?lit$764986503$--><button id="button" class="button" aria-label="코드 셀 추가
Ctrl+M B">
      <!--?lit$764986503$-->
      <span class="touch"></span>
      <!--?lit$764986503$--><slot name="icon"></slot>
      <span class="label"><slot></slot></span>
      <!--?lit$764986503$-->
    
    </button>
    </template>
          <md-icon slot="icon" aria-hidden="true"><template shadowrootmode="open"><!----><slot></slot></template>add</md-icon>
          <!--?lit$764986503$-->코드
        </md-outlined-button>
        <md-outlined-button class="add-text add-button" data-aria-label="텍스트 셀 추가" title="텍스트 셀 추가" value="" has-icon=""><template shadowrootmode="open" shadowrootdelegatesfocus><!---->
      <!--?lit$764986503$--><div class="outline"></div>
      <div class="background"></div>
      <md-focus-ring part="focus-ring" for="button" aria-hidden="true"><template shadowrootmode="open"><!----></template></md-focus-ring>
      <md-ripple part="ripple" for="button" aria-hidden="true"><template shadowrootmode="open"><!----><div class="surface   "></div></template></md-ripple>
      <!--?lit$764986503$--><button id="button" class="button" aria-label="텍스트 셀 추가">
      <!--?lit$764986503$-->
      <span class="touch"></span>
      <!--?lit$764986503$--><slot name="icon"></slot>
      <span class="label"><slot></slot></span>
      <!--?lit$764986503$-->
    
    </button>
    </template>
          <md-icon slot="icon" aria-hidden="true"><template shadowrootmode="open"><!----><slot></slot></template>add</md-icon>
          <!--?lit$764986503$-->텍스트
        </md-outlined-button>
        <!--?lit$764986503$-->
        <!--?lit$764986503$-->
      </div><hr>
    </div></div><div class="cell code notebook-cell code-has-output" id="cell-zr2tBoJ8Ti4g" tabindex="-1" role="region" aria-label="셀 26: 코드 셀: " style="opacity: 1;"><div class="cell-tag-editor sticky"></div><div class="agent-focus-label">
      <md-icon aria-hidden="true"><template shadowrootmode="open"><!----><slot></slot></template>spark</md-icon>
      <!--?lit$764986503$-->Gemini
    </div><div class="cell-toolbar sticky"></div><div class="main-content"><div class="cell-contents"><div class="cell-mask"></div><span class="imported-info-area"></span><div class="codecell-input-output">
      <div class="inputarea horizontal layout code">
        <div class="cell-gutter">
          <!-- Bounding range for vertical scrolling of icons -->
          <div class="cell-execution-container">
            <colab-run-button><template shadowrootmode="open"><!----> <div class="cell-execution">
      <button id="run-button" aria-describedby="run-button-tooltip" aria-label="셀 실행" aria-disabled="false">
        <span aria-hidden="true" class="cell-execution-indicator"><!--?lit$764986503$-->
<svg xmlns="http://www.w3.org/2000/svg" viewBox="0 0 24 24">
  <!--?lit$764986503$-->
  <mask id="playSymbolMask">
    <rect width="100%" height="100%" fill="white"></rect>
    <polygon points="10,8 17,12 10,16" fill="black"></polygon>
  </mask>
  <circle cx="12" cy="12" r="7.8" mask="url(#playSymbolMask)" id="filledCircle"></circle>
</svg></span>
      </button>
      <!--?lit$764986503$--><colab-tooltip-trigger for="run-button" id="run-button-tooltip" aria-hidden="true" message="셀 실행 (Ctrl+Enter)
마지막 변경 이후 실행된 셀

임민우컴퓨터공학과에 의해 실행됨
오전 11:04 (0분 전)
0.055초 내에 실행됨"><template shadowrootmode="open"><!----><!--?lit$764986503$--><!----><div><!--?lit$764986503$-->셀 실행 (Ctrl+Enter)</div><!----><!----><div><!--?lit$764986503$-->마지막 변경 이후 실행된 셀</div><!----><!----><br><!----><!----><div><!--?lit$764986503$-->임민우컴퓨터공학과에 의해 실행됨</div><!----><!----><div><!--?lit$764986503$-->오전 11:04 (0분 전)</div><!----><!----><div><!--?lit$764986503$-->0.055초 내에 실행됨</div><!----><!--?--></template>
    </colab-tooltip-trigger> <!--?lit$764986503$--><div class="status">
      <div class="execution-count"><!--?lit$764986503$-->[37]</div>
      <!--?lit$764986503$--><div class="last-run">
      <md-icon aria-hidden="true"><template shadowrootmode="open"><!----><slot></slot></template><!--?lit$764986503$-->check</md-icon>
      <div><!--?lit$764986503$-->0초</div>
    </div>
    </div>
    </div></template></colab-run-button>
          </div>
        </div>
      <div class="editor flex lazy-editor" style=""><pre tabindex="0" class="lazy-virtualized" style="font-size: 14px; line-height: 19px;"><pre class="lazy-gutter"></pre><pre class="monaco-colorized colab colab" data-lang="notebook-python"><span><span class="mtk1">metro_data&nbsp;=&nbsp;[</span></span><br><span><span class="mtk1">&nbsp;&nbsp;&nbsp;&nbsp;(</span><span class="mtk21">'Tokyo'</span><span class="mtk1">,&nbsp;</span><span class="mtk21">'JP'</span><span class="mtk1">,&nbsp;</span><span class="mtk12">36.933</span><span class="mtk1">,&nbsp;(</span><span class="mtk12">35.689722</span><span class="mtk1">,&nbsp;</span><span class="mtk12">139.691667</span><span class="mtk1">)),</span></span><br><span><span class="mtk1">&nbsp;&nbsp;&nbsp;&nbsp;(</span><span class="mtk21">'Delhi&nbsp;NCR'</span><span class="mtk1">,&nbsp;</span><span class="mtk21">'IN'</span><span class="mtk1">,&nbsp;</span><span class="mtk12">21.935</span><span class="mtk1">,&nbsp;(</span><span class="mtk12">28.613889</span><span class="mtk1">,&nbsp;</span><span class="mtk12">77.208889</span><span class="mtk1">)),</span></span><br><span><span class="mtk1">&nbsp;&nbsp;&nbsp;&nbsp;(</span><span class="mtk21">'Mexico&nbsp;City'</span><span class="mtk1">,&nbsp;</span><span class="mtk21">'MX'</span><span class="mtk1">,&nbsp;</span><span class="mtk12">20.142</span><span class="mtk1">,&nbsp;(</span><span class="mtk12">19.433333</span><span class="mtk1">,&nbsp;</span><span class="mtk12">-99.133333</span><span class="mtk1">)),</span></span><br><span><span class="mtk1">&nbsp;&nbsp;&nbsp;&nbsp;(</span><span class="mtk21">'New&nbsp;York-Newark'</span><span class="mtk1">,&nbsp;</span><span class="mtk21">'US'</span><span class="mtk1">,&nbsp;</span><span class="mtk12">20.104</span><span class="mtk1">,&nbsp;(</span><span class="mtk12">40.808611</span><span class="mtk1">,&nbsp;</span><span class="mtk12">-74.020386</span><span class="mtk1">)),</span></span><br><span><span class="mtk1">&nbsp;&nbsp;&nbsp;&nbsp;(</span><span class="mtk21">'Sao&nbsp;Paulo'</span><span class="mtk1">,&nbsp;</span><span class="mtk21">'BR'</span><span class="mtk1">,&nbsp;</span><span class="mtk12">19.649</span><span class="mtk1">,&nbsp;(</span><span class="mtk12">-23.547778</span><span class="mtk1">,&nbsp;</span><span class="mtk12">-46.635833</span><span class="mtk1">)),</span></span><br><span><span class="mtk1">]</span></span><br><span><span></span></span><br><span><span class="mtk19">from</span><span class="mtk1">&nbsp;operator&nbsp;</span><span class="mtk19">import</span><span class="mtk1">&nbsp;itemgetter</span></span><br><span><span class="mtk19">for</span><span class="mtk1">&nbsp;city&nbsp;</span><span class="mtk6">in</span><span class="mtk1">&nbsp;</span><span class="mtk15">sorted</span><span class="mtk1">(metro_data,&nbsp;key=itemgetter(</span><span class="mtk12">1</span><span class="mtk1">)):</span></span><br><span><span class="mtk1">&nbsp;&nbsp;</span><span class="mtk15">print</span><span class="mtk1">(city)</span></span><br></pre><colab-read-only-cell-placeholder style="display: none;"><template shadowrootmode="open"><!----><div><!--?lit$764986503$-->코딩을 시작하거나 AI로 코드를 <span tabindex="0" role="button" class="link">생성</span>하세요.</div></template></colab-read-only-cell-placeholder></pre></div><colab-form class="formview vertical layout flex"><div class="widget-area vertical layout"></div></colab-form></div>
    <div class="output" aria-label="셀 26 출력" role="region"><!----> <div class="output-header"> </div>
        <div class="output-content">
          <div class="output-info"><colab-output-info><template shadowrootmode="open"><!----><md-icon-button data-aria-expanded="false" data-aria-haspopup="menu" aria-describedby="button-output-actions-tooltip" data-aria-label="코드 셀 출력 작업" id="button-output-actions" value=""><template shadowrootmode="open" shadowrootdelegatesfocus><!----><button id="button" class="icon-button  standard " aria-label="코드 셀 출력 작업" aria-haspopup="menu" aria-expanded="false">
        <!--?lit$764986503$--><md-focus-ring part="focus-ring" for="button" aria-hidden="true"><template shadowrootmode="open"><!----></template></md-focus-ring>
        <!--?lit$764986503$--><md-ripple aria-hidden="true"><template shadowrootmode="open"><!----><div class="surface   "></div></template></md-ripple>
        <!--?lit$764986503$--><span class="icon"><slot></slot></span>
        <!--?lit$764986503$-->
        <!--?lit$764986503$--><span class="touch"></span>
  </button></template>
        <md-icon aria-hidden="true"><template shadowrootmode="open"><!----><slot></slot></template><!--?lit$764986503$--><svg viewBox="0 0 24 24"><!--?lit$764986503$--><path d="m15.9 3.07c-4.32 0.0742-8.64-0.0355-13 0.0568-1.37 0.307-1.74 2.1-1.41 3.26 0.469 0.606 1.86 0.384 1.66-0.525 0.0448-0.329-0.183-0.93 0.354-0.766h13.3v1.53h1.71c0.0709-1.13 0.141-2.62-0.968-3.3-0.511-0.264-1.11-0.252-1.67-0.259zm2.94 6.84v4.87c1.62-1.62 3.24-3.24 4.87-4.87h-4.87zm0 0h-1.71v3.43l1.57 1.57c0.32-1.65 0.0556-3.34 0.135-5zm-1.71 3.43v-3.43h-3.43c1.14 1.14 2.29 2.29 3.43 3.43zm1.4 4.27h-1.71v1.48h-13.6v-1.48h-1.71c-0.0473 1.15-0.16 2.72 1.09 3.29 1.47 0.506 3.02 0.0265 4.53 0.192 3.34-0.0051 6.68 0.0336 10-0.0245 1.49-0.366 1.56-2.22 1.42-3.45zm-10.1-1.12c-0.398-0.483-0.796-0.967-1.19-1.45 0.59-0.683 1.18-1.37 1.77-2.05h-8.67v-2h8.67c-0.59-0.683-1.18-1.37-1.77-2.05 0.398-0.483 0.796-0.967 1.19-1.45 1.28 1.5 2.56 3 3.84 4.5-1.28 1.5-2.56 3-3.84 4.5z"></path></svg></md-icon>
      </md-icon-button>
      <colab-tooltip-trigger aria-hidden="true" id="button-output-actions-tooltip" for="button-output-actions" message="코드 셀 출력 작업"><template shadowrootmode="open"><!----><!--?lit$764986503$--><!----><div><!--?lit$764986503$-->코드 셀 출력 작업</div><!----><!--?--></template></colab-tooltip-trigger></template></colab-output-info></div>
          <div class="output-iframe-container">
            <div class="output-iframe-sizer" style="min-height: 0px;"> <div><div><colab-static-output-renderer tabindex="0" role="group"><div><div class="stream output-id-1 output_text"><pre>('Sao Paulo', 'BR', 19.649, (-23.547778, -46.635833))
('Delhi NCR', 'IN', 21.935, (28.613889, 77.208889))
('Tokyo', 'JP', 36.933, (35.689722, 139.691667))
('Mexico City', 'MX', 20.142, (19.433333, -99.133333))
('New York-Newark', 'US', 20.104, (40.808611, -74.020386))
</pre></div></div><div></div></colab-static-output-renderer></div></div><div><div></div></div></div>
          </div>
        </div></div><colab-cell-next-steps><template shadowrootmode="open"><!----></template></colab-cell-next-steps></div></div></div><div class="add-cell">
      <div class="add-cell-buttons">
        <md-outlined-button class="add-code add-button" data-aria-label="코드 셀 추가
Ctrl+M B" title="코드 셀 추가
Ctrl+M B" value="" has-icon=""><template shadowrootmode="open" shadowrootdelegatesfocus><!---->
      <!--?lit$764986503$--><div class="outline"></div>
      <div class="background"></div>
      <md-focus-ring part="focus-ring" for="button" aria-hidden="true"><template shadowrootmode="open"><!----></template></md-focus-ring>
      <md-ripple part="ripple" for="button" aria-hidden="true"><template shadowrootmode="open"><!----><div class="surface"></div></template></md-ripple>
      <!--?lit$764986503$--><button id="button" class="button" aria-label="코드 셀 추가
Ctrl+M B">
      <!--?lit$764986503$-->
      <span class="touch"></span>
      <!--?lit$764986503$--><slot name="icon"></slot>
      <span class="label"><slot></slot></span>
      <!--?lit$764986503$-->
    
    </button>
    </template>
          <md-icon slot="icon" aria-hidden="true"><template shadowrootmode="open"><!----><slot></slot></template>add</md-icon>
          <!--?lit$764986503$-->코드
        </md-outlined-button>
        <md-outlined-button class="add-text add-button" data-aria-label="텍스트 셀 추가" title="텍스트 셀 추가" value="" has-icon=""><template shadowrootmode="open" shadowrootdelegatesfocus><!---->
      <!--?lit$764986503$--><div class="outline"></div>
      <div class="background"></div>
      <md-focus-ring part="focus-ring" for="button" aria-hidden="true"><template shadowrootmode="open"><!----></template></md-focus-ring>
      <md-ripple part="ripple" for="button" aria-hidden="true"><template shadowrootmode="open"><!----><div class="surface   "></div></template></md-ripple>
      <!--?lit$764986503$--><button id="button" class="button" aria-label="텍스트 셀 추가">
      <!--?lit$764986503$-->
      <span class="touch"></span>
      <!--?lit$764986503$--><slot name="icon"></slot>
      <span class="label"><slot></slot></span>
      <!--?lit$764986503$-->
    
    </button>
    </template>
          <md-icon slot="icon" aria-hidden="true"><template shadowrootmode="open"><!----><slot></slot></template>add</md-icon>
          <!--?lit$764986503$-->텍스트
        </md-outlined-button>
        <!--?lit$764986503$-->
        <!--?lit$764986503$-->
      </div><hr>
    </div></div><div class="cell code notebook-cell code-has-output" id="cell-8Xe1ZYhqTi6g" tabindex="-1" role="region" aria-label="셀 27: 코드 셀: " style="opacity: 1;"><div class="cell-tag-editor sticky"></div><div class="agent-focus-label">
      <md-icon aria-hidden="true"><template shadowrootmode="open"><!----><slot></slot></template>spark</md-icon>
      <!--?lit$764986503$-->Gemini
    </div><div class="cell-toolbar sticky"></div><div class="main-content"><div class="cell-contents"><div class="cell-mask"></div><span class="imported-info-area"></span><div class="codecell-input-output">
      <div class="inputarea horizontal layout code">
        <div class="cell-gutter">
          <!-- Bounding range for vertical scrolling of icons -->
          <div class="cell-execution-container">
            <colab-run-button><template shadowrootmode="open"><!----> <div class="cell-execution">
      <button id="run-button" aria-describedby="run-button-tooltip" aria-label="셀 실행" aria-disabled="false">
        <span aria-hidden="true" class="cell-execution-indicator"><!--?lit$764986503$-->
<svg xmlns="http://www.w3.org/2000/svg" viewBox="0 0 24 24">
  <!--?lit$764986503$-->
  <mask id="playSymbolMask">
    <rect width="100%" height="100%" fill="white"></rect>
    <polygon points="10,8 17,12 10,16" fill="black"></polygon>
  </mask>
  <circle cx="12" cy="12" r="7.8" mask="url(#playSymbolMask)" id="filledCircle"></circle>
</svg></span>
      </button>
      <!--?lit$764986503$--><colab-tooltip-trigger for="run-button" id="run-button-tooltip" aria-hidden="true" message="셀 실행 (Ctrl+Enter)
마지막 변경 이후 실행된 셀

임민우컴퓨터공학과에 의해 실행됨
오전 11:04 (0분 전)
0.007초 내에 실행됨"><template shadowrootmode="open"><!----><!--?lit$764986503$--><!----><div><!--?lit$764986503$-->셀 실행 (Ctrl+Enter)</div><!----><!----><div><!--?lit$764986503$-->마지막 변경 이후 실행된 셀</div><!----><!----><br><!----><!----><div><!--?lit$764986503$-->임민우컴퓨터공학과에 의해 실행됨</div><!----><!----><div><!--?lit$764986503$-->오전 11:04 (0분 전)</div><!----><!----><div><!--?lit$764986503$-->0.007초 내에 실행됨</div><!----><!--?--></template>
    </colab-tooltip-trigger> <!--?lit$764986503$--><div class="status">
      <div class="execution-count"><!--?lit$764986503$-->[38]</div>
      <!--?lit$764986503$--><div class="last-run">
      <md-icon aria-hidden="true"><template shadowrootmode="open"><!----><slot></slot></template><!--?lit$764986503$-->check</md-icon>
      <div><!--?lit$764986503$-->0초</div>
    </div>
    </div>
    </div></template></colab-run-button>
          </div>
        </div>
      <div class="editor flex lazy-editor" style=""><pre tabindex="0" class="lazy-virtualized" style="font-size: 14px; line-height: 19px;"><pre class="lazy-gutter"></pre><pre class="monaco-colorized colab colab" data-lang="notebook-python"><span><span class="mtk1">cc_name&nbsp;=&nbsp;itemgetter(</span><span class="mtk12">1</span><span class="mtk1">,&nbsp;</span><span class="mtk12">0</span><span class="mtk1">)</span></span><br><span><span class="mtk19">for</span><span class="mtk1">&nbsp;city&nbsp;</span><span class="mtk6">in</span><span class="mtk1">&nbsp;metro_data:</span></span><br><span><span class="mtk1">&nbsp;&nbsp;</span><span class="mtk15">print</span><span class="mtk1">(cc_name(city))</span></span><br></pre><colab-read-only-cell-placeholder style="display: none;"><template shadowrootmode="open"><!----><div><!--?lit$764986503$-->코딩을 시작하거나 AI로 코드를 <span tabindex="0" role="button" class="link">생성</span>하세요.</div></template></colab-read-only-cell-placeholder></pre></div><colab-form class="formview vertical layout flex"><div class="widget-area vertical layout"></div></colab-form></div>
    <div class="output" aria-label="셀 27 출력" role="region"><!----> <div class="output-header"> </div>
        <div class="output-content">
          <div class="output-info"><colab-output-info><template shadowrootmode="open"><!----><md-icon-button data-aria-expanded="false" data-aria-haspopup="menu" aria-describedby="button-output-actions-tooltip" data-aria-label="코드 셀 출력 작업" id="button-output-actions" value=""><template shadowrootmode="open" shadowrootdelegatesfocus><!----><button id="button" class="icon-button  standard " aria-label="코드 셀 출력 작업" aria-haspopup="menu" aria-expanded="false">
        <!--?lit$764986503$--><md-focus-ring part="focus-ring" for="button" aria-hidden="true"><template shadowrootmode="open"><!----></template></md-focus-ring>
        <!--?lit$764986503$--><md-ripple aria-hidden="true"><template shadowrootmode="open"><!----><div class="surface   "></div></template></md-ripple>
        <!--?lit$764986503$--><span class="icon"><slot></slot></span>
        <!--?lit$764986503$-->
        <!--?lit$764986503$--><span class="touch"></span>
  </button></template>
        <md-icon aria-hidden="true"><template shadowrootmode="open"><!----><slot></slot></template><!--?lit$764986503$--><svg viewBox="0 0 24 24"><!--?lit$764986503$--><path d="m15.9 3.07c-4.32 0.0742-8.64-0.0355-13 0.0568-1.37 0.307-1.74 2.1-1.41 3.26 0.469 0.606 1.86 0.384 1.66-0.525 0.0448-0.329-0.183-0.93 0.354-0.766h13.3v1.53h1.71c0.0709-1.13 0.141-2.62-0.968-3.3-0.511-0.264-1.11-0.252-1.67-0.259zm2.94 6.84v4.87c1.62-1.62 3.24-3.24 4.87-4.87h-4.87zm0 0h-1.71v3.43l1.57 1.57c0.32-1.65 0.0556-3.34 0.135-5zm-1.71 3.43v-3.43h-3.43c1.14 1.14 2.29 2.29 3.43 3.43zm1.4 4.27h-1.71v1.48h-13.6v-1.48h-1.71c-0.0473 1.15-0.16 2.72 1.09 3.29 1.47 0.506 3.02 0.0265 4.53 0.192 3.34-0.0051 6.68 0.0336 10-0.0245 1.49-0.366 1.56-2.22 1.42-3.45zm-10.1-1.12c-0.398-0.483-0.796-0.967-1.19-1.45 0.59-0.683 1.18-1.37 1.77-2.05h-8.67v-2h8.67c-0.59-0.683-1.18-1.37-1.77-2.05 0.398-0.483 0.796-0.967 1.19-1.45 1.28 1.5 2.56 3 3.84 4.5-1.28 1.5-2.56 3-3.84 4.5z"></path></svg></md-icon>
      </md-icon-button>
      <colab-tooltip-trigger aria-hidden="true" id="button-output-actions-tooltip" for="button-output-actions" message="코드 셀 출력 작업"><template shadowrootmode="open"><!----><!--?lit$764986503$--><!----><div><!--?lit$764986503$-->코드 셀 출력 작업</div><!----><!--?--></template></colab-tooltip-trigger></template></colab-output-info></div>
          <div class="output-iframe-container">
            <div class="output-iframe-sizer" style="min-height: 0px;"> <div><div><colab-static-output-renderer tabindex="0" role="group"><div><div class="stream output-id-1 output_text"><pre>('JP', 'Tokyo')
('IN', 'Delhi NCR')
('MX', 'Mexico City')
('US', 'New York-Newark')
('BR', 'Sao Paulo')
</pre></div></div><div></div></colab-static-output-renderer></div></div><div><div></div></div></div>
          </div>
        </div></div><colab-cell-next-steps><template shadowrootmode="open"><!----></template></colab-cell-next-steps></div></div></div><div class="add-cell">
      <div class="add-cell-buttons">
        <md-outlined-button class="add-code add-button" data-aria-label="코드 셀 추가
Ctrl+M B" title="코드 셀 추가
Ctrl+M B" value="" has-icon=""><template shadowrootmode="open" shadowrootdelegatesfocus><!---->
      <!--?lit$764986503$--><div class="outline"></div>
      <div class="background"></div>
      <md-focus-ring part="focus-ring" for="button" aria-hidden="true"><template shadowrootmode="open"><!----></template></md-focus-ring>
      <md-ripple part="ripple" for="button" aria-hidden="true"><template shadowrootmode="open"><!----><div class="surface   "></div></template></md-ripple>
      <!--?lit$764986503$--><button id="button" class="button" aria-label="코드 셀 추가
Ctrl+M B">
      <!--?lit$764986503$-->
      <span class="touch"></span>
      <!--?lit$764986503$--><slot name="icon"></slot>
      <span class="label"><slot></slot></span>
      <!--?lit$764986503$-->
    
    </button>
    </template>
          <md-icon slot="icon" aria-hidden="true"><template shadowrootmode="open"><!----><slot></slot></template>add</md-icon>
          <!--?lit$764986503$-->코드
        </md-outlined-button>
        <md-outlined-button class="add-text add-button" data-aria-label="텍스트 셀 추가" title="텍스트 셀 추가" value="" has-icon=""><template shadowrootmode="open" shadowrootdelegatesfocus><!---->
      <!--?lit$764986503$--><div class="outline"></div>
      <div class="background"></div>
      <md-focus-ring part="focus-ring" for="button" aria-hidden="true"><template shadowrootmode="open"><!----></template></md-focus-ring>
      <md-ripple part="ripple" for="button" aria-hidden="true"><template shadowrootmode="open"><!----><div class="surface   "></div></template></md-ripple>
      <!--?lit$764986503$--><button id="button" class="button" aria-label="텍스트 셀 추가">
      <!--?lit$764986503$-->
      <span class="touch"></span>
      <!--?lit$764986503$--><slot name="icon"></slot>
      <span class="label"><slot></slot></span>
      <!--?lit$764986503$-->
    
    </button>
    </template>
          <md-icon slot="icon" aria-hidden="true"><template shadowrootmode="open"><!----><slot></slot></template>add</md-icon>
          <!--?lit$764986503$-->텍스트
        </md-outlined-button>
        <!--?lit$764986503$-->
        <!--?lit$764986503$-->
      </div><hr>
    </div></div><div class="cell code notebook-cell code-has-output" id="cell-BiaGCgyKTi8w" tabindex="-1" role="region" aria-label="셀 28: 코드 셀: " style="opacity: 1;"><div class="cell-tag-editor sticky"></div><div class="agent-focus-label">
      <md-icon aria-hidden="true"><template shadowrootmode="open"><!----><slot></slot></template>spark</md-icon>
      <!--?lit$764986503$-->Gemini
    </div><div class="cell-toolbar sticky"></div><div class="main-content"><div class="cell-contents"><div class="cell-mask"></div><span class="imported-info-area"></span><div class="codecell-input-output">
      <div class="inputarea horizontal layout code">
        <div class="cell-gutter">
          <!-- Bounding range for vertical scrolling of icons -->
          <div class="cell-execution-container">
            <colab-run-button><template shadowrootmode="open"><!----> <div class="cell-execution">
      <button id="run-button" aria-describedby="run-button-tooltip" aria-label="셀 실행" aria-disabled="false">
        <span aria-hidden="true" class="cell-execution-indicator"><!--?lit$764986503$-->
<svg xmlns="http://www.w3.org/2000/svg" viewBox="0 0 24 24">
  <!--?lit$764986503$-->
  <mask id="playSymbolMask">
    <rect width="100%" height="100%" fill="white"></rect>
    <polygon points="10,8 17,12 10,16" fill="black"></polygon>
  </mask>
  <circle cx="12" cy="12" r="7.8" mask="url(#playSymbolMask)" id="filledCircle"></circle>
</svg></span>
      </button>
      <!--?lit$764986503$--><colab-tooltip-trigger for="run-button" id="run-button-tooltip" aria-hidden="true" message="셀 실행 (Ctrl+Enter)
마지막 변경 이후 실행된 셀

임민우컴퓨터공학과에 의해 실행됨
오전 11:05 (0분 전)
0.004초 내에 실행됨"><template shadowrootmode="open"><!----><!--?lit$764986503$--><!----><div><!--?lit$764986503$-->셀 실행 (Ctrl+Enter)</div><!----><!----><div><!--?lit$764986503$-->마지막 변경 이후 실행된 셀</div><!----><!----><br><!----><!----><div><!--?lit$764986503$-->임민우컴퓨터공학과에 의해 실행됨</div><!----><!----><div><!--?lit$764986503$-->오전 11:05 (0분 전)</div><!----><!----><div><!--?lit$764986503$-->0.004초 내에 실행됨</div><!----><!--?--></template>
    </colab-tooltip-trigger> <!--?lit$764986503$--><div class="status">
      <div class="execution-count"><!--?lit$764986503$-->[40]</div>
      <!--?lit$764986503$--><div class="last-run">
      <md-icon aria-hidden="true"><template shadowrootmode="open"><!----><slot></slot></template><!--?lit$764986503$-->check</md-icon>
      <div><!--?lit$764986503$-->0초</div>
    </div>
    </div>
    </div></template></colab-run-button>
          </div>
        </div>
      <div class="editor flex lazy-editor" style=""><pre tabindex="0" class="lazy-virtualized" style="font-size: 14px; line-height: 19px;"><pre class="lazy-gutter"></pre><pre class="monaco-colorized colab colab" data-lang="notebook-python"><span><span class="mtk19">from</span><span class="mtk1">&nbsp;collections&nbsp;</span><span class="mtk19">import</span><span class="mtk1">&nbsp;namedtuple</span></span><br><span><span class="mtk1">LatLong&nbsp;=&nbsp;namedtuple(</span><span class="mtk21">'LatLong'</span><span class="mtk1">,&nbsp;</span><span class="mtk21">'lat&nbsp;long'</span><span class="mtk1">)&nbsp;</span></span><br><span><span class="mtk1">Metropolis&nbsp;=&nbsp;namedtuple(</span><span class="mtk21">'Metropolis'</span><span class="mtk1">,&nbsp;</span><span class="mtk21">'name&nbsp;cc&nbsp;pop&nbsp;coord'</span><span class="mtk1">)</span></span><br><span><span class="mtk1">metro_areas&nbsp;=&nbsp;[Metropolis(name,&nbsp;cc,&nbsp;pop,&nbsp;LatLong(l</span><span class="mtk1">at,&nbsp;</span><span class="mtk16">long</span><span class="mtk1">))</span></span><br><span><span class="mtk1">&nbsp;&nbsp;&nbsp;&nbsp;&nbsp;&nbsp;&nbsp;&nbsp;&nbsp;&nbsp;&nbsp;&nbsp;&nbsp;&nbsp;&nbsp;</span><span class="mtk19">for</span><span class="mtk1">&nbsp;name,&nbsp;cc,&nbsp;pop,&nbsp;(lat,&nbsp;</span><span class="mtk16">long</span><span class="mtk1">)&nbsp;</span><span class="mtk6">in</span><span class="mtk1">&nbsp;metro_data]</span></span><br><span><span class="mtk15">print</span><span class="mtk1">(metro_areas[</span><span class="mtk12">0</span><span class="mtk1">])</span></span><br><span><span class="mtk15">print</span><span class="mtk1">(metro_areas[</span><span class="mtk12">0</span><span class="mtk1">].coord.lat)</span></span><br><span><span></span></span><br><span><span class="mtk19">from</span><span class="mtk1">&nbsp;operator&nbsp;</span><span class="mtk19">import</span><span class="mtk1">&nbsp;attrgetter</span></span><br><span><span class="mtk1">name_lat&nbsp;=&nbsp;attrgetter(</span><span class="mtk21">'name'</span><span class="mtk1">,&nbsp;</span><span class="mtk21">'coord.lat'</span><span class="mtk1">)</span></span><br><span><span></span></span><br><span><span class="mtk15">print</span><span class="mtk1">(name_lat(metro_areas[</span><span class="mtk12">0</span><span class="mtk1">]))</span></span><br></pre><colab-read-only-cell-placeholder style="display: none;"><template shadowrootmode="open"><!----><div><!--?lit$764986503$-->코딩을 시작하거나 AI로 코드를 <span tabindex="0" role="button" class="link">생성</span>하세요.</div></template></colab-read-only-cell-placeholder></pre></div><colab-form class="formview vertical layout flex"><div class="widget-area vertical layout"></div></colab-form></div>
    <div class="output" aria-label="셀 28 출력" role="region"><!----> <div class="output-header"> </div>
        <div class="output-content">
          <div class="output-info"><colab-output-info><template shadowrootmode="open"><!----><md-icon-button data-aria-expanded="false" data-aria-haspopup="menu" aria-describedby="button-output-actions-tooltip" data-aria-label="코드 셀 출력 작업" id="button-output-actions" value=""><template shadowrootmode="open" shadowrootdelegatesfocus><!----><button id="button" class="icon-button  standard " aria-label="코드 셀 출력 작업" aria-haspopup="menu" aria-expanded="false">
        <!--?lit$764986503$--><md-focus-ring part="focus-ring" for="button" aria-hidden="true"><template shadowrootmode="open"><!----></template></md-focus-ring>
        <!--?lit$764986503$--><md-ripple aria-hidden="true"><template shadowrootmode="open"><!----><div class="surface   "></div></template></md-ripple>
        <!--?lit$764986503$--><span class="icon"><slot></slot></span>
        <!--?lit$764986503$-->
        <!--?lit$764986503$--><span class="touch"></span>
  </button></template>
        <md-icon aria-hidden="true"><template shadowrootmode="open"><!----><slot></slot></template><!--?lit$764986503$--><svg viewBox="0 0 24 24"><!--?lit$764986503$--><path d="m15.9 3.07c-4.32 0.0742-8.64-0.0355-13 0.0568-1.37 0.307-1.74 2.1-1.41 3.26 0.469 0.606 1.86 0.384 1.66-0.525 0.0448-0.329-0.183-0.93 0.354-0.766h13.3v1.53h1.71c0.0709-1.13 0.141-2.62-0.968-3.3-0.511-0.264-1.11-0.252-1.67-0.259zm2.94 6.84v4.87c1.62-1.62 3.24-3.24 4.87-4.87h-4.87zm0 0h-1.71v3.43l1.57 1.57c0.32-1.65 0.0556-3.34 0.135-5zm-1.71 3.43v-3.43h-3.43c1.14 1.14 2.29 2.29 3.43 3.43zm1.4 4.27h-1.71v1.48h-13.6v-1.48h-1.71c-0.0473 1.15-0.16 2.72 1.09 3.29 1.47 0.506 3.02 0.0265 4.53 0.192 3.34-0.0051 6.68 0.0336 10-0.0245 1.49-0.366 1.56-2.22 1.42-3.45zm-10.1-1.12c-0.398-0.483-0.796-0.967-1.19-1.45 0.59-0.683 1.18-1.37 1.77-2.05h-8.67v-2h8.67c-0.59-0.683-1.18-1.37-1.77-2.05 0.398-0.483 0.796-0.967 1.19-1.45 1.28 1.5 2.56 3 3.84 4.5-1.28 1.5-2.56 3-3.84 4.5z"></path></svg></md-icon>
      </md-icon-button>
      <colab-tooltip-trigger aria-hidden="true" id="button-output-actions-tooltip" for="button-output-actions" message="코드 셀 출력 작업"><template shadowrootmode="open"><!----><!--?lit$764986503$--><!----><div><!--?lit$764986503$-->코드 셀 출력 작업</div><!----><!--?--></template></colab-tooltip-trigger></template></colab-output-info></div>
          <div class="output-iframe-container">
            <div class="output-iframe-sizer" style="min-height: 0px;"> <div><div><colab-static-output-renderer tabindex="0" role="group"><div><div class="stream output-id-1 output_text"><pre>Metropolis(name='Tokyo', cc='JP', pop=36.933, coord=LatLong(lat=35.689722, long=139.691667))
35.689722
('Tokyo', 35.689722)
</pre></div></div><div></div></colab-static-output-renderer></div></div><div><div></div></div></div>
          </div>
        </div></div><colab-cell-next-steps><template shadowrootmode="open"><!----></template></colab-cell-next-steps></div></div></div><div class="add-cell">
      <div class="add-cell-buttons">
        <md-outlined-button class="add-code add-button" data-aria-label="코드 셀 추가
Ctrl+M B" title="코드 셀 추가
Ctrl+M B" value="" has-icon=""><template shadowrootmode="open" shadowrootdelegatesfocus><!---->
      <!--?lit$764986503$--><div class="outline"></div>
      <div class="background"></div>
      <md-focus-ring part="focus-ring" for="button" aria-hidden="true"><template shadowrootmode="open"><!----></template></md-focus-ring>
      <md-ripple part="ripple" for="button" aria-hidden="true"><template shadowrootmode="open"><!----><div class="surface   "></div></template></md-ripple>
      <!--?lit$764986503$--><button id="button" class="button" aria-label="코드 셀 추가
Ctrl+M B">
      <!--?lit$764986503$-->
      <span class="touch"></span>
      <!--?lit$764986503$--><slot name="icon"></slot>
      <span class="label"><slot></slot></span>
      <!--?lit$764986503$-->
    
    </button>
    </template>
          <md-icon slot="icon" aria-hidden="true"><template shadowrootmode="open"><!----><slot></slot></template>add</md-icon>
          <!--?lit$764986503$-->코드
        </md-outlined-button>
        <md-outlined-button class="add-text add-button" data-aria-label="텍스트 셀 추가" title="텍스트 셀 추가" value="" has-icon=""><template shadowrootmode="open" shadowrootdelegatesfocus><!---->
      <!--?lit$764986503$--><div class="outline"></div>
      <div class="background"></div>
      <md-focus-ring part="focus-ring" for="button" aria-hidden="true"><template shadowrootmode="open"><!----></template></md-focus-ring>
      <md-ripple part="ripple" for="button" aria-hidden="true"><template shadowrootmode="open"><!----><div class="surface   "></div></template></md-ripple>
      <!--?lit$764986503$--><button id="button" class="button" aria-label="텍스트 셀 추가">
      <!--?lit$764986503$-->
      <span class="touch"></span>
      <!--?lit$764986503$--><slot name="icon"></slot>
      <span class="label"><slot></slot></span>
      <!--?lit$764986503$-->
    
    </button>
    </template>
          <md-icon slot="icon" aria-hidden="true"><template shadowrootmode="open"><!----><slot></slot></template>add</md-icon>
          <!--?lit$764986503$-->텍스트
        </md-outlined-button>
        <!--?lit$764986503$-->
        <!--?lit$764986503$-->
      </div><hr>
    </div></div><div class="cell code notebook-cell code-has-output" id="cell-0fYaamViTi-o" tabindex="-1" role="region" aria-label="셀 29: 코드 셀: " style="opacity: 1;"><div class="cell-tag-editor sticky"></div><div class="agent-focus-label">
      <md-icon aria-hidden="true"><template shadowrootmode="open"><!----><slot></slot></template>spark</md-icon>
      <!--?lit$764986503$-->Gemini
    </div><div class="cell-toolbar sticky"></div><div class="main-content"><div class="cell-contents"><div class="cell-mask"></div><span class="imported-info-area"></span><div class="codecell-input-output">
      <div class="inputarea horizontal layout code">
        <div class="cell-gutter">
          <!-- Bounding range for vertical scrolling of icons -->
          <div class="cell-execution-container">
            <colab-run-button><template shadowrootmode="open"><!----> <div class="cell-execution">
      <button id="run-button" aria-describedby="run-button-tooltip" aria-label="셀 실행" aria-disabled="false">
        <span aria-hidden="true" class="cell-execution-indicator"><!--?lit$764986503$-->
<svg xmlns="http://www.w3.org/2000/svg" viewBox="0 0 24 24">
  <!--?lit$764986503$-->
  <mask id="playSymbolMask">
    <rect width="100%" height="100%" fill="white"></rect>
    <polygon points="10,8 17,12 10,16" fill="black"></polygon>
  </mask>
  <circle cx="12" cy="12" r="7.8" mask="url(#playSymbolMask)" id="filledCircle"></circle>
</svg></span>
      </button>
      <!--?lit$764986503$--><colab-tooltip-trigger for="run-button" id="run-button-tooltip" aria-hidden="true" message="셀 실행 (Ctrl+Enter)
마지막 변경 이후 실행된 셀

임민우컴퓨터공학과에 의해 실행됨
오전 11:06 (0분 전)
0.01초 내에 실행됨"><template shadowrootmode="open"><!----><!--?lit$764986503$--><!----><div><!--?lit$764986503$-->셀 실행 (Ctrl+Enter)</div><!----><!----><div><!--?lit$764986503$-->마지막 변경 이후 실행된 셀</div><!----><!----><br><!----><!----><div><!--?lit$764986503$-->임민우컴퓨터공학과에 의해 실행됨</div><!----><!----><div><!--?lit$764986503$-->오전 11:06 (0분 전)</div><!----><!----><div><!--?lit$764986503$-->0.01초 내에 실행됨</div><!----><!--?--></template>
    </colab-tooltip-trigger> <!--?lit$764986503$--><div class="status">
      <div class="execution-count"><!--?lit$764986503$-->[42]</div>
      <!--?lit$764986503$--><div class="last-run">
      <md-icon aria-hidden="true"><template shadowrootmode="open"><!----><slot></slot></template><!--?lit$764986503$-->check</md-icon>
      <div><!--?lit$764986503$-->0초</div>
    </div>
    </div>
    </div></template></colab-run-button>
          </div>
        </div>
      <div class="editor flex lazy-editor" style=""><pre tabindex="0" class="lazy-virtualized" style="font-size: 14px; line-height: 19px;"><pre class="lazy-gutter"></pre><pre class="monaco-colorized colab colab colab colab" data-lang="notebook-python"><span><span class="mtk19">for</span><span class="mtk1">&nbsp;city&nbsp;</span><span class="mtk6">in</span><span class="mtk1">&nbsp;</span><span class="mtk15">sorted</span><span class="mtk1">(metro_areas,&nbsp;key=attrgetter(</span><span class="mtk21">'coord.lat'</span><span class="mtk1">)):</span></span><br><span><span class="mtk1">&nbsp;&nbsp;</span><span class="mtk15">print</span><span class="mtk1">(name_lat(city))&nbsp;</span></span><br><span><span></span></span><br><span><span class="mtk1">metro_areas2&nbsp;=&nbsp;[Metropolis(name,&nbsp;cc,&nbsp;pop,&nbsp;LatLong(</span><span class="mtk1">*loc))</span></span><br><span><span class="mtk1">&nbsp;&nbsp;&nbsp;&nbsp;&nbsp;&nbsp;&nbsp;&nbsp;&nbsp;&nbsp;&nbsp;&nbsp;&nbsp;&nbsp;&nbsp;</span><span class="mtk19">for</span><span class="mtk1">&nbsp;name,&nbsp;cc,&nbsp;pop,&nbsp;loc&nbsp;</span><span class="mtk6">in</span><span class="mtk1">&nbsp;metro_data]</span></span><br><span><span class="mtk15">print</span><span class="mtk1">(metro_areas2[</span><span class="mtk12">0</span><span class="mtk1">])</span></span><br></pre><colab-read-only-cell-placeholder style="display: none;"><template shadowrootmode="open"><!----><div><!--?lit$764986503$-->코딩을 시작하거나 AI로 코드를 <span tabindex="0" role="button" class="link">생성</span>하세요.</div></template></colab-read-only-cell-placeholder></pre></div><colab-form class="formview vertical layout flex"><div class="widget-area vertical layout"></div></colab-form></div>
    <div class="output" aria-label="셀 29 출력" role="region"><!----> <div class="output-header"> </div>
        <div class="output-content">
          <div class="output-info"><colab-output-info><template shadowrootmode="open"><!----><md-icon-button data-aria-expanded="false" data-aria-haspopup="menu" aria-describedby="button-output-actions-tooltip" data-aria-label="코드 셀 출력 작업" id="button-output-actions" value=""><template shadowrootmode="open" shadowrootdelegatesfocus><!----><button id="button" class="icon-button  standard " aria-label="코드 셀 출력 작업" aria-haspopup="menu" aria-expanded="false">
        <!--?lit$764986503$--><md-focus-ring part="focus-ring" for="button" aria-hidden="true"><template shadowrootmode="open"><!----></template></md-focus-ring>
        <!--?lit$764986503$--><md-ripple aria-hidden="true"><template shadowrootmode="open"><!----><div class="surface"></div></template></md-ripple>
        <!--?lit$764986503$--><span class="icon"><slot></slot></span>
        <!--?lit$764986503$-->
        <!--?lit$764986503$--><span class="touch"></span>
  </button></template>
        <md-icon aria-hidden="true"><template shadowrootmode="open"><!----><slot></slot></template><!--?lit$764986503$--><svg viewBox="0 0 24 24"><!--?lit$764986503$--><path d="m15.9 3.07c-4.32 0.0742-8.64-0.0355-13 0.0568-1.37 0.307-1.74 2.1-1.41 3.26 0.469 0.606 1.86 0.384 1.66-0.525 0.0448-0.329-0.183-0.93 0.354-0.766h13.3v1.53h1.71c0.0709-1.13 0.141-2.62-0.968-3.3-0.511-0.264-1.11-0.252-1.67-0.259zm2.94 6.84v4.87c1.62-1.62 3.24-3.24 4.87-4.87h-4.87zm0 0h-1.71v3.43l1.57 1.57c0.32-1.65 0.0556-3.34 0.135-5zm-1.71 3.43v-3.43h-3.43c1.14 1.14 2.29 2.29 3.43 3.43zm1.4 4.27h-1.71v1.48h-13.6v-1.48h-1.71c-0.0473 1.15-0.16 2.72 1.09 3.29 1.47 0.506 3.02 0.0265 4.53 0.192 3.34-0.0051 6.68 0.0336 10-0.0245 1.49-0.366 1.56-2.22 1.42-3.45zm-10.1-1.12c-0.398-0.483-0.796-0.967-1.19-1.45 0.59-0.683 1.18-1.37 1.77-2.05h-8.67v-2h8.67c-0.59-0.683-1.18-1.37-1.77-2.05 0.398-0.483 0.796-0.967 1.19-1.45 1.28 1.5 2.56 3 3.84 4.5-1.28 1.5-2.56 3-3.84 4.5z"></path></svg></md-icon>
      </md-icon-button>
      <colab-tooltip-trigger aria-hidden="true" id="button-output-actions-tooltip" for="button-output-actions" message="코드 셀 출력 작업"><template shadowrootmode="open"><!----><!--?lit$764986503$--><!----><div><!--?lit$764986503$-->코드 셀 출력 작업</div><!----><!--?--></template></colab-tooltip-trigger></template></colab-output-info></div>
          <div class="output-iframe-container">
            <div class="output-iframe-sizer" style="min-height: 0px;"> <div><div><colab-static-output-renderer tabindex="0" role="group"><div><div class="stream output-id-1 output_text"><pre>('Sao Paulo', -23.547778)
('Mexico City', 19.433333)
('Delhi NCR', 28.613889)
('Tokyo', 35.689722)
('New York-Newark', 40.808611)
Metropolis(name='Tokyo', cc='JP', pop=36.933, coord=LatLong(lat=35.689722, long=139.691667))
</pre></div></div><div></div></colab-static-output-renderer></div></div><div><div></div></div></div>
          </div>
        </div></div><colab-cell-next-steps><template shadowrootmode="open"><!----></template></colab-cell-next-steps></div></div></div><div class="add-cell">
      <div class="add-cell-buttons">
        <md-outlined-button class="add-code add-button" data-aria-label="코드 셀 추가
Ctrl+M B" title="코드 셀 추가
Ctrl+M B" value="" has-icon=""><template shadowrootmode="open" shadowrootdelegatesfocus><!---->
      <!--?lit$764986503$--><div class="outline"></div>
      <div class="background"></div>
      <md-focus-ring part="focus-ring" for="button" aria-hidden="true"><template shadowrootmode="open"><!----></template></md-focus-ring>
      <md-ripple part="ripple" for="button" aria-hidden="true"><template shadowrootmode="open"><!----><div class="surface   "></div></template></md-ripple>
      <!--?lit$764986503$--><button id="button" class="button" aria-label="코드 셀 추가
Ctrl+M B">
      <!--?lit$764986503$-->
      <span class="touch"></span>
      <!--?lit$764986503$--><slot name="icon"></slot>
      <span class="label"><slot></slot></span>
      <!--?lit$764986503$-->
    
    </button>
    </template>
          <md-icon slot="icon" aria-hidden="true"><template shadowrootmode="open"><!----><slot></slot></template>add</md-icon>
          <!--?lit$764986503$-->코드
        </md-outlined-button>
        <md-outlined-button class="add-text add-button" data-aria-label="텍스트 셀 추가" title="텍스트 셀 추가" value="" has-icon=""><template shadowrootmode="open" shadowrootdelegatesfocus><!---->
      <!--?lit$764986503$--><div class="outline"></div>
      <div class="background"></div>
      <md-focus-ring part="focus-ring" for="button" aria-hidden="true"><template shadowrootmode="open"><!----></template></md-focus-ring>
      <md-ripple part="ripple" for="button" aria-hidden="true"><template shadowrootmode="open"><!----><div class="surface   "></div></template></md-ripple>
      <!--?lit$764986503$--><button id="button" class="button" aria-label="텍스트 셀 추가">
      <!--?lit$764986503$-->
      <span class="touch"></span>
      <!--?lit$764986503$--><slot name="icon"></slot>
      <span class="label"><slot></slot></span>
      <!--?lit$764986503$-->
    
    </button>
    </template>
          <md-icon slot="icon" aria-hidden="true"><template shadowrootmode="open"><!----><slot></slot></template>add</md-icon>
          <!--?lit$764986503$-->텍스트
        </md-outlined-button>
        <!--?lit$764986503$-->
        <!--?lit$764986503$-->
      </div><hr>
    </div></div><div class="cell code notebook-cell code-has-output" id="cell-1DJxwvLfTjAw" tabindex="-1" role="region" aria-label="셀 30: 코드 셀: " style="opacity: 1;"><div class="cell-tag-editor sticky"></div><div class="agent-focus-label">
      <md-icon aria-hidden="true"><template shadowrootmode="open"><!----><slot></slot></template>spark</md-icon>
      <!--?lit$764986503$-->Gemini
    </div><div class="cell-toolbar sticky"></div><div class="main-content"><div class="cell-contents"><div class="cell-mask"></div><span class="imported-info-area"></span><div class="codecell-input-output">
      <div class="inputarea horizontal layout code">
        <div class="cell-gutter">
          <!-- Bounding range for vertical scrolling of icons -->
          <div class="cell-execution-container">
            <colab-run-button><template shadowrootmode="open"><!----> <div class="cell-execution">
      <button id="run-button" aria-describedby="run-button-tooltip" aria-label="셀 실행" aria-disabled="false">
        <span aria-hidden="true" class="cell-execution-indicator"><!--?lit$764986503$-->
<svg xmlns="http://www.w3.org/2000/svg" viewBox="0 0 24 24">
  <!--?lit$764986503$-->
  <mask id="playSymbolMask">
    <rect width="100%" height="100%" fill="white"></rect>
    <polygon points="10,8 17,12 10,16" fill="black"></polygon>
  </mask>
  <circle cx="12" cy="12" r="7.8" mask="url(#playSymbolMask)" id="filledCircle"></circle>
</svg></span>
      </button>
      <!--?lit$764986503$--><colab-tooltip-trigger for="run-button" id="run-button-tooltip" aria-hidden="true" message="셀 실행 (Ctrl+Enter)
마지막 변경 이후 실행된 셀

임민우컴퓨터공학과에 의해 실행됨
오전 11:07 (2분 전)
0.005초 내에 실행됨"><template shadowrootmode="open"><!----><!--?lit$764986503$--><!----><div><!--?lit$764986503$-->셀 실행 (Ctrl+Enter)</div><!----><!----><div><!--?lit$764986503$-->마지막 변경 이후 실행된 셀</div><!----><!----><br><!----><!----><div><!--?lit$764986503$-->임민우컴퓨터공학과에 의해 실행됨</div><!----><!----><div><!--?lit$764986503$-->오전 11:07 (2분 전)</div><!----><!----><div><!--?lit$764986503$-->0.005초 내에 실행됨</div><!----><!--?--></template>
    </colab-tooltip-trigger> <!--?lit$764986503$--><div class="status">
      <div class="execution-count"><!--?lit$764986503$-->[43]</div>
      <!--?lit$764986503$--><div class="last-run">
      <md-icon aria-hidden="true"><template shadowrootmode="open"><!----><slot></slot></template><!--?lit$764986503$-->check</md-icon>
      <div><!--?lit$764986503$-->0초</div>
    </div>
    </div>
    </div></template></colab-run-button>
          </div>
        </div>
      <div class="editor flex lazy-editor" style=""><div class="editor flex monaco" data-keybinding-context="123" data-mode-id="notebook-python" style="height: 162px; --vscode-editorCodeLens-lineHeight: 16px; --vscode-editorCodeLens-fontSize: 12px; --vscode-editorCodeLens-fontFeatureSettings: &quot;liga&quot; off, &quot;calt&quot; off;"><div class="monaco-editor no-user-select  showUnused showDeprecated vs" role="code" data-uri="inmemory://model/52" style="width: 797px; height: 162px;"><div data-mprt="3" class="overflow-guard" style="width: 797px; height: 162px; overflow: clip;"><div class="margin" role="presentation" aria-hidden="true" style="position: absolute; contain: strict; will-change: unset; top: 0px; height: 162px; width: 6px;"><div class="glyph-margin" style="left: 0px; width: 0px; height: 162px;"></div><div class="margin-view-zones" role="presentation" aria-hidden="true" style="position: absolute; width: 6px;"></div><div class="margin-view-overlays" role="presentation" aria-hidden="true" style="position: absolute; font-family: monospace, Consolas, &quot;Courier New&quot;, monospace; font-weight: normal; font-size: 14px; font-feature-settings: &quot;liga&quot; 0, &quot;calt&quot; 0; font-variation-settings: normal; line-height: 19px; letter-spacing: 0px; width: 6px; height: 162px;"><div style="position:absolute;top:0px;width:100%;height:19px;"></div><div style="position:absolute;top:19px;width:100%;height:19px;"></div><div style="position:absolute;top:38px;width:100%;height:19px;"></div><div style="position:absolute;top:57px;width:100%;height:19px;"></div><div style="position: absolute; top: 114px; width: 100%; height: 19px;"></div><div style="position:absolute;top:76px;width:100%;height:19px;"></div><div style="position:absolute;top:95px;width:100%;height:19px;"></div><div style="position:absolute;top:133px;width:100%;height:19px;"><div class="current-line current-line-margin-both" style="width:6px; height:19px;"></div></div></div><div class="glyph-margin-widgets" style="position: absolute; top: 0px;"></div></div><div class="monaco-scrollable-element editor-scrollable vs" role="presentation" data-mprt="5" style="position: absolute; overflow: hidden; left: 6px; width: 791px; height: 162px;"><div class="lines-content monaco-editor-background" style="position: absolute; overflow: hidden; width: 1e+06px; height: 162px; contain: strict; will-change: unset; top: 0px; left: 0px;"><div class="view-overlays" role="presentation" aria-hidden="true" style="position: absolute; font-family: monospace, Consolas, &quot;Courier New&quot;, monospace; font-weight: normal; font-size: 14px; font-feature-settings: &quot;liga&quot; 0, &quot;calt&quot; 0; font-variation-settings: normal; line-height: 19px; letter-spacing: 0px; height: 0px; width: 791px;"><div style="position:absolute;top:0px;width:100%;height:19px;"></div><div style="position:absolute;top:19px;width:100%;height:19px;"></div><div style="position:absolute;top:38px;width:100%;height:19px;"></div><div style="position:absolute;top:57px;width:100%;height:19px;"></div><div style="position: absolute; top: 114px; width: 100%; height: 19px;"></div><div style="position:absolute;top:76px;width:100%;height:19px;"></div><div style="position:absolute;top:95px;width:100%;height:19px;"></div><div style="position:absolute;top:133px;width:100%;height:19px;"><div class="current-line" style="width:791px; height:19px;"></div></div></div><div role="presentation" aria-hidden="true" class="view-rulers"></div><div class="view-zones" role="presentation" aria-hidden="true" style="position: absolute; width: 791px;"></div><div class="view-lines monaco-mouse-cursor-text" role="presentation" aria-hidden="true" data-mprt="7" style="position: absolute; font-family: monospace, Consolas, &quot;Courier New&quot;, monospace; font-weight: normal; font-size: 14px; font-feature-settings: &quot;liga&quot; 0, &quot;calt&quot; 0; font-variation-settings: normal; line-height: 19px; letter-spacing: 0px; width: 791px; height: 162px;"><div style="top:0px;height:19px;" class="view-line"><span><span class="mtk19">from</span><span class="mtk1">&nbsp;operator&nbsp;</span><span class="mtk19">import</span><span class="mtk1">&nbsp;methodcaller</span></span></div><div style="top:19px;height:19px;" class="view-line"><span><span class="mtk1">s&nbsp;=&nbsp;</span><span class="mtk21">'The&nbsp;time&nbsp;has&nbsp;come'</span></span></div><div style="top: 38px; height: 19px;" class="view-line"><span><span class="mtk1">upcase&nbsp;=&nbsp;methodcaller</span><span class="mtk1 bracket-highlighting-0">(</span><span class="mtk21">'upper'</span><span class="mtk1 bracket-highlighting-0">)</span></span></div><div style="top: 57px; height: 19px;" class="view-line"><span><span class="mtk15">print</span><span class="mtk1 bracket-highlighting-0">(</span><span class="mtk1">upcase</span><span class="mtk1 bracket-highlighting-1">(</span><span class="mtk1">s</span><span class="mtk1 bracket-highlighting-1">)</span><span class="mtk1 bracket-highlighting-0">)</span></span></div><div style="top: 114px; height: 19px;" class="view-line"><span><span class="mtk1">hiphenate&nbsp;=&nbsp;methodcaller</span><span class="mtk1 bracket-highlighting-0">(</span><span class="mtk21">'replace'</span><span class="mtk1">,&nbsp;</span><span class="mtk21">'&nbsp;'</span><span class="mtk1">,&nbsp;</span><span class="mtk21">'-'</span><span class="mtk1 bracket-highlighting-0">)</span></span></div><div style="top:76px;height:19px;" class="view-line"><span><span class="mtk15">print</span><span class="mtk1 bracket-highlighting-0">(</span><span class="mtk1">s.upper</span><span class="mtk1 bracket-highlighting-1">(</span><span class="mtk1 bracket-highlighting-1">)</span><span class="mtk1 bracket-highlighting-0">)</span></span></div><div style="top:95px;height:19px;" class="view-line"><span><span></span></span></div><div style="top:133px;height:19px;" class="view-line"><span><span class="mtk15">print</span><span class="mtk1 bracket-highlighting-0">(</span><span class="mtk1">hiphenate</span><span class="mtk1 bracket-highlighting-1">(</span><span class="mtk1">s</span><span class="mtk1 bracket-highlighting-1">)</span><span class="mtk1 bracket-highlighting-0">)</span></span></div></div><div data-mprt="1" class="contentWidgets" style="position: absolute; top: 0px;"><div class="lightBulbWidget codicon codicon-light-bulb" widgetid="LightBulbWidget" title="Show Code Actions (Ctrl+.)" style="position: absolute; display: none; visibility: hidden; max-width: 791px;"></div></div><div role="presentation" aria-hidden="true" class="cursors-layer cursor-line-style cursor-solid"><div class="cursor monaco-mouse-cursor-text " style="height: 19px; top: 133px; left: 132px; font-family: monospace, Consolas, &quot;Courier New&quot;, monospace; font-weight: normal; font-size: 14px; font-feature-settings: &quot;liga&quot; 0, &quot;calt&quot; 0; font-variation-settings: normal; line-height: 19px; letter-spacing: 0px; display: block; visibility: hidden; padding-left: 1px; width: 2px;"></div></div></div><div role="presentation" aria-hidden="true" class="invisible scrollbar horizontal" style="position: absolute; width: 777px; height: 10px; left: 0px; bottom: 0px;"><div class="slider" style="position: absolute; top: 0px; left: 0px; height: 10px; transform: translate3d(0px, 0px, 0px); contain: strict; will-change: unset; width: 777px;"></div></div><canvas class="decorationsOverviewRuler" aria-hidden="true" width="14" height="162" style="position: absolute; transform: translate3d(0px, 0px, 0px); contain: strict; top: 0px; right: 0px; width: 14px; height: 162px; will-change: unset; display: block;"></canvas><div role="presentation" aria-hidden="true" class="invisible scrollbar vertical" style="position: absolute; width: 14px; height: 162px; right: 0px; top: 0px;"><div class="slider" style="position: absolute; top: 0px; left: 0px; width: 14px; transform: translate3d(0px, 0px, 0px); contain: strict; will-change: unset; height: 162px;"></div></div></div><div role="presentation" aria-hidden="true" style="width: 797px;"></div><textarea data-mprt="6" class="inputarea monaco-mouse-cursor-text" wrap="on" autocorrect="off" autocapitalize="off" autocomplete="off" spellcheck="false" aria-label="Editor content;Press Alt+F1 for Accessibility Options." tabindex="0" role="textbox" aria-roledescription="editor" aria-multiline="true" aria-haspopup="false" aria-autocomplete="both" style="tab-size: 14px; font-family: monospace, Consolas, &quot;Courier New&quot;, monospace; font-weight: normal; font-size: 14px; font-feature-settings: &quot;liga&quot; 0, &quot;calt&quot; 0; font-variation-settings: normal; line-height: 19px; letter-spacing: 0px; top: 133px; left: 6px; width: 70000px; height: 1px;"></textarea><div style="position: absolute; top: 0px; left: 0px; width: 0px; height: 0px;" class="monaco-editor-background textAreaCover"></div><div data-mprt="4" class="overlayWidgets" style="width: 797px;"><div class="monaco-hover hidden" tabindex="0" role="tooltip" widgetid="editor.contrib.modesGlyphHoverWidget" style="position: absolute;"><div class="monaco-scrollable-element " role="presentation" style="position: relative; overflow: hidden;"><div class="monaco-hover-content" style="overflow: hidden;"></div><div role="presentation" aria-hidden="true" class="invisible scrollbar horizontal" style="position: absolute;"><div class="slider" style="position: absolute; top: 0px; left: 0px; height: 10px; transform: translate3d(0px, 0px, 0px); contain: strict;"></div></div><div role="presentation" aria-hidden="true" class="invisible scrollbar vertical" style="position: absolute;"><div class="slider" style="position: absolute; top: 0px; left: 0px; width: 10px; transform: translate3d(0px, 0px, 0px); contain: strict;"></div></div><div class="shadow"></div><div class="shadow"></div><div class="shadow"></div></div></div></div><div data-mprt="8" class="minimap slider-mouseover" role="presentation" aria-hidden="true" style="position: absolute; left: 0px; width: 0px; height: 162px;"><div class="minimap-shadow-hidden" style="height: 162px;"></div><canvas width="0" height="162" style="position: absolute; left: 0px; width: 0px; height: 162px;"></canvas><canvas class="minimap-decorations-layer" width="0" height="162" style="position: absolute; left: 0px; width: 0px; height: 162px;"></canvas><div class="minimap-slider" style="position: absolute; transform: translate3d(0px, 0px, 0px); contain: strict; width: 0px; will-change: unset;"><div class="minimap-slider-horizontal" style="position: absolute; width: 0px; height: 0px;"></div></div></div><div role="presentation" aria-hidden="true" class="blockDecorations-container"></div></div><div data-mprt="2" class="overflowingContentWidgets" style="display: none;"><div widgetid="editor.contrib.resizableContentHoverWidget" style="position: fixed; height: 10px; width: 10px; z-index: 50; display: none; visibility: hidden; max-width: 958px;"><div class="monaco-sash vertical" style="left: 8px;"></div><div class="monaco-sash vertical" style="left: -2px;"></div><div class="monaco-sash orthogonal-edge-north horizontal" style="top: -2px;"><div class="orthogonal-drag-handle start"></div><div class="orthogonal-drag-handle end"></div></div><div class="monaco-sash orthogonal-edge-south horizontal" style="top: 8px;"><div class="orthogonal-drag-handle start"></div><div class="orthogonal-drag-handle end"></div></div><div class="monaco-hover hidden" tabindex="0" role="tooltip"><div class="monaco-scrollable-element " role="presentation" style="position: relative; overflow: hidden;"><div class="monaco-hover-content" style="overflow: hidden; font-size: 14px; line-height: 1.35714; max-width: 526.02px; max-height: 250px;"></div><div role="presentation" aria-hidden="true" class="invisible scrollbar horizontal" style="position: absolute;"><div class="slider" style="position: absolute; top: 0px; left: 0px; height: 10px; transform: translate3d(0px, 0px, 0px); contain: strict;"></div></div><div role="presentation" aria-hidden="true" class="invisible scrollbar vertical" style="position: absolute;"><div class="slider" style="position: absolute; top: 0px; left: 0px; width: 10px; transform: translate3d(0px, 0px, 0px); contain: strict;"></div></div><div class="shadow"></div><div class="shadow"></div><div class="shadow"></div></div></div></div><div class="editor-widget suggest-widget" widgetid="editor.widget.suggestWidget" style="position: fixed; display: none; visibility: hidden; max-width: 958px; height: 21px; width: 430px; top: 620.438px; left: 192px;"><div class="monaco-sash vertical" style="left: 428px;"></div><div class="monaco-sash vertical disabled" style="left: -2px;"></div><div class="monaco-sash orthogonal-edge-north horizontal disabled" style="top: -2px;"><div class="orthogonal-drag-handle end"></div></div><div class="monaco-sash orthogonal-edge-south horizontal" style="top: 19px;"><div class="orthogonal-drag-handle end"></div></div><div class="message" aria-hidden="true" style="display: none;"></div><div class="tree" style="height: 21px; display: none;" aria-hidden="true"><div class="monaco-list list_id_123 selection-none" tabindex="0" role="listbox" aria-label="Suggest"><div class="monaco-scrollable-element " role="presentation" style="position: relative; overflow: hidden;"><div class="monaco-list-rows" style="transform: translate3d(0px, 0px, 0px); overflow: hidden; contain: strict; height: 0px; left: 0px; top: 0px;"></div><div role="presentation" aria-hidden="true" class="invisible scrollbar horizontal" style="position: absolute; width: 0px; height: 10px; left: 0px; bottom: 0px;"><div class="slider" style="position: absolute; top: 0px; left: 0px; height: 10px; transform: translate3d(0px, 0px, 0px); contain: strict; width: 0px;"></div></div><div role="presentation" aria-hidden="true" class="invisible scrollbar vertical fade" style="position: absolute; width: 10px; height: 21px; right: 0px; top: 0px;"><div class="slider" style="position: absolute; top: 0px; left: 0px; width: 10px; transform: translate3d(0px, 0px, 0px); contain: strict; height: 21px;"></div></div></div><style type="text/css" media="screen">.monaco-list.list_id_123:focus .monaco-list-row.focused { background-color: var(--vscode-list-focusBackground); }
.monaco-list.list_id_123:focus .monaco-list-row.focused:hover { background-color: var(--vscode-list-focusBackground); }
.monaco-list.list_id_123:focus .monaco-list-row.focused { color: var(--vscode-list-focusForeground); }
.monaco-list.list_id_123:focus .monaco-list-row.selected { background-color: var(--vscode-list-activeSelectionBackground); }
.monaco-list.list_id_123:focus .monaco-list-row.selected:hover { background-color: var(--vscode-list-activeSelectionBackground); }
.monaco-list.list_id_123:focus .monaco-list-row.selected { color: var(--vscode-list-activeSelectionForeground); }
.monaco-list.list_id_123:focus .monaco-list-row.selected .codicon { color: var(--vscode-list-activeSelectionIconForeground); }

				.monaco-drag-image,
				.monaco-list.list_id_123:focus .monaco-list-row.selected.focused { background-color: var(--vscode-list-activeSelectionBackground); }
			

				.monaco-drag-image,
				.monaco-list.list_id_123:focus .monaco-list-row.selected.focused { color: var(--vscode-list-activeSelectionForeground); }
			
.monaco-list.list_id_123 .monaco-list-row.focused .codicon { color:  var(--vscode-list-inactiveSelectionIconForeground); }
.monaco-list.list_id_123 .monaco-list-row.focused { background-color:  var(--vscode-editorSuggestWidget-selectedBackground); }
.monaco-list.list_id_123 .monaco-list-row.focused:hover { background-color:  var(--vscode-editorSuggestWidget-selectedBackground); }
.monaco-list.list_id_123 .monaco-list-row.selected { background-color:  var(--vscode-list-inactiveSelectionBackground); }
.monaco-list.list_id_123 .monaco-list-row.selected:hover { background-color:  var(--vscode-list-inactiveSelectionBackground); }
.monaco-list.list_id_123 .monaco-list-row.selected { color: var(--vscode-list-inactiveSelectionForeground); }
.monaco-list.list_id_123:not(.drop-target):not(.dragging) .monaco-list-row:hover:not(.selected):not(.focused) { background-color: var(--vscode-list-hoverBackground); }
.monaco-list.list_id_123:not(.drop-target):not(.dragging) .monaco-list-row:hover:not(.selected):not(.focused) { color:  var(--vscode-list-hoverForeground); }
.monaco-list.list_id_123:focus .monaco-list-row.focused.selected { outline: 1px solid var(--vscode-list-focusAndSelectionOutline, var(--vscode-contrastActiveBorder, var(--vscode-list-focusOutline))); outline-offset: -1px;}

				.monaco-drag-image,
				.monaco-list.list_id_123:focus .monaco-list-row.focused { outline: 1px solid var(--vscode-list-focusOutline); outline-offset: -1px; }
				.monaco-workbench.context-menu-visible .monaco-list.list_id_123.last-focused .monaco-list-row.focused { outline: 1px solid var(--vscode-list-focusOutline); outline-offset: -1px; }
			
.monaco-list.list_id_123 .monaco-list-row.focused.selected { outline: 1px dotted var(--vscode-contrastActiveBorder, var(--vscode-contrastActiveBorder)); outline-offset: -1px; }
.monaco-list.list_id_123 .monaco-list-row.selected { outline: 1px dotted var(--vscode-contrastActiveBorder); outline-offset: -1px; }
.monaco-list.list_id_123 .monaco-list-row.focused { outline: 1px dotted var(--vscode-contrastActiveBorder); outline-offset: -1px; }
.monaco-list.list_id_123 .monaco-list-row:hover { outline: 1px dashed var(--vscode-contrastActiveBorder); outline-offset: -1px; }

				.monaco-list.list_id_123.drop-target,
				.monaco-list.list_id_123 .monaco-list-rows.drop-target,
				.monaco-list.list_id_123 .monaco-list-row.drop-target { background-color: var(--vscode-list-dropBackground) !important; color: inherit !important; }
			

				.monaco-table > .monaco-split-view2,
				.monaco-table > .monaco-split-view2 .monaco-sash.vertical::before,
				.monaco-workbench:not(.reduce-motion) .monaco-table:hover > .monaco-split-view2,
				.monaco-workbench:not(.reduce-motion) .monaco-table:hover > .monaco-split-view2 .monaco-sash.vertical::before {
					border-color: var(--vscode-tree-tableColumnsBorder);
				}

				.monaco-workbench:not(.reduce-motion) .monaco-table > .monaco-split-view2,
				.monaco-workbench:not(.reduce-motion) .monaco-table > .monaco-split-view2 .monaco-sash.vertical::before {
					border-color: transparent;
				}
			

				.monaco-table .monaco-list-row[data-parity=odd]:not(.focused):not(.selected):not(:hover) .monaco-table-tr,
				.monaco-table .monaco-list:not(:focus) .monaco-list-row[data-parity=odd].focused:not(.selected):not(:hover) .monaco-table-tr,
				.monaco-table .monaco-list:not(.focused) .monaco-list-row[data-parity=odd].focused:not(.selected):not(:hover) .monaco-table-tr {
					background-color: var(--vscode-tree-tableOddRowsBackground);
				}
			</style></div></div><div class="suggest-status-bar" style="height: 19px; display: none;" aria-hidden="true"><div class="monaco-action-bar animated left"><ul class="actions-container" role="presentation"><li class="action-item menu-entry" role="presentation" title="Insert (Enter)"><a class="action-label" role="button" aria-label="Insert (Enter)" aria-checked="" tabindex="0">Insert (⏎)</a></li></ul></div><div class="monaco-action-bar animated right"><ul class="actions-container" role="presentation"><li class="action-item menu-entry" role="presentation" title="show more (Ctrl+Space)"><a class="action-label" role="button" aria-label="show more (Ctrl+Space)" aria-checked="" tabindex="0">show more (Ctrl+Space)</a></li></ul></div></div></div></div><div class=".in-cell-overflowing"><div widgetid="editor.contrib.quickInputWidget" style="position: absolute; top: 0px; right: 50%;"></div></div></div></div></div><colab-form class="formview vertical layout flex"><div class="widget-area vertical layout"></div></colab-form></div>
    <div class="output" aria-label="셀 30 출력" role="region"><!----> <div class="output-header"> </div>
        <div class="output-content">
          <div class="output-info"><colab-output-info><template shadowrootmode="open"><!----><md-icon-button data-aria-expanded="false" data-aria-haspopup="menu" aria-describedby="button-output-actions-tooltip" data-aria-label="코드 셀 출력 작업" id="button-output-actions" value=""><template shadowrootmode="open" shadowrootdelegatesfocus><!----><button id="button" class="icon-button  standard " aria-label="코드 셀 출력 작업" aria-haspopup="menu" aria-expanded="false">
        <!--?lit$764986503$--><md-focus-ring part="focus-ring" for="button" aria-hidden="true"><template shadowrootmode="open"><!----></template></md-focus-ring>
        <!--?lit$764986503$--><md-ripple aria-hidden="true"><template shadowrootmode="open"><!----><div class="surface"></div></template></md-ripple>
        <!--?lit$764986503$--><span class="icon"><slot></slot></span>
        <!--?lit$764986503$-->
        <!--?lit$764986503$--><span class="touch"></span>
  </button></template>
        <md-icon aria-hidden="true"><template shadowrootmode="open"><!----><slot></slot></template><!--?lit$764986503$--><svg viewBox="0 0 24 24"><!--?lit$764986503$--><path d="m15.9 3.07c-4.32 0.0742-8.64-0.0355-13 0.0568-1.37 0.307-1.74 2.1-1.41 3.26 0.469 0.606 1.86 0.384 1.66-0.525 0.0448-0.329-0.183-0.93 0.354-0.766h13.3v1.53h1.71c0.0709-1.13 0.141-2.62-0.968-3.3-0.511-0.264-1.11-0.252-1.67-0.259zm2.94 6.84v4.87c1.62-1.62 3.24-3.24 4.87-4.87h-4.87zm0 0h-1.71v3.43l1.57 1.57c0.32-1.65 0.0556-3.34 0.135-5zm-1.71 3.43v-3.43h-3.43c1.14 1.14 2.29 2.29 3.43 3.43zm1.4 4.27h-1.71v1.48h-13.6v-1.48h-1.71c-0.0473 1.15-0.16 2.72 1.09 3.29 1.47 0.506 3.02 0.0265 4.53 0.192 3.34-0.0051 6.68 0.0336 10-0.0245 1.49-0.366 1.56-2.22 1.42-3.45zm-10.1-1.12c-0.398-0.483-0.796-0.967-1.19-1.45 0.59-0.683 1.18-1.37 1.77-2.05h-8.67v-2h8.67c-0.59-0.683-1.18-1.37-1.77-2.05 0.398-0.483 0.796-0.967 1.19-1.45 1.28 1.5 2.56 3 3.84 4.5-1.28 1.5-2.56 3-3.84 4.5z"></path></svg></md-icon>
      </md-icon-button>
      <colab-tooltip-trigger aria-hidden="true" id="button-output-actions-tooltip" for="button-output-actions" message="코드 셀 출력 작업"><template shadowrootmode="open"><!----><!--?lit$764986503$--><!----><div><!--?lit$764986503$-->코드 셀 출력 작업</div><!----><!--?--></template></colab-tooltip-trigger></template></colab-output-info></div>
          <div class="output-iframe-container">
            <div class="output-iframe-sizer" style="min-height: 0px;"> <div><div><colab-static-output-renderer tabindex="0" role="group"><div><div class="stream output-id-1 output_text"><pre>THE TIME HAS COME
THE TIME HAS COME
The-time-has-come
</pre></div></div><div></div></colab-static-output-renderer></div></div><div><div></div></div></div>
          </div>
        </div></div><colab-cell-next-steps><template shadowrootmode="open"><!----></template></colab-cell-next-steps></div></div></div><div class="add-cell">
      <div class="add-cell-buttons">
        <md-outlined-button class="add-code add-button" data-aria-label="코드 셀 추가
Ctrl+M B" title="코드 셀 추가
Ctrl+M B" value="" has-icon=""><template shadowrootmode="open" shadowrootdelegatesfocus><!---->
      <!--?lit$764986503$--><div class="outline"></div>
      <div class="background"></div>
      <md-focus-ring part="focus-ring" for="button" aria-hidden="true"><template shadowrootmode="open"><!----></template></md-focus-ring>
      <md-ripple part="ripple" for="button" aria-hidden="true"><template shadowrootmode="open"><!----><div class="surface   "></div></template></md-ripple>
      <!--?lit$764986503$--><button id="button" class="button" aria-label="코드 셀 추가
Ctrl+M B">
      <!--?lit$764986503$-->
      <span class="touch"></span>
      <!--?lit$764986503$--><slot name="icon"></slot>
      <span class="label"><slot></slot></span>
      <!--?lit$764986503$-->
    
    </button>
    </template>
          <md-icon slot="icon" aria-hidden="true"><template shadowrootmode="open"><!----><slot></slot></template>add</md-icon>
          <!--?lit$764986503$-->코드
        </md-outlined-button>
        <md-outlined-button class="add-text add-button" data-aria-label="텍스트 셀 추가" title="텍스트 셀 추가" value="" has-icon=""><template shadowrootmode="open" shadowrootdelegatesfocus><!---->
      <!--?lit$764986503$--><div class="outline"></div>
      <div class="background"></div>
      <md-focus-ring part="focus-ring" for="button" aria-hidden="true"><template shadowrootmode="open"><!----></template></md-focus-ring>
      <md-ripple part="ripple" for="button" aria-hidden="true"><template shadowrootmode="open"><!----><div class="surface   "></div></template></md-ripple>
      <!--?lit$764986503$--><button id="button" class="button" aria-label="텍스트 셀 추가">
      <!--?lit$764986503$-->
      <span class="touch"></span>
      <!--?lit$764986503$--><slot name="icon"></slot>
      <span class="label"><slot></slot></span>
      <!--?lit$764986503$-->
    
    </button>
    </template>
          <md-icon slot="icon" aria-hidden="true"><template shadowrootmode="open"><!----><slot></slot></template>add</md-icon>
          <!--?lit$764986503$-->텍스트
        </md-outlined-button>
        <!--?lit$764986503$-->
        <!--?lit$764986503$-->
      </div><hr>
    </div></div><div class="cell code notebook-cell code-has-output" id="cell-jpwgJ9R4UvfA" tabindex="-1" role="region" aria-label="셀 31: 코드 셀: " style="opacity: 1;"><div class="cell-tag-editor sticky"></div><div class="agent-focus-label">
      <md-icon aria-hidden="true"><template shadowrootmode="open"><!----><slot></slot></template>spark</md-icon>
      <!--?lit$764986503$-->Gemini
    </div><div class="cell-toolbar sticky"></div><div class="main-content"><div class="cell-contents"><div class="cell-mask"></div><span class="imported-info-area"></span><div class="codecell-input-output">
      <div class="inputarea horizontal layout code">
        <div class="cell-gutter">
          <!-- Bounding range for vertical scrolling of icons -->
          <div class="cell-execution-container">
            <colab-run-button><template shadowrootmode="open"><!----> <div class="cell-execution">
      <button id="run-button" aria-describedby="run-button-tooltip" aria-label="셀 실행" aria-disabled="false">
        <span aria-hidden="true" class="cell-execution-indicator"><!--?lit$764986503$-->
<svg xmlns="http://www.w3.org/2000/svg" viewBox="0 0 24 24">
  <!--?lit$764986503$-->
  <mask id="playSymbolMask">
    <rect width="100%" height="100%" fill="white"></rect>
    <polygon points="10,8 17,12 10,16" fill="black"></polygon>
  </mask>
  <circle cx="12" cy="12" r="7.8" mask="url(#playSymbolMask)" id="filledCircle"></circle>
</svg></span>
      </button>
      <!--?lit$764986503$--><colab-tooltip-trigger for="run-button" id="run-button-tooltip" aria-hidden="true" message="셀 실행 (Ctrl+Enter)
마지막 변경 이후 실행된 셀

임민우컴퓨터공학과에 의해 실행됨
오전 11:08 (0분 전)
0.007초 내에 실행됨"><template shadowrootmode="open"><!----><!--?lit$764986503$--><!----><div><!--?lit$764986503$-->셀 실행 (Ctrl+Enter)</div><!----><!----><div><!--?lit$764986503$-->마지막 변경 이후 실행된 셀</div><!----><!----><br><!----><!----><div><!--?lit$764986503$-->임민우컴퓨터공학과에 의해 실행됨</div><!----><!----><div><!--?lit$764986503$-->오전 11:08 (0분 전)</div><!----><!----><div><!--?lit$764986503$-->0.007초 내에 실행됨</div><!----><!--?--></template>
    </colab-tooltip-trigger> <!--?lit$764986503$--><div class="status">
      <div class="execution-count"><!--?lit$764986503$-->[44]</div>
      <!--?lit$764986503$--><div class="last-run">
      <md-icon aria-hidden="true"><template shadowrootmode="open"><!----><slot></slot></template><!--?lit$764986503$-->check</md-icon>
      <div><!--?lit$764986503$-->0초</div>
    </div>
    </div>
    </div></template></colab-run-button>
          </div>
        </div>
      <div class="editor flex lazy-editor" style=""><div class="editor flex monaco" data-keybinding-context="124" data-mode-id="notebook-python" style="height: 105px; --vscode-editorCodeLens-lineHeight: 16px; --vscode-editorCodeLens-fontSize: 12px; --vscode-editorCodeLens-fontFeatureSettings: &quot;liga&quot; off, &quot;calt&quot; off;"><div class="monaco-editor no-user-select  showUnused showDeprecated vs" role="code" data-uri="inmemory://model/53" style="width: 797px; height: 105px;"><div data-mprt="3" class="overflow-guard" style="width: 797px; height: 105px; overflow: clip;"><div class="margin" role="presentation" aria-hidden="true" style="position: absolute; contain: strict; will-change: unset; top: 0px; height: 105px; width: 6px;"><div class="glyph-margin" style="left: 0px; width: 0px; height: 105px;"></div><div class="margin-view-zones" role="presentation" aria-hidden="true" style="position: absolute; width: 6px;"></div><div class="margin-view-overlays" role="presentation" aria-hidden="true" style="position: absolute; font-family: monospace, Consolas, &quot;Courier New&quot;, monospace; font-weight: normal; font-size: 14px; font-feature-settings: &quot;liga&quot; 0, &quot;calt&quot; 0; font-variation-settings: normal; line-height: 19px; letter-spacing: 0px; width: 6px; height: 105px;"><div style="position:absolute;top:0px;width:100%;height:19px;"></div><div style="position:absolute;top:19px;width:100%;height:19px;"></div><div style="position:absolute;top:38px;width:100%;height:19px;"></div><div style="position:absolute;top:57px;width:100%;height:19px;"></div><div style="position:absolute;top:76px;width:100%;height:19px;"><div class="current-line current-line-margin-both" style="width:6px; height:19px;"></div></div></div><div class="glyph-margin-widgets" style="position: absolute; top: 0px;"></div></div><div class="monaco-scrollable-element editor-scrollable vs" role="presentation" data-mprt="5" style="position: absolute; overflow: hidden; left: 6px; width: 791px; height: 105px;"><div class="lines-content monaco-editor-background" style="position: absolute; overflow: hidden; width: 1e+06px; height: 105px; contain: strict; will-change: unset; top: 0px; left: 0px;"><div class="view-overlays" role="presentation" aria-hidden="true" style="position: absolute; font-family: monospace, Consolas, &quot;Courier New&quot;, monospace; font-weight: normal; font-size: 14px; font-feature-settings: &quot;liga&quot; 0, &quot;calt&quot; 0; font-variation-settings: normal; line-height: 19px; letter-spacing: 0px; height: 0px; width: 791px;"><div style="position:absolute;top:0px;width:100%;height:19px;"></div><div style="position:absolute;top:19px;width:100%;height:19px;"></div><div style="position:absolute;top:38px;width:100%;height:19px;"></div><div style="position:absolute;top:57px;width:100%;height:19px;"></div><div style="position:absolute;top:76px;width:100%;height:19px;"><div class="current-line" style="width:791px; height:19px;"></div></div></div><div role="presentation" aria-hidden="true" class="view-rulers"></div><div class="view-zones" role="presentation" aria-hidden="true" style="position: absolute; width: 791px;"></div><div class="view-lines monaco-mouse-cursor-text" role="presentation" aria-hidden="true" data-mprt="7" style="position: absolute; font-family: monospace, Consolas, &quot;Courier New&quot;, monospace; font-weight: normal; font-size: 14px; font-feature-settings: &quot;liga&quot; 0, &quot;calt&quot; 0; font-variation-settings: normal; line-height: 19px; letter-spacing: 0px; width: 791px; height: 105px;"><div style="top:0px;height:19px;" class="view-line"><span><span class="mtk19">from</span><span class="mtk1">&nbsp;operator&nbsp;</span><span class="mtk19">import</span><span class="mtk1">&nbsp;mul</span></span></div><div style="top:19px;height:19px;" class="view-line"><span><span class="mtk19">from</span><span class="mtk1">&nbsp;functools&nbsp;</span><span class="mtk19">import</span><span class="mtk1">&nbsp;partial</span></span></div><div style="top:38px;height:19px;" class="view-line"><span><span class="mtk1">triple&nbsp;=&nbsp;partial</span><span class="mtk1 bracket-highlighting-0">(</span><span class="mtk1">mul,&nbsp;</span><span class="mtk12">3</span><span class="mtk1 bracket-highlighting-0">)</span></span></div><div style="top:57px;height:19px;" class="view-line"><span><span class="mtk15">print</span><span class="mtk1 bracket-highlighting-0">(</span><span class="mtk1">triple</span><span class="mtk1 bracket-highlighting-1">(</span><span class="mtk12">7</span><span class="mtk1 bracket-highlighting-1">)</span><span class="mtk1 bracket-highlighting-0">)</span></span></div><div style="top:76px;height:19px;" class="view-line"><span><span class="mtk15">print</span><span class="mtk1 bracket-highlighting-0">(</span><span class="mtk14">list</span><span class="mtk1 bracket-highlighting-1">(</span><span class="mtk15">map</span><span class="mtk1 bracket-highlighting-2">(</span><span class="mtk1">triple,&nbsp;</span><span class="mtk15">range</span><span class="mtk1 bracket-highlighting-3">(</span><span class="mtk12">1</span><span class="mtk1">,&nbsp;</span><span class="mtk12">10</span><span class="mtk1 bracket-highlighting-3">)</span><span class="mtk1 bracket-highlighting-2">)</span><span class="mtk1 bracket-highlighting-1">)</span><span class="mtk1 bracket-highlighting-0">)</span></span></div></div><div data-mprt="1" class="contentWidgets" style="position: absolute; top: 0px;"><div class="lightBulbWidget codicon codicon-light-bulb" widgetid="LightBulbWidget" title="Show Code Actions (Ctrl+.)" style="position: absolute; display: none; visibility: hidden; max-width: 791px;"></div></div><div role="presentation" aria-hidden="true" class="cursors-layer cursor-line-style cursor-solid"><div class="cursor monaco-mouse-cursor-text " style="height: 19px; top: 76px; left: 265px; font-family: monospace, Consolas, &quot;Courier New&quot;, monospace; font-weight: normal; font-size: 14px; font-feature-settings: &quot;liga&quot; 0, &quot;calt&quot; 0; font-variation-settings: normal; line-height: 19px; letter-spacing: 0px; display: block; visibility: hidden; padding-left: 1px; width: 2px;"></div></div></div><div role="presentation" aria-hidden="true" class="invisible scrollbar horizontal" style="position: absolute; width: 777px; height: 10px; left: 0px; bottom: 0px;"><div class="slider" style="position: absolute; top: 0px; left: 0px; height: 10px; transform: translate3d(0px, 0px, 0px); contain: strict; will-change: unset; width: 777px;"></div></div><canvas class="decorationsOverviewRuler" aria-hidden="true" width="14" height="105" style="position: absolute; transform: translate3d(0px, 0px, 0px); contain: strict; top: 0px; right: 0px; width: 14px; height: 105px; will-change: unset; display: block;"></canvas><div role="presentation" aria-hidden="true" class="invisible scrollbar vertical" style="position: absolute; width: 14px; height: 105px; right: 0px; top: 0px;"><div class="slider" style="position: absolute; top: 0px; left: 0px; width: 14px; transform: translate3d(0px, 0px, 0px); contain: strict; will-change: unset; height: 105px;"></div></div></div><div role="presentation" aria-hidden="true" style="width: 797px;"></div><textarea data-mprt="6" class="inputarea monaco-mouse-cursor-text" wrap="on" autocorrect="off" autocapitalize="off" autocomplete="off" spellcheck="false" aria-label="Editor content;Press Alt+F1 for Accessibility Options." tabindex="0" role="textbox" aria-roledescription="editor" aria-multiline="true" aria-haspopup="false" aria-autocomplete="both" style="tab-size: 14px; font-family: monospace, Consolas, &quot;Courier New&quot;, monospace; font-weight: normal; font-size: 14px; font-feature-settings: &quot;liga&quot; 0, &quot;calt&quot; 0; font-variation-settings: normal; line-height: 19px; letter-spacing: 0px; top: 76px; left: 6px; width: 70000px; height: 1px;"></textarea><div style="position: absolute; top: 0px; left: 0px; width: 0px; height: 0px;" class="monaco-editor-background textAreaCover"></div><div data-mprt="4" class="overlayWidgets" style="width: 797px;"></div><div data-mprt="8" class="minimap slider-mouseover" role="presentation" aria-hidden="true" style="position: absolute; left: 0px; width: 0px; height: 105px;"><div class="minimap-shadow-hidden" style="height: 105px;"></div><canvas width="0" height="105" style="position: absolute; left: 0px; width: 0px; height: 105px;"></canvas><canvas class="minimap-decorations-layer" width="0" height="105" style="position: absolute; left: 0px; width: 0px; height: 105px;"></canvas><div class="minimap-slider" style="position: absolute; transform: translate3d(0px, 0px, 0px); contain: strict; width: 0px; will-change: unset;"><div class="minimap-slider-horizontal" style="position: absolute; width: 0px; height: 0px;"></div></div></div><div role="presentation" aria-hidden="true" class="blockDecorations-container"></div></div><div data-mprt="2" class="overflowingContentWidgets" style="display: none;"><div widgetid="editor.contrib.resizableContentHoverWidget" style="position: fixed; height: 10px; width: 10px; z-index: 50; display: none; visibility: hidden; max-width: 958px;"><div class="monaco-sash vertical" style="left: 8px;"></div><div class="monaco-sash vertical" style="left: -2px;"></div><div class="monaco-sash orthogonal-edge-north horizontal" style="top: -2px;"><div class="orthogonal-drag-handle start"></div><div class="orthogonal-drag-handle end"></div></div><div class="monaco-sash orthogonal-edge-south horizontal" style="top: 8px;"><div class="orthogonal-drag-handle start"></div><div class="orthogonal-drag-handle end"></div></div><div class="monaco-hover hidden" tabindex="0" role="tooltip"><div class="monaco-scrollable-element " role="presentation" style="position: relative; overflow: hidden;"><div class="monaco-hover-content" style="overflow: hidden; font-size: 14px; line-height: 1.35714; max-width: 526.02px; max-height: 250px;"></div><div role="presentation" aria-hidden="true" class="invisible scrollbar horizontal" style="position: absolute;"><div class="slider" style="position: absolute; top: 0px; left: 0px; height: 10px; transform: translate3d(0px, 0px, 0px); contain: strict;"></div></div><div role="presentation" aria-hidden="true" class="invisible scrollbar vertical" style="position: absolute;"><div class="slider" style="position: absolute; top: 0px; left: 0px; width: 10px; transform: translate3d(0px, 0px, 0px); contain: strict;"></div></div><div class="shadow"></div><div class="shadow"></div><div class="shadow"></div></div></div></div><div class="editor-widget suggest-widget" widgetid="editor.widget.suggestWidget" style="position: fixed; display: none; visibility: hidden; max-width: 958px; height: 40px; width: 430px; top: 317.516px; left: 346px;"><div class="monaco-sash vertical" style="left: 428px;"></div><div class="monaco-sash vertical disabled" style="left: -2px;"></div><div class="monaco-sash orthogonal-edge-north horizontal disabled" style="top: -2px;"><div class="orthogonal-drag-handle end"></div></div><div class="monaco-sash orthogonal-edge-south horizontal" style="top: 38px;"><div class="orthogonal-drag-handle end"></div></div><div class="message" aria-hidden="true" style="display: none;"></div><div class="tree" style="height: 40px; display: none;" aria-hidden="true"><div class="monaco-list list_id_124 selection-none" tabindex="0" role="listbox" aria-label="Suggest"><div class="monaco-scrollable-element " role="presentation" style="position: relative; overflow: hidden;"><div class="monaco-list-rows" style="transform: translate3d(0px, 0px, 0px); overflow: hidden; contain: strict; height: 0px; left: 0px; top: 0px;"></div><div role="presentation" aria-hidden="true" class="invisible scrollbar horizontal" style="position: absolute; width: 0px; height: 10px; left: 0px; bottom: 0px;"><div class="slider" style="position: absolute; top: 0px; left: 0px; height: 10px; transform: translate3d(0px, 0px, 0px); contain: strict; width: 0px;"></div></div><div role="presentation" aria-hidden="true" class="invisible scrollbar vertical" style="position: absolute; width: 10px; height: 40px; right: 0px; top: 0px;"><div class="slider" style="position: absolute; top: 0px; left: 0px; width: 10px; transform: translate3d(0px, 0px, 0px); contain: strict; height: 40px;"></div></div></div><style type="text/css" media="screen">.monaco-list.list_id_124:focus .monaco-list-row.focused { background-color: var(--vscode-list-focusBackground); }
.monaco-list.list_id_124:focus .monaco-list-row.focused:hover { background-color: var(--vscode-list-focusBackground); }
.monaco-list.list_id_124:focus .monaco-list-row.focused { color: var(--vscode-list-focusForeground); }
.monaco-list.list_id_124:focus .monaco-list-row.selected { background-color: var(--vscode-list-activeSelectionBackground); }
.monaco-list.list_id_124:focus .monaco-list-row.selected:hover { background-color: var(--vscode-list-activeSelectionBackground); }
.monaco-list.list_id_124:focus .monaco-list-row.selected { color: var(--vscode-list-activeSelectionForeground); }
.monaco-list.list_id_124:focus .monaco-list-row.selected .codicon { color: var(--vscode-list-activeSelectionIconForeground); }

				.monaco-drag-image,
				.monaco-list.list_id_124:focus .monaco-list-row.selected.focused { background-color: var(--vscode-list-activeSelectionBackground); }
			

				.monaco-drag-image,
				.monaco-list.list_id_124:focus .monaco-list-row.selected.focused { color: var(--vscode-list-activeSelectionForeground); }
			
.monaco-list.list_id_124 .monaco-list-row.focused .codicon { color:  var(--vscode-list-inactiveSelectionIconForeground); }
.monaco-list.list_id_124 .monaco-list-row.focused { background-color:  var(--vscode-editorSuggestWidget-selectedBackground); }
.monaco-list.list_id_124 .monaco-list-row.focused:hover { background-color:  var(--vscode-editorSuggestWidget-selectedBackground); }
.monaco-list.list_id_124 .monaco-list-row.selected { background-color:  var(--vscode-list-inactiveSelectionBackground); }
.monaco-list.list_id_124 .monaco-list-row.selected:hover { background-color:  var(--vscode-list-inactiveSelectionBackground); }
.monaco-list.list_id_124 .monaco-list-row.selected { color: var(--vscode-list-inactiveSelectionForeground); }
.monaco-list.list_id_124:not(.drop-target):not(.dragging) .monaco-list-row:hover:not(.selected):not(.focused) { background-color: var(--vscode-list-hoverBackground); }
.monaco-list.list_id_124:not(.drop-target):not(.dragging) .monaco-list-row:hover:not(.selected):not(.focused) { color:  var(--vscode-list-hoverForeground); }
.monaco-list.list_id_124:focus .monaco-list-row.focused.selected { outline: 1px solid var(--vscode-list-focusAndSelectionOutline, var(--vscode-contrastActiveBorder, var(--vscode-list-focusOutline))); outline-offset: -1px;}

				.monaco-drag-image,
				.monaco-list.list_id_124:focus .monaco-list-row.focused { outline: 1px solid var(--vscode-list-focusOutline); outline-offset: -1px; }
				.monaco-workbench.context-menu-visible .monaco-list.list_id_124.last-focused .monaco-list-row.focused { outline: 1px solid var(--vscode-list-focusOutline); outline-offset: -1px; }
			
.monaco-list.list_id_124 .monaco-list-row.focused.selected { outline: 1px dotted var(--vscode-contrastActiveBorder, var(--vscode-contrastActiveBorder)); outline-offset: -1px; }
.monaco-list.list_id_124 .monaco-list-row.selected { outline: 1px dotted var(--vscode-contrastActiveBorder); outline-offset: -1px; }
.monaco-list.list_id_124 .monaco-list-row.focused { outline: 1px dotted var(--vscode-contrastActiveBorder); outline-offset: -1px; }
.monaco-list.list_id_124 .monaco-list-row:hover { outline: 1px dashed var(--vscode-contrastActiveBorder); outline-offset: -1px; }

				.monaco-list.list_id_124.drop-target,
				.monaco-list.list_id_124 .monaco-list-rows.drop-target,
				.monaco-list.list_id_124 .monaco-list-row.drop-target { background-color: var(--vscode-list-dropBackground) !important; color: inherit !important; }
			

				.monaco-table > .monaco-split-view2,
				.monaco-table > .monaco-split-view2 .monaco-sash.vertical::before,
				.monaco-workbench:not(.reduce-motion) .monaco-table:hover > .monaco-split-view2,
				.monaco-workbench:not(.reduce-motion) .monaco-table:hover > .monaco-split-view2 .monaco-sash.vertical::before {
					border-color: var(--vscode-tree-tableColumnsBorder);
				}

				.monaco-workbench:not(.reduce-motion) .monaco-table > .monaco-split-view2,
				.monaco-workbench:not(.reduce-motion) .monaco-table > .monaco-split-view2 .monaco-sash.vertical::before {
					border-color: transparent;
				}
			

				.monaco-table .monaco-list-row[data-parity=odd]:not(.focused):not(.selected):not(:hover) .monaco-table-tr,
				.monaco-table .monaco-list:not(:focus) .monaco-list-row[data-parity=odd].focused:not(.selected):not(:hover) .monaco-table-tr,
				.monaco-table .monaco-list:not(.focused) .monaco-list-row[data-parity=odd].focused:not(.selected):not(:hover) .monaco-table-tr {
					background-color: var(--vscode-tree-tableOddRowsBackground);
				}
			</style></div></div><div class="suggest-status-bar" style="height: 19px; display: none;" aria-hidden="true"><div class="monaco-action-bar animated left"><ul class="actions-container" role="presentation"><li class="action-item menu-entry" role="presentation" title="Insert (Enter)"><a class="action-label" role="button" aria-label="Insert (Enter)" aria-checked="" tabindex="0">Insert (⏎)</a></li></ul></div><div class="monaco-action-bar animated right"><ul class="actions-container" role="presentation"><li class="action-item menu-entry" role="presentation" title="show more (Ctrl+Space)"><a class="action-label" role="button" aria-label="show more (Ctrl+Space)" aria-checked="" tabindex="0">show more (Ctrl+Space)</a></li></ul></div></div></div></div><div class=".in-cell-overflowing"><div widgetid="editor.contrib.quickInputWidget" style="position: absolute; top: 0px; right: 50%;"></div></div></div></div></div><colab-form class="formview vertical layout flex"><div class="widget-area vertical layout"></div></colab-form></div>
    <div class="output" aria-label="셀 31 출력" role="region"><!----> <div class="output-header"> </div>
        <div class="output-content">
          <div class="output-info"><colab-output-info><template shadowrootmode="open"><!----><md-icon-button data-aria-expanded="false" data-aria-haspopup="menu" aria-describedby="button-output-actions-tooltip" data-aria-label="코드 셀 출력 작업" id="button-output-actions" value=""><template shadowrootmode="open" shadowrootdelegatesfocus><!----><button id="button" class="icon-button  standard " aria-label="코드 셀 출력 작업" aria-haspopup="menu" aria-expanded="false">
        <!--?lit$764986503$--><md-focus-ring part="focus-ring" for="button" aria-hidden="true"><template shadowrootmode="open"><!----></template></md-focus-ring>
        <!--?lit$764986503$--><md-ripple aria-hidden="true"><template shadowrootmode="open"><!----><div class="surface   "></div></template></md-ripple>
        <!--?lit$764986503$--><span class="icon"><slot></slot></span>
        <!--?lit$764986503$-->
        <!--?lit$764986503$--><span class="touch"></span>
  </button></template>
        <md-icon aria-hidden="true"><template shadowrootmode="open"><!----><slot></slot></template><!--?lit$764986503$--><svg viewBox="0 0 24 24"><!--?lit$764986503$--><path d="m15.9 3.07c-4.32 0.0742-8.64-0.0355-13 0.0568-1.37 0.307-1.74 2.1-1.41 3.26 0.469 0.606 1.86 0.384 1.66-0.525 0.0448-0.329-0.183-0.93 0.354-0.766h13.3v1.53h1.71c0.0709-1.13 0.141-2.62-0.968-3.3-0.511-0.264-1.11-0.252-1.67-0.259zm2.94 6.84v4.87c1.62-1.62 3.24-3.24 4.87-4.87h-4.87zm0 0h-1.71v3.43l1.57 1.57c0.32-1.65 0.0556-3.34 0.135-5zm-1.71 3.43v-3.43h-3.43c1.14 1.14 2.29 2.29 3.43 3.43zm1.4 4.27h-1.71v1.48h-13.6v-1.48h-1.71c-0.0473 1.15-0.16 2.72 1.09 3.29 1.47 0.506 3.02 0.0265 4.53 0.192 3.34-0.0051 6.68 0.0336 10-0.0245 1.49-0.366 1.56-2.22 1.42-3.45zm-10.1-1.12c-0.398-0.483-0.796-0.967-1.19-1.45 0.59-0.683 1.18-1.37 1.77-2.05h-8.67v-2h8.67c-0.59-0.683-1.18-1.37-1.77-2.05 0.398-0.483 0.796-0.967 1.19-1.45 1.28 1.5 2.56 3 3.84 4.5-1.28 1.5-2.56 3-3.84 4.5z"></path></svg></md-icon>
      </md-icon-button>
      <colab-tooltip-trigger aria-hidden="true" id="button-output-actions-tooltip" for="button-output-actions" message="코드 셀 출력 작업"><template shadowrootmode="open"><!----><!--?lit$764986503$--><!----><div><!--?lit$764986503$-->코드 셀 출력 작업</div><!----><!--?--></template></colab-tooltip-trigger></template></colab-output-info></div>
          <div class="output-iframe-container">
            <div class="output-iframe-sizer" style="min-height: 0px;"> <div><div><colab-static-output-renderer tabindex="0" role="group"><div><div class="stream output-id-1 output_text"><pre>21
[3, 6, 9, 12, 15, 18, 21, 24, 27]
</pre></div></div><div></div></colab-static-output-renderer></div></div><div><div></div></div></div>
          </div>
        </div></div><colab-cell-next-steps><template shadowrootmode="open"><!----></template></colab-cell-next-steps></div></div></div><div class="add-cell">
      <div class="add-cell-buttons">
        <md-outlined-button class="add-code add-button" data-aria-label="코드 셀 추가
Ctrl+M B" title="코드 셀 추가
Ctrl+M B" value="" has-icon=""><template shadowrootmode="open" shadowrootdelegatesfocus><!---->
      <!--?lit$764986503$--><div class="outline"></div>
      <div class="background"></div>
      <md-focus-ring part="focus-ring" for="button" aria-hidden="true"><template shadowrootmode="open"><!----></template></md-focus-ring>
      <md-ripple part="ripple" for="button" aria-hidden="true"><template shadowrootmode="open"><!----><div class="surface"></div></template></md-ripple>
      <!--?lit$764986503$--><button id="button" class="button" aria-label="코드 셀 추가
Ctrl+M B">
      <!--?lit$764986503$-->
      <span class="touch"></span>
      <!--?lit$764986503$--><slot name="icon"></slot>
      <span class="label"><slot></slot></span>
      <!--?lit$764986503$-->
    
    </button>
    </template>
          <md-icon slot="icon" aria-hidden="true"><template shadowrootmode="open"><!----><slot></slot></template>add</md-icon>
          <!--?lit$764986503$-->코드
        </md-outlined-button>
        <md-outlined-button class="add-text add-button" data-aria-label="텍스트 셀 추가" title="텍스트 셀 추가" value="" has-icon=""><template shadowrootmode="open" shadowrootdelegatesfocus><!---->
      <!--?lit$764986503$--><div class="outline"></div>
      <div class="background"></div>
      <md-focus-ring part="focus-ring" for="button" aria-hidden="true"><template shadowrootmode="open"><!----></template></md-focus-ring>
      <md-ripple part="ripple" for="button" aria-hidden="true"><template shadowrootmode="open"><!----><div class="surface   "></div></template></md-ripple>
      <!--?lit$764986503$--><button id="button" class="button" aria-label="텍스트 셀 추가">
      <!--?lit$764986503$-->
      <span class="touch"></span>
      <!--?lit$764986503$--><slot name="icon"></slot>
      <span class="label"><slot></slot></span>
      <!--?lit$764986503$-->
    
    </button>
    </template>
          <md-icon slot="icon" aria-hidden="true"><template shadowrootmode="open"><!----><slot></slot></template>add</md-icon>
          <!--?lit$764986503$-->텍스트
        </md-outlined-button>
        <!--?lit$764986503$-->
        <!--?lit$764986503$-->
      </div><hr>
    </div></div><div class="cell code notebook-cell focused code-has-output" id="cell-LgqGiTabUvg3" tabindex="-1" role="region" aria-label="셀 32: 코드 셀: " style="opacity: 1;"><div class="cell-tag-editor sticky"></div><div class="agent-focus-label">
      <md-icon aria-hidden="true"><template shadowrootmode="open"><!----><slot></slot></template>spark</md-icon>
      <!--?lit$764986503$-->Gemini
    </div><div class="cell-toolbar sticky"><colab-cell-toolbar><template shadowrootmode="open"><!----><!--?lit$764986503$--><!----> <md-icon-button touch-target="none" aria-describedby="button-move-cell-up-tooltip" data-aria-label="위로 셀 이동
Ctrl+M K" command="move-cell-up" id="button-move-cell-up" value=""><template shadowrootmode="open" shadowrootdelegatesfocus><!----><button id="button" class="icon-button  standard " aria-label="위로 셀 이동
Ctrl+M K">
        <!--?lit$764986503$--><md-focus-ring part="focus-ring" for="button" aria-hidden="true"><template shadowrootmode="open"><!----></template></md-focus-ring>
        <!--?lit$764986503$--><md-ripple aria-hidden="true"><template shadowrootmode="open"><!----><div class="surface   "></div></template></md-ripple>
        <!--?lit$764986503$--><span class="icon"><slot></slot></span>
        <!--?lit$764986503$-->
        <!--?lit$764986503$--><span class="touch"></span>
  </button></template>
        <md-icon aria-hidden="true"><template shadowrootmode="open"><!----><slot></slot></template><!--?lit$764986503$-->arrow_upward</md-icon>
        <!--?lit$764986503$-->
      </md-icon-button>
      <colab-tooltip-trigger aria-hidden="true" for="button-move-cell-up" id="button-move-cell-up-tooltip" message="위로 셀 이동
Ctrl+M K"><template shadowrootmode="open"><!----><!--?lit$764986503$--><!----><div><!--?lit$764986503$-->위로 셀 이동</div><!----><!----><div><!--?lit$764986503$-->Ctrl+M K</div><!----><!--?--></template>
      </colab-tooltip-trigger><!----><!----> <md-icon-button touch-target="none" aria-describedby="button-move-cell-down-tooltip" data-aria-label="아래로 셀 이동
Ctrl+M J" command="move-cell-down" id="button-move-cell-down" soft-disabled="" value=""><template shadowrootmode="open" shadowrootdelegatesfocus><!----><button id="button" class="icon-button  standard " aria-label="아래로 셀 이동
Ctrl+M J" aria-disabled="true">
        <!--?lit$764986503$--><md-focus-ring part="focus-ring" for="button" aria-hidden="true"><template shadowrootmode="open"><!----></template></md-focus-ring>
        <!--?lit$764986503$--><md-ripple disabled="" aria-hidden="true"><template shadowrootmode="open"><!----><div class="surface   "></div></template></md-ripple>
        <!--?lit$764986503$--><span class="icon"><slot></slot></span>
        <!--?lit$764986503$-->
        <!--?lit$764986503$--><span class="touch"></span>
  </button></template>
        <md-icon aria-hidden="true"><template shadowrootmode="open"><!----><slot></slot></template><!--?lit$764986503$-->arrow_downward</md-icon>
        <!--?lit$764986503$-->
      </md-icon-button>
      <colab-tooltip-trigger aria-hidden="true" for="button-move-cell-down" id="button-move-cell-down-tooltip" message="아래로 셀 이동
Ctrl+M J"><template shadowrootmode="open"><!----><!--?lit$764986503$--><!----><div><!--?lit$764986503$-->아래로 셀 이동</div><!----><!----><div><!--?lit$764986503$-->Ctrl+M J</div><!----><!--?--></template>
      </colab-tooltip-trigger><!----><!----><!--?lit$764986503$--><md-menu positioning="popover" quick="" aria-labelledby="ai-menu-anchor-LgqGiTabUvg3" anchor="ai-menu-anchor-LgqGiTabUvg3" aria-hidden="true"><template shadowrootmode="open"><!---->
      <div class="menu   " popover="manual" style="display: none;">
        <!--?lit$764986503$--><md-elevation part="elevation" aria-hidden="true"><template shadowrootmode="open"><!----><span class="shadow"></span></template></md-elevation>
        <div class="items">
          <div class="item-padding"> <!--?lit$764986503$--><slot></slot> </div>
        </div>
      </div>
    </template>
    <!--?lit$764986503$--><!----><md-menu-item command="generate-code" md-menu-item="" tabindex="0"><template shadowrootmode="open" shadowrootdelegatesfocus><!---->
      <li id="item" tabindex="0" role="menuitem" class="list-item   "><!--?lit$764986503$-->
      <md-item><template shadowrootmode="open"><!---->
      <slot name="container"></slot>
      <slot class="non-text" name="start"></slot>
      <div class="text">
        <slot name="overline"></slot>
        <slot class="default-slot"></slot>
        <slot name="headline"></slot>
        <slot name="supporting-text"></slot>
      </div>
      <slot class="non-text" name="trailing-supporting-text"></slot>
      <slot class="non-text" name="end"></slot>
    </template>
        <div slot="container">
          <!--?lit$764986503$--> <md-ripple part="ripple" for="item" aria-hidden="true"><template shadowrootmode="open"><!----><div class="surface   "></div></template></md-ripple> <!--?lit$764986503$--> <md-focus-ring part="focus-ring" for="item" inward="" aria-hidden="true"><template shadowrootmode="open"><!----></template></md-focus-ring>
        </div>
        <slot name="start" slot="start"></slot>
        <slot name="end" slot="end"></slot>
        <!--?lit$764986503$-->
      <slot></slot>
      <slot name="overline" slot="overline"></slot>
      <slot name="headline" slot="headline"></slot>
      <slot name="supporting-text" slot="supporting-text"></slot>
      <slot name="trailing-supporting-text" slot="trailing-supporting-text"></slot>
    
      </md-item>
    </li>
    </template>
    <span slot="headline"><!--?lit$764986503$-->코드 생성</span>
  </md-menu-item><!----><!----><md-menu-item command="explain-cell" md-menu-item="" tabindex="-1"><template shadowrootmode="open" shadowrootdelegatesfocus><!---->
      <li id="item" tabindex="0" role="menuitem" class="list-item   "><!--?lit$764986503$-->
      <md-item><template shadowrootmode="open"><!---->
      <slot name="container"></slot>
      <slot class="non-text" name="start"></slot>
      <div class="text">
        <slot name="overline"></slot>
        <slot class="default-slot"></slot>
        <slot name="headline"></slot>
        <slot name="supporting-text"></slot>
      </div>
      <slot class="non-text" name="trailing-supporting-text"></slot>
      <slot class="non-text" name="end"></slot>
    </template>
        <div slot="container">
          <!--?lit$764986503$--> <md-ripple part="ripple" for="item" aria-hidden="true"><template shadowrootmode="open"><!----><div class="surface   "></div></template></md-ripple> <!--?lit$764986503$--> <md-focus-ring part="focus-ring" for="item" inward="" aria-hidden="true"><template shadowrootmode="open"><!----></template></md-focus-ring>
        </div>
        <slot name="start" slot="start"></slot>
        <slot name="end" slot="end"></slot>
        <!--?lit$764986503$-->
      <slot></slot>
      <slot name="overline" slot="overline"></slot>
      <slot name="headline" slot="headline"></slot>
      <slot name="supporting-text" slot="supporting-text"></slot>
      <slot name="trailing-supporting-text" slot="trailing-supporting-text"></slot>
    
      </md-item>
    </li>
    </template>
    <span slot="headline"><!--?lit$764986503$-->코드 설명</span>
  </md-menu-item><!----><!----><md-menu-item command="transform-code" md-menu-item="" tabindex="-1"><template shadowrootmode="open" shadowrootdelegatesfocus><!---->
      <li id="item" tabindex="0" role="menuitem" class="list-item   "><!--?lit$764986503$-->
      <md-item><template shadowrootmode="open"><!---->
      <slot name="container"></slot>
      <slot class="non-text" name="start"></slot>
      <div class="text">
        <slot name="overline"></slot>
        <slot class="default-slot"></slot>
        <slot name="headline"></slot>
        <slot name="supporting-text"></slot>
      </div>
      <slot class="non-text" name="trailing-supporting-text"></slot>
      <slot class="non-text" name="end"></slot>
    </template>
        <div slot="container">
          <!--?lit$764986503$--> <md-ripple part="ripple" for="item" aria-hidden="true"><template shadowrootmode="open"><!----><div class="surface   "></div></template></md-ripple> <!--?lit$764986503$--> <md-focus-ring part="focus-ring" for="item" inward="" aria-hidden="true"><template shadowrootmode="open"><!----></template></md-focus-ring>
        </div>
        <slot name="start" slot="start"></slot>
        <slot name="end" slot="end"></slot>
        <!--?lit$764986503$-->
      <slot></slot>
      <slot name="overline" slot="overline"></slot>
      <slot name="headline" slot="headline"></slot>
      <slot name="supporting-text" slot="supporting-text"></slot>
      <slot name="trailing-supporting-text" slot="trailing-supporting-text"></slot>
    
      </md-item>
    </li>
    </template>
    <span slot="headline"><!--?lit$764986503$-->코드 변환</span>
  </md-menu-item><!---->
  </md-menu>
          <md-icon-button touch-target="none" data-aria-haspopup="menu" data-aria-expanded="false" aria-describedby="ai-menu-anchor-LgqGiTabUvg3-tooltip" data-aria-label="사용 가능한 AI 기능" id="ai-menu-anchor-LgqGiTabUvg3" value=""><template shadowrootmode="open" shadowrootdelegatesfocus><!----><button id="button" class="icon-button  standard " aria-label="사용 가능한 AI 기능" aria-haspopup="menu" aria-expanded="false">
        <!--?lit$764986503$--><md-focus-ring part="focus-ring" for="button" aria-hidden="true"><template shadowrootmode="open"><!----></template></md-focus-ring>
        <!--?lit$764986503$--><md-ripple aria-hidden="true"><template shadowrootmode="open"><!----><div class="surface   "></div></template></md-ripple>
        <!--?lit$764986503$--><span class="icon"><slot></slot></span>
        <!--?lit$764986503$-->
        <!--?lit$764986503$--><span class="touch"></span>
  </button></template>
            <md-icon aria-hidden="true"><template shadowrootmode="open"><!----><slot></slot></template>
              <!--?lit$764986503$-->pen_spark
            </md-icon>
          </md-icon-button>
          <colab-tooltip-trigger aria-hidden="true" for="ai-menu-anchor-LgqGiTabUvg3" id="ai-menu-anchor-LgqGiTabUvg3-tooltip" message="사용 가능한 AI 기능"><template shadowrootmode="open"><!----><!--?lit$764986503$--><!----><div><!--?lit$764986503$-->사용 가능한 AI 기능</div><!----><!--?--></template>
          </colab-tooltip-trigger><!----><!----> <md-icon-button touch-target="none" aria-describedby="button-toggle-edit-markdown-tooltip" data-aria-label="수정" command="toggle-edit-markdown" id="button-toggle-edit-markdown" toggle="" style="display: none;" value=""><template shadowrootmode="open" shadowrootdelegatesfocus><!----><button id="button" class="icon-button  standard " aria-label="수정" aria-pressed="false">
        <!--?lit$764986503$--><md-focus-ring part="focus-ring" for="button" aria-hidden="true"><template shadowrootmode="open"><!----></template></md-focus-ring>
        <!--?lit$764986503$--><md-ripple aria-hidden="true"><template shadowrootmode="open"><!----><div class="surface   "></div></template></md-ripple>
        <!--?lit$764986503$--><span class="icon"><slot></slot></span>
        <!--?lit$764986503$-->
        <!--?lit$764986503$--><span class="touch"></span>
  </button></template>
        <md-icon aria-hidden="true"><template shadowrootmode="open"><!----><slot></slot></template><!--?lit$764986503$-->edit</md-icon>
        <!--?lit$764986503$--><md-icon slot="selected" aria-hidden="true"><template shadowrootmode="open"><!----><slot></slot></template><!--?lit$764986503$-->edit_off</md-icon>
      </md-icon-button>
      <colab-tooltip-trigger aria-hidden="true" for="button-toggle-edit-markdown" id="button-toggle-edit-markdown-tooltip" message="수정"><template shadowrootmode="open"><!----><!--?lit$764986503$--><!----><div><!--?lit$764986503$-->수정</div><!----><!--?--></template>
      </colab-tooltip-trigger><!----><!----> <md-icon-button touch-target="none" aria-describedby="button-delete-cell-or-selection-tooltip" data-aria-label="셀 삭제
Ctrl+M D" command="delete-cell-or-selection" id="button-delete-cell-or-selection" value=""><template shadowrootmode="open" shadowrootdelegatesfocus><!----><button id="button" class="icon-button  standard " aria-label="셀 삭제
Ctrl+M D">
        <!--?lit$764986503$--><md-focus-ring part="focus-ring" for="button" aria-hidden="true"><template shadowrootmode="open"><!----></template></md-focus-ring>
        <!--?lit$764986503$--><md-ripple aria-hidden="true"><template shadowrootmode="open"><!----><div class="surface   "></div></template></md-ripple>
        <!--?lit$764986503$--><span class="icon"><slot></slot></span>
        <!--?lit$764986503$-->
        <!--?lit$764986503$--><span class="touch"></span>
  </button></template>
        <md-icon aria-hidden="true"><template shadowrootmode="open"><!----><slot></slot></template><!--?lit$764986503$-->delete</md-icon>
        <!--?lit$764986503$-->
      </md-icon-button>
      <colab-tooltip-trigger aria-hidden="true" for="button-delete-cell-or-selection" id="button-delete-cell-or-selection-tooltip" message="셀 삭제
Ctrl+M D"><template shadowrootmode="open"><!----><!--?lit$764986503$--><!----><div><!--?lit$764986503$-->셀 삭제</div><!----><!----><div><!--?lit$764986503$-->Ctrl+M D</div><!----><!--?--></template>
      </colab-tooltip-trigger><!----><!--?lit$764986503$--><md-icon-button touch-target="none" data-aria-expanded="false" data-aria-haspopup="menu" aria-describedby="button-more-actions-tooltip" data-aria-label="셀 작업 더보기" class="cell-toolbar-more" id="button-more-actions" value=""><template shadowrootmode="open" shadowrootdelegatesfocus><!----><button id="button" class="icon-button  standard " aria-label="셀 작업 더보기" aria-haspopup="menu" aria-expanded="false">
        <!--?lit$764986503$--><md-focus-ring part="focus-ring" for="button" aria-hidden="true"><template shadowrootmode="open"><!----></template></md-focus-ring>
        <!--?lit$764986503$--><md-ripple aria-hidden="true"><template shadowrootmode="open"><!----><div class="surface   "></div></template></md-ripple>
        <!--?lit$764986503$--><span class="icon"><slot></slot></span>
        <!--?lit$764986503$-->
        <!--?lit$764986503$--><span class="touch"></span>
  </button></template><md-icon aria-hidden="true"><template shadowrootmode="open"><!----><slot></slot></template>more_vert</md-icon>
      </md-icon-button>
      <colab-tooltip-trigger aria-hidden="true" for="button-more-actions" id="button-more-actions-tooltip" message="셀 작업 더보기"><template shadowrootmode="open"><!----><!--?lit$764986503$--><!----><div><!--?lit$764986503$-->셀 작업 더보기</div><!----><!--?--></template>
      </colab-tooltip-trigger><!--?--></template></colab-cell-toolbar></div><div class="main-content"><div class="cell-contents"><div class="cell-mask"></div><span class="imported-info-area"></span><div class="codecell-input-output">
      <div class="inputarea horizontal layout code">
        <div class="cell-gutter">
          <!-- Bounding range for vertical scrolling of icons -->
          <div class="cell-execution-container">
            <colab-run-button><template shadowrootmode="open"><!----> <div class="cell-execution focused">
      <button id="run-button" aria-describedby="run-button-tooltip" aria-label="셀 실행" aria-disabled="false">
        <span aria-hidden="true" class="cell-execution-indicator"><!--?lit$764986503$-->
<svg xmlns="http://www.w3.org/2000/svg" viewBox="0 0 24 24">
  <!--?lit$764986503$-->
  <mask id="playSymbolMask">
    <rect width="100%" height="100%" fill="white"></rect>
    <polygon points="10,8 17,12 10,16" fill="black"></polygon>
  </mask>
  <circle cx="12" cy="12" r="7.8" mask="url(#playSymbolMask)" id="filledCircle"></circle>
</svg></span>
      </button>
      <!--?lit$764986503$--><colab-tooltip-trigger for="run-button" id="run-button-tooltip" aria-hidden="true" message="셀 실행 (Ctrl+Enter)
마지막 변경 이후 실행된 셀

임민우컴퓨터공학과에 의해 실행됨
오전 11:09 (0분 전)
0.006초 내에 실행됨"><template shadowrootmode="open"><!----><!--?lit$764986503$--><!----><div><!--?lit$764986503$-->셀 실행 (Ctrl+Enter)</div><!----><!----><div><!--?lit$764986503$-->마지막 변경 이후 실행된 셀</div><!----><!----><br><!----><!----><div><!--?lit$764986503$-->임민우컴퓨터공학과에 의해 실행됨</div><!----><!----><div><!--?lit$764986503$-->오전 11:09 (0분 전)</div><!----><!----><div><!--?lit$764986503$-->0.006초 내에 실행됨</div><!----><!--?--></template>
    </colab-tooltip-trigger> <!--?lit$764986503$--><div class="status">
      <div class="execution-count"><!--?lit$764986503$-->[46]</div>
      <!--?lit$764986503$--><div class="last-run">
      <md-icon aria-hidden="true"><template shadowrootmode="open"><!----><slot></slot></template><!--?lit$764986503$-->check</md-icon>
      <div><!--?lit$764986503$-->0초</div>
    </div>
    </div>
    </div></template></colab-run-button>
          </div>
        </div>
      <div class="editor flex lazy-editor" style=""><div class="editor flex monaco" data-keybinding-context="125" data-mode-id="notebook-python" style="height: 105px; --vscode-editorCodeLens-lineHeight: 16px; --vscode-editorCodeLens-fontSize: 12px; --vscode-editorCodeLens-fontFeatureSettings: &quot;liga&quot; off, &quot;calt&quot; off;"><div class="monaco-editor no-user-select  showUnused showDeprecated vs" role="code" data-uri="inmemory://model/54" style="width: 797px; height: 105px;"><div data-mprt="3" class="overflow-guard" style="width: 797px; height: 105px; overflow: clip;"><div class="margin" role="presentation" aria-hidden="true" style="position: absolute; contain: strict; will-change: unset; top: 0px; height: 105px; width: 6px;"><div class="glyph-margin" style="left: 0px; width: 0px; height: 105px;"></div><div class="margin-view-zones" role="presentation" aria-hidden="true" style="position: absolute; width: 6px;"></div><div class="margin-view-overlays" role="presentation" aria-hidden="true" style="position: absolute; font-family: monospace, Consolas, &quot;Courier New&quot;, monospace; font-weight: normal; font-size: 14px; font-feature-settings: &quot;liga&quot; 0, &quot;calt&quot; 0; font-variation-settings: normal; line-height: 19px; letter-spacing: 0px; width: 6px; height: 105px;"><div style="position:absolute;top:0px;width:100%;height:19px;"></div><div style="position:absolute;top:19px;width:100%;height:19px;"></div><div style="position:absolute;top:38px;width:100%;height:19px;"></div><div style="position:absolute;top:57px;width:100%;height:19px;"></div><div style="position:absolute;top:76px;width:100%;height:19px;"><div class="current-line current-line-margin-both" style="width:6px; height:19px;"></div></div></div><div class="glyph-margin-widgets" style="position: absolute; top: 0px;"></div></div><div class="monaco-scrollable-element editor-scrollable vs" role="presentation" data-mprt="5" style="position: absolute; overflow: hidden; left: 6px; width: 791px; height: 105px;"><div class="lines-content monaco-editor-background" style="position: absolute; overflow: hidden; width: 1e+06px; height: 105px; contain: strict; will-change: unset; top: 0px; left: 0px;"><div class="view-overlays" role="presentation" aria-hidden="true" style="position: absolute; font-family: monospace, Consolas, &quot;Courier New&quot;, monospace; font-weight: normal; font-size: 14px; font-feature-settings: &quot;liga&quot; 0, &quot;calt&quot; 0; font-variation-settings: normal; line-height: 19px; letter-spacing: 0px; height: 0px; width: 791px;"><div style="position:absolute;top:0px;width:100%;height:19px;"></div><div style="position:absolute;top:19px;width:100%;height:19px;"></div><div style="position:absolute;top:38px;width:100%;height:19px;"></div><div style="position:absolute;top:57px;width:100%;height:19px;"></div><div style="position:absolute;top:76px;width:100%;height:19px;"><div class="current-line" style="width:791px; height:19px;"></div></div></div><div role="presentation" aria-hidden="true" class="view-rulers"></div><div class="view-zones" role="presentation" aria-hidden="true" style="position: absolute; width: 791px;"></div><div class="view-lines monaco-mouse-cursor-text" role="presentation" aria-hidden="true" data-mprt="7" style="position: absolute; font-family: monospace, Consolas, &quot;Courier New&quot;, monospace; font-weight: normal; font-size: 14px; font-feature-settings: &quot;liga&quot; 0, &quot;calt&quot; 0; font-variation-settings: normal; line-height: 19px; letter-spacing: 0px; width: 791px; height: 105px;"><div style="top:0px;height:19px;" class="view-line"><span><span class="mtk1">tag</span></span></div><div style="top:19px;height:19px;" class="view-line"><span><span class="mtk1">picture&nbsp;=&nbsp;partial</span><span class="mtk1 bracket-highlighting-0">(</span><span class="mtk1">tag,&nbsp;</span><span class="mtk21">'img'</span><span class="mtk1">,&nbsp;cls=</span><span class="mtk21">'pic-frame'</span><span class="mtk1 bracket-highlighting-0">)</span></span></div><div style="top:38px;height:19px;" class="view-line"><span><span class="mtk15">print</span><span class="mtk1 bracket-highlighting-0">(</span><span class="mtk1">picture</span><span class="mtk1 bracket-highlighting-1">(</span><span class="mtk1">src=</span><span class="mtk21">'wumpus.jpeg'</span><span class="mtk1 bracket-highlighting-1">)</span><span class="mtk1 bracket-highlighting-0">)</span></span></div><div style="top:57px;height:19px;" class="view-line"><span><span></span></span></div><div style="top:76px;height:19px;" class="view-line"><span><span class="mtk1">tag,&nbsp;picture,&nbsp;picture.func,&nbsp;picture.args,&nbsp;picture.</span><span class="mtk1">keywords</span></span></div></div><div data-mprt="1" class="contentWidgets" style="position: absolute; top: 0px;"><div class="lightBulbWidget codicon codicon-light-bulb" widgetid="LightBulbWidget" title="Show Code Actions (Ctrl+.)" style="position: absolute; display: none; visibility: hidden; max-width: 791px;"></div></div><div role="presentation" aria-hidden="true" class="cursors-layer cursor-line-style cursor-solid"><div class="cursor monaco-mouse-cursor-text " style="height: 19px; top: 76px; left: 405px; font-family: monospace, Consolas, &quot;Courier New&quot;, monospace; font-weight: normal; font-size: 14px; font-feature-settings: &quot;liga&quot; 0, &quot;calt&quot; 0; font-variation-settings: normal; line-height: 19px; letter-spacing: 0px; display: block; visibility: hidden; padding-left: 1px; width: 2px;"></div></div></div><div role="presentation" aria-hidden="true" class="invisible scrollbar horizontal" style="position: absolute; width: 777px; height: 10px; left: 0px; bottom: 0px;"><div class="slider" style="position: absolute; top: 0px; left: 0px; height: 10px; transform: translate3d(0px, 0px, 0px); contain: strict; will-change: unset; width: 777px;"></div></div><canvas class="decorationsOverviewRuler" aria-hidden="true" width="14" height="105" style="position: absolute; transform: translate3d(0px, 0px, 0px); contain: strict; top: 0px; right: 0px; width: 14px; height: 105px; will-change: unset; display: block;"></canvas><div role="presentation" aria-hidden="true" class="invisible scrollbar vertical" style="position: absolute; width: 14px; height: 105px; right: 0px; top: 0px;"><div class="slider" style="position: absolute; top: 0px; left: 0px; width: 14px; transform: translate3d(0px, 0px, 0px); contain: strict; will-change: unset; height: 105px;"></div></div></div><div role="presentation" aria-hidden="true" style="width: 797px;"></div><textarea data-mprt="6" class="inputarea monaco-mouse-cursor-text" wrap="on" autocorrect="off" autocapitalize="off" autocomplete="off" spellcheck="false" aria-label="Editor content;Press Alt+F1 for Accessibility Options." tabindex="0" role="textbox" aria-roledescription="editor" aria-multiline="true" aria-haspopup="false" aria-autocomplete="both" style="tab-size: 14px; font-family: monospace, Consolas, &quot;Courier New&quot;, monospace; font-weight: normal; font-size: 14px; font-feature-settings: &quot;liga&quot; 0, &quot;calt&quot; 0; font-variation-settings: normal; line-height: 19px; letter-spacing: 0px; top: 76px; left: 6px; width: 70000px; height: 1px;"></textarea><div style="position: absolute; top: 0px; left: 0px; width: 0px; height: 0px;" class="monaco-editor-background textAreaCover"></div><div data-mprt="4" class="overlayWidgets" style="width: 797px;"></div><div data-mprt="8" class="minimap slider-mouseover" role="presentation" aria-hidden="true" style="position: absolute; left: 0px; width: 0px; height: 105px;"><div class="minimap-shadow-hidden" style="height: 105px;"></div><canvas width="0" height="105" style="position: absolute; left: 0px; width: 0px; height: 105px;"></canvas><canvas class="minimap-decorations-layer" width="0" height="105" style="position: absolute; left: 0px; width: 0px; height: 105px;"></canvas><div class="minimap-slider" style="position: absolute; transform: translate3d(0px, 0px, 0px); contain: strict; width: 0px; will-change: unset;"><div class="minimap-slider-horizontal" style="position: absolute; width: 0px; height: 0px;"></div></div></div><div role="presentation" aria-hidden="true" class="blockDecorations-container"></div></div><div data-mprt="2" class="overflowingContentWidgets" style="display: none;"><div widgetid="editor.contrib.resizableContentHoverWidget" style="position: fixed; height: 10px; width: 10px; z-index: 50; display: none; visibility: hidden; max-width: 958px; top: 478.234px; left: 178px;"><div class="monaco-sash vertical" style="left: 8px;"></div><div class="monaco-sash vertical disabled" style="left: -2px;"></div><div class="monaco-sash orthogonal-edge-north horizontal" style="top: -2px;"><div class="orthogonal-drag-handle end"></div></div><div class="monaco-sash orthogonal-edge-south horizontal disabled" style="top: 8px;"><div class="orthogonal-drag-handle end"></div></div><div class="monaco-hover hidden" tabindex="0" role="tooltip" style="width: 0px; height: 0px;"><div class="monaco-scrollable-element " role="presentation" style="position: relative; overflow: hidden;"><div class="monaco-hover-content" style="overflow: hidden; font-size: 14px; line-height: 1.35714; max-width: 526.02px; max-height: 250px; width: 0px; height: 0px;"><div class="hover-row markdown-hover"><div class="hover-contents"><div class="rendered-markdown"><p><code>partial: picture(*args, **kwargs)</code></p></div></div></div><div class="hover-row markdown-hover"><div class="hover-contents"><div class="rendered-markdown"><p>partial(func, *args, **keywords) - new function with partial application
of the given arguments and keywords.</p></div></div></div></div><div role="presentation" aria-hidden="true" class="invisible scrollbar horizontal" style="position: absolute;"><div class="slider" style="position: absolute; top: 0px; left: 0px; height: 10px; transform: translate3d(0px, 0px, 0px); contain: strict;"></div></div><div role="presentation" aria-hidden="true" class="invisible scrollbar vertical" style="position: absolute;"><div class="slider" style="position: absolute; top: 0px; left: 0px; width: 10px; transform: translate3d(0px, 0px, 0px); contain: strict;"></div></div><div class="shadow"></div><div class="shadow"></div><div class="shadow"></div></div></div></div><div class="editor-widget suggest-widget" widgetid="editor.widget.suggestWidget" style="position: fixed; display: none; visibility: hidden; max-width: 958px; height: 21px; width: 430px; top: 554.234px; left: 497px;"><div class="monaco-sash vertical" style="left: 428px;"></div><div class="monaco-sash vertical disabled" style="left: -2px;"></div><div class="monaco-sash orthogonal-edge-north horizontal disabled" style="top: -2px;"><div class="orthogonal-drag-handle end"></div></div><div class="monaco-sash orthogonal-edge-south horizontal" style="top: 19px;"><div class="orthogonal-drag-handle end"></div></div><div class="message" aria-hidden="true" style="display: none;"></div><div class="tree" style="height: 21px; display: none;" aria-hidden="true"><div class="monaco-list list_id_125 selection-none" tabindex="0" role="listbox" aria-label="Suggest"><div class="monaco-scrollable-element " role="presentation" style="position: relative; overflow: hidden;"><div class="monaco-list-rows" style="transform: translate3d(0px, 0px, 0px); overflow: hidden; contain: strict; height: 0px; left: 0px; top: 0px;"></div><div role="presentation" aria-hidden="true" class="invisible scrollbar horizontal" style="position: absolute; width: 0px; height: 10px; left: 0px; bottom: 0px;"><div class="slider" style="position: absolute; top: 0px; left: 0px; height: 10px; transform: translate3d(0px, 0px, 0px); contain: strict; width: 0px;"></div></div><div role="presentation" aria-hidden="true" class="invisible scrollbar vertical" style="position: absolute; width: 10px; height: 21px; right: 0px; top: 0px;"><div class="slider" style="position: absolute; top: 0px; left: 0px; width: 10px; transform: translate3d(0px, 0px, 0px); contain: strict; height: 21px;"></div></div></div><style type="text/css" media="screen">.monaco-list.list_id_125:focus .monaco-list-row.focused { background-color: var(--vscode-list-focusBackground); }
.monaco-list.list_id_125:focus .monaco-list-row.focused:hover { background-color: var(--vscode-list-focusBackground); }
.monaco-list.list_id_125:focus .monaco-list-row.focused { color: var(--vscode-list-focusForeground); }
.monaco-list.list_id_125:focus .monaco-list-row.selected { background-color: var(--vscode-list-activeSelectionBackground); }
.monaco-list.list_id_125:focus .monaco-list-row.selected:hover { background-color: var(--vscode-list-activeSelectionBackground); }
.monaco-list.list_id_125:focus .monaco-list-row.selected { color: var(--vscode-list-activeSelectionForeground); }
.monaco-list.list_id_125:focus .monaco-list-row.selected .codicon { color: var(--vscode-list-activeSelectionIconForeground); }

				.monaco-drag-image,
				.monaco-list.list_id_125:focus .monaco-list-row.selected.focused { background-color: var(--vscode-list-activeSelectionBackground); }
			

				.monaco-drag-image,
				.monaco-list.list_id_125:focus .monaco-list-row.selected.focused { color: var(--vscode-list-activeSelectionForeground); }
			
.monaco-list.list_id_125 .monaco-list-row.focused .codicon { color:  var(--vscode-list-inactiveSelectionIconForeground); }
.monaco-list.list_id_125 .monaco-list-row.focused { background-color:  var(--vscode-editorSuggestWidget-selectedBackground); }
.monaco-list.list_id_125 .monaco-list-row.focused:hover { background-color:  var(--vscode-editorSuggestWidget-selectedBackground); }
.monaco-list.list_id_125 .monaco-list-row.selected { background-color:  var(--vscode-list-inactiveSelectionBackground); }
.monaco-list.list_id_125 .monaco-list-row.selected:hover { background-color:  var(--vscode-list-inactiveSelectionBackground); }
.monaco-list.list_id_125 .monaco-list-row.selected { color: var(--vscode-list-inactiveSelectionForeground); }
.monaco-list.list_id_125:not(.drop-target):not(.dragging) .monaco-list-row:hover:not(.selected):not(.focused) { background-color: var(--vscode-list-hoverBackground); }
.monaco-list.list_id_125:not(.drop-target):not(.dragging) .monaco-list-row:hover:not(.selected):not(.focused) { color:  var(--vscode-list-hoverForeground); }
.monaco-list.list_id_125:focus .monaco-list-row.focused.selected { outline: 1px solid var(--vscode-list-focusAndSelectionOutline, var(--vscode-contrastActiveBorder, var(--vscode-list-focusOutline))); outline-offset: -1px;}

				.monaco-drag-image,
				.monaco-list.list_id_125:focus .monaco-list-row.focused { outline: 1px solid var(--vscode-list-focusOutline); outline-offset: -1px; }
				.monaco-workbench.context-menu-visible .monaco-list.list_id_125.last-focused .monaco-list-row.focused { outline: 1px solid var(--vscode-list-focusOutline); outline-offset: -1px; }
			
.monaco-list.list_id_125 .monaco-list-row.focused.selected { outline: 1px dotted var(--vscode-contrastActiveBorder, var(--vscode-contrastActiveBorder)); outline-offset: -1px; }
.monaco-list.list_id_125 .monaco-list-row.selected { outline: 1px dotted var(--vscode-contrastActiveBorder); outline-offset: -1px; }
.monaco-list.list_id_125 .monaco-list-row.focused { outline: 1px dotted var(--vscode-contrastActiveBorder); outline-offset: -1px; }
.monaco-list.list_id_125 .monaco-list-row:hover { outline: 1px dashed var(--vscode-contrastActiveBorder); outline-offset: -1px; }

				.monaco-list.list_id_125.drop-target,
				.monaco-list.list_id_125 .monaco-list-rows.drop-target,
				.monaco-list.list_id_125 .monaco-list-row.drop-target { background-color: var(--vscode-list-dropBackground) !important; color: inherit !important; }
			

				.monaco-table > .monaco-split-view2,
				.monaco-table > .monaco-split-view2 .monaco-sash.vertical::before,
				.monaco-workbench:not(.reduce-motion) .monaco-table:hover > .monaco-split-view2,
				.monaco-workbench:not(.reduce-motion) .monaco-table:hover > .monaco-split-view2 .monaco-sash.vertical::before {
					border-color: var(--vscode-tree-tableColumnsBorder);
				}

				.monaco-workbench:not(.reduce-motion) .monaco-table > .monaco-split-view2,
				.monaco-workbench:not(.reduce-motion) .monaco-table > .monaco-split-view2 .monaco-sash.vertical::before {
					border-color: transparent;
				}
			

				.monaco-table .monaco-list-row[data-parity=odd]:not(.focused):not(.selected):not(:hover) .monaco-table-tr,
				.monaco-table .monaco-list:not(:focus) .monaco-list-row[data-parity=odd].focused:not(.selected):not(:hover) .monaco-table-tr,
				.monaco-table .monaco-list:not(.focused) .monaco-list-row[data-parity=odd].focused:not(.selected):not(:hover) .monaco-table-tr {
					background-color: var(--vscode-tree-tableOddRowsBackground);
				}
			</style></div></div><div class="suggest-status-bar" style="height: 19px; display: none;" aria-hidden="true"><div class="monaco-action-bar animated left"><ul class="actions-container" role="presentation"><li class="action-item menu-entry" role="presentation" title="Insert (Enter)"><a class="action-label" role="button" aria-label="Insert (Enter)" aria-checked="" tabindex="0">Insert (⏎)</a></li></ul></div><div class="monaco-action-bar animated right"><ul class="actions-container" role="presentation"><li class="action-item menu-entry" role="presentation" title="show more (Ctrl+Space)"><a class="action-label" role="button" aria-label="show more (Ctrl+Space)" aria-checked="" tabindex="0">show more (Ctrl+Space)</a></li></ul></div></div></div></div><div class=".in-cell-overflowing"><div widgetid="editor.contrib.quickInputWidget" style="position: absolute; top: 0px; right: 50%;"></div></div></div></div></div><colab-form class="formview vertical layout flex"><div class="widget-area vertical layout"></div></colab-form></div>
    <div class="output" aria-label="셀 32 출력" role="region"><!----> <div class="output-header"> </div>
        <div class="output-content">
          <div class="output-info"><colab-output-info><template shadowrootmode="open"><!----><md-icon-button data-aria-expanded="false" data-aria-haspopup="menu" aria-describedby="button-output-actions-tooltip" data-aria-label="코드 셀 출력 작업" id="button-output-actions" value=""><template shadowrootmode="open" shadowrootdelegatesfocus><!----><button id="button" class="icon-button  standard " aria-label="코드 셀 출력 작업" aria-haspopup="menu" aria-expanded="false">
        <!--?lit$764986503$--><md-focus-ring part="focus-ring" for="button" aria-hidden="true"><template shadowrootmode="open"><!----></template></md-focus-ring>
        <!--?lit$764986503$--><md-ripple aria-hidden="true"><template shadowrootmode="open"><!----><div class="surface   "></div></template></md-ripple>
        <!--?lit$764986503$--><span class="icon"><slot></slot></span>
        <!--?lit$764986503$-->
        <!--?lit$764986503$--><span class="touch"></span>
  </button></template>
        <md-icon aria-hidden="true"><template shadowrootmode="open"><!----><slot></slot></template><!--?lit$764986503$--><svg viewBox="0 0 24 24"><!--?lit$764986503$--><path d="m15.9 3.07c-4.32 0.0742-8.64-0.0355-13 0.0568-1.37 0.307-1.74 2.1-1.41 3.26 0.469 0.606 1.86 0.384 1.66-0.525 0.0448-0.329-0.183-0.93 0.354-0.766h13.3v1.53h1.71c0.0709-1.13 0.141-2.62-0.968-3.3-0.511-0.264-1.11-0.252-1.67-0.259zm2.94 6.84v4.87c1.62-1.62 3.24-3.24 4.87-4.87h-4.87zm0 0h-1.71v3.43l1.57 1.57c0.32-1.65 0.0556-3.34 0.135-5zm-1.71 3.43v-3.43h-3.43c1.14 1.14 2.29 2.29 3.43 3.43zm1.4 4.27h-1.71v1.48h-13.6v-1.48h-1.71c-0.0473 1.15-0.16 2.72 1.09 3.29 1.47 0.506 3.02 0.0265 4.53 0.192 3.34-0.0051 6.68 0.0336 10-0.0245 1.49-0.366 1.56-2.22 1.42-3.45zm-10.1-1.12c-0.398-0.483-0.796-0.967-1.19-1.45 0.59-0.683 1.18-1.37 1.77-2.05h-8.67v-2h8.67c-0.59-0.683-1.18-1.37-1.77-2.05 0.398-0.483 0.796-0.967 1.19-1.45 1.28 1.5 2.56 3 3.84 4.5-1.28 1.5-2.56 3-3.84 4.5z"></path></svg></md-icon>
      </md-icon-button>
      <colab-tooltip-trigger aria-hidden="true" id="button-output-actions-tooltip" for="button-output-actions" message="코드 셀 출력 작업"><template shadowrootmode="open"><!----><!--?lit$764986503$--><!----><div><!--?lit$764986503$-->코드 셀 출력 작업</div><!----><!--?--></template></colab-tooltip-trigger></template></colab-output-info></div>
          <div class="output-iframe-container">
            <div class="output-iframe-sizer" style="min-height: 0px;"> <div><div><colab-static-output-renderer tabindex="0" role="group"><div><div class="stream output-id-1 output_text"><pre>&lt;img class="pic-frame" src="wumpus.jpeg" /&gt;
</pre></div><div class="execute_result output-id-2 output_text"><pre>(&lt;function __main__.tag(name, *content, cls=None, **attrs)&gt;,
 functools.partial(&lt;function tag at 0x7a0890c3cae0&gt;, 'img', cls='pic-frame'),
 &lt;function __main__.tag(name, *content, cls=None, **attrs)&gt;,
 ('img',),
 {'cls': 'pic-frame'})</pre></div></div><div></div></colab-static-output-renderer></div></div><div><div></div></div></div>
          </div>
        </div></div><colab-cell-next-steps><template shadowrootmode="open"><!----></template></colab-cell-next-steps></div></div></div><div class="add-cell">
      <div class="add-cell-buttons">
        <md-outlined-button class="add-code add-button" data-aria-label="코드 셀 추가
Ctrl+M B" title="코드 셀 추가
Ctrl+M B" value="" has-icon=""><template shadowrootmode="open" shadowrootdelegatesfocus><!---->
      <!--?lit$764986503$--><div class="outline"></div>
      <div class="background"></div>
      <md-focus-ring part="focus-ring" for="button" aria-hidden="true"><template shadowrootmode="open"><!----></template></md-focus-ring>
      <md-ripple part="ripple" for="button" aria-hidden="true"><template shadowrootmode="open"><!----><div class="surface   "></div></template></md-ripple>
      <!--?lit$764986503$--><button id="button" class="button" aria-label="코드 셀 추가
Ctrl+M B">
      <!--?lit$764986503$-->
      <span class="touch"></span>
      <!--?lit$764986503$--><slot name="icon"></slot>
      <span class="label"><slot></slot></span>
      <!--?lit$764986503$-->
    
    </button>
    </template>
          <md-icon slot="icon" aria-hidden="true"><template shadowrootmode="open"><!----><slot></slot></template>add</md-icon>
          <!--?lit$764986503$-->코드
        </md-outlined-button>
        <md-outlined-button class="add-text add-button" data-aria-label="텍스트 셀 추가" title="텍스트 셀 추가" value="" has-icon=""><template shadowrootmode="open" shadowrootdelegatesfocus><!---->
      <!--?lit$764986503$--><div class="outline"></div>
      <div class="background"></div>
      <md-focus-ring part="focus-ring" for="button" aria-hidden="true"><template shadowrootmode="open"><!----></template></md-focus-ring>
      <md-ripple part="ripple" for="button" aria-hidden="true"><template shadowrootmode="open"><!----><div class="surface   "></div></template></md-ripple>
      <!--?lit$764986503$--><button id="button" class="button" aria-label="텍스트 셀 추가">
      <!--?lit$764986503$-->
      <span class="touch"></span>
      <!--?lit$764986503$--><slot name="icon"></slot>
      <span class="label"><slot></slot></span>
      <!--?lit$764986503$-->
    
    </button>
    </template>
          <md-icon slot="icon" aria-hidden="true"><template shadowrootmode="open"><!----><slot></slot></template>add</md-icon>
          <!--?lit$764986503$-->텍스트
        </md-outlined-button>
        <!--?lit$764986503$-->
        <!--?lit$764986503$-->
      </div><hr>
    </div></div></div>
              </div>
            </div>
          <section class="sidebar" aria-label="댓글" style="display: none;"></section></div>
          <!--?lit$764986503$--> <div class="footer-links" style="padding-bottom: 108px;">
      <a target="_blank" href="https://colab.research.google.com/signup?utm_source=footer&amp;utm_medium=link&amp;utm_campaign=footer_links">
        <!--?lit$764986503$-->Colab 유료 제품
      </a>
      -
      <a href="https://colab.research.google.com/cancel-subscription" target="_blank">
        <!--?lit$764986503$-->여기에서 계약 취소
      </a>
    </div>
        </div>
      </colab-shaded-scroller>
      <div class="notebook-scroll-shadow" style="box-shadow: rgba(0, 0, 0, 0.15) 0px 4px 4px -2px inset;"></div>
    </div><div class="right-pane-snap-hint"></div></colab-tab></div>
  </div></colab-tab-pane>
      <colab-resizer style="height: 40%" class="sn-resize no-tabs"><div class="resizer-thumb"></div>
        <!--?lit$764986503$--><colab-tab-pane class="layout vertical grow no-tabs" align="horizontal"><!----> <div class="layout vertical grow">
    <div class="tab-pane-header layout horizontal noshrink">
      <md-tabs><template shadowrootmode="open"><!---->
      <div class="tabs">
        <slot></slot>
      </div>
      <md-divider part="divider"><template shadowrootmode="open"><!----></template></md-divider>
    </template></md-tabs>
      <div class="layout grow"></div>
      <!--?lit$764986503$--><md-icon-button data-aria-expanded="false" data-aria-haspopup="menu" id="tab-pane-6-more-actions-button" data-aria-label="추가 탭 작업" value=""><template shadowrootmode="open" shadowrootdelegatesfocus><!----><button id="button" class="icon-button  standard " aria-label="추가 탭 작업" aria-haspopup="menu" aria-expanded="false">
        <!--?lit$764986503$--><md-focus-ring part="focus-ring" for="button" aria-hidden="true"><template shadowrootmode="open"><!----></template></md-focus-ring>
        <!--?lit$764986503$--><md-ripple aria-hidden="true"><template shadowrootmode="open"><!----><div class="surface   "></div></template></md-ripple>
        <!--?lit$764986503$--><span class="icon"><slot></slot></span>
        <!--?lit$764986503$-->
        <!--?lit$764986503$--><span class="touch"></span>
  </button></template>
      <md-icon aria-hidden="true"><template shadowrootmode="open"><!----><slot></slot></template><!--?lit$764986503$-->more_horiz</md-icon>
    </md-icon-button>
    <colab-tooltip-trigger aria-hidden="true" for="tab-pane-6-more-actions-button" message="추가 탭 작업"><template shadowrootmode="open"><!----><!--?lit$764986503$--><!----><div><!--?lit$764986503$-->추가 탭 작업</div><!----><!--?--></template>
    </colab-tooltip-trigger><!--?lit$764986503$-->
    </div>
    <div class="layout vertical grow tab-pane-container"> </div>
  </div></colab-tab-pane>
      </colab-resizer>
    </div>
      <colab-resizer style="width: 37%" class="we-resize no-tabs"><div class="resizer-thumb"></div>
        <!--?lit$764986503$--> <div class="layout vertical tab-pane-parent">
      <!--?lit$764986503$--><colab-tab-pane class="layout vertical grow no-tabs" align="horizontal"><!----> <div class="layout vertical grow">
    <div class="tab-pane-header layout horizontal noshrink">
      <md-tabs><template shadowrootmode="open"><!---->
      <div class="tabs">
        <slot></slot>
      </div>
      <md-divider part="divider"><template shadowrootmode="open"><!----></template></md-divider>
    </template></md-tabs>
      <div class="layout grow"></div>
      <!--?lit$764986503$--><md-icon-button data-aria-expanded="false" data-aria-haspopup="menu" id="tab-pane-5-more-actions-button" data-aria-label="추가 탭 작업" value=""><template shadowrootmode="open" shadowrootdelegatesfocus><!----><button id="button" class="icon-button  standard " aria-label="추가 탭 작업" aria-haspopup="menu" aria-expanded="false">
        <!--?lit$764986503$--><md-focus-ring part="focus-ring" for="button" aria-hidden="true"><template shadowrootmode="open"><!----></template></md-focus-ring>
        <!--?lit$764986503$--><md-ripple aria-hidden="true"><template shadowrootmode="open"><!----><div class="surface   "></div></template></md-ripple>
        <!--?lit$764986503$--><span class="icon"><slot></slot></span>
        <!--?lit$764986503$-->
        <!--?lit$764986503$--><span class="touch"></span>
  </button></template>
      <md-icon aria-hidden="true"><template shadowrootmode="open"><!----><slot></slot></template><!--?lit$764986503$-->more_horiz</md-icon>
    </md-icon-button>
    <colab-tooltip-trigger aria-hidden="true" for="tab-pane-5-more-actions-button" message="추가 탭 작업"><template shadowrootmode="open"><!----><!--?lit$764986503$--><!----><div><!--?lit$764986503$-->추가 탭 작업</div><!----><!--?--></template>
    </colab-tooltip-trigger><!--?lit$764986503$-->
    </div>
    <div class="layout vertical grow tab-pane-container"> </div>
  </div></colab-tab-pane>
      <colab-resizer style="height: 40%" class="sn-resize no-tabs"><div class="resizer-thumb"></div>
        <!--?lit$764986503$--><colab-tab-pane class="layout vertical grow no-tabs" align="horizontal"><!----> <div class="layout vertical grow">
    <div class="tab-pane-header layout horizontal noshrink">
      <md-tabs><template shadowrootmode="open"><!---->
      <div class="tabs">
        <slot></slot>
      </div>
      <md-divider part="divider"><template shadowrootmode="open"><!----></template></md-divider>
    </template></md-tabs>
      <div class="layout grow"></div>
      <!--?lit$764986503$--><md-icon-button data-aria-expanded="false" data-aria-haspopup="menu" id="tab-pane-7-more-actions-button" data-aria-label="추가 탭 작업" value=""><template shadowrootmode="open" shadowrootdelegatesfocus><!----><button id="button" class="icon-button  standard " aria-label="추가 탭 작업" aria-haspopup="menu" aria-expanded="false">
        <!--?lit$764986503$--><md-focus-ring part="focus-ring" for="button" aria-hidden="true"><template shadowrootmode="open"><!----></template></md-focus-ring>
        <!--?lit$764986503$--><md-ripple aria-hidden="true"><template shadowrootmode="open"><!----><div class="surface   "></div></template></md-ripple>
        <!--?lit$764986503$--><span class="icon"><slot></slot></span>
        <!--?lit$764986503$-->
        <!--?lit$764986503$--><span class="touch"></span>
  </button></template>
      <md-icon aria-hidden="true"><template shadowrootmode="open"><!----><slot></slot></template><!--?lit$764986503$-->more_horiz</md-icon>
    </md-icon-button>
    <colab-tooltip-trigger aria-hidden="true" for="tab-pane-7-more-actions-button" message="추가 탭 작업"><template shadowrootmode="open"><!----><!--?lit$764986503$--><!----><div><!--?lit$764986503$-->추가 탭 작업</div><!----><!--?--></template>
    </colab-tooltip-trigger><!--?lit$764986503$-->
    </div>
    <div class="layout vertical grow tab-pane-container"> </div>
  </div></colab-tab-pane>
      </colab-resizer>
    </div>
      </colab-resizer>
    </div></colab-tab-layout-container>
        </div>
        <div class="proxies"><div><colab-dom-lifecycle-events style="display: none;"></colab-dom-lifecycle-events><iframe allow="" sandbox="allow-downloads allow-forms allow-pointer-lock allow-popups allow-popups-to-escape-sandbox allow-same-origin allow-scripts allow-storage-access-by-user-activation" src="./OSS_Week06_실습_files/outputframe(4).html" style="width: 1px; height: 1px; position: absolute; top: -100px;"></iframe></div><div><colab-dom-lifecycle-events style="display: none;"></colab-dom-lifecycle-events><iframe allow="accelerometer; autoplay; gyroscope; magnetometer; xr-spatial-tracking; clipboard-write" sandbox="allow-downloads allow-forms allow-pointer-lock allow-popups allow-popups-to-escape-sandbox allow-same-origin allow-scripts allow-storage-access-by-user-activation allow-modals" src="./OSS_Week06_실습_files/outputframe(5).html" style="width: 1px; height: 1px; position: absolute; top: -100px;"></iframe></div></div>
      <colab-file-viewer-manager></colab-file-viewer-manager></div>
    <colab-composer-floating-spark><template shadowrootmode="open"><!---->
      <md-icon-button toggle="" id="toggle-composer-button" data-aria-label="Gemini 전환" value=""><template shadowrootmode="open" shadowrootdelegatesfocus><!----><button id="button" class="icon-button  standard " aria-label="Gemini 전환" aria-pressed="false">
        <!--?lit$764986503$--><md-focus-ring part="focus-ring" for="button" aria-hidden="true"><template shadowrootmode="open"><!----></template></md-focus-ring>
        <!--?lit$764986503$--><md-ripple aria-hidden="true"><template shadowrootmode="open"><!----><div class="surface   "></div></template></md-ripple>
        <!--?lit$764986503$--><span class="icon"><slot></slot></span>
        <!--?lit$764986503$-->
        <!--?lit$764986503$--><span class="touch"></span>
  </button></template>
        <!--?lit$764986503$--><md-icon aria-hidden="true"><template shadowrootmode="open"><!----><slot></slot></template>spark</md-icon>
      </md-icon-button>
      <colab-tooltip-trigger aria-hidden="true" for="toggle-composer-button" message="Gemini 전환"><template shadowrootmode="open"><!----><!--?lit$764986503$--><!----><div><!--?lit$764986503$-->Gemini 전환</div><!----><!--?--></template>
      </colab-tooltip-trigger>
    </template></colab-composer-floating-spark><colab-composer view-mode="floating" class="" style="transform: translate(0px, 0px);"><template shadowrootmode="open"><!---->
      <colab-composer-conversation><template shadowrootmode="open"><!---->
      <div class="scrollable">
        <!--?lit$764986503$-->
        <!--?lit$764986503$-->
      </div>
    </template>
      </colab-composer-conversation>
      <!--?lit$764986503$-->
      <div class="footer">
        <!--?lit$764986503$--> <!--?lit$764986503$-->
      <div class="suggestion-chips">
        <!--?lit$764986503$--><!---->
      <md-outlined-button value=""><template shadowrootmode="open" shadowrootdelegatesfocus><!---->
      <!--?lit$764986503$--><div class="outline"></div>
      <div class="background"></div>
      <md-focus-ring part="focus-ring" for="button" aria-hidden="true"><template shadowrootmode="open"><!----></template></md-focus-ring>
      <md-ripple part="ripple" for="button" aria-hidden="true"><template shadowrootmode="open"><!----><div class="surface   "></div></template></md-ripple>
      <!--?lit$764986503$--><button id="button" class="button">
      <!--?lit$764986503$-->
      <span class="touch"></span>
      <!--?lit$764986503$--><slot name="icon"></slot>
      <span class="label"><slot></slot></span>
      <!--?lit$764986503$-->
    
    </button>
    </template>
        <!--?lit$764986503$-->Python 라이브러리 설치 방법
      </md-outlined-button>
    <!----><!---->
      <md-outlined-button value=""><template shadowrootmode="open" shadowrootdelegatesfocus><!---->
      <!--?lit$764986503$--><div class="outline"></div>
      <div class="background"></div>
      <md-focus-ring part="focus-ring" for="button" aria-hidden="true"><template shadowrootmode="open"><!----></template></md-focus-ring>
      <md-ripple part="ripple" for="button" aria-hidden="true"><template shadowrootmode="open"><!----><div class="surface   "></div></template></md-ripple>
      <!--?lit$764986503$--><button id="button" class="button">
      <!--?lit$764986503$-->
      <span class="touch"></span>
      <!--?lit$764986503$--><slot name="icon"></slot>
      <span class="label"><slot></slot></span>
      <!--?lit$764986503$-->
    
    </button>
    </template>
        <!--?lit$764986503$-->Google Drive에서 데이터 로드해 줘
      </md-outlined-button>
    <!----><!---->
      <md-outlined-button value=""><template shadowrootmode="open" shadowrootdelegatesfocus><!---->
      <!--?lit$764986503$--><div class="outline"></div>
      <div class="background"></div>
      <md-focus-ring part="focus-ring" for="button" aria-hidden="true"><template shadowrootmode="open"><!----></template></md-focus-ring>
      <md-ripple part="ripple" for="button" aria-hidden="true"><template shadowrootmode="open"><!----><div class="surface   "></div></template></md-ripple>
      <!--?lit$764986503$--><button id="button" class="button">
      <!--?lit$764986503$-->
      <span class="touch"></span>
      <!--?lit$764986503$--><slot name="icon"></slot>
      <span class="label"><slot></slot></span>
      <!--?lit$764986503$-->
    
    </button>
    </template>
        <!--?lit$764986503$-->간단한 ML 모델을 학습하는 예시 보여 줘
      </md-outlined-button>
    <!---->
      </div>
    
        <div class="input-container">
          <colab-composer-input><template shadowrootmode="open"><!---->
      <div class="wrapper">
        <!--?lit$764986503$-->
        <!--?lit$764986503$-->
              <div class="text-field-and-spark">
                <md-icon aria-hidden="true"><template shadowrootmode="open"><!----><slot></slot></template>spark</md-icon>
                <!--?lit$764986503$-->
          <div class="text-field-wrapper" data-value="">
            <md-outlined-text-field type="textarea" aria-controls="autocomplete-menu" rows="1" data-aria-autocomplete="list" class="composer-input-field" data-aria-expanded="false" maxlength="2000" placeholder="빌드하는 데 어떤 도움이 필요하신가요?" inputmode="" autocomplete=""><template shadowrootmode="open" shadowrootdelegatesfocus><!---->
      <span class="text-field  textarea ">
        <!--?lit$764986503$--><md-outlined-field class="field" count="0" error-text="" label="" max="2000" resizable="" supporting-text=""><template shadowrootmode="open"><!---->
      <div class="field  resizable no-label ">
        <div class="container-overflow">
          <!--?lit$764986503$-->
          <slot name="container"></slot>
          <!--?lit$764986503$--> <!--?lit$764986503$--> <!--?lit$764986503$-->
      <div class="outline">
        <div class="outline-start"></div>
        <div class="outline-notch">
          <div class="outline-panel-inactive"></div>
          <div class="outline-panel-active"></div>
          <div class="outline-label"><!--?lit$764986503$--></div>
        </div>
        <div class="outline-end"></div>
      </div>
    
          <div class="container">
            <div class="start">
              <slot name="start"></slot>
            </div>
            <div class="middle">
              <div class="label-wrapper">
                <!--?lit$764986503$--> <!--?lit$764986503$-->
              </div>
              <div class="content">
                <slot></slot>
              </div>
            </div>
            <div class="end">
              <slot name="end"></slot>
            </div>
          </div>
        </div>
        <!--?lit$764986503$-->
      <div class="supporting-text"><!--?lit$764986503$--><span><!--?lit$764986503$--></span><!--?lit$764986503$--><span class="counter"><!--?lit$764986503$-->0 / 2000</span></div>
      <slot name="aria-describedby"></slot>
    
      </div>
    </template>
      <!--?lit$764986503$-->
      <span class="icon leading" slot="start">
        <slot name="leading-icon"></slot>
      </span>
    
      <!--?lit$764986503$-->
        <textarea class="input" aria-describedby="description" aria-invalid="false" maxlength="2000" placeholder="빌드하는 데 어떤 도움이 필요하신가요?" rows="1" cols="20"></textarea>
      
      <!--?lit$764986503$-->
      <span class="icon trailing" slot="end">
        <slot name="trailing-icon"></slot>
      </span>
    
      <div id="description" slot="aria-describedby" hidden=""><!----><!--?lit$764986503$--> <!--?lit$764986503$-->0 / 2000<!--?--></div>
      <slot name="container" slot="container"></slot>
    </md-outlined-field>
      </span>
    </template>
            </md-outlined-text-field>
            <!--?lit$764986503$-->
          </div>
        
              </div>
              <div class="actions">
                <!--?lit$764986503$--><md-icon-button data-aria-haspopup="true" id="add-context" data-aria-label="Gemini에 추가" data-aria-expanded="false" value=""><template shadowrootmode="open" shadowrootdelegatesfocus><!----><button id="button" class="icon-button  standard " aria-label="Gemini에 추가" aria-haspopup="true" aria-expanded="false">
        <!--?lit$764986503$--><md-focus-ring part="focus-ring" for="button" aria-hidden="true"><template shadowrootmode="open"><!----></template></md-focus-ring>
        <!--?lit$764986503$--><md-ripple aria-hidden="true"><template shadowrootmode="open"><!----><div class="surface   "></div></template></md-ripple>
        <!--?lit$764986503$--><span class="icon"><slot></slot></span>
        <!--?lit$764986503$-->
        <!--?lit$764986503$--><span class="touch"></span>
  </button></template>
        <md-icon aria-hidden="true"><template shadowrootmode="open"><!----><slot></slot></template>add_circle</md-icon>
      </md-icon-button>
      <colab-tooltip-trigger aria-hidden="true" for="add-context" message="Gemini에 추가"><template shadowrootmode="open"><!----><!--?lit$764986503$--><!----><div><!--?lit$764986503$-->Gemini에 추가</div><!----><!--?--></template>
      </colab-tooltip-trigger>
      <md-menu positioning="popover" quick="" aria-labelledby="add-context" anchor="add-context" aria-hidden="true"><template shadowrootmode="open"><!---->
      <div class="menu   " popover="manual" style="display: none;">
        <!--?lit$764986503$--><md-elevation part="elevation" aria-hidden="true"><template shadowrootmode="open"><!----><span class="shadow"></span></template></md-elevation>
        <div class="items">
          <div class="item-padding"> <!--?lit$764986503$--><slot></slot> </div>
        </div>
      </div>
    </template>
        <!--?lit$764986503$-->
      <md-menu-item md-menu-item="" tabindex="0"><template shadowrootmode="open" shadowrootdelegatesfocus><!---->
      <li id="item" tabindex="0" role="menuitem" class="list-item   "><!--?lit$764986503$-->
      <md-item><template shadowrootmode="open"><!---->
      <slot name="container"></slot>
      <slot class="non-text" name="start"></slot>
      <div class="text">
        <slot name="overline"></slot>
        <slot class="default-slot"></slot>
        <slot name="headline"></slot>
        <slot name="supporting-text"></slot>
      </div>
      <slot class="non-text" name="trailing-supporting-text"></slot>
      <slot class="non-text" name="end"></slot>
    </template>
        <div slot="container">
          <!--?lit$764986503$--> <md-ripple part="ripple" for="item" aria-hidden="true"><template shadowrootmode="open"><!----><div class="surface   "></div></template></md-ripple> <!--?lit$764986503$--> <md-focus-ring part="focus-ring" for="item" inward="" aria-hidden="true"><template shadowrootmode="open"><!----></template></md-focus-ring>
        </div>
        <slot name="start" slot="start"></slot>
        <slot name="end" slot="end"></slot>
        <!--?lit$764986503$-->
      <slot></slot>
      <slot name="overline" slot="overline"></slot>
      <slot name="headline" slot="headline"></slot>
      <slot name="supporting-text" slot="supporting-text"></slot>
      <slot name="trailing-supporting-text" slot="trailing-supporting-text"></slot>
    
      </md-item>
    </li>
    </template>
        <md-icon slot="start" aria-hidden="true"><template shadowrootmode="open"><!----><slot></slot></template>folder</md-icon>
        <span slot="headline"><!--?lit$764986503$-->파일 선택</span>
      </md-menu-item>
      <md-menu-item md-menu-item="" tabindex="-1"><template shadowrootmode="open" shadowrootdelegatesfocus><!---->
      <li id="item" tabindex="0" role="menuitem" class="list-item   "><!--?lit$764986503$-->
      <md-item><template shadowrootmode="open"><!---->
      <slot name="container"></slot>
      <slot class="non-text" name="start"></slot>
      <div class="text">
        <slot name="overline"></slot>
        <slot class="default-slot"></slot>
        <slot name="headline"></slot>
        <slot name="supporting-text"></slot>
      </div>
      <slot class="non-text" name="trailing-supporting-text"></slot>
      <slot class="non-text" name="end"></slot>
    </template>
        <div slot="container">
          <!--?lit$764986503$--> <md-ripple part="ripple" for="item" aria-hidden="true"><template shadowrootmode="open"><!----><div class="surface   "></div></template></md-ripple> <!--?lit$764986503$--> <md-focus-ring part="focus-ring" for="item" inward="" aria-hidden="true"><template shadowrootmode="open"><!----></template></md-focus-ring>
        </div>
        <slot name="start" slot="start"></slot>
        <slot name="end" slot="end"></slot>
        <!--?lit$764986503$-->
      <slot></slot>
      <slot name="overline" slot="overline"></slot>
      <slot name="headline" slot="headline"></slot>
      <slot name="supporting-text" slot="supporting-text"></slot>
      <slot name="trailing-supporting-text" slot="trailing-supporting-text"></slot>
    
      </md-item>
    </li>
    </template>
        <md-icon slot="start" aria-hidden="true"><template shadowrootmode="open"><!----><slot></slot></template>upload</md-icon>
        <span slot="headline"><!--?lit$764986503$-->업로드</span>
      </md-menu-item>
    
        <!--?lit$764986503$-->
      </md-menu>
                <!--?lit$764986503$--><md-icon-button id="send" data-aria-label="전송" aria-describedby="send-tooltip" soft-disabled="" value=""><template shadowrootmode="open" shadowrootdelegatesfocus><!----><button id="button" class="icon-button  standard " aria-label="전송" aria-disabled="true">
        <!--?lit$764986503$--><md-focus-ring part="focus-ring" for="button" aria-hidden="true"><template shadowrootmode="open"><!----></template></md-focus-ring>
        <!--?lit$764986503$--><md-ripple disabled="" aria-hidden="true"><template shadowrootmode="open"><!----><div class="surface   "></div></template></md-ripple>
        <!--?lit$764986503$--><span class="icon"><slot></slot></span>
        <!--?lit$764986503$-->
        <!--?lit$764986503$--><span class="touch"></span>
  </button></template>
        <md-icon aria-hidden="true"><template shadowrootmode="open"><!----><slot></slot></template>send</md-icon>
      </md-icon-button>
      <colab-tooltip-trigger aria-hidden="true" for="send" id="send-tooltip" message="전송"><template shadowrootmode="open"><!----><!--?lit$764986503$--><!----><div><!--?lit$764986503$-->전송</div><!----><!--?--></template>
      </colab-tooltip-trigger>
              </div>
            
      </div>
      <!--?lit$764986503$-->
      <input type="file" hidden="" multiple="">
    </template></colab-composer-input>
          <!--?lit$764986503$--><div class="floating-actions">
      <!--?lit$764986503$--><!--?lit$764986503$-->
      <md-icon-button id="move-to-side-panel" data-aria-label="패널로 이동" value=""><template shadowrootmode="open" shadowrootdelegatesfocus><!----><button id="button" class="icon-button  standard " aria-label="패널로 이동">
        <!--?lit$764986503$--><md-focus-ring part="focus-ring" for="button" aria-hidden="true"><template shadowrootmode="open"><!----></template></md-focus-ring>
        <!--?lit$764986503$--><md-ripple aria-hidden="true"><template shadowrootmode="open"><!----><div class="surface   "></div></template></md-ripple>
        <!--?lit$764986503$--><span class="icon"><slot></slot></span>
        <!--?lit$764986503$-->
        <!--?lit$764986503$--><span class="touch"></span>
  </button></template>
        <md-icon aria-hidden="true"><template shadowrootmode="open"><!----><slot></slot></template>dock_to_left</md-icon>
      </md-icon-button>
      <colab-tooltip-trigger aria-hidden="true" for="move-to-side-panel" message="패널로 이동"><template shadowrootmode="open"><!----><!--?lit$764986503$--><!----><div><!--?lit$764986503$-->패널로 이동</div><!----><!--?--></template>
      </colab-tooltip-trigger>
    <!--?lit$764986503$--><md-icon-button id="close" data-aria-label="닫기" value=""><template shadowrootmode="open" shadowrootdelegatesfocus><!----><button id="button" class="icon-button  standard " aria-label="닫기">
        <!--?lit$764986503$--><md-focus-ring part="focus-ring" for="button" aria-hidden="true"><template shadowrootmode="open"><!----></template></md-focus-ring>
        <!--?lit$764986503$--><md-ripple aria-hidden="true"><template shadowrootmode="open"><!----><div class="surface   "></div></template></md-ripple>
        <!--?lit$764986503$--><span class="icon"><slot></slot></span>
        <!--?lit$764986503$-->
        <!--?lit$764986503$--><span class="touch"></span>
  </button></template>
        <md-icon aria-hidden="true"><template shadowrootmode="open"><!----><slot></slot></template>close</md-icon>
      </md-icon-button>
      <colab-tooltip-trigger aria-hidden="true" for="close" message="닫기"><template shadowrootmode="open"><!----><!--?lit$764986503$--><!----><div><!--?lit$764986503$-->닫기</div><!----><!--?--></template>
      </colab-tooltip-trigger><!--?-->
    </div>
        </div>
        <!--?lit$764986503$--> <!--?lit$764986503$-->
      </div>
      <!--?lit$764986503$-->
    
    </template></colab-composer><colab-status-bar role="region" aria-label="런타임 상태 표시줄"><template shadowrootmode="open"><!----><span class="left">
        <slot name="bottom-pane-buttons"></slot>
      </span>
      <span class="middle"><!--?lit$764986503$--></span>
      <span class="right">
        <!--?lit$764986503$--><colab-execution-status><template shadowrootmode="open"><!----><md-text-button id="execution-status" aria-describedby="execution-status-tooltip" value="" has-icon=""><template shadowrootmode="open" shadowrootdelegatesfocus><!---->
      <!--?lit$764986503$-->
      <div class="background"></div>
      <md-focus-ring part="focus-ring" for="button" aria-hidden="true"><template shadowrootmode="open"><!----></template></md-focus-ring>
      <md-ripple part="ripple" for="button" aria-hidden="true"><template shadowrootmode="open"><!----><div class="surface   "></div></template></md-ripple>
      <!--?lit$764986503$--><button id="button" class="button">
      <!--?lit$764986503$-->
      <span class="touch"></span>
      <!--?lit$764986503$--><slot name="icon"></slot>
      <span class="label"><slot></slot></span>
      <!--?lit$764986503$-->
    
    </button>
    </template><!--?lit$764986503$--><md-icon slot="icon" aria-hidden="true"><template shadowrootmode="open"><!----><slot></slot></template>check</md-icon><!--?lit$764986503$-->오전 11:09</md-text-button>
      <colab-tooltip-trigger aria-hidden="true" id="execution-status-tooltip" for="execution-status" message="마지막으로 실행한 셀로 포커스 이동

오전 11:09 (0분 전)
0.004초 내에 실행됨"><template shadowrootmode="open"><!----><!--?lit$764986503$--><!----><div><!--?lit$764986503$-->마지막으로 실행한 셀로 포커스 이동</div><!----><!----><br><!----><!----><div><!--?lit$764986503$-->오전 11:09 (0분 전)</div><!----><!----><div><!--?lit$764986503$-->0.004초 내에 실행됨</div><!----><!--?--></template>
      </colab-tooltip-trigger></template></colab-execution-status><!--?lit$764986503$--><!--?lit$764986503$--><!--?lit$764986503$--><colab-runtime-status><template shadowrootmode="open"><!----><md-text-button data-aria-expanded="false" data-aria-haspopup="menu" id="runtime-options" aria-describedby="runtime-options-tooltip" value="" has-icon=""><template shadowrootmode="open" shadowrootdelegatesfocus><!---->
      <!--?lit$764986503$-->
      <div class="background"></div>
      <md-focus-ring part="focus-ring" for="button" aria-hidden="true"><template shadowrootmode="open"><!----></template></md-focus-ring>
      <md-ripple part="ripple" for="button" aria-hidden="true"><template shadowrootmode="open"><!----><div class="surface   "></div></template></md-ripple>
      <!--?lit$764986503$--><button id="button" class="button" aria-haspopup="menu" aria-expanded="false">
      <!--?lit$764986503$-->
      <span class="touch"></span>
      <!--?lit$764986503$--><slot name="icon"></slot>
      <span class="label"><slot></slot></span>
      <!--?lit$764986503$-->
    
    </button>
    </template><md-icon slot="icon" aria-hidden="true"><template shadowrootmode="open"><!----><slot></slot></template>dns</md-icon><!--?lit$764986503$-->Python 3</md-text-button><colab-tooltip-trigger aria-hidden="true" for="runtime-options" id="runtime-options-tooltip" message="런타임 옵션"><template shadowrootmode="open"><!----><!--?lit$764986503$--><!----><div><!--?lit$764986503$-->런타임 옵션</div><!----><!--?--></template></colab-tooltip-trigger></template></colab-runtime-status>
      </span></template><md-text-button slot="bottom-pane-buttons" command="show-variables" value="" has-icon=""><template shadowrootmode="open" shadowrootdelegatesfocus><!---->
      <!--?lit$764986503$-->
      <div class="background"></div>
      <md-focus-ring part="focus-ring" for="button" aria-hidden="true"><template shadowrootmode="open"><!----></template></md-focus-ring>
      <md-ripple part="ripple" for="button" aria-hidden="true"><template shadowrootmode="open"><!----><div class="surface   "></div></template></md-ripple>
      <!--?lit$764986503$--><button id="button" class="button">
      <!--?lit$764986503$-->
      <span class="touch"></span>
      <!--?lit$764986503$--><slot name="icon"></slot>
      <span class="label"><slot></slot></span>
      <!--?lit$764986503$-->
    
    </button>
    </template>
        <md-icon slot="icon" aria-hidden="true"><template shadowrootmode="open"><!----><slot></slot></template><!--?lit$764986503$-->data_object</md-icon>
        <!--?lit$764986503$-->변수</md-text-button><md-text-button slot="bottom-pane-buttons" command="show-terminal" value="" has-icon=""><template shadowrootmode="open" shadowrootdelegatesfocus><!---->
      <!--?lit$764986503$-->
      <div class="background"></div>
      <md-focus-ring part="focus-ring" for="button" aria-hidden="true"><template shadowrootmode="open"><!----></template></md-focus-ring>
      <md-ripple part="ripple" for="button" aria-hidden="true"><template shadowrootmode="open"><!----><div class="surface   "></div></template></md-ripple>
      <!--?lit$764986503$--><button id="button" class="button">
      <!--?lit$764986503$-->
      <span class="touch"></span>
      <!--?lit$764986503$--><slot name="icon"></slot>
      <span class="label"><slot></slot></span>
      <!--?lit$764986503$-->
    
    </button>
    </template>
        <md-icon slot="icon" aria-hidden="true"><template shadowrootmode="open"><!----><slot></slot></template><!--?lit$764986503$-->terminal</md-icon>
        <!--?lit$764986503$-->터미널</md-text-button></colab-status-bar></div><div class="goog-menu" id="file-menu" role="menu" aria-haspopup="true" aria-activedescendant="download-submenu-menu-button" style="user-select: none; max-height: 877px; visibility: visible; left: 68px; top: 62px; display: none;"><!--?lit$764986503$--><div command="locate-in-drive" class="goog-menuitem" role="menuitem" id=":38" style="user-select: none;"><div class="goog-menuitem-content" style="user-select: none;"><!--?lit$764986503$-->드라이브에서 찾기<!--?lit$764986503$--></div></div><div command="open-in-playground" class="goog-menuitem" role="menuitem" id=":39" style="user-select: none;"><div class="goog-menuitem-content" style="user-select: none;"><!--?lit$764986503$-->실습 모드에서 열기<!--?lit$764986503$--></div></div><div class="goog-menuseparator goog-menuitem-disabled" aria-disabled="true" role="separator" id=":3a" style="user-select: none;"></div><div command="new" class="goog-menuitem" role="menuitem" id=":3b" style="user-select: none;"><div class="goog-menuitem-content" style="user-select: none;"><!--?lit$764986503$-->Drive의 새 노트북<!--?lit$764986503$--></div></div><div command="open" class="goog-menuitem" role="menuitem" id=":3c" style="user-select: none;"><div class="goog-menuitem-content" style="user-select: none;"><!--?lit$764986503$-->노트 열기<!--?lit$764986503$--><span class="goog-menuitem-accel">Ctrl+O</span></div></div><div command="import-notebook" class="goog-menuitem" role="menuitem" id=":3d" style="user-select: none;"><div class="goog-menuitem-content" style="user-select: none;"><!--?lit$764986503$-->노트 업로드<!--?lit$764986503$--></div></div><div class="goog-menuseparator goog-menuitem-disabled" aria-disabled="true" role="separator" id=":3e" style="user-select: none;"></div><div command="rename" class="goog-menuitem" role="menuitem" id=":3f" style="user-select: none;"><div class="goog-menuitem-content" style="user-select: none;"><!--?lit$764986503$-->이름 바꾸기<!--?lit$764986503$--></div></div><div command="move-notebook" class="goog-menuitem" role="menuitem" id=":3g" style="user-select: none;"><div class="goog-menuitem-content" style="user-select: none;"><!--?lit$764986503$-->이동<!--?lit$764986503$--></div></div><div command="trash" class="goog-menuitem" role="menuitem" id=":3h" style="user-select: none;"><div class="goog-menuitem-content" style="user-select: none;"><!--?lit$764986503$-->휴지통으로 이동<!--?lit$764986503$--></div></div><div class="goog-menuseparator goog-menuitem-disabled" aria-disabled="true" role="separator" id=":3i" style="user-select: none;"></div><div command="clone" class="goog-menuitem" role="menuitem" id=":3j" style="user-select: none;"><div class="goog-menuitem-content" style="user-select: none;"><!--?lit$764986503$-->Drive에 사본 저장<!--?lit$764986503$--></div></div><div command="copy-to-gist" class="goog-menuitem" role="menuitem" id=":3k" style="user-select: none;"><div class="goog-menuitem-content" style="user-select: none;"><!--?lit$764986503$-->GitHub Gist로 사본 저장<!--?lit$764986503$--></div></div><div command="copy-to-github" class="goog-menuitem" role="menuitem" id=":3l" style="user-select: none;"><div class="goog-menuitem-content" style="user-select: none;"><!--?lit$764986503$-->GitHub에 사본 저장<!--?lit$764986503$--></div></div><div class="goog-menuseparator goog-menuitem-disabled" aria-disabled="true" role="separator" id=":3m" style="user-select: none;"></div><div command="save" class="goog-menuitem" role="menuitem" id=":3n" style="user-select: none;"><div class="goog-menuitem-content" style="user-select: none;"><!--?lit$764986503$-->저장<!--?lit$764986503$--><span class="goog-menuitem-accel">Ctrl+S</span></div></div><div command="save-and-checkpoint" class="goog-menuitem" role="menuitem" id=":3o" style="user-select: none;"><div class="goog-menuitem-content" style="user-select: none;"><!--?lit$764986503$-->버전 저장 및 고정<!--?lit$764986503$--><span class="goog-menuitem-accel">Ctrl+M S</span></div></div><div command="show-history" class="goog-menuitem" role="menuitem" id=":3p" style="user-select: none;"><div class="goog-menuitem-content" style="user-select: none;"><!--?lit$764986503$-->업데이트 기록<!--?lit$764986503$--></div></div><div class="goog-menuseparator goog-menuitem-disabled" aria-disabled="true" role="separator" id=":3q" style="user-select: none;"></div><div class="goog-submenu goog-menuitem goog-menuitem-highlight" id="download-submenu-menu-button" role="menuitem" aria-haspopup="true" style="user-select: none;"><div class="goog-menuitem-content" style="user-select: none;">
      <!--?lit$764986503$-->다운로드
    <span class="goog-submenu-arrow" style="user-select: none;">►</span></div></div><div command="print" class=" goog-menuitem " role="menuitem" id=":3u" style="user-select: none;"><div class="goog-menuitem-content" style="user-select: none;"><!--?lit$764986503$-->인쇄<!--?lit$764986503$--><span class="goog-menuitem-accel">Ctrl+P</span></div></div></div><div class="goog-menu" id="download-submenu-menu" role="menu" aria-haspopup="true" style="user-select: none; left: 364px; top: 583px; display: none;"><!--?lit$764986503$--><div command="download-ipynb" class="goog-menuitem" role="menuitem" id=":3s" style="user-select: none;"><div class="goog-menuitem-content" style="user-select: none;"><!--?lit$764986503$-->.ipynb 다운로드<!--?lit$764986503$--></div></div><div command="download-python" class=" goog-menuitem " role="menuitem" id=":3t" style="user-select: none;"><div class="goog-menuitem-content" style="user-select: none;"><!--?lit$764986503$-->.py 다운로드<!--?lit$764986503$--></div></div></div><div class="goog-menu" id="edit-menu" role="menu" aria-haspopup="true" style="display: none; user-select: none;"><!--?lit$764986503$--><div command="undo" class=" goog-menuitem " role="menuitem" id=":3w" style="user-select: none;"><div class="goog-menuitem-content" style="user-select: none;"><!--?lit$764986503$-->실행취소<!--?lit$764986503$--></div></div><div command="redo" class=" goog-menuitem " role="menuitem" id=":3x" style="user-select: none;"><div class="goog-menuitem-content" style="user-select: none;"><!--?lit$764986503$-->다시 실행<!--?lit$764986503$--></div></div><div class="goog-menuseparator goog-menuitem-disabled" aria-disabled="true" role="separator" id=":3y" style="user-select: none;"></div><div command="select-all" class=" goog-menuitem " role="menuitem" id=":3z" style="user-select: none;"><div class="goog-menuitem-content" style="user-select: none;"><!--?lit$764986503$-->모든 셀 선택<!--?lit$764986503$--></div></div><div command="cut" class=" goog-menuitem " role="menuitem" id=":40" style="user-select: none;"><div class="goog-menuitem-content" style="user-select: none;"><!--?lit$764986503$-->셀 또는 선택 항목 잘라내기<!--?lit$764986503$--></div></div><div command="copy" class=" goog-menuitem " role="menuitem" id=":41" style="user-select: none;"><div class="goog-menuitem-content" style="user-select: none;"><!--?lit$764986503$-->셀 또는 선택 항목 복사<!--?lit$764986503$--></div></div><div command="paste" class=" goog-menuitem " role="menuitem" id=":42" style="user-select: none;"><div class="goog-menuitem-content" style="user-select: none;"><!--?lit$764986503$-->붙여넣기<!--?lit$764986503$--></div></div><div command="delete-cell-or-selection" class=" goog-menuitem " role="menuitem" id=":43" style="user-select: none;"><div class="goog-menuitem-content" style="user-select: none;"><!--?lit$764986503$-->선택된 셀 삭제<!--?lit$764986503$--></div></div><div class="goog-menuseparator goog-menuitem-disabled" aria-disabled="true" role="separator" id=":44" style="user-select: none;"></div><div command="find" class=" goog-menuitem " role="menuitem" id=":45" style="user-select: none;"><div class="goog-menuitem-content" style="user-select: none;"><!--?lit$764986503$-->찾기 및 바꾸기<!--?lit$764986503$--></div></div><div command="find-next" class=" goog-menuitem " role="menuitem" id=":46" style="user-select: none;"><div class="goog-menuitem-content" style="user-select: none;"><!--?lit$764986503$-->다음 찾기<!--?lit$764986503$--></div></div><div command="find-previous" class=" goog-menuitem " role="menuitem" id=":47" style="user-select: none;"><div class="goog-menuitem-content" style="user-select: none;"><!--?lit$764986503$-->이전 찾기<!--?lit$764986503$--></div></div><div class="goog-menuseparator goog-menuitem-disabled" aria-disabled="true" role="separator" id=":48" style="user-select: none;"></div><div command="notebook-settings" class=" goog-menuitem " role="menuitem" id=":49" style="user-select: none;"><div class="goog-menuitem-content" style="user-select: none;"><!--?lit$764986503$-->노트 설정<!--?lit$764986503$--></div></div><div class="goog-menuseparator goog-menuitem-disabled" aria-disabled="true" role="separator" id=":4a" style="user-select: none;"></div><div command="clear-outputs" class=" goog-menuitem " role="menuitem" id=":4b" style="user-select: none;"><div class="goog-menuitem-content" style="user-select: none;"><!--?lit$764986503$-->모든 출력 지우기<!--?lit$764986503$--></div></div></div><div class="goog-menu" id="view-menu" role="menu" aria-haspopup="true" style="display: none; user-select: none;"><!--?lit$764986503$--><div command="show-toc-pane" class="goog-menuitem goog-option" role="menuitemcheckbox" aria-checked="false" id=":4d" style="user-select: none;"><div class="goog-menuitem-content" style="user-select: none;"><div class="goog-menuitem-checkbox" style="user-select: none;"><!----><md-icon aria-hidden="true"><template shadowrootmode="open"><!----><slot></slot></template>check</md-icon> </div><!--?lit$764986503$-->목차<!--?lit$764986503$--></div></div><div command="show-fileinfo" class=" goog-menuitem " role="menuitem" id=":4e" style="user-select: none;"><div class="goog-menuitem-content" style="user-select: none;"><!--?lit$764986503$-->노트북 정보<!--?lit$764986503$--></div></div><div command="show-executedcode" class=" goog-menuitem " role="menuitem" id=":4f" style="user-select: none;"><div class="goog-menuitem-content" style="user-select: none;"><!--?lit$764986503$-->실행된 코드 기록<!--?lit$764986503$--></div></div><div command="start-presentation" class=" goog-menuitem " role="menuitem" id=":4g" style="user-select: none;"><div class="goog-menuitem-content" style="user-select: none;"><!--?lit$764986503$-->슬라이드쇼 시작<!--?lit$764986503$--></div></div><div command="start-presentation-beginning" class=" goog-menuitem " role="menuitem" id=":4h" style="user-select: none;"><div class="goog-menuitem-content" style="user-select: none;"><!--?lit$764986503$-->슬라이드쇼를 처음부터 시작<!--?lit$764986503$--></div></div><div class="goog-submenu goog-menuitem" id="comments-submenu-menu-button" role="menuitem" aria-haspopup="true" style="user-select: none;"><div class="goog-menuitem-content" style="user-select: none;">
      <!--?lit$764986503$-->댓글
    <span class="goog-submenu-arrow" style="user-select: none;">►</span></div></div><div class="goog-menuseparator goog-menuitem-disabled" aria-disabled="true" role="separator" id=":4m" style="user-select: none;"></div><div command="collapse-sections" class=" goog-menuitem " role="menuitem" id=":4n" style="user-select: none;"><div class="goog-menuitem-content" style="user-select: none;"><!--?lit$764986503$-->섹션 접기<!--?lit$764986503$--></div></div><div command="expand-sections" class=" goog-menuitem " role="menuitem" id=":4o" style="user-select: none;"><div class="goog-menuitem-content" style="user-select: none;"><!--?lit$764986503$-->섹션 펼치기<!--?lit$764986503$--></div></div><div command="save-section-layout" class=" goog-menuitem " role="menuitem" id=":4p" style="user-select: none;"><div class="goog-menuitem-content" style="user-select: none;"><!--?lit$764986503$-->접힌 섹션 레이아웃 저장<!--?lit$764986503$--></div></div><div class="goog-menuseparator goog-menuitem-disabled" aria-disabled="true" role="separator" id=":4q" style="user-select: none;"></div><div command="hide-code" class=" goog-menuitem " role="menuitem" id=":4r" style="user-select: none;"><div class="goog-menuitem-content" style="user-select: none;"><!--?lit$764986503$-->코드 표시/숨기기<!--?lit$764986503$--></div></div><div command="toggle-output" class=" goog-menuitem " role="menuitem" id=":4s" style="user-select: none;"><div class="goog-menuitem-content" style="user-select: none;"><!--?lit$764986503$-->출력 표시/숨기기<!--?lit$764986503$--></div></div><div class="goog-menuseparator goog-menuitem-disabled" aria-disabled="true" role="separator" id=":4t" style="user-select: none;"></div><div command="focus-next-tab" class=" goog-menuitem " role="menuitem" id=":4u" style="user-select: none;"><div class="goog-menuitem-content" style="user-select: none;"><!--?lit$764986503$-->다음 탭으로 포커스 이동<!--?lit$764986503$--></div></div><div command="focus-previous-tab" class=" goog-menuitem " role="menuitem" id=":4v" style="user-select: none;"><div class="goog-menuitem-content" style="user-select: none;"><!--?lit$764986503$-->이전 탭으로 포커스 이동<!--?lit$764986503$--></div></div><div command="move-tab-to-next" class=" goog-menuitem " role="menuitem" id=":4w" style="user-select: none;"><div class="goog-menuitem-content" style="user-select: none;"><!--?lit$764986503$-->탭을 다음 창으로 이동<!--?lit$764986503$--></div></div><div command="move-tab-to-prev" class=" goog-menuitem " role="menuitem" id=":4x" style="user-select: none;"><div class="goog-menuitem-content" style="user-select: none;"><!--?lit$764986503$-->탭을 이전 창으로 이동<!--?lit$764986503$--></div></div></div><div class="goog-menu" id="comments-submenu-menu" role="menu" aria-haspopup="true" style="display: none; user-select: none;"><!--?lit$764986503$--><div command="hide-sidebar-comments" class=" goog-menuitem goog-option-selectable " role="menuitem" id=":4j" style="user-select: none;"><div class="goog-menuitem-content" style="user-select: none;"><!--?lit$764986503$-->댓글 숨기기<!--?lit$764986503$--></div></div><div command="show-minimized-sidebar-comments" class=" goog-menuitem goog-option-selectable " role="menuitem" id=":4k" style="user-select: none;"><div class="goog-menuitem-content" style="user-select: none;"><!--?lit$764986503$-->댓글 최소화<!--?lit$764986503$--></div></div><div command="show-expanded-sidebar-comments" class=" goog-menuitem goog-option-selectable " role="menuitem" id=":4l" style="user-select: none;"><div class="goog-menuitem-content" style="user-select: none;"><!--?lit$764986503$-->댓글 펼치기<!--?lit$764986503$--></div></div></div><div class="goog-menu" id="insert-menu" role="menu" aria-haspopup="true" style="display: none; user-select: none;"><!--?lit$764986503$--><div command="insert-cell-below" class=" goog-menuitem " role="menuitem" id=":4z" style="user-select: none;"><div class="goog-menuitem-content" style="user-select: none;"><!--?lit$764986503$-->코드 셀<!--?lit$764986503$--></div></div><div command="add-text" class=" goog-menuitem " role="menuitem" id=":50" style="user-select: none;"><div class="goog-menuitem-content" style="user-select: none;"><!--?lit$764986503$-->텍스트 셀<!--?lit$764986503$--></div></div><div command="add-section-header" class=" goog-menuitem " role="menuitem" id=":51" style="user-select: none;"><div class="goog-menuitem-content" style="user-select: none;"><!--?lit$764986503$-->섹션 제목 셀<!--?lit$764986503$--></div></div><div class="goog-menuseparator goog-menuitem-disabled" aria-disabled="true" role="separator" id=":52" style="user-select: none;"></div><div command="open-scratch-code-cell" class=" goog-menuitem " role="menuitem" id=":53" style="user-select: none;"><div class="goog-menuitem-content" style="user-select: none;"><!--?lit$764986503$-->스크래치 코드 셀<!--?lit$764986503$--></div></div><div command="snippets" class=" goog-menuitem " role="menuitem" id=":54" style="user-select: none;"><div class="goog-menuitem-content" style="user-select: none;"><!--?lit$764986503$-->코드 스니펫<!--?lit$764986503$--></div></div><div class="goog-menuseparator goog-menuitem-disabled" aria-disabled="true" role="separator" id=":55" style="user-select: none;"></div><div command="add-form-field" class=" goog-menuitem " role="menuitem" id=":56" style="user-select: none;"><div class="goog-menuitem-content" style="user-select: none;"><!--?lit$764986503$-->양식 입력란 추가<!--?lit$764986503$--></div></div></div><div class="goog-menu" id="runtime-menu" role="menu" aria-haspopup="true" style="display: none; user-select: none;"><!--?lit$764986503$--><div command="runall" class=" goog-menuitem " role="menuitem" id=":58" style="user-select: none;"><div class="goog-menuitem-content" style="user-select: none;"><!--?lit$764986503$-->모두 실행<!--?lit$764986503$--></div></div><div command="runbefore" class=" goog-menuitem " role="menuitem" id=":59" style="user-select: none;"><div class="goog-menuitem-content" style="user-select: none;"><!--?lit$764986503$-->이전 셀 실행<!--?lit$764986503$--></div></div><div command="runfocused" class=" goog-menuitem " role="menuitem" id=":5a" style="user-select: none;"><div class="goog-menuitem-content" style="user-select: none;"><!--?lit$764986503$-->초점이 맞춰진 셀 실행<!--?lit$764986503$--></div></div><div command="runselected" class=" goog-menuitem " role="menuitem" id=":5b" style="user-select: none;"><div class="goog-menuitem-content" style="user-select: none;"><!--?lit$764986503$-->선택항목 실행<!--?lit$764986503$--></div></div><div command="runafter" class=" goog-menuitem " role="menuitem" id=":5c" style="user-select: none;"><div class="goog-menuitem-content" style="user-select: none;"><!--?lit$764986503$-->셀 및 하위 셀 실행<!--?lit$764986503$--></div></div><div class="goog-menuseparator goog-menuitem-disabled" aria-disabled="true" role="separator" id=":5d" style="user-select: none;"></div><div command="interrupt" class=" goog-menuitem " role="menuitem" id=":5e" style="user-select: none;"><div class="goog-menuitem-content" style="user-select: none;"><!--?lit$764986503$-->실행 중단<!--?lit$764986503$--></div></div><div command="restart" class=" goog-menuitem " role="menuitem" id=":5f" style="user-select: none;"><div class="goog-menuitem-content" style="user-select: none;"><!--?lit$764986503$-->세션 다시 시작<!--?lit$764986503$--></div></div><div command="restart-and-run-all" class=" goog-menuitem " role="menuitem" id=":5g" style="user-select: none;"><div class="goog-menuitem-content" style="user-select: none;"><!--?lit$764986503$-->세션 다시 시작 및 모두 실행<!--?lit$764986503$--></div></div><div command="powerwash-current-vm" class=" goog-menuitem " role="menuitem" id=":5h" style="user-select: none;"><div class="goog-menuitem-content" style="user-select: none;"><!--?lit$764986503$-->런타임 연결 해제 및 삭제<!--?lit$764986503$--></div></div><div class="goog-menuseparator goog-menuitem-disabled" aria-disabled="true" role="separator" id=":5i" style="user-select: none;"></div><div command="change-runtime-type" class=" goog-menuitem " role="menuitem" id=":5j" style="user-select: none;"><div class="goog-menuitem-content" style="user-select: none;"><!--?lit$764986503$-->런타임 유형 변경<!--?lit$764986503$--></div></div><div class="goog-menuseparator goog-menuitem-disabled" aria-disabled="true" role="separator" id=":5k" style="user-select: none;"></div><div command="manage-sessions" class=" goog-menuitem " role="menuitem" id=":5l" style="user-select: none;"><div class="goog-menuitem-content" style="user-select: none;"><!--?lit$764986503$-->세션 관리<!--?lit$764986503$--></div></div><div command="open-resource-viewer" class=" goog-menuitem " role="menuitem" id=":5m" style="user-select: none;"><div class="goog-menuitem-content" style="user-select: none;"><!--?lit$764986503$-->리소스 보기<!--?lit$764986503$--></div></div><div command="view-runtime-logs" class=" goog-menuitem " role="menuitem" id=":5n" style="user-select: none;"><div class="goog-menuitem-content" style="user-select: none;"><!--?lit$764986503$-->런타임 로그 보기<!--?lit$764986503$--></div></div><div class="goog-menuseparator goog-menuitem-disabled" aria-disabled="true" role="separator" id=":5o" style="user-select: none;"></div><div command="deploy-cloud-run" class=" goog-menuitem " role="menuitem" id=":5p" style="user-select: none;"><div class="goog-menuitem-content" style="user-select: none;"><!--?lit$764986503$-->Google Cloud Run에 배포<!--?lit$764986503$--></div></div></div><div class="goog-menu" id="tools-menu" role="menu" aria-haspopup="true" style="display: none; user-select: none;"><!--?lit$764986503$--><div command="show-command-palette" class=" goog-menuitem " role="menuitem" id=":5r" style="user-select: none;"><div class="goog-menuitem-content" style="user-select: none;"><!--?lit$764986503$-->명령 팔레트<!--?lit$764986503$--></div></div><div class="goog-menuseparator goog-menuitem-disabled" aria-disabled="true" role="separator" id=":5s" style="user-select: none;"></div><div command="preferences" class=" goog-menuitem " role="menuitem" id=":5t" style="user-select: none;"><div class="goog-menuitem-content" style="user-select: none;"><!--?lit$764986503$-->설정<!--?lit$764986503$--></div></div><div command="shortcuts" class=" goog-menuitem " role="menuitem" id=":5u" style="user-select: none;"><div class="goog-menuitem-content" style="user-select: none;"><!--?lit$764986503$-->단축키<!--?lit$764986503$--></div></div><div class="goog-menuseparator goog-menuitem-disabled" aria-disabled="true" role="separator" id=":5v" style="user-select: none;"></div><div command="open-differ" class=" goog-menuitem " role="menuitem" id=":5w" style="user-select: none;"><div class="goog-menuitem-content" style="user-select: none;"><!--?lit$764986503$-->비교 노트북<!--?lit$764986503$--> <span class="screenreader-only" style="user-select: none;"><!--?lit$764986503$-->(새 탭에서 열기)</span></div></div></div><div class="goog-menu" id="help-menu" role="menu" aria-haspopup="true" style="display: none; user-select: none;"><!--?lit$764986503$--><div command="faq" class=" goog-menuitem " role="menuitem" id=":5y" style="user-select: none;"><div class="goog-menuitem-content" style="user-select: none;"><!--?lit$764986503$-->자주 묻는 질문(FAQ)<!--?lit$764986503$--></div></div><div command="view-relnotes" class=" goog-menuitem " role="menuitem" id=":5z" style="user-select: none;"><div class="goog-menuitem-content" style="user-select: none;"><!--?lit$764986503$-->출시 노트 보기<!--?lit$764986503$--></div></div><div command="snippets" class=" goog-menuitem " role="menuitem" id=":60" style="user-select: none;"><div class="goog-menuitem-content" style="user-select: none;"><!--?lit$764986503$-->코드 스니펫 검색<!--?lit$764986503$--></div></div><div class="goog-menuseparator goog-menuitem-disabled" aria-disabled="true" role="separator" id=":61" style="user-select: none;"></div><div command="report-bug" class=" goog-menuitem " role="menuitem" id=":62" style="user-select: none;"><div class="goog-menuitem-content" style="user-select: none;"><!--?lit$764986503$-->버그 신고<!--?lit$764986503$--></div></div><div command="report-abuse" class=" goog-menuitem " role="menuitem" id=":63" style="user-select: none;"><div class="goog-menuitem-content" style="user-select: none;"><!--?lit$764986503$-->Drive 악용사례 신고<!--?lit$764986503$--></div></div><div command="send-feedback" class=" goog-menuitem " role="menuitem" id=":64" style="user-select: none;"><div class="goog-menuitem-content" style="user-select: none;"><!--?lit$764986503$-->의견 보내기<!--?lit$764986503$--></div></div><div command="view-tos" class=" goog-menuitem " role="menuitem" id=":65" style="user-select: none;"><div class="goog-menuitem-content" style="user-select: none;"><!--?lit$764986503$-->서비스 약관 보기<!--?lit$764986503$--></div></div><div command="view-in-english" class=" goog-menuitem " role="menuitem" id=":66" style="user-select: none;"><div class="goog-menuitem-content" style="user-select: none;"><!--?lit$764986503$-->영어로 보기<!--?lit$764986503$--></div></div></div><dialog class="doc-comments-area" aria-label="댓글"><!----><div class="doc-comments-buttons">
        <md-text-button command="add-comment" value="" has-icon=""><template shadowrootmode="open" shadowrootdelegatesfocus><!---->
      <!--?lit$764986503$-->
      <div class="background"></div>
      <md-focus-ring part="focus-ring" for="button" aria-hidden="true"><template shadowrootmode="open"><!----></template></md-focus-ring>
      <md-ripple part="ripple" for="button" aria-hidden="true"><template shadowrootmode="open"><!----><div class="surface   "></div></template></md-ripple>
      <!--?lit$764986503$--><button id="button" class="button">
      <!--?lit$764986503$-->
      <span class="touch"></span>
      <!--?lit$764986503$--><slot name="icon"></slot>
      <span class="label"><slot></slot></span>
      <!--?lit$764986503$-->
    
    </button>
    </template>
          <md-icon slot="icon" filled="" aria-hidden="true"><template shadowrootmode="open"><!----><slot></slot></template>comment</md-icon>
          <!--?lit$764986503$-->댓글 추가
        </md-text-button>
      </div></dialog><div class="thumbnail"></div><div class="monaco-aria-container"><div class="monaco-alert" role="alert" aria-atomic="true" style="visibility: visible;">ords</div><div class="monaco-alert" role="alert" aria-atomic="true" style="visibility: visible;"></div><div class="monaco-status" role="complementary" aria-live="polite" aria-atomic="true"></div><div class="monaco-status" role="complementary" aria-live="polite" aria-atomic="true"></div></div><div><div class="grecaptcha-badge" data-style="none" style="width: 256px; height: 60px; position: fixed; visibility: hidden; display: block; transition: right 0.3s; bottom: 14px; right: -186px; box-shadow: gray 0px 0px 5px; border-radius: 2px; overflow: hidden;"><div class="grecaptcha-logo"><iframe title="reCAPTCHA" width="256" height="60" role="presentation" name="a-9o2u692hi5zn" frameborder="0" scrolling="no" sandbox="allow-forms allow-popups allow-same-origin allow-scripts allow-top-navigation allow-modals allow-popups-to-escape-sandbox allow-storage-access-by-user-activation" src="./OSS_Week06_실습_files/anchor(1).html"></iframe></div><div class="grecaptcha-error"></div><textarea id="g-recaptcha-response-100001" name="g-recaptcha-response" class="g-recaptcha-response" style="width: 250px; height: 40px; border: 1px solid rgb(193, 193, 193); margin: 10px 25px; padding: 0px; resize: none; display: none;"></textarea></div></div><colab-callout dismisstext="" tooltipstyling="" aria-label="노트 이름 변경" opened="" role="tooltip" verticaldirection="below" horizontaldirection="right" style="visibility: visible; top: 38px; left: 154.992px;"><template shadowrootmode="open"><!----> <div id="content"><slot name="content"></slot></div>
      <!--?lit$764986503$--><!--?--></template>
      <!--?lit$764986503$--><div slot="content"><!----><!--?lit$764986503$--><!----><div><!--?lit$764986503$-->노트 이름 변경</div><!----><!--?--></div>
    </colab-callout></body></html>